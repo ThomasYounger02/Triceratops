{
 "cells": [
  {
   "cell_type": "markdown",
   "id": "b158a7bf",
   "metadata": {},
   "source": [
    "# 存储数据的方式\n",
    "\n",
    "常用的存储数据的方式有两种——存储成csv格式文件、存储成Excel文件。\n",
    "\n",
    "用csv格式存储数据，读写比较方便，易于实现，文件也会比Excel文件小。但csv文件缺少Excel文件本身的很多功能，比如不能嵌入图像和图表，不能生成公式。"
   ]
  },
  {
   "cell_type": "markdown",
   "id": "7a4af04f",
   "metadata": {},
   "source": [
    "# csv文件\n",
    "明明前面csv写入我们可以直接用open函数来写，为什么现在还要先引用csv模块？答案：直接运用别人写好的模块，比我们使用open()函数来读写，语法更简洁，功能更强大。那么，何乐而不为？"
   ]
  },
  {
   "cell_type": "code",
   "execution_count": null,
   "id": "31e9faf3",
   "metadata": {},
   "outputs": [],
   "source": [
    "import csv \n",
    "\n",
    "#调用open()函数打开csv文件，传入参数：文件名“demo.csv”、写入模式“w”、newline=''、encoding='utf-8'。\n",
    "csv_file = open('demo.csv', 'w', newline='', encoding='utf-8')\n",
    "\n",
    "writer = csv.writer(csv_file)   # 用csv.writer()函数创建一个writer对象。"
   ]
  },
  {
   "cell_type": "markdown",
   "id": "cc443f0d",
   "metadata": {},
   "source": [
    "加newline=' '参数的原因是，可以避免csv文件出现两倍的行距（就是能避免表格的行与行之间出现空白行）。加encoding='utf-8'，可以避免编码问题导致的报错或乱码。\n",
    "## 写入"
   ]
  },
  {
   "cell_type": "code",
   "execution_count": null,
   "id": "f0adf029",
   "metadata": {},
   "outputs": [],
   "source": [
    "writer.writerow(['电影','豆瓣评分'])\n",
    "#调用writer对象的writerow()方法，可以在csv文件里写入一行文字 “电影”和“豆瓣评分”。\n",
    "\n",
    "writer.writerow(['银河护卫队','8.0'])\n",
    "#在csv文件里写入一行文字 “银河护卫队”和“8.0”。\n",
    "\n",
    "writer.writerow(['复仇者联盟','8.1'])\n",
    "#在csv文件里写入一行文字 “复仇者联盟”和“8.1”。\n",
    "\n",
    "csv_file.close()\n",
    "#写入完成后，关闭文件就大功告成啦！"
   ]
  },
  {
   "cell_type": "markdown",
   "id": "6af0854f",
   "metadata": {},
   "source": [
    "## 读取"
   ]
  },
  {
   "cell_type": "code",
   "execution_count": null,
   "id": "181bff42",
   "metadata": {},
   "outputs": [],
   "source": [
    "import csv\n",
    "\n",
    "csv_file=open('demo.csv','r',newline='',encoding='utf-8')\n",
    "reader=csv.reader(csv_file)\n",
    "\n",
    "for row in reader:\n",
    "    print(row)\n",
    "    \n",
    "csv_file.close()"
   ]
  },
  {
   "cell_type": "markdown",
   "id": "e765bd1a",
   "metadata": {},
   "source": [
    "# Excel文件\n",
    "- openpyxl模块\n",
    "\n",
    "一个Excel文档也称为一个工作薄（workbook），每个工作薄里可以有多个工作表（worksheet），当前打开的工作表又叫活动表。\n",
    "\n",
    "装好openpyxl模块后，首先要引用它，然后通过openpyxl.Workbook()函数就可以创建新的工作薄：\n",
    "## 写入"
   ]
  },
  {
   "cell_type": "code",
   "execution_count": null,
   "id": "27981fb6",
   "metadata": {},
   "outputs": [],
   "source": [
    "import openpyxl             # 引用openpyxl 。\n",
    "\n",
    "# 工作簿对象\n",
    "wb = openpyxl.Workbook()    # 利用openpyxl.Workbook()函数创建新的workbook（工作薄）对象，就是创建新的空的Excel文件。"
   ]
  },
  {
   "cell_type": "code",
   "execution_count": null,
   "id": "39ffacc2",
   "metadata": {},
   "outputs": [],
   "source": [
    "# 工作表对象\n",
    "sheet = wb.active           # wb.active就是获取这个工作薄的活动表，通常就是第一个工作表。\n",
    "sheet.title = 'new title'   # 可以用.title给工作表重命名。现在第一个工作表的名称就会由原来默认的“sheet1”改为\"new title\"。"
   ]
  },
  {
   "cell_type": "code",
   "execution_count": null,
   "id": "1921c21c",
   "metadata": {},
   "outputs": [],
   "source": [
    "# 单元格\n",
    "sheet['A1'] = '漫威宇宙'              # 把'漫威宇宙'赋值给第一个工作表的A1单元格，就是往A1的单元格中写入了'漫威宇宙'。\n",
    "\n",
    "# 一行\n",
    "row = ['美国队长','钢铁侠','蜘蛛侠']    # 把我们想写入的一行内容写成列表，赋值给row。\n",
    "sheet.append(row)                    # 用sheet.append()就能往表格里添加这一行文字。\n",
    "\n",
    "# 多行\n",
    "rows = [['美国队长','钢铁侠','蜘蛛侠'],['是','漫威','宇宙', '经典','人物']]   #先把要写入的多行内容写成列表，再放进大列表里，赋值给rows。\n",
    "for i in rows:\n",
    "    sheet.append(i)                 # 遍历rows，同时把遍历的内容添加到表格里，这样就实现了多行写入。\n",
    "print(rows)"
   ]
  },
  {
   "cell_type": "code",
   "execution_count": null,
   "id": "4788df1d",
   "metadata": {},
   "outputs": [],
   "source": [
    "wb.save('Marvel.xlsx')              # 保存新建的Excel文件，并命名为“Marvel.xlsx”"
   ]
  },
  {
   "cell_type": "markdown",
   "id": "25b7f334",
   "metadata": {},
   "source": [
    "## 读取"
   ]
  },
  {
   "cell_type": "code",
   "execution_count": null,
   "id": "17b25287",
   "metadata": {},
   "outputs": [],
   "source": [
    "wb = openpyxl.load_workbook('Marvel.xlsx')    # 调用openpyxl.load_workbook()函数，打开“Marvel.xlsx”文件。\n",
    "sheet = wb['new title']                       # 获取“Marvel.xlsx”工作薄中名为“new title”的工作表。\n",
    "\n",
    "sheetname = wb.sheetnames                     # sheetnames是用来获取工作薄所有工作表的名字的\n",
    "print(sheetname)\n",
    "\n",
    "A1_cell = sheet['A1']\n",
    "A1_value = A1_cell.value    # 把“new title”工作表中A1单元格赋值给A1_cell，再利用单元格value属性，就能打印出A1单元格的值。\n",
    "print(A1_value)"
   ]
  },
  {
   "cell_type": "markdown",
   "id": "dbc4e484",
   "metadata": {},
   "source": [
    "# demo"
   ]
  },
  {
   "cell_type": "code",
   "execution_count": null,
   "id": "f89f4ee0",
   "metadata": {},
   "outputs": [],
   "source": [
    "import requests,openpyxl\n",
    "wb=openpyxl.Workbook()  \n",
    "#创建工作薄\n",
    "sheet=wb.active \n",
    "#获取工作薄的活动表\n",
    "sheet.title='restaurants' \n",
    "#工作表重命名\n",
    "\n",
    "sheet['A1'] ='歌曲名'     #加表头，给A1单元格赋值\n",
    "sheet['B1'] ='所属专辑'   #加表头，给B1单元格赋值\n",
    "sheet['C1'] ='播放时长'   #加表头，给C1单元格赋值\n",
    "sheet['D1'] ='播放链接'   #加表头，给D1单元格赋值\n",
    "\n",
    "url = 'https://c.y.qq.com/soso/fcgi-bin/client_search_cp'\n",
    "for x in range(5):\n",
    "    params = {\n",
    "        'ct': '24',\n",
    "        'qqmusic_ver': '1298',\n",
    "        'new_json': '1',\n",
    "        'remoteplace': 'txt.yqq.song',\n",
    "        'searchid': '64405487069162918',\n",
    "        't': '0',\n",
    "        'aggr': '1',\n",
    "        'cr': '1',\n",
    "        'catZhida': '1',\n",
    "        'lossless': '0',\n",
    "        'flag_qc': '0',\n",
    "        'p': str(x + 1),\n",
    "        'n': '20',\n",
    "        'w': '周杰伦',\n",
    "        'g_tk': '5381',\n",
    "        'loginUin': '0',\n",
    "        'hostUin': '0',\n",
    "        'format': 'json',\n",
    "        'inCharset': 'utf8',\n",
    "        'outCharset': 'utf-8',\n",
    "        'notice': '0',\n",
    "        'platform': 'yqq.json',\n",
    "        'needNewCode': '0'\n",
    "    }\n",
    "\n",
    "    res_music = requests.get(url, params=params)\n",
    "    json_music = res_music.json()\n",
    "    list_music = json_music['data']['song']['list']\n",
    "    for music in list_music:\n",
    "        name = music['name']\n",
    "        # 以name为键，查找歌曲名，把歌曲名赋值给name\n",
    "        album = music['album']['name']\n",
    "        # 查找专辑名，把专辑名赋给album\n",
    "        time = music['interval']\n",
    "        # 查找播放时长，把时长赋值给time\n",
    "        link = 'https://y.qq.com/n/yqq/song/' + str(music['mid']) + '.html\\n\\n'\n",
    "        # 查找播放链接，把链接赋值给link\n",
    "        sheet.append([name,album,time,link])\n",
    "        # 把name、album、time和link写成列表，用append函数多行写入Excel\n",
    "        print('歌曲名：' + name + '\\n' + '所属专辑:' + album +'\\n' + '播放时长:' + str(time) + '\\n' + '播放链接:'+ link)\n",
    "        \n",
    "wb.save('Jay.xlsx')            \n",
    "#最后保存并命名这个Excel文件"
   ]
  }
 ],
 "metadata": {
  "kernelspec": {
   "display_name": "Python 3 (ipykernel)",
   "language": "python",
   "name": "python3"
  },
  "language_info": {
   "codemirror_mode": {
    "name": "ipython",
    "version": 3
   },
   "file_extension": ".py",
   "mimetype": "text/x-python",
   "name": "python",
   "nbconvert_exporter": "python",
   "pygments_lexer": "ipython3",
   "version": "3.11.5"
  }
 },
 "nbformat": 4,
 "nbformat_minor": 5
}
