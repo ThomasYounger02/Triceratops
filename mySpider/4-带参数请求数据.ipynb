{
 "cells": [
  {
   "cell_type": "code",
   "execution_count": 1,
   "id": "ada69800",
   "metadata": {},
   "outputs": [],
   "source": [
    "import setuptools\n",
    "import wheel"
   ]
  },
  {
   "cell_type": "code",
   "execution_count": 4,
   "id": "cdcf6f1d",
   "metadata": {},
   "outputs": [
    {
     "name": "stdout",
     "output_type": "stream",
     "text": [
      "/Users/yijiu/anaconda3/lib/python3.11/site-packages/setuptools/__init__.py\n"
     ]
    }
   ],
   "source": [
    "print(setuptools.__file__)"
   ]
  },
  {
   "cell_type": "code",
   "execution_count": 3,
   "id": "1e7b55c4",
   "metadata": {},
   "outputs": [
    {
     "name": "stdout",
     "output_type": "stream",
     "text": [
      "Error processing line 1 of /Users/yijiu/anaconda3/lib/python3.11/site-packages/distutils-precedence.pth:\n",
      "\n",
      "  Traceback (most recent call last):\n",
      "    File \"<frozen site>\", line 186, in addpackage\n",
      "    File \"<string>\", line 1, in <module>\n",
      "  ModuleNotFoundError: No module named '_distutils_hack'\n",
      "\n",
      "Remainder of file ignored\n",
      "Requirement already satisfied: wheel in /Users/yijiu/anaconda3/lib/python3.11/site-packages (0.41.2)\n",
      "Collecting wheel\n",
      "  Downloading wheel-0.42.0-py3-none-any.whl.metadata (2.2 kB)\n",
      "Downloading wheel-0.42.0-py3-none-any.whl (65 kB)\n",
      "\u001b[2K   \u001b[90m━━━━━━━━━━━━━━━━━━━━━━━━━━━━━━━━━━━━━━━━\u001b[0m \u001b[32m65.4/65.4 kB\u001b[0m \u001b[31m303.2 kB/s\u001b[0m eta \u001b[36m0:00:00\u001b[0ma \u001b[36m0:00:01\u001b[0m\n",
      "\u001b[?25hInstalling collected packages: wheel\n",
      "  Attempting uninstall: wheel\n",
      "    Found existing installation: wheel 0.41.2\n",
      "    Uninstalling wheel-0.41.2:\n",
      "\u001b[31mERROR: Could not install packages due to an OSError: Cannot move the non-empty directory '/Users/yijiu/anaconda3/lib/python3.11/site-packages/wheel-0.41.2.dist-info/': Lacking write permission to '/Users/yijiu/anaconda3/lib/python3.11/site-packages/wheel-0.41.2.dist-info/'.\n",
      "\u001b[0m\u001b[31m\n",
      "\u001b[0m"
     ]
    }
   ],
   "source": [
    "! pip install --upgrade wheel"
   ]
  },
  {
   "cell_type": "code",
   "execution_count": null,
   "id": "10c5eca8",
   "metadata": {},
   "outputs": [],
   "source": []
  }
 ],
 "metadata": {
  "kernelspec": {
   "display_name": "Python 3 (ipykernel)",
   "language": "python",
   "name": "python3"
  },
  "language_info": {
   "codemirror_mode": {
    "name": "ipython",
    "version": 3
   },
   "file_extension": ".py",
   "mimetype": "text/x-python",
   "name": "python",
   "nbconvert_exporter": "python",
   "pygments_lexer": "ipython3",
   "version": "3.11.5"
  },
  "toc": {
   "base_numbering": 1,
   "nav_menu": {},
   "number_sections": true,
   "sideBar": true,
   "skip_h1_title": false,
   "title_cell": "Table of Contents",
   "title_sidebar": "Contents",
   "toc_cell": false,
   "toc_position": {},
   "toc_section_display": true,
   "toc_window_display": false
  }
 },
 "nbformat": 4,
 "nbformat_minor": 5
}
