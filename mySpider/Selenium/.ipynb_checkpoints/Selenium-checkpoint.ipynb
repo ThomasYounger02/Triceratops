{
 "cells": [
  {
   "cell_type": "markdown",
   "id": "b746ab7c",
   "metadata": {},
   "source": [
    "# selenium是什么？\n",
    "\n",
    "[官方文档](https://seleniumhq.github.io/selenium/docs/api/py/api.html)\n",
    "\n",
    "[中文](https://selenium-python-zh.readthedocs.io/en/latest/)\n",
    "\n",
    "一个强大的Python库。\n",
    "\n",
    "控制浏览器，做出自动打开、输入、点击等操作，就像是有一个真正的用户在操作一样。\n",
    "\n",
    "当你遇到验证码很复杂的网站时，selenium允许让人去手动输入验证码，然后把剩下的操作交给机器。\n",
    "\n",
    "静态网页。我们使用BeautifulSoup爬取这类型网页，因为网页源代码中就包含着网页的所有信息，因此，网页地址栏的URL就是网页源代码的URL。\n",
    "\n",
    "QQ音乐，要爬取的数据不在HTML源代码中，而是在json中，你就不能直接使用网址栏的URL了，而需要找到json数据的真实URL。这就是一种动态网页。\n",
    "\n",
    "在遇到页面交互复杂或是URL加密逻辑复杂的情况时，selenium就派上了用场，它可以真实地打开一个浏览器，等待所有数据都加载到Elements中之后，再把这个网页当做静态网页爬取就好了。\n",
    "\n",
    "由于要真实地运行本地浏览器，打开浏览器以及等待网渲染完成需要一些时间，selenium的工作不可避免地牺牲了速度和更多资源，不过，至少不会比人慢。\n",
    "\n",
    "## 安装selenium\n",
    "\n",
    "安装：\n",
    "\n",
    "```shell\n",
    "pip install selenium    # Windows电脑安装selenium\n",
    "pip3 install selenium   # Mac电脑安装selenium\n",
    "```\n",
    "\n",
    "## 设置浏览器引擎\n",
    "selenium的脚本可以控制所有常见浏览器的操作，在使用之前，需要安装浏览器的驱动。\n",
    "\n",
    "[安装浏览器驱动](\n",
    "https://localprod.pandateacher.com/python-manuscript/crawler-html/chromedriver/ChromeDriver.html)\n",
    "\n",
    "使用一个新的Python库，首先要调用它。selenium有点不同，除了调用，还需要设置浏览器引擎。"
   ]
  },
  {
   "cell_type": "code",
   "execution_count": null,
   "id": "2d98bafe",
   "metadata": {},
   "outputs": [],
   "source": [
    "# 本地Chrome浏览器设置方法\n",
    "from selenium import webdriver         # 从selenium库中调用webdriver模块\n",
    "\n",
    "driver = webdriver.Chrome()            # 把Chrome浏览器设置为引擎，然后赋值给变量driver。driver是实例化的浏览器。"
   ]
  },
  {
   "cell_type": "markdown",
   "id": "cc1d6400",
   "metadata": {},
   "source": [
    "# 获取数据"
   ]
  },
  {
   "cell_type": "code",
   "execution_count": null,
   "id": "6a1d2ab1",
   "metadata": {},
   "outputs": [],
   "source": [
    "import time\n",
    "\n",
    "url = 'https://localprod.pandateacher.com/python-manuscript/hello-spiderman/'\n",
    "driver.get(url)              # 打开网页\n",
    "time.sleep(1)\n",
    "driver.close()               # 关闭浏览器"
   ]
  },
  {
   "cell_type": "markdown",
   "id": "0a50e085",
   "metadata": {},
   "source": [
    "## 解析数据\n",
    "selenium库同样也具备解析数据、提取数据的能力。它和BeautifulSoup的底层原理一致，但在一些细节和语法上有所出入。\n",
    "\n",
    "selenium所解析提取的，是Elements中的所有数据，而BeautifulSoup所解析的则只是Network中第0个请求的响应。\n",
    "\n",
    "<aside>\n",
    "💡 用selenium把网页打开，所有信息就都加载到了Elements那里，之后，就可以把动态网页用静态网页的方法爬取了。\n",
    "\n",
    "</aside>\n",
    "\n",
    "<img src=\"pics/Selenium_数据提取方法.png\" width=\"40%\">\n",
    "<img src=\"pics/Selenium_webelement.png\" width=\"40%\">\n",
    "<img src=\"pics/Selenium_源码示例.png\" width=\"40%\">"
   ]
  },
  {
   "cell_type": "code",
   "execution_count": null,
   "id": "9fdcf123",
   "metadata": {},
   "outputs": [],
   "source": [
    "import time\n",
    "from selenium import webdriver    # 从selenium库中调用webdriver模块\n",
    "################################################################\n",
    "driver = webdriver.Chrome()       # 设置引擎为Chrome，真实地打开一个Chrome浏览器\n",
    "\n",
    "url = 'https://localprod.pandateacher.com/python-manuscript/hello-spiderman/'\n",
    "driver.get(url)     # 访问页面\n",
    "time.sleep(2)       # 等待2秒, 由于浏览器缓冲加载网页需要耗费一些时间\n",
    "\n",
    "label = driver.find_element_by_tag_name('label') # 解析网页并提取第一个<lable>标签, 解析数据是由driver自动完成的\n",
    "print(label.text)                                # 打印label的文本\n",
    "print(type(label))                               # 打印label的数据类型\n",
    "print(label)                                     # 打印label\n",
    "\n",
    "print(label.get_attribute('type'))               # 获取type这个属性的值\n",
    "\n",
    "# 多个元素\n",
    "labels = driver.find_elements_by_tag_name('label') # 根据标签名提取所有元素\n",
    "\n",
    "################################################################\n",
    "driver.close() # 关闭浏览器"
   ]
  },
  {
   "cell_type": "markdown",
   "id": "dde27b63",
   "metadata": {},
   "source": [
    "<img src=\"pics/Selenium_解析过程.png\" width=\"40%\">\n",
    "<img src=\"pics/Selenium_数据提取方法2.png\" width=\"40%\">\n",
    "\n",
    "## 使用selenium获取网页，然后交给BeautifulSoup解析和提取"
   ]
  },
  {
   "cell_type": "code",
   "execution_count": null,
   "id": "687b4539",
   "metadata": {},
   "outputs": [],
   "source": [
    "driver.get('https://localprod.pandateacher.com/python-manuscript/hello-spiderman/') # 访问页面\n",
    "time.sleep(2) # 等待两秒，等浏览器加缓冲载数据\n",
    "\n",
    "pageSource = driver.page_source # 获取完整渲染的网页源代码\n",
    "print(type(pageSource)) # 打印pageSource的类型\n",
    "print(pageSource) # 打印pageSource\n",
    "driver.close() # 关闭浏览器"
   ]
  },
  {
   "cell_type": "markdown",
   "id": "28c9ffb2",
   "metadata": {},
   "source": [
    "# 自动操作浏览器\n",
    "<img src=\"pics/Selenium_操作元素.png\" width=\"40%\">"
   ]
  },
  {
   "cell_type": "code",
   "execution_count": null,
   "id": "6dc03b0b",
   "metadata": {},
   "outputs": [],
   "source": [
    "from selenium import webdriver # 从selenium库中调用webdriver模块\n",
    "import time # 调用time模块\n",
    "driver = webdriver.Chrome() # 设置引擎为Chrome，真实地打开一个Chrome浏览器\n",
    "\n",
    "driver.get('https://localprod.pandateacher.com/python-manuscript/hello-spiderman/') # 访问页面\n",
    "time.sleep(2) # 暂停两秒，等待浏览器缓冲\n",
    "\n",
    "teacher = driver.find_element_by_id('teacher') # 找到【请输入你喜欢的老师】下面的输入框位置\n",
    "teacher.send_keys('必须是吴枫呀') # 输入文字\n",
    "assistant = driver.find_element_by_name('assistant') # 找到【请输入你喜欢的助教】下面的输入框位置\n",
    "assistant.send_keys('都喜欢') # 输入文字\n",
    "button = driver.find_element_by_class_name('sub') # 找到【提交】按钮\n",
    "button.click() # 点击【提交】按钮\n",
    "time.sleep(1)\n",
    "driver.close() # 关闭浏览器"
   ]
  },
  {
   "cell_type": "markdown",
   "id": "849c1132",
   "metadata": {},
   "source": [
    "# 实操运用\n",
    "\n",
    "## 确认目标\n",
    "\n",
    "用selenium爬取QQ音乐的歌曲评论，我选的歌是《甜甜的》。\n",
    "\n",
    "https://y.qq.com/n/yqq/song/000xdZuV2LcQ19.html\n",
    "\n",
    "<aside>\n",
    "💡 使用不同的路径，到达相同的目的，这种学习和训练方法，会帮你把知识搞得更加透彻。\n",
    "\n",
    "</aside>\n",
    "\n",
    "## 分析过程\n",
    "\n",
    "### 首先是获取数据：\n",
    "\n",
    "网页源代码中没有我们想要的评论，而是存在了Json中，需要通过查看XHR，找到每一页评论的Json数据真实URL，才能获取到数据。\n",
    "\n",
    "用selenium，就不需要花费精力去查找和破解URL了，因为，通过selenium打开浏览器的操作，数据就被加载到elements中了。\n",
    "\n",
    "获取更多的评论的方法，也变得非常简单，直接使用selenium控制浏览器点击【点击加载更多】的按钮，评论数据自然就都加载到elements中了。\n",
    "\n",
    "### 接下来是解析与提取数据：\n",
    "\n",
    "第一种解决思路是使用selenium提取数据的方法。\n",
    "\n",
    "第二种解决思路是，先获取到完整网页源代码，然后用BeautifulSoup抓取。"
   ]
  },
  {
   "cell_type": "markdown",
   "id": "67c7f0f0",
   "metadata": {},
   "source": [
    "## 代码实现\n",
    "\n",
    "调用所有需要的模块，设置好Chrome浏览器引擎，访问网页，获取数据。"
   ]
  },
  {
   "cell_type": "code",
   "execution_count": null,
   "id": "21e7a38f",
   "metadata": {},
   "outputs": [],
   "source": [
    "import time\n",
    "from selenium import webdriver #从selenium库中调用webdriver模块\n",
    "\n",
    "driver = webdriver.Chrome() # 设置引擎为Chrome，真实地打开一个Chrome浏览器\n",
    "\n",
    "driver.get('https://y.qq.com/n/yqq/song/000xdZuV2LcQ19.html') # 访问页面"
   ]
  },
  {
   "cell_type": "markdown",
   "id": "b0c29ff1",
   "metadata": {},
   "source": [
    "用selenium的解析提取方法，获取歌曲评论并打印。\n",
    "\n",
    "在获取到网页之后，解析与提取之前，要加上time.sleep(2)，因为网页的加载需要零点几秒的时间，保险起见，我们等待2秒。\n",
    "\n",
    "使用selenium时，只能用其中一个属性来提取数据。"
   ]
  },
  {
   "cell_type": "code",
   "execution_count": null,
   "id": "de2aff49",
   "metadata": {},
   "outputs": [],
   "source": [
    "driver.get('https://y.qq.com/n/yqq/song/000xdZuV2LcQ19.html') # 访问页面\n",
    "time.sleep(2)\n",
    "\n",
    "comments = driver.find_element_by_class_name('js_hot_list').find_elements_by_class_name('js_cmt_li') # 使用class_name找到评论\n",
    "print(len(comments)) # 打印获取到的评论个数\n",
    "for comment in comments: # 循环\n",
    "    sweet = comment.find_element_by_tag_name('p') # 找到评论\n",
    "    print ('评论：%s\\n ---\\n'%sweet.text) # 打印评论\n",
    "driver.close() # 关闭浏览器"
   ]
  },
  {
   "cell_type": "markdown",
   "id": "cf8c58ab",
   "metadata": {},
   "source": [
    "## 加载更多"
   ]
  },
  {
   "cell_type": "code",
   "execution_count": null,
   "id": "5ba3589a",
   "metadata": {},
   "outputs": [],
   "source": [
    "driver.get('https://y.qq.com/n/yqq/song/000xdZuV2LcQ19.html') # 访问页面\n",
    "time.sleep(2)\n",
    "\n",
    "button = driver.find_element_by_class_name('js_get_more_hot') # 根据类名找到【点击加载更多】\n",
    "button.click() # 点击\n",
    "time.sleep(2) # 等待两秒\n",
    "\n",
    "pageSource = driver.page_source # 获取Elements中渲染完成的网页源代码\n",
    "soup = BeautifulSoup(pageSource,'html.parser')  # 使用bs解析网页\n",
    "comments = soup.find('ul',class_='js_hot_list').find_all('li',class_='js_cmt_li') # 使用bs提取元素\n",
    "print(len(comments)) # 打印comments的数量\n",
    "\n",
    "for comment in comments: # 循环\n",
    "    sweet = comment.find('p') # 提取评论\n",
    "    print ('评论：%s\\n ---\\n'%sweet.text) # 打印评论\n",
    "driver.close() # 关闭浏览器 # 关闭浏览器"
   ]
  },
  {
   "cell_type": "markdown",
   "id": "f6e342cd",
   "metadata": {},
   "source": [
    "## 静默模式\n",
    "还可以把自己电脑中的Chrome浏览器设置为静默模式，也就是说，让浏览器只是在后台运行，并不在电脑中打开它的可视界面。"
   ]
  },
  {
   "cell_type": "code",
   "execution_count": null,
   "id": "edf05537",
   "metadata": {},
   "outputs": [],
   "source": [
    "# 本地Chrome浏览器的静默默模式设置：\n",
    "from selenium import  webdriver #从selenium库中调用webdriver模块\n",
    "from selenium.webdriver.chrome.options import Options # 从options模块中调用Options类\n",
    "\n",
    "chrome_options = Options() # 实例化Option对象\n",
    "chrome_options.add_argument('--headless') # 把Chrome浏览器设置为静默模式\n",
    "driver = webdriver.Chrome(options = chrome_options) # 设置引擎为Chrome，在后台默默运行"
   ]
  },
  {
   "cell_type": "code",
   "execution_count": null,
   "id": "0fbbd326",
   "metadata": {},
   "outputs": [],
   "source": [
    "在用完浏览器之后，要记得关闭它，以免资源浪费，在代码的结尾处加一行driver.close()就好。\n",
    "\n",
    "Selenium的缺点：\n",
    "\n",
    "需要等待网页缓冲的时间，在爬取大量数据的时候，速度会比较慢。\n",
    "\n",
    "通常情况，在爬虫项目中，selenium都是用在其它方法无法解决，或是很难解决的问题时，才会用到。"
   ]
  }
 ],
 "metadata": {
  "kernelspec": {
   "display_name": "Python 3 (ipykernel)",
   "language": "python",
   "name": "python3"
  },
  "language_info": {
   "codemirror_mode": {
    "name": "ipython",
    "version": 3
   },
   "file_extension": ".py",
   "mimetype": "text/x-python",
   "name": "python",
   "nbconvert_exporter": "python",
   "pygments_lexer": "ipython3",
   "version": "3.11.5"
  }
 },
 "nbformat": 4,
 "nbformat_minor": 5
}
