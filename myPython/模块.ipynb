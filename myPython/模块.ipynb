{
 "cells": [
  {
   "cell_type": "markdown",
   "id": "bf017165",
   "metadata": {},
   "source": [
    "# 什么是模块？\n",
    "模块是最高级别的程序组织单元。这句话的意思是，模块什么都能封装\n",
    "\n",
    "封装模块的目的也是为了把程序代码和数据存放起来以便再次利用。"
   ]
  },
  {
   "cell_type": "markdown",
   "id": "6cf88302",
   "metadata": {},
   "source": [
    "# 使用自己的模块\n",
    "建立模块，其实就是在主程序的py文件中，使用import语句导入其他py文件"
   ]
  },
  {
   "cell_type": "markdown",
   "id": "7b0ffacb",
   "metadata": {},
   "source": [
    "从某个文件夹下导读模块文件？HOW？"
   ]
  },
  {
   "cell_type": "code",
   "execution_count": null,
   "id": "265e7d40",
   "metadata": {},
   "outputs": [],
   "source": [
    "# 主程序main.py\n",
    "import test  # 导入test模块\n",
    "\n",
    "print(test.a)  # 使用“模块.变量”调用模块中的变量\n",
    "\n",
    "test.hi()  # 使用“模块.函数()”调用模块中的函数\n",
    "\n",
    "A = test.Go2()  # 使用“变量 = 模块.类()”实例化模块中的类\n",
    "print(A.a)  # 实例化后，不再需要“模块.”\n",
    "A.do2()  # 实例化后，不再需要“模块.”"
   ]
  },
  {
   "cell_type": "markdown",
   "id": "523a6fa6",
   "metadata": {},
   "source": [
    "# if __name__ == '__main__':\n",
    "对于Python和其他许多编程语言来说，程序都要有一个运行入口\n",
    "\n",
    "在Python中，当我们在运行某一个py文件，就能启动程序 ——— 这个py文件就是程序的运行入口\n",
    "\n",
    "当我们有了一大堆py文件组成一个程序的时候，为了【指明】某个py文件是程序的运行入口，我们可以在该py文件中写出这样的代码：\n",
    "`【文件：xx.py】`\n",
    "```python\n",
    "代码块 ①……\n",
    "\n",
    "if __name__ == '__main__':\n",
    "    代码块 ②……\n",
    "```"
   ]
  },
  {
   "cell_type": "markdown",
   "id": "2e642261",
   "metadata": {},
   "source": [
    "# 查看别人的模块"
   ]
  },
  {
   "cell_type": "markdown",
   "id": "6d6e0087",
   "metadata": {},
   "source": [
    "## 文件路径\n",
    "在终端运行python，import random， 然后用命令random.file找出了random模块的文件路径。"
   ]
  },
  {
   "cell_type": "markdown",
   "id": "0353531e",
   "metadata": {},
   "source": [
    "## 官方文档\n",
    "[random](https://docs.python.org/3.6/library/random.html)"
   ]
  },
  {
   "cell_type": "markdown",
   "id": "c9f1147f",
   "metadata": {},
   "source": [
    "## 百度搜索\n",
    "\n",
    "重点关注的是模块中的函数和类方法有什么作用，然后把使用案例做成笔记"
   ]
  },
  {
   "cell_type": "code",
   "execution_count": 1,
   "id": "778784e5",
   "metadata": {},
   "outputs": [
    {
     "name": "stdout",
     "output_type": "stream",
     "text": [
      "0.20478876185324668\n",
      "99\n",
      "b\n",
      "['c', 'a', 'd']\n",
      "[4, 6, 5, 1, 3, 2]\n"
     ]
    }
   ],
   "source": [
    "#记笔记示例\n",
    "import random  # 调用random模块\n",
    "\n",
    "a = random.random()  # 随机从0-1之间抽取一个小数\n",
    "print(a)\n",
    "\n",
    "a = random.randint(0,100)  # 随机从0-100之间抽取一个数字\n",
    "print(a)\n",
    "\n",
    "a = random.choice('abcdefg')  # 随机从字符串/列表/字典等对象中抽取一个元素（可能会重复）\n",
    "print(a)\n",
    "\n",
    "a = random.sample('abcdefg', 3) # 随机从字符串/列表/字典等对象中抽取多个不重复的元素\n",
    "print(a)\n",
    "\n",
    "items = [1, 2, 3, 4, 5, 6]  # “随机洗牌”，比如打乱列表\n",
    "random.shuffle(items)\n",
    "print(items)"
   ]
  },
  {
   "cell_type": "markdown",
   "id": "fdd6550c",
   "metadata": {},
   "source": [
    "## dir\n",
    "使用dir()函数查看一个模块，看看它里面有什么变量、函数、类、类方法。\n",
    "dir(x)，可以查询到x相关的函数，x可以是模块，也可以是任意一种对象。"
   ]
  },
  {
   "cell_type": "code",
   "execution_count": 2,
   "id": "bfb35d30",
   "metadata": {},
   "outputs": [
    {
     "name": "stdout",
     "output_type": "stream",
     "text": [
      "['BPF', 'LOG4', 'NV_MAGICCONST', 'RECIP_BPF', 'Random', 'SG_MAGICCONST', 'SystemRandom', 'TWOPI', '_ONE', '_Sequence', '_Set', '__all__', '__builtins__', '__cached__', '__doc__', '__file__', '__loader__', '__name__', '__package__', '__spec__', '_accumulate', '_acos', '_bisect', '_ceil', '_cos', '_e', '_exp', '_floor', '_index', '_inst', '_isfinite', '_log', '_os', '_pi', '_random', '_repeat', '_sha512', '_sin', '_sqrt', '_test', '_test_generator', '_urandom', '_warn', 'betavariate', 'choice', 'choices', 'expovariate', 'gammavariate', 'gauss', 'getrandbits', 'getstate', 'lognormvariate', 'normalvariate', 'paretovariate', 'randbytes', 'randint', 'random', 'randrange', 'sample', 'seed', 'setstate', 'shuffle', 'triangular', 'uniform', 'vonmisesvariate', 'weibullvariate']\n"
     ]
    }
   ],
   "source": [
    "import random  # 调用random模块\n",
    "\n",
    "print(dir(random))"
   ]
  },
  {
   "cell_type": "code",
   "execution_count": 3,
   "id": "d9f06e9a",
   "metadata": {},
   "outputs": [
    {
     "name": "stdout",
     "output_type": "stream",
     "text": [
      "字符串：\n",
      "['__add__', '__class__', '__contains__', '__delattr__', '__dir__', '__doc__', '__eq__', '__format__', '__ge__', '__getattribute__', '__getitem__', '__getnewargs__', '__getstate__', '__gt__', '__hash__', '__init__', '__init_subclass__', '__iter__', '__le__', '__len__', '__lt__', '__mod__', '__mul__', '__ne__', '__new__', '__reduce__', '__reduce_ex__', '__repr__', '__rmod__', '__rmul__', '__setattr__', '__sizeof__', '__str__', '__subclasshook__', 'capitalize', 'casefold', 'center', 'count', 'encode', 'endswith', 'expandtabs', 'find', 'format', 'format_map', 'index', 'isalnum', 'isalpha', 'isascii', 'isdecimal', 'isdigit', 'isidentifier', 'islower', 'isnumeric', 'isprintable', 'isspace', 'istitle', 'isupper', 'join', 'ljust', 'lower', 'lstrip', 'maketrans', 'partition', 'removeprefix', 'removesuffix', 'replace', 'rfind', 'rindex', 'rjust', 'rpartition', 'rsplit', 'rstrip', 'split', 'splitlines', 'startswith', 'strip', 'swapcase', 'title', 'translate', 'upper', 'zfill']\n",
      "列表：\n",
      "['__add__', '__class__', '__class_getitem__', '__contains__', '__delattr__', '__delitem__', '__dir__', '__doc__', '__eq__', '__format__', '__ge__', '__getattribute__', '__getitem__', '__getstate__', '__gt__', '__hash__', '__iadd__', '__imul__', '__init__', '__init_subclass__', '__iter__', '__le__', '__len__', '__lt__', '__mul__', '__ne__', '__new__', '__reduce__', '__reduce_ex__', '__repr__', '__reversed__', '__rmul__', '__setattr__', '__setitem__', '__sizeof__', '__str__', '__subclasshook__', 'append', 'clear', 'copy', 'count', 'extend', 'index', 'insert', 'pop', 'remove', 'reverse', 'sort']\n",
      "字典：\n",
      "['__class__', '__class_getitem__', '__contains__', '__delattr__', '__delitem__', '__dir__', '__doc__', '__eq__', '__format__', '__ge__', '__getattribute__', '__getitem__', '__getstate__', '__gt__', '__hash__', '__init__', '__init_subclass__', '__ior__', '__iter__', '__le__', '__len__', '__lt__', '__ne__', '__new__', '__or__', '__reduce__', '__reduce_ex__', '__repr__', '__reversed__', '__ror__', '__setattr__', '__setitem__', '__sizeof__', '__str__', '__subclasshook__', 'clear', 'copy', 'fromkeys', 'get', 'items', 'keys', 'pop', 'popitem', 'setdefault', 'update', 'values']\n"
     ]
    }
   ],
   "source": [
    "a = ''  # 设置一个字符串\n",
    "print('字符串：')\n",
    "print(dir(a))    # 把字符串相关的函数展示出来\n",
    "\n",
    "a = []  # 设置一个列表\n",
    "print('列表：')\n",
    "print(dir(a))    # 把列表相关的函数展示出来\n",
    "\n",
    "a = {}  # 设置一个字典\n",
    "print('字典：')\n",
    "print(dir(a))  # 把字典相关的函数展示出来"
   ]
  },
  {
   "cell_type": "code",
   "execution_count": 4,
   "id": "4456c6e1",
   "metadata": {},
   "outputs": [
    {
     "name": "stdout",
     "output_type": "stream",
     "text": [
      "Dialect\n",
      "DictReader\n",
      "DictWriter\n",
      "Error\n",
      "QUOTE_ALL\n",
      "QUOTE_MINIMAL\n",
      "QUOTE_NONE\n",
      "QUOTE_NONNUMERIC\n",
      "Sniffer\n",
      "StringIO\n",
      "_Dialect\n",
      "__all__\n",
      "__builtins__\n",
      "__cached__\n",
      "__doc__\n",
      "__file__\n",
      "__loader__\n",
      "__name__\n",
      "__package__\n",
      "__spec__\n",
      "__version__\n",
      "excel\n",
      "excel_tab\n",
      "field_size_limit\n",
      "get_dialect\n",
      "list_dialects\n",
      "re\n",
      "reader\n",
      "register_dialect\n",
      "unix_dialect\n",
      "unregister_dialect\n",
      "writer\n"
     ]
    }
   ],
   "source": [
    "import csv\n",
    "\n",
    "# dir()函数会得到一个列表，用for循环一行行打印列表比较直观\n",
    "for i in dir(csv):\n",
    "    print(i)"
   ]
  },
  {
   "cell_type": "code",
   "execution_count": null,
   "id": "4c587540",
   "metadata": {},
   "outputs": [],
   "source": [
    "#  不用 time模块 的时间记录器。\n",
    "\n",
    "input(\"欢迎使用“时间管理器”！请按回车继续。\")\n",
    "\n",
    "while True:\n",
    "    task_name = input('请输入任务名：')\n",
    "    task_time = int(input('你觉得自己至少可以专注这个任务多少分钟？输入 N 分钟'))\n",
    "    input('此次任务信息：\\n我要完成的任务：%s\\n我至少要专注：%d分钟\\n按回车开始专注：'%(task_name,task_time))\n",
    "    task_status = input('请在任务完成后按输入y:')\n",
    "    actual_time = input('该任务实际用时为几分钟？')\n",
    "\n",
    "    if task_status == 'y':\n",
    "        with open('timelog1.txt','a', encoding = 'utf-8') as f:  # 将时间日志文档和代码放一起。\n",
    "            f.write(task_name + ' 的预计时长为：' + str(task_time) + '分钟\\n')\n",
    "            f.write(task_name + ' 的实际时长为：' + str(actual_time) + '分钟\\n')\n",
    "        again = input('建立一个新任务请按 y, 退出时间日志记录器请按 q：')\n",
    "        if again == 'q':\n",
    "            break\n",
    "    else:\n",
    "        print('抱歉，你的输入有误。请重启时间记录器。')\n",
    "\n",
    "print('愿被你善待的时光，予你美好的回赠。')"
   ]
  },
  {
   "cell_type": "code",
   "execution_count": null,
   "id": "f5927746",
   "metadata": {},
   "outputs": [],
   "source": [
    "import time\n",
    "\n",
    "input(\"欢迎使用“时间管理器”！请按回车继续。\")\n",
    "\n",
    "while True:\n",
    "    task_name = input('请输入任务名：')\n",
    "    task_time = int(input('你觉得自己至少可以专注这个任务多少分钟？输入 N 分钟'))\n",
    "    input('此次任务信息：\\n我要完成的任务：%s\\n我至少要专注：%d分钟\\n按回车开始计时：'%(task_name,task_time))\n",
    "    start = time.time()  # 开始计时\n",
    "    start_time = time.strftime('%Y-%m-%d %H:%M:%S',time.localtime(time.time()))  # 格式化日期\n",
    "    \n",
    "    # 实际代码：分钟转成秒要乘60，用-1来倒计时。\n",
    "    # for t in range(task_time*60,0,-1):\n",
    "    for t in range(task_time,0,-1):\n",
    "        info = '请专注任务，还要保持专注 ' + str(t) + ' 秒哦！'\n",
    "        print(info,end=\"\")\n",
    "        print(\"\\b\"*(len(info)*2),end=\"\",flush=True)\n",
    "        time.sleep(1)\n",
    "    print('你已经专注了 %d 分钟，很棒~再加把劲，完成任务！'%task_time)  # 倒计时后，才继续运行之后的代码。\n",
    "\n",
    "    # 询问任务是否完成\n",
    "    task_status = input('请在任务完成后按输入y:')\n",
    "    if task_status == 'y':\n",
    "        end = time.time()  # 一定用户按了 y，就记下结束时间。\n",
    "        end_time = time.strftime('%Y-%m-%d %H:%M:%S',time.localtime(time.time()))  # 日期格式化\n",
    "        actual_time = int((end -start)/60)  # 始末时间相减，从秒换算到分，除以60。\n",
    "        start_end = start_time + '——' + end_time + '\\n'\n",
    "        with open('timelog3.txt','a', encoding = 'utf-8') as f:\n",
    "            f.write(task_name + ' 的预计时长为：' + str(task_time) + '分钟\\n')\n",
    "            f.write(task_name + ' 的实际时长为：' + str(actual_time) + '分钟,具体时间为：' + start_end)\n",
    "        again = input('建立一个新任务请按 y, 退出时间日志记录器请按 q：')\n",
    "        if again == 'q':            \n",
    "            break\n",
    "    else:\n",
    "        print('抱歉，你的输入有误。请重启时间记录器。')\n",
    "\n",
    "print('愿被你善待的时光，予你美好的回赠。')"
   ]
  }
 ],
 "metadata": {
  "kernelspec": {
   "display_name": "Python 3 (ipykernel)",
   "language": "python",
   "name": "python3"
  },
  "language_info": {
   "codemirror_mode": {
    "name": "ipython",
    "version": 3
   },
   "file_extension": ".py",
   "mimetype": "text/x-python",
   "name": "python",
   "nbconvert_exporter": "python",
   "pygments_lexer": "ipython3",
   "version": "3.11.5"
  },
  "toc": {
   "base_numbering": 1,
   "nav_menu": {},
   "number_sections": true,
   "sideBar": true,
   "skip_h1_title": false,
   "title_cell": "Table of Contents",
   "title_sidebar": "Contents",
   "toc_cell": false,
   "toc_position": {},
   "toc_section_display": true,
   "toc_window_display": true
  }
 },
 "nbformat": 4,
 "nbformat_minor": 5
}
