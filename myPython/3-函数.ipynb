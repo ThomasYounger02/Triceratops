{
 "cells": [
  {
   "cell_type": "markdown",
   "id": "62beb1c8",
   "metadata": {},
   "source": [
    "> 函数是组织好的，可以重复使用的，用来实现单一功能的代码。"
   ]
  },
  {
   "cell_type": "markdown",
   "id": "fcb212ee",
   "metadata": {},
   "source": [
    "# 函数定义\n",
    "没有return语句的函数，Python也会在末尾隐性地加上return None，即返回None值（return None可以简写为return。）   \n",
    "**一旦函数内部遇到return语句，就会停止执行并返回结果。**"
   ]
  },
  {
   "cell_type": "code",
   "execution_count": 3,
   "id": "d3080682",
   "metadata": {},
   "outputs": [],
   "source": [
    "def greet(name):        # def的意思是定义(define)，greet是【函数名】，再搭配一个括号和冒号，括号里面的name是参数\n",
    "    print(name+'， 早上好') # def下一行开始缩进的代码是函数要实现的功能，也叫【函数体】\n",
    "    return              # 一个简单的return。函数内部一旦遇到return语句，就会停止执行并返回结果。"
   ]
  },
  {
   "cell_type": "code",
   "execution_count": 4,
   "id": "376c52bf",
   "metadata": {},
   "outputs": [
    {
     "name": "stdout",
     "output_type": "stream",
     "text": [
      "Tom， 早上好\n"
     ]
    }
   ],
   "source": [
    "greet('Tom')"
   ]
  },
  {
   "cell_type": "markdown",
   "id": "cc4d9284",
   "metadata": {},
   "source": [
    "# 调用函数"
   ]
  },
  {
   "cell_type": "code",
   "execution_count": 5,
   "id": "8810f3ea",
   "metadata": {},
   "outputs": [
    {
     "name": "stdout",
     "output_type": "stream",
     "text": [
      "Merry Christmas!\n",
      "                    o\n",
      "                   /|\\\n",
      "                  o~x~o\n",
      "                 ///|\\\\\\\n",
      "                o~x~o~x~o\n",
      "               /////|\\\\\\\\\\\n",
      "              o~x~o~x~o~x~o\n",
      "             ///////|\\\\\\\\\\\\\\\n",
      "            o~x~o~x~o~x~o~x~o\n",
      "           /////////|\\\\\\\\\\\\\\\\\\\n",
      "          o~x~o~x~o~x~o~x~o~x~o\n",
      "         ///////////|\\\\\\\\\\\\\\\\\\\\\\\n",
      "        o~x~o~x~o~x~o~x~o~x~o~x~o\n",
      "       /////////////|\\\\\\\\\\\\\\\\\\\\\\\\\\\n",
      "      o~x~o~x~o~x~o~x~o~x~o~x~o~x~o\n",
      "     ///////////////|\\\\\\\\\\\\\\\\\\\\\\\\\\\\\\\n",
      "    o~x~o~x~o~x~o~x~o~x~o~x~o~x~o~x~o\n",
      "   /////////////////|\\\\\\\\\\\\\\\\\\\\\\\\\\\\\\\\\\\n",
      "  o~x~o~x~o~x~o~x~o~x~o~x~o~x~o~x~o~x~o\n",
      " ///////////////////|\\\\\\\\\\\\\\\\\\\\\\\\\\\\\\\\\\\\\\\n"
     ]
    }
   ],
   "source": [
    "def tree(Height):\n",
    "    print('Merry Christmas!')\n",
    "    for i in range(Height):\n",
    "        print((Height-i)*2*' '+'o'+ i*'~x~o')\n",
    "        print(((Height-i)*2-1)*' '+(i*2+1)*'/'+'|'+(i*2+1)*'\\\\')\n",
    "        \n",
    "tree(10)   # 参数的传递(pass)。"
   ]
  },
  {
   "cell_type": "markdown",
   "id": "7f3e340f",
   "metadata": {},
   "source": [
    "# 参数类型\n",
    "## 位置参数"
   ]
  },
  {
   "cell_type": "code",
   "execution_count": 7,
   "id": "9581ce04",
   "metadata": {},
   "outputs": [
    {
     "name": "stdout",
     "output_type": "stream",
     "text": [
      "一份开胃菜：话梅花生\n",
      "一份主食：牛肉拉面\n",
      "一份开胃菜：话梅花生\n",
      "一份主食：牛肉拉面\n"
     ]
    }
   ],
   "source": [
    "def  menu(appetizer,course):\n",
    "    print('一份开胃菜：'+appetizer)\n",
    "    print('一份主食：'+course)\n",
    "\n",
    "menu('话梅花生','牛肉拉面') # 梅花生'和'牛肉拉面'是对应参数appetizer和course的位置顺序传递的，所以被叫作【位置参数】.\n",
    "menu(course='牛肉拉面',appetizer='话梅花生') #如果采用这种形式传递，就不需要理会参数位置"
   ]
  },
  {
   "cell_type": "markdown",
   "id": "4bc85f5f",
   "metadata": {},
   "source": [
    "## 默认参数"
   ]
  },
  {
   "cell_type": "code",
   "execution_count": 8,
   "id": "ce452419",
   "metadata": {},
   "outputs": [
    {
     "name": "stdout",
     "output_type": "stream",
     "text": [
      "一份开胃菜：话梅花生\n",
      "一份主食：牛肉拉面\n",
      "一份甜品：绿豆沙\n"
     ]
    }
   ],
   "source": [
    "def  menu(appetizer,course,dessert='绿豆沙'):  #【默认参数】已经默认将'绿豆沙'传递给dessert，调用时无须再传递。\n",
    "    print('一份开胃菜：'+appetizer)\n",
    "    print('一份主食：'+course)\n",
    "    print('一份甜品：'+dessert)\n",
    "\n",
    "menu('话梅花生','牛肉拉面')   # 默认参数】相对固定，省去了每次调用时重复输入的麻烦。"
   ]
  },
  {
   "cell_type": "markdown",
   "id": "19665b60",
   "metadata": {},
   "source": [
    "## 不定长参数"
   ]
  },
  {
   "cell_type": "code",
   "execution_count": 9,
   "id": "7956da9f",
   "metadata": {},
   "outputs": [
    {
     "name": "stdout",
     "output_type": "stream",
     "text": [
      "('烤鸡翅', '烤茄子', '烤玉米')\n"
     ]
    }
   ],
   "source": [
    "def menu(*barbeque):    # 【不定长参数】的格式比较特殊，是一个星号*加上参数名\n",
    "    print(barbeque)\n",
    "\n",
    "#这几个值都会传递给参数barbeque\n",
    "menu('烤鸡翅','烤茄子','烤玉米')"
   ]
  },
  {
   "cell_type": "code",
   "execution_count": 10,
   "id": "8beb9fcc",
   "metadata": {},
   "outputs": [
    {
     "name": "stdout",
     "output_type": "stream",
     "text": [
      "一份开胃菜：话梅花生\n",
      "一份主菜：牛肉拉面\n",
      "一份甜品：绿豆沙\n",
      "一份烤串：烤鸡翅\n",
      "一份烤串：烤茄子\n",
      "一份烤串：烤玉米\n"
     ]
    }
   ],
   "source": [
    "def menu(appetizer,course,*barbeque,dessert='绿豆沙'):    # 默认参数也需要放在不定长参数的后面\n",
    "    print('一份开胃菜：'+appetizer)\n",
    "    print('一份主菜：'+course)\n",
    "    print('一份甜品：'+dessert)\n",
    "    for i in barbeque:\n",
    "        print('一份烤串：'+i)\n",
    "        \n",
    "menu('话梅花生','牛肉拉面','烤鸡翅','烤茄子','烤玉米')"
   ]
  },
  {
   "cell_type": "markdown",
   "id": "42c3f346",
   "metadata": {},
   "source": [
    "# return\n",
    "return语句规定该函数要返回什么值。"
   ]
  },
  {
   "cell_type": "code",
   "execution_count": 11,
   "id": "fb84910f",
   "metadata": {},
   "outputs": [
    {
     "name": "stdout",
     "output_type": "stream",
     "text": [
      "我的梦中情人：李若彤的脸蛋 + 林志玲的身材\n",
      "我的梦中情人：新垣结衣的脸蛋 + 长泽雅美的身材\n"
     ]
    }
   ],
   "source": [
    "def face(name):\n",
    "    return name + '的脸蛋'\n",
    "def body(name):\n",
    "    return name + '的身材'           # 如果不是立即要对函数返回值进行操作，那么可以使用return语句保留返回值。\n",
    "\n",
    "def main(dream_face,dream_body):    # 需要多次调用函数时，可以再定义一个主函数main()，调用非主函数的返回值。\n",
    "    return '我的梦中情人：' + face(dream_face) + ' + ' + body(dream_body)\n",
    "\n",
    "print(main('李若彤','林志玲'))\n",
    "print(main('新垣结衣','长泽雅美'))"
   ]
  },
  {
   "cell_type": "markdown",
   "id": "83b06c76",
   "metadata": {},
   "source": [
    "Python的返回值可以是多个，多个返回值的数据类型是元组（tuple）。   \n",
    "**没有return语句的函数会默认返回None值。**"
   ]
  },
  {
   "cell_type": "markdown",
   "id": "7a1f70d5",
   "metadata": {},
   "source": [
    "# 变量作用域\n",
    "- 在一个函数内定义的变量仅能在函数内部使用（局部作用域），它们被称作**【局部变量】**。\n",
    "- 在所有函数之外赋值的变量，可以在程序的任何位置使用（全局作用域），它们叫**【全局变量】**。\n",
    "\n",
    "当变量处于被定义的函数内时，就是局部变量，只能在这个函数内被访问；   \n",
    "当变量处于被定义的函数外时，就是全局变量，可以在程序中的任何位置被访问。   \n",
    "如果非要将局部变量变成全局变量，就像把私人房间的东西挪到公共区域，要用到一种新的语句global语句。"
   ]
  },
  {
   "cell_type": "code",
   "execution_count": 14,
   "id": "4cdd3873",
   "metadata": {},
   "outputs": [
    {
     "name": "stdout",
     "output_type": "stream",
     "text": [
      "88\n",
      "99\n"
     ]
    }
   ],
   "source": [
    "x=99     #全局变量x  \n",
    "\n",
    "def num():\n",
    "    x=88 #局部变量x            # 局部变量和全局变量【不要】取相同的名字，以免混淆。\n",
    "    print(x)\n",
    "\n",
    "num()        #打印局部变量x\n",
    "print(x)     #打印全局变量x"
   ]
  },
  {
   "cell_type": "code",
   "execution_count": 16,
   "id": "374563dd",
   "metadata": {},
   "outputs": [
    {
     "name": "stdout",
     "output_type": "stream",
     "text": [
      "108\n",
      "108\n"
     ]
    }
   ],
   "source": [
    "def egg():    \n",
    "    global quantity    #global语句将变量quantity声明为全局变量\n",
    "    quantity = 108\n",
    "    print(quantity)\n",
    "    \n",
    "egg()\n",
    "print(quantity)"
   ]
  },
  {
   "cell_type": "markdown",
   "id": "e2c64e84",
   "metadata": {},
   "source": [
    "# doc-string"
   ]
  },
  {
   "cell_type": "code",
   "execution_count": null,
   "id": "258973a8",
   "metadata": {},
   "outputs": [],
   "source": []
  }
 ],
 "metadata": {
  "kernelspec": {
   "display_name": "Python 3 (ipykernel)",
   "language": "python",
   "name": "python3"
  },
  "language_info": {
   "codemirror_mode": {
    "name": "ipython",
    "version": 3
   },
   "file_extension": ".py",
   "mimetype": "text/x-python",
   "name": "python",
   "nbconvert_exporter": "python",
   "pygments_lexer": "ipython3",
   "version": "3.11.5"
  },
  "toc": {
   "base_numbering": 1,
   "nav_menu": {},
   "number_sections": true,
   "sideBar": true,
   "skip_h1_title": false,
   "title_cell": "Table of Contents",
   "title_sidebar": "Contents",
   "toc_cell": false,
   "toc_position": {},
   "toc_section_display": true,
   "toc_window_display": true
  }
 },
 "nbformat": 4,
 "nbformat_minor": 5
}
