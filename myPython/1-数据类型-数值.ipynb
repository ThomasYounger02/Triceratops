{
 "cells": [
  {
   "cell_type": "markdown",
   "id": "0b97e583",
   "metadata": {},
   "source": [
    "# 整数"
   ]
  },
  {
   "cell_type": "markdown",
   "id": "21311d24",
   "metadata": {},
   "source": [
    "# 数据转换"
   ]
  },
  {
   "cell_type": "code",
   "execution_count": 8,
   "id": "e223e2b8",
   "metadata": {},
   "outputs": [
    {
     "name": "stdout",
     "output_type": "stream",
     "text": [
      "666\n",
      "0\n",
      "666\n",
      "3\n",
      "3\n"
     ]
    }
   ],
   "source": [
    "bug = '666'\n",
    "hair = '0'\n",
    "a_int = int(float('3.8'))    # 错误：int('3.8')\n",
    "b_int = int(3.8)             # int()作用于浮点数\n",
    "c_int = int('3')             # 表示整数的字符串\n",
    "\n",
    "print(bug)\n",
    "print(hair)\n",
    "print(int(bug)+int(hair))\n",
    "\n",
    "print(a_int)\n",
    "print(b_int)"
   ]
  },
  {
   "cell_type": "markdown",
   "id": "e1c66847",
   "metadata": {},
   "source": [
    "# 浮点数\n",
    "> 世上的人可以分为3类：\n",
    "> 一种是知道自己不懂浮点运算的；一种是以为自己懂浮点运算的；\n",
    "> 最后一种是极少的专家级人物，他们想知道自己是否有可能，最终完全理解浮点运算。"
   ]
  },
  {
   "cell_type": "code",
   "execution_count": 4,
   "id": "97fb8665",
   "metadata": {},
   "outputs": [
    {
     "name": "stdout",
     "output_type": "stream",
     "text": [
      "0.8500000000000001\n",
      "不相等！\n",
      "0.4\n",
      "3.4\n"
     ]
    }
   ],
   "source": [
    "a = 0.55+0.3\n",
    "b = .4\n",
    "c = 3 + .4\n",
    "\n",
    "print(a)       # 结果不是0.85\n",
    "delta = a - 0.85\n",
    "if delta ==0:\n",
    "    print('相等！')\n",
    "else:\n",
    "    print('不相等！')\n",
    "\n",
    "print(b)\n",
    "print(c)"
   ]
  },
  {
   "cell_type": "markdown",
   "id": "177dee05",
   "metadata": {},
   "source": [
    "Python计算浮点数的方式与我们不一样。Python计算浮点数时，会先把0.55和0.3转化成二进制数【注：二进制数由0和1表示，逢二进一】，如下列代码：\n",
    "- 进制转换   \n",
    "0.55(十进制) = 0.1000110011001100110011001100110011001100110011001101(二进制)   \n",
    "0.3(十进制) = 0.0100110011001100110011001100110011001100110011001101(二进制)  \n",
    "\n",
    "\n",
    "\n",
    "然后，这俩二进制数通过二进制法则运算后，再通过复杂的计算公式，将二进制结果转成十进制小数。   \n",
    "经过这两次转换，小数点后面就产生了多余的“尾巴”。这样，就造成了我们与程序计算结果的差异。"
   ]
  },
  {
   "cell_type": "markdown",
   "id": "d6708757",
   "metadata": {},
   "source": [
    "## 数据转换"
   ]
  },
  {
   "cell_type": "code",
   "execution_count": 9,
   "id": "81d909d7",
   "metadata": {},
   "outputs": [
    {
     "name": "stdout",
     "output_type": "stream",
     "text": [
      "183.5\n",
      "79.0\n",
      "30.0\n"
     ]
    }
   ],
   "source": [
    "height = 183.5\n",
    "weight = 79\n",
    "age = '30'\n",
    "\n",
    "print(float(height))\n",
    "print(float(weight))\n",
    "print(float(age))"
   ]
  },
  {
   "cell_type": "code",
   "execution_count": null,
   "id": "6322d0c0",
   "metadata": {},
   "outputs": [],
   "source": []
  }
 ],
 "metadata": {
  "kernelspec": {
   "display_name": "Python 3 (ipykernel)",
   "language": "python",
   "name": "python3"
  },
  "language_info": {
   "codemirror_mode": {
    "name": "ipython",
    "version": 3
   },
   "file_extension": ".py",
   "mimetype": "text/x-python",
   "name": "python",
   "nbconvert_exporter": "python",
   "pygments_lexer": "ipython3",
   "version": "3.11.5"
  },
  "toc": {
   "base_numbering": 1,
   "nav_menu": {},
   "number_sections": true,
   "sideBar": true,
   "skip_h1_title": false,
   "title_cell": "Table of Contents",
   "title_sidebar": "Contents",
   "toc_cell": false,
   "toc_position": {},
   "toc_section_display": true,
   "toc_window_display": false
  }
 },
 "nbformat": 4,
 "nbformat_minor": 5
}
