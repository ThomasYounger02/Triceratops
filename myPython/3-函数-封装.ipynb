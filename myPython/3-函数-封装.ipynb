{
 "cells": [
  {
   "cell_type": "markdown",
   "id": "320fb46a",
   "metadata": {},
   "source": [
    "Python语言中的函数返回值可以是多个，而其他语言都不行\n",
    "\n",
    "一次接受多个返回值的数据类型就是元组。\n",
    "\n",
    "return还有一个“副作用”：一旦函数内部遇到return语句，就会停止执行并返回结果。"
   ]
  },
  {
   "cell_type": "markdown",
   "id": "56397f70",
   "metadata": {},
   "source": [
    "一般情况下，一个函数只负责一个单一的功能，以便编写、理解和维护。\n",
    "\n",
    "当程序需要同时调用多个函数的话，一个习惯的用法是定义一个主函数main()，将其他函数放在主函数main()内部，起到一种封装的效果。"
   ]
  },
  {
   "cell_type": "code",
   "execution_count": 1,
   "id": "d8b02cf2",
   "metadata": {},
   "outputs": [
    {
     "name": "stdout",
     "output_type": "stream",
     "text": [
      "我喜欢的数字是7，还有9。\n",
      "这两个数字相加的和为16。\n"
     ]
    }
   ],
   "source": [
    "def fav_num(num1,num2): \n",
    "    print('我喜欢的数字是%d，还有%d。' % (num1,num2))\n",
    "\n",
    "def add_num(num1,num2):\n",
    "    print('这两个数字相加的和为%d。'% (num1 + num2))\n",
    "\n",
    "def main(num1,num2):\n",
    "    fav_num(num1,num2)\n",
    "    add_num(num1,num2)\n",
    "\n",
    "main(7,9)"
   ]
  },
  {
   "cell_type": "markdown",
   "id": "c5a7b602",
   "metadata": {},
   "source": [
    "当项目后面我们要实现的功能越来越复杂，如果不用函数封装独立的功能，你会发现整个代码结构会显得非常凌乱，不易读，且难以修改。\n",
    "\n",
    "能多少体会到函数的作用了吧？首先，它能减少代码冗余，多次复用代码。其次，它能分解流程，使整个代码结构变得清晰，更容易理解、维护和扩展。"
   ]
  },
  {
   "cell_type": "code",
   "execution_count": 3,
   "id": "13cc0be7",
   "metadata": {},
   "outputs": [
    {
     "name": "stdout",
     "output_type": "stream",
     "text": [
      "[4, 3, 10, 9, 6]\n"
     ]
    }
   ],
   "source": [
    "# 随机选取n个元素\n",
    "#用法：\n",
    "# import random  #先调用模块\n",
    "# random.sample(seq, n) \n",
    "#写法是random.sample() \n",
    "#需要传递两个参数，第一个参数是一个序列（列表、字符串、元组），第二个参数是随机选取的元素个数\n",
    "\n",
    "#示例：\n",
    "import random\n",
    "num = [1, 2, 3, 4, 5, 6, 7, 8, 9, 10]  \n",
    "choice = random.sample(num, 5) \n",
    "print(choice)"
   ]
  },
  {
   "cell_type": "markdown",
   "id": "c975d377",
   "metadata": {},
   "source": [
    "# 程序运行的时间"
   ]
  },
  {
   "cell_type": "code",
   "execution_count": null,
   "id": "7a7374c8",
   "metadata": {},
   "outputs": [],
   "source": [
    "import datetime as dt\n",
    "\n",
    "#开始时间\n",
    "starttime = dt.datetime.now()\n",
    "\n",
    "#程序部分\n",
    "    \n",
    "#结束时间\n",
    "endtime = dt.datetime.now()\n",
    "#运行时间\n",
    "print('程序运行时间：',(endtime - starttime).seconds, '秒')"
   ]
  },
  {
   "cell_type": "markdown",
   "id": "d7eeb5eb",
   "metadata": {},
   "source": []
  },
  {
   "cell_type": "code",
   "execution_count": null,
   "id": "b2610ff4",
   "metadata": {},
   "outputs": [],
   "source": []
  }
 ],
 "metadata": {
  "kernelspec": {
   "display_name": "Python 3 (ipykernel)",
   "language": "python",
   "name": "python3"
  },
  "language_info": {
   "codemirror_mode": {
    "name": "ipython",
    "version": 3
   },
   "file_extension": ".py",
   "mimetype": "text/x-python",
   "name": "python",
   "nbconvert_exporter": "python",
   "pygments_lexer": "ipython3",
   "version": "3.11.5"
  },
  "toc": {
   "base_numbering": 1,
   "nav_menu": {},
   "number_sections": true,
   "sideBar": true,
   "skip_h1_title": false,
   "title_cell": "Table of Contents",
   "title_sidebar": "Contents",
   "toc_cell": false,
   "toc_position": {},
   "toc_section_display": true,
   "toc_window_display": false
  }
 },
 "nbformat": 4,
 "nbformat_minor": 5
}
