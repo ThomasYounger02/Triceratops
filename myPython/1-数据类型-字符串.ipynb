{
 "cells": [
  {
   "cell_type": "markdown",
   "id": "71f7b7bb",
   "metadata": {},
   "source": [
    "# 创建\n",
    "## 单引号、双引号、三重引号"
   ]
  },
  {
   "cell_type": "code",
   "execution_count": 1,
   "id": "5e872e5d",
   "metadata": {},
   "outputs": [
    {
     "name": "stdout",
     "output_type": "stream",
     "text": [
      "one way of writing a string.\n",
      "another way\n",
      "\n",
      "This is a long string that\n",
      "spans multiple lines.\n",
      "\n"
     ]
    }
   ],
   "source": [
    "a = 'one way of writing a string.'\n",
    "b = \"another way\"\n",
    "c = \"\"\"\n",
    "This is a long string that\n",
    "spans multiple lines.\n",
    "\"\"\"\n",
    "\n",
    "print(a)\n",
    "print(b)\n",
    "print(c)"
   ]
  },
  {
   "cell_type": "markdown",
   "id": "da56bbc3",
   "metadata": {},
   "source": [
    "## str( )函数"
   ]
  },
  {
   "cell_type": "code",
   "execution_count": 8,
   "id": "7e50ef0d",
   "metadata": {},
   "outputs": [
    {
     "name": "stdout",
     "output_type": "stream",
     "text": [
      "3.5\n"
     ]
    }
   ],
   "source": [
    "a = 3.5\n",
    "b = str(a)\n",
    "\n",
    "print(b)"
   ]
  },
  {
   "cell_type": "markdown",
   "id": "ca382a97",
   "metadata": {},
   "source": [
    "# 修改\n",
    "python字符串是不可变对象，需要修改字符串，只能重新建立一个新的字符串。"
   ]
  },
  {
   "cell_type": "code",
   "execution_count": 2,
   "id": "b43e4818",
   "metadata": {},
   "outputs": [
    {
     "name": "stdout",
     "output_type": "stream",
     "text": [
      "one way of writing a longer string.\n"
     ]
    }
   ],
   "source": [
    "a = 'one way of writing a string.'\n",
    "b = a.replace('string', 'longer string')\n",
    "\n",
    "print(b)"
   ]
  },
  {
   "cell_type": "code",
   "execution_count": 4,
   "id": "b566f0f8",
   "metadata": {},
   "outputs": [
    {
     "name": "stdout",
     "output_type": "stream",
     "text": [
      "12\\34\n"
     ]
    }
   ],
   "source": [
    "# 转义符（escape character)-反斜杠\"\\\"\n",
    "s = '12\\\\34'\n",
    "print(s)"
   ]
  },
  {
   "cell_type": "code",
   "execution_count": 7,
   "id": "95e32a90",
   "metadata": {},
   "outputs": [
    {
     "name": "stdout",
     "output_type": "stream",
     "text": [
      "This\\has\\no\\special\\characters.\n"
     ]
    }
   ],
   "source": [
    "# r-所有字符按原本的样子进行解析\n",
    "s = r'This\\has\\no\\special\\characters.'\n",
    "print(s)"
   ]
  },
  {
   "cell_type": "markdown",
   "id": "db1da953",
   "metadata": {},
   "source": [
    "# 特殊用法\n",
    "## 分解为list"
   ]
  },
  {
   "cell_type": "code",
   "execution_count": 10,
   "id": "115f7c3f",
   "metadata": {},
   "outputs": [
    {
     "name": "stdout",
     "output_type": "stream",
     "text": [
      "['o', 'n', 'e', ' ', 'w', 'a', 'y', ' ', 'o', 'f', ' ', 'w', 'r', 'i', 't', 'i', 'n', 'g', ' ', 'a', ' ', 's', 't', 'r', 'i', 'n', 'g', '.']\n",
      "['p', 'y', 't', 'h', 'o', 'n']\n"
     ]
    }
   ],
   "source": [
    "a = 'one way of writing a string.'\n",
    "b = 'python'\n",
    "\n",
    "print(list(a))\n",
    "print(list(b))"
   ]
  },
  {
   "cell_type": "markdown",
   "id": "03eafc84",
   "metadata": {},
   "source": [
    "## 格式化字符串"
   ]
  },
  {
   "cell_type": "code",
   "execution_count": 1,
   "id": "0bc535e4",
   "metadata": {},
   "outputs": [],
   "source": [
    "name = 'Bob'\n",
    "big_num = 12_3456_7890"
   ]
  },
  {
   "cell_type": "markdown",
   "id": "8f0b3df3",
   "metadata": {},
   "source": [
    "### 操作符%"
   ]
  },
  {
   "cell_type": "code",
   "execution_count": 20,
   "id": "bb2450c6",
   "metadata": {},
   "outputs": [
    {
     "name": "stdout",
     "output_type": "stream",
     "text": [
      "Hello, Bob\n",
      "1234567890\n",
      "Hey, Bob, there is a 1234567890 error!\n"
     ]
    }
   ],
   "source": [
    "a = 'Hello, %s' % name      # 单个替换\n",
    "b = '%s' % big_num\n",
    "c = 'Hey, %(name)s, there is a %(big_num)s error!'% {'name':name, 'big_num': big_num}     # 多个替换\n",
    "\n",
    "print(a)\n",
    "print(b)\n",
    "print(c)"
   ]
  },
  {
   "cell_type": "markdown",
   "id": "ea2ea5d7",
   "metadata": {},
   "source": [
    "### str.format( )"
   ]
  },
  {
   "cell_type": "code",
   "execution_count": 2,
   "id": "63e06e93",
   "metadata": {},
   "outputs": [
    {
     "name": "stdout",
     "output_type": "stream",
     "text": [
      "Hey, Bob\n",
      "Hey, Bob, there is a 1234567890 error!\n",
      "Hey, Bob, there is a 1234567890 error!\n",
      "Hey, Bob, there is a 1234567890 error!\n"
     ]
    }
   ],
   "source": [
    "a = 'Hey, {}'.format(name)\n",
    "b = 'Hey, {}, there is a {} error!'.format(name, big_num)     #替换字段直接用大括号\n",
    "c = 'Hey, {0}, there is a {1} error!'.format(name, big_num)   #通过大括号+索引\n",
    "d = 'Hey, {name}, there is a {big_num} error!'.format(name=name, big_num=big_num) # 使用键值对的方式\n",
    "\n",
    "txt_list = [a, b, c, d]\n",
    "for txt in txt_list:\n",
    "    print(txt)"
   ]
  },
  {
   "cell_type": "markdown",
   "id": "17a96dd9",
   "metadata": {},
   "source": [
    "### f-strings\n"
   ]
  },
  {
   "cell_type": "code",
   "execution_count": 6,
   "id": "5f733648",
   "metadata": {},
   "outputs": [
    {
     "name": "stdout",
     "output_type": "stream",
     "text": [
      "Hey, Bob, there is a 1234567890 error!\n",
      "Five plus ten is 15 and not 60!\n",
      "Five plus ten is 15 and not 60!\n"
     ]
    }
   ],
   "source": [
    "name = 'Bob'\n",
    "big_num = 12_3456_7890\n",
    "a = 5\n",
    "b = 10\n",
    "a_sum = lambda x, y: x + y\n",
    "\n",
    "c = f'Hey, {name}, there is a {big_num} error!'\n",
    "d = f'Five plus ten is {a+b} and not {2*a+a*b}!'          # 可以写算术表达式\n",
    "e = f'Five plus ten is {a_sum(a, b)} and not {2*a+a*b}!'    # 调用函数\n",
    "\n",
    "txt_list = [c, d, e]\n",
    "for txt in txt_list:\n",
    "    print(txt)"
   ]
  },
  {
   "cell_type": "markdown",
   "id": "14c29d2b",
   "metadata": {},
   "source": [
    "# 外部输入：input( )\n"
   ]
  },
  {
   "cell_type": "code",
   "execution_count": 11,
   "id": "2ff13825",
   "metadata": {},
   "outputs": [
    {
     "name": "stdout",
     "output_type": "stream",
     "text": [
      "请铲屎官输入宠物的名字：2\n",
      "输入内容：2\n",
      "请输入您的选择：3\n",
      "2\n",
      "3.0\n"
     ]
    }
   ],
   "source": [
    "input('请铲屎官输入宠物的名字：')\n",
    "name = input('输入内容：')                     # 输入赋值\n",
    "choice = float(input('请输入您的选择：'))       # 将输入值强制转换为整数，并赋值给变量choice\n",
    "\n",
    "print(name)\n",
    "print(choice)"
   ]
  },
  {
   "cell_type": "code",
   "execution_count": null,
   "id": "1feb47b0",
   "metadata": {},
   "outputs": [],
   "source": []
  }
 ],
 "metadata": {
  "kernelspec": {
   "display_name": "Python 3 (ipykernel)",
   "language": "python",
   "name": "python3"
  },
  "language_info": {
   "codemirror_mode": {
    "name": "ipython",
    "version": 3
   },
   "file_extension": ".py",
   "mimetype": "text/x-python",
   "name": "python",
   "nbconvert_exporter": "python",
   "pygments_lexer": "ipython3",
   "version": "3.11.5"
  },
  "toc": {
   "base_numbering": 1,
   "nav_menu": {},
   "number_sections": true,
   "sideBar": true,
   "skip_h1_title": false,
   "title_cell": "Table of Contents",
   "title_sidebar": "Contents",
   "toc_cell": false,
   "toc_position": {},
   "toc_section_display": true,
   "toc_window_display": true
  }
 },
 "nbformat": 4,
 "nbformat_minor": 5
}
