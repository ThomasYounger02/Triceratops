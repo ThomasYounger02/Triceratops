{
 "cells": [
  {
   "cell_type": "markdown",
   "id": "dfcbeaac",
   "metadata": {},
   "source": [
    "# 列表\n",
    "一个列表需要用中括号把里面的各种数据框起来，里面的每一个数据叫作“元素”。每个元素之间都要用英文逗号隔开。"
   ]
  },
  {
   "cell_type": "code",
   "execution_count": 2,
   "id": "4683be60",
   "metadata": {},
   "outputs": [
    {
     "data": {
      "text/plain": [
       "'Tom'"
      ]
     },
     "execution_count": 2,
     "metadata": {},
     "output_type": "execute_result"
    }
   ],
   "source": [
    "students = ['Tom', 'Jerry', 'Bill', 'David', 'Green', 'Rose', 'Joe', 'Tony']\n",
    "students[0]"
   ]
  },
  {
   "cell_type": "markdown",
   "id": "365cf307",
   "metadata": {},
   "source": [
    "## 切片\n",
    "偏移量取到的是列表中的元素，而切片则是截取了列表的某部分，所以**切片还是列表**。"
   ]
  },
  {
   "cell_type": "code",
   "execution_count": 4,
   "id": "6725b71d",
   "metadata": {},
   "outputs": [
    {
     "name": "stdout",
     "output_type": "stream",
     "text": [
      "['Tom', 'Jerry', 'Bill', 'David', 'Green', 'Rose', 'Joe', 'Tony']\n",
      "['Bill', 'David', 'Green', 'Rose', 'Joe', 'Tony']\n",
      "['Tom', 'Jerry']\n",
      "['Jerry', 'Bill']\n",
      "['Bill', 'David']\n"
     ]
    }
   ],
   "source": [
    "print(students[:])    # 左右空，取到头\n",
    "print(students[2:])\n",
    "print(students[:2])\n",
    "print(students[1:3])  # 左取右不取\n",
    "print(students[2:4])"
   ]
  },
  {
   "cell_type": "markdown",
   "id": "629352b1",
   "metadata": {},
   "source": [
    "## 编辑\n",
    "### 增加元素： append\n",
    "append函数并不生成一个新列表，而是让列表末尾新增一个元素。而且，列表长度可变，理论容量无限，所以支持任意的嵌套。"
   ]
  },
  {
   "cell_type": "code",
   "execution_count": 5,
   "id": "e2ee218d",
   "metadata": {},
   "outputs": [
    {
     "name": "stdout",
     "output_type": "stream",
     "text": [
      "[1, 2, 3]\n",
      "[1, 2, 3, [4, 5]]\n"
     ]
    }
   ],
   "source": [
    "num_list = [1,2]\n",
    "\n",
    "num_list.append(3)\n",
    "print(num_list)\n",
    "# list3.append(4,5)    #不能用此种方法添加多个元素\n",
    "\n",
    "num_list.append([4,5])\n",
    "print(num_list)"
   ]
  },
  {
   "cell_type": "markdown",
   "id": "1262ca3c",
   "metadata": {},
   "source": [
    "### 删除元素：del"
   ]
  },
  {
   "cell_type": "code",
   "execution_count": 8,
   "id": "ba60812a",
   "metadata": {},
   "outputs": [
    {
     "name": "stdout",
     "output_type": "stream",
     "text": [
      "['Tom', 'Jerry', 'Bill', 'David', 'Green', 'Rose', 'Joe', 'Tony']\n",
      "['Tom', 'Bill', 'David', 'Green', 'Rose', 'Joe', 'Tony']\n",
      "['Tom', 'Jerry', 'Bill', 'David', 'Green', 'Rose', 'Joe', 'Tony']\n",
      "['David', 'Green', 'Rose', 'Joe', 'Tony']\n"
     ]
    }
   ],
   "source": [
    "students = ['Tom', 'Jerry', 'Bill', 'David', 'Green', 'Rose', 'Joe', 'Tony']\n",
    "print(students)\n",
    "del students[1]    #根据索引删除元素\n",
    "print(students)\n",
    "\n",
    "students = ['Tom', 'Jerry', 'Bill', 'David', 'Green', 'Rose', 'Joe', 'Tony']\n",
    "print(students)\n",
    "del students[:3]  # 通过切片删除多个元素\n",
    "print(students)"
   ]
  },
  {
   "cell_type": "markdown",
   "id": "49c3d4cc",
   "metadata": {},
   "source": [
    "### 修改元素：重新赋值"
   ]
  },
  {
   "cell_type": "code",
   "execution_count": 9,
   "id": "5d8e129c",
   "metadata": {},
   "outputs": [
    {
     "name": "stdout",
     "output_type": "stream",
     "text": [
      "['新小明', '新小红', '新小刚', '小美']\n"
     ]
    }
   ],
   "source": [
    "students = ['小明','小红','小刚','小美']\n",
    "students[0] = '新小明'                 # 修改第一个元素的值\n",
    "students[1:3] = ['新小红', '新小刚']    # 修改切片对应的值\n",
    "\n",
    "print(students)"
   ]
  },
  {
   "cell_type": "markdown",
   "id": "551a33c9",
   "metadata": {},
   "source": [
    "# 字典\n",
    "字典的元素是由一个个键值对构成的，用英文冒号连接。   \n",
    "这样唯一的键和对应的值形成的组合，我们就叫做【键值对】。"
   ]
  },
  {
   "cell_type": "code",
   "execution_count": 10,
   "id": "cd9a8186",
   "metadata": {},
   "outputs": [
    {
     "data": {
      "text/plain": [
       "95"
      ]
     },
     "execution_count": 10,
     "metadata": {},
     "output_type": "execute_result"
    }
   ],
   "source": [
    "scores = {'小明':95,'小红':90,'小刚':90}\n",
    "scores['小明']"
   ]
  },
  {
   "cell_type": "markdown",
   "id": "225e1e10",
   "metadata": {},
   "source": [
    "## 编辑\n",
    "### 增加/删除元素"
   ]
  },
  {
   "cell_type": "code",
   "execution_count": 11,
   "id": "69be746b",
   "metadata": {},
   "outputs": [
    {
     "name": "stdout",
     "output_type": "stream",
     "text": [
      "{'王力宏': '心中的日月'}\n",
      "{'王力宏': '心中的日月', '周杰伦': '十一月的萧邦'}\n",
      "十一月的萧邦\n"
     ]
    }
   ],
   "source": [
    "album = {'周杰伦':'七里香','王力宏':'心中的日月'}\n",
    "del album['周杰伦']               # 删除字典的键值对\n",
    "print(album)\n",
    "\n",
    "album['周杰伦'] = '十一月的萧邦'    #修改/增加键值对\n",
    "print(album)\n",
    "print(album['周杰伦'])"
   ]
  },
  {
   "cell_type": "code",
   "execution_count": null,
   "id": "7dcd9497",
   "metadata": {},
   "outputs": [],
   "source": []
  },
  {
   "cell_type": "markdown",
   "id": "cd711ec1",
   "metadata": {},
   "source": [
    "# 一些总结"
   ]
  },
  {
   "cell_type": "code",
   "execution_count": 13,
   "id": "da297e6d",
   "metadata": {},
   "outputs": [
    {
     "name": "stdout",
     "output_type": "stream",
     "text": [
      "False\n",
      "True\n"
     ]
    }
   ],
   "source": [
    "# 列表和字典的异同\n",
    "# 列表中的元素是有自己明确的“位置”的，所以即使看似相同的元素，只要在列表所处的位置不同，它们就是两个不同的列表。\n",
    "\n",
    "students1 = ['小明','小红','小刚']\n",
    "students2 = ['小刚','小明','小红']\n",
    "print(students1 == students2)    # False\n",
    "\n",
    "scores1 = {'小明':95,'小红':90,'小刚':100}\n",
    "scores2 = {'小刚':100,'小明':95,'小红':90}\n",
    "print(scores1 == scores2)    # True"
   ]
  },
  {
   "cell_type": "code",
   "execution_count": null,
   "id": "6cd31a7d",
   "metadata": {},
   "outputs": [],
   "source": []
  },
  {
   "cell_type": "code",
   "execution_count": null,
   "id": "bc60cf34",
   "metadata": {},
   "outputs": [],
   "source": []
  }
 ],
 "metadata": {
  "kernelspec": {
   "display_name": "Python 3 (ipykernel)",
   "language": "python",
   "name": "python3"
  },
  "language_info": {
   "codemirror_mode": {
    "name": "ipython",
    "version": 3
   },
   "file_extension": ".py",
   "mimetype": "text/x-python",
   "name": "python",
   "nbconvert_exporter": "python",
   "pygments_lexer": "ipython3",
   "version": "3.11.5"
  },
  "toc": {
   "base_numbering": 1,
   "nav_menu": {},
   "number_sections": true,
   "sideBar": true,
   "skip_h1_title": false,
   "title_cell": "Table of Contents",
   "title_sidebar": "Contents",
   "toc_cell": false,
   "toc_position": {},
   "toc_section_display": true,
   "toc_window_display": false
  }
 },
 "nbformat": 4,
 "nbformat_minor": 5
}
