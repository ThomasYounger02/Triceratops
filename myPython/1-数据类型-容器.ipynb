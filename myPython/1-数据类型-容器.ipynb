{
 "cells": [
  {
   "cell_type": "code",
   "execution_count": 3,
   "id": "11fb81d3",
   "metadata": {},
   "outputs": [],
   "source": [
    "import pandas as pd\n",
    "import numpy as np"
   ]
  },
  {
   "cell_type": "markdown",
   "id": "63a839cb",
   "metadata": {},
   "source": [
    "# 计算机利用数据的方式"
   ]
  },
  {
   "cell_type": "code",
   "execution_count": 1,
   "id": "de50668a",
   "metadata": {},
   "outputs": [
    {
     "name": "stdout",
     "output_type": "stream",
     "text": [
      "3\n",
      "欢迎来到第4关\n",
      "9\n",
      "欢迎来到第4关\n",
      "请输入你的年龄：3\n",
      "小小的年纪还不懂什么是爱\n"
     ]
    }
   ],
   "source": [
    "#第一种：直接使用数据，比如print()语句，可以直接把我们提供的数据打印出来，通常所见即所得。\n",
    "print(3)\n",
    "print('欢迎来到第4关')\n",
    "\n",
    "#第二种：计算和加工数据，让我们看个例子：\n",
    "print(3+2*3)\n",
    "print('欢迎来到'+'第4关')\n",
    "\n",
    "#第三种：用数据做判断\n",
    "a = int(input('请输入你的年龄：'))\n",
    "\n",
    "if a<0:\n",
    "    print('你还在娘胎里呢。')\n",
    "elif a == 0:\n",
    "    print('欢迎来到这个世界。')\n",
    "elif a < 18:\n",
    "    print('小小的年纪还不懂什么是爱')\n",
    "else:\n",
    "    print('你已经是个成熟的大人了，要学会照顾自己。')"
   ]
  },
  {
   "cell_type": "markdown",
   "id": "dfcbeaac",
   "metadata": {},
   "source": [
    "# 列表\n",
    "一个列表需要用中括号把里面的各种数据框起来，里面的每一个数据叫作“元素”。每个元素之间都要用英文逗号隔开。"
   ]
  },
  {
   "cell_type": "code",
   "execution_count": 2,
   "id": "4683be60",
   "metadata": {},
   "outputs": [
    {
     "data": {
      "text/plain": [
       "'Tom'"
      ]
     },
     "execution_count": 2,
     "metadata": {},
     "output_type": "execute_result"
    }
   ],
   "source": [
    "students = ['Tom', 'Jerry', 'Bill', 'David', 'Green', 'Rose', 'Joe', 'Tony']\n",
    "students[0]"
   ]
  },
  {
   "cell_type": "markdown",
   "id": "365cf307",
   "metadata": {},
   "source": [
    "## 切片\n",
    "偏移量取到的是列表中的元素，而切片则是截取了列表的某部分，所以**切片还是列表**。"
   ]
  },
  {
   "cell_type": "code",
   "execution_count": 4,
   "id": "6725b71d",
   "metadata": {},
   "outputs": [
    {
     "name": "stdout",
     "output_type": "stream",
     "text": [
      "['Tom', 'Jerry', 'Bill', 'David', 'Green', 'Rose', 'Joe', 'Tony']\n",
      "['Bill', 'David', 'Green', 'Rose', 'Joe', 'Tony']\n",
      "['Tom', 'Jerry']\n",
      "['Jerry', 'Bill']\n",
      "['Bill', 'David']\n"
     ]
    }
   ],
   "source": [
    "print(students[:])    # 左右空，取到头\n",
    "print(students[2:])\n",
    "print(students[:2])\n",
    "print(students[1:3])  # 左取右不取\n",
    "print(students[2:4])"
   ]
  },
  {
   "cell_type": "markdown",
   "id": "629352b1",
   "metadata": {},
   "source": [
    "## 编辑\n",
    "### 增加元素： append\n",
    "append函数并不生成一个新列表，而是让列表末尾新增一个元素。而且，列表长度可变，理论容量无限，所以支持任意的嵌套。"
   ]
  },
  {
   "cell_type": "code",
   "execution_count": 5,
   "id": "e2ee218d",
   "metadata": {},
   "outputs": [
    {
     "name": "stdout",
     "output_type": "stream",
     "text": [
      "[1, 2, 3]\n",
      "[1, 2, 3, [4, 5]]\n"
     ]
    }
   ],
   "source": [
    "num_list = [1,2]\n",
    "\n",
    "num_list.append(3)\n",
    "print(num_list)\n",
    "# list3.append(4,5)    #不能用此种方法添加多个元素\n",
    "# append函数并不生成一个新列表，而是让列表末尾新增一个元素。而且，列表长度可变，理论容量无限，所以\n",
    "# 支持任意的嵌套。\n",
    "\n",
    "num_list.append([4,5])\n",
    "print(num_list)"
   ]
  },
  {
   "cell_type": "markdown",
   "id": "1262ca3c",
   "metadata": {},
   "source": [
    "### 删除元素：del"
   ]
  },
  {
   "cell_type": "code",
   "execution_count": 8,
   "id": "ba60812a",
   "metadata": {},
   "outputs": [
    {
     "name": "stdout",
     "output_type": "stream",
     "text": [
      "['Tom', 'Jerry', 'Bill', 'David', 'Green', 'Rose', 'Joe', 'Tony']\n",
      "['Tom', 'Bill', 'David', 'Green', 'Rose', 'Joe', 'Tony']\n",
      "['Tom', 'Jerry', 'Bill', 'David', 'Green', 'Rose', 'Joe', 'Tony']\n",
      "['David', 'Green', 'Rose', 'Joe', 'Tony']\n"
     ]
    }
   ],
   "source": [
    "students = ['Tom', 'Jerry', 'Bill', 'David', 'Green', 'Rose', 'Joe', 'Tony']\n",
    "print(students)\n",
    "del students[1]    #根据索引删除元素\n",
    "print(students)\n",
    "\n",
    "students = ['Tom', 'Jerry', 'Bill', 'David', 'Green', 'Rose', 'Joe', 'Tony']\n",
    "print(students)\n",
    "del students[:3]  # 通过切片删除多个元素\n",
    "print(students)"
   ]
  },
  {
   "cell_type": "markdown",
   "id": "49c3d4cc",
   "metadata": {},
   "source": [
    "### 修改元素：重新赋值"
   ]
  },
  {
   "cell_type": "code",
   "execution_count": 9,
   "id": "5d8e129c",
   "metadata": {},
   "outputs": [
    {
     "name": "stdout",
     "output_type": "stream",
     "text": [
      "['新小明', '新小红', '新小刚', '小美']\n"
     ]
    }
   ],
   "source": [
    "students = ['小明','小红','小刚','小美']\n",
    "students[0] = '新小明'                 # 修改第一个元素的值\n",
    "students[1:3] = ['新小红', '新小刚']    # 修改切片对应的值\n",
    "\n",
    "print(students)"
   ]
  },
  {
   "cell_type": "markdown",
   "id": "551a33c9",
   "metadata": {},
   "source": [
    "# 字典\n",
    "字典的元素是由一个个键值对构成的，用英文冒号连接。   \n",
    "这样唯一的键和对应的值形成的组合，我们就叫做【键值对】。   \n",
    "列表有序，要用偏移量定位；字典无序，便通过唯一的键来取值。"
   ]
  },
  {
   "cell_type": "code",
   "execution_count": 10,
   "id": "cd9a8186",
   "metadata": {},
   "outputs": [
    {
     "data": {
      "text/plain": [
       "95"
      ]
     },
     "execution_count": 10,
     "metadata": {},
     "output_type": "execute_result"
    }
   ],
   "source": [
    "scores = {'小明':95,'小红':90,'小刚':90}\n",
    "scores['小明']"
   ]
  },
  {
   "cell_type": "markdown",
   "id": "79d96229",
   "metadata": {},
   "source": [
    "## 创建"
   ]
  },
  {
   "cell_type": "code",
   "execution_count": 4,
   "id": "52408261",
   "metadata": {},
   "outputs": [
    {
     "name": "stdout",
     "output_type": "stream",
     "text": [
      "{'name': 'cold'}\n",
      "{'name': None, 'blog': None}\n",
      "{'name': None, 'blog': None}\n",
      "{'name': 'linux', 'blog': 'linux'}\n"
     ]
    }
   ],
   "source": [
    "info = {}          # 方式1:使用花括号\n",
    "info = dict()      # 方式2:使用函数dict\n",
    "\n",
    "# 初始化字典\n",
    "info = {\"name\": \"cold\"}\n",
    "info = dict(name=\"cold\")       # 更优雅\n",
    "\n",
    "print(info)\n",
    "\n",
    "# 用字典的fromkeys方法可以从列表中获取元素作为键并用None或fromkeys方法的第二个参数初始化.\n",
    "info = {}.fromkeys([\"name\", \"blog\"])\n",
    "print(info)\n",
    "\n",
    "info = dict().fromkeys([\"name\", \"blog\"])\n",
    "print(info)\n",
    "\n",
    "info = dict().fromkeys([\"name\", \"blog\"], \"linux\")\n",
    "print(info)"
   ]
  },
  {
   "cell_type": "markdown",
   "id": "225e1e10",
   "metadata": {},
   "source": [
    "## 编辑\n",
    "### 增加/删除元素"
   ]
  },
  {
   "cell_type": "code",
   "execution_count": 11,
   "id": "69be746b",
   "metadata": {},
   "outputs": [
    {
     "name": "stdout",
     "output_type": "stream",
     "text": [
      "{'王力宏': '心中的日月'}\n",
      "{'王力宏': '心中的日月', '周杰伦': '十一月的萧邦'}\n",
      "十一月的萧邦\n",
      "{'blog': 'linux'}\n",
      "cold\n"
     ]
    }
   ],
   "source": [
    "album = {'周杰伦':'七里香','王力宏':'心中的日月'}\n",
    "del album['周杰伦']               # 删除字典的键值对\n",
    "print(album)\n",
    "\n",
    "album['周杰伦'] = '十一月的萧邦'     #修改/增加键值对\n",
    "print(album)\n",
    "print(album['周杰伦'])\n",
    "\n",
    "# 使用pop删除\n",
    "info = dict(name=\"cold\", blog=\"linux\")\n",
    "a = info.pop(\"name\")      # 使用字典的pop方法来取出一个键值,并删除\n",
    "print(info)\n",
    "print(a)"
   ]
  },
  {
   "cell_type": "markdown",
   "id": "56f7167b",
   "metadata": {},
   "source": [
    "### 更新/新增"
   ]
  },
  {
   "cell_type": "code",
   "execution_count": 9,
   "id": "fda4135f",
   "metadata": {},
   "outputs": [
    {
     "name": "stdout",
     "output_type": "stream",
     "text": [
      "{'name': 'cold', 'blog': 'linux'}\n",
      "{'name': 'cold night', 'blog': 'linux', 'blogname': 'linuxzen'}\n",
      "{'name': 'cold', 'blog': 'linuxlinux', 'blogname': 'linuxzen'}\n"
     ]
    }
   ],
   "source": [
    "info = dict(name='cold', blog='linux')\n",
    "print(info)\n",
    "\n",
    "info.update({'name':'cold night', 'blogname':'linuxzen'}) \n",
    "print(info)\n",
    "\n",
    "info.update(name=\"cold\", blog='linuxlinux')            # 更优雅，更新或者新增\n",
    "print(info)"
   ]
  },
  {
   "cell_type": "markdown",
   "id": "387dae00",
   "metadata": {},
   "source": [
    "## 获取"
   ]
  },
  {
   "cell_type": "code",
   "execution_count": 8,
   "id": "785cc392",
   "metadata": {},
   "outputs": [
    {
     "name": "stdout",
     "output_type": "stream",
     "text": [
      "cold\n",
      "cold\n",
      "None\n",
      "blog\n"
     ]
    }
   ],
   "source": [
    "info = {\"name\": \"cold\", \"blog\": \"linux\"}\n",
    "\n",
    "a = info[\"name\"]\n",
    "b = info.get(\"name\")\n",
    "c = info.get(\"blogname\")          # 找不到键，返回None\n",
    "d = info.get(\"nameblog\", \"blog\")  # 依次获取，直到能找到对应的键。\n",
    "\n",
    "print(a)\n",
    "print(b)\n",
    "print(c)\n",
    "print(d)"
   ]
  },
  {
   "cell_type": "markdown",
   "id": "8f837643",
   "metadata": {},
   "source": [
    "### 获取所有key"
   ]
  },
  {
   "cell_type": "code",
   "execution_count": 13,
   "id": "af187444",
   "metadata": {},
   "outputs": [
    {
     "name": "stdout",
     "output_type": "stream",
     "text": [
      "name\n",
      "blog\n"
     ]
    }
   ],
   "source": [
    "info = dict(name=\"cold\", blog=\"linux\")\n",
    "\n",
    "for key in info.keys():\n",
    "    print(key)"
   ]
  },
  {
   "cell_type": "markdown",
   "id": "62f394a9",
   "metadata": {},
   "source": [
    "### 获取key, value并循环"
   ]
  },
  {
   "cell_type": "code",
   "execution_count": 14,
   "id": "3a2c3739",
   "metadata": {},
   "outputs": [
    {
     "name": "stdout",
     "output_type": "stream",
     "text": [
      "name\n",
      "blog\n",
      "cold\n",
      "linux\n",
      "name : cold\n",
      "blog : linux\n"
     ]
    }
   ],
   "source": [
    "#key\n",
    "info = {\"name\": \"cold\", \"blog\": \"linux\"}\n",
    "for key in info.keys():\n",
    "    print(key)\n",
    "\n",
    "#value\n",
    "info = dict(name=\"cold\", blog=\"linux\")\n",
    "for value in info.values():\n",
    "    print(value)\n",
    "\n",
    "#key和value\n",
    "info = dict(name=\"cold\", blog=\"linux\")\n",
    "for key, value in info.items():\n",
    "    print(key, ':', value)"
   ]
  },
  {
   "cell_type": "markdown",
   "id": "acf39401",
   "metadata": {},
   "source": [
    "## 场景\n",
    "### 获取最大值对应的键"
   ]
  },
  {
   "cell_type": "code",
   "execution_count": 5,
   "id": "c2b3fe59",
   "metadata": {},
   "outputs": [
    {
     "data": {
      "text/plain": [
       "{'甲': 1,\n",
       " '乙': 2,\n",
       " '丙': 3,\n",
       " '丁': 4,\n",
       " '戊': 5,\n",
       " '己': 6,\n",
       " '庚': 7,\n",
       " '辛': 8,\n",
       " '壬': 9,\n",
       " '癸': 10}"
      ]
     },
     "execution_count": 5,
     "metadata": {},
     "output_type": "execute_result"
    }
   ],
   "source": [
    "tg = \"甲、乙、丙、丁、戊、己、庚、辛、壬、癸\"\n",
    "keys = list(tg.replace(\"、\", \"\"))\n",
    "nums = np.arange(1, 11)\n",
    "\n",
    "info = dict()\n",
    "for key, num in zip(keys, nums):\n",
    "    info[key] = num\n",
    "\n",
    "info"
   ]
  },
  {
   "cell_type": "code",
   "execution_count": 13,
   "id": "66d9e536",
   "metadata": {},
   "outputs": [
    {
     "name": "stdout",
     "output_type": "stream",
     "text": [
      "癸\n",
      "癸\n",
      "(10, '癸')\n",
      "癸\n"
     ]
    }
   ],
   "source": [
    "# 方法1:lambda\n",
    "a = max(info, key=lambda k: info[k])\n",
    "print(a)\n",
    "\n",
    "# 方法2:get\n",
    "a = max(info, key=info.get)\n",
    "print(a)\n",
    "\n",
    "# 方法3:zip\n",
    "a = max(zip(info.values(), info.keys()))\n",
    "print(a)\n",
    "print(a[1])"
   ]
  },
  {
   "cell_type": "markdown",
   "id": "b969f5c9",
   "metadata": {},
   "source": [
    "# 元组"
   ]
  },
  {
   "cell_type": "code",
   "execution_count": 2,
   "id": "74a70737",
   "metadata": {},
   "outputs": [
    {
     "name": "stdout",
     "output_type": "stream",
     "text": [
      "(1, 2)\n"
     ]
    }
   ],
   "source": [
    "#元组（tuple）。 可以看到：元组和表格很相似，不过，它是用小括号来包的。\n",
    "#元组和列表都是序列,提取的方式也是偏移量，如 tuple1[1]、tuple1[1:]。另外，元组也支持任意的嵌套。\n",
    "\n",
    "a = (1, 2)\n",
    "\n",
    "print(a)"
   ]
  },
  {
   "cell_type": "markdown",
   "id": "cd711ec1",
   "metadata": {},
   "source": [
    "# 一些总结"
   ]
  },
  {
   "cell_type": "code",
   "execution_count": 13,
   "id": "da297e6d",
   "metadata": {},
   "outputs": [
    {
     "name": "stdout",
     "output_type": "stream",
     "text": [
      "False\n",
      "True\n"
     ]
    }
   ],
   "source": [
    "# 列表和字典的异同\n",
    "# 列表中的元素是有自己明确的“位置”的，所以即使看似相同的元素，只要在列表所处的位置不同，它们就是两个不同的列表。\n",
    "\n",
    "students1 = ['小明','小红','小刚']\n",
    "students2 = ['小刚','小明','小红']\n",
    "print(students1 == students2)    # False\n",
    "\n",
    "scores1 = {'小明':95,'小红':90,'小刚':100}\n",
    "scores2 = {'小刚':100,'小明':95,'小红':90}\n",
    "print(scores1 == scores2)    # True"
   ]
  },
  {
   "cell_type": "code",
   "execution_count": null,
   "id": "6cd31a7d",
   "metadata": {},
   "outputs": [],
   "source": []
  },
  {
   "cell_type": "code",
   "execution_count": null,
   "id": "bc60cf34",
   "metadata": {},
   "outputs": [],
   "source": []
  }
 ],
 "metadata": {
  "kernelspec": {
   "display_name": "Python 3 (ipykernel)",
   "language": "python",
   "name": "python3"
  },
  "language_info": {
   "codemirror_mode": {
    "name": "ipython",
    "version": 3
   },
   "file_extension": ".py",
   "mimetype": "text/x-python",
   "name": "python",
   "nbconvert_exporter": "python",
   "pygments_lexer": "ipython3",
   "version": "3.11.5"
  },
  "toc": {
   "base_numbering": 1,
   "nav_menu": {},
   "number_sections": true,
   "sideBar": true,
   "skip_h1_title": false,
   "title_cell": "Table of Contents",
   "title_sidebar": "Contents",
   "toc_cell": false,
   "toc_position": {},
   "toc_section_display": true,
   "toc_window_display": true
  }
 },
 "nbformat": 4,
 "nbformat_minor": 5
}
