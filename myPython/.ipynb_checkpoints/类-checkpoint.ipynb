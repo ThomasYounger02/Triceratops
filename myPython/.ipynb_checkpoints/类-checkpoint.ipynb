{
 "cells": [
  {
   "cell_type": "markdown",
   "id": "38699c6d",
   "metadata": {},
   "source": [
    "# 类\n",
    "**面向对象编程(Object Oriented Programming)**\n",
    ">面向对象编程是一种以对象为中心的编程思想，它在软件设计、数据库设计、网络结构设计、人工智能算法等领域有着非常广泛的应用。\n",
    "\n",
    "\n",
    "整数、字符串、浮点数等，不同的数据类型就属于不同的类。   \n",
    "准确来说，它们的全名是整数类、字符串类、浮点数类。"
   ]
  },
  {
   "cell_type": "code",
   "execution_count": 1,
   "id": "36ee2b8c",
   "metadata": {},
   "outputs": [
    {
     "name": "stdout",
     "output_type": "stream",
     "text": [
      "<class 'str'>\n",
      "<class 'int'>\n",
      "<class 'list'>\n"
     ]
    }
   ],
   "source": [
    "print(type('1'))   # '1'属于字符串类'str'\n",
    "print(type(1))     # 1属于整数类'int'\n",
    "print(type([1]))   # [1]属于列表类'list'"
   ]
  },
  {
   "cell_type": "markdown",
   "id": "9af365a7",
   "metadata": {},
   "source": [
    "类之所以为类是因为每一个类之下都包含无数相似的不同个例。\n",
    "\n",
    "编程世界中，每个类也会有众多实际的个例。比如数字1和2，都属于整数类；'第一个栗子'和'第二个栗子'，都属于字符串类。\n",
    "\n",
    "在Python的术语里，我们把类的个例就叫做实例 (instance)，可理解为“实际的例子”。\n",
    "\n",
    "类和实例的关系类似于：群体和个体。群体里的每个个体都有着相同/相似的特征和行为。\n",
    "## 万事万物，皆为对象\n",
    "\n",
    "Python中的对象等于类和实例的集合：即类可以看作是对象，实例也可以看作是对象，比如列表list是个类对象，[1,2]是个实例对象，它们都是对象。"
   ]
  },
  {
   "cell_type": "markdown",
   "id": "a48b7c8c",
   "metadata": {},
   "source": [
    "# 类的创建和调用\n",
    "- 第一种是描述事物是怎样的，有什么特征，比如黑眼睛、黄皮肤。\n",
    "- 第二种是描述事物能做什么，有哪些行为和作用，比如能用筷子吃饭、会讲汉语。\n",
    "\n",
    "在编程世界中，亦是如此。我们会把第一种共同点叫作**属性**（即what），第二种叫作**方法**（即how）。\n",
    "\n",
    "Python里的每个类都有自己独特的属性(attribute)和方法(method)，是这个类的所有实例都共享的。换言之，每个实例都可以调用类中所有的属性和方法。\n",
    "\n",
    "- 三个步骤：创建一个类 —— 类的实例化 —— 用实例调用类的属性和方法。\n",
    "类中创建的属性和方法可以被其所有的实例调用，而且，实例的数目在理论上是无限的。我们可以同时“新建”多个实例。\n",
    "\n",
    "因此，类也被称为“实例工厂”，因其为所有实例提供了一套蓝图（即预先设定好有什么属性和方法）。"
   ]
  },
  {
   "cell_type": "code",
   "execution_count": 4,
   "id": "54bc2737",
   "metadata": {},
   "outputs": [],
   "source": [
    "class Computer:          # 类创建：class+类名+冒号\n",
    "\n",
    "    screen = True        # 属性创建：通过赋值语句，即“是怎样的？”\n",
    "\n",
    "    def start(self):     # 方法创建：def+方法名(self).实例方法-类中定义的带参数self的函数\n",
    "        print('电脑正在开机中……')     # 方法具体过程，即“能做什么？”"
   ]
  },
  {
   "cell_type": "code",
   "execution_count": 5,
   "id": "9b6823cb",
   "metadata": {},
   "outputs": [
    {
     "name": "stdout",
     "output_type": "stream",
     "text": [
      "True\n",
      "电脑正在开机中……\n"
     ]
    }
   ],
   "source": [
    "# 参数self的特殊之处：在定义时不能丢，在调用时要忽略。\n",
    "my_computer = Computer()    # 类的实例化，即在某个类下创建一个实例对象\n",
    "\n",
    "print(my_computer.screen)   # 当实例my_computer一被创建出来，就可以调用类中的属性和方法。一句话概括就是：类有的实例都会有。\n",
    "my_computer.start()"
   ]
  },
  {
   "cell_type": "markdown",
   "id": "0d4b7be6",
   "metadata": {},
   "source": [
    "## self\n",
    "- 参数self的作用：self会接收实例化过程中传入的数据，当实例对象创建后，实例便会代替 self，在代码中运行。\n",
    "- self 是所有实例的替身。\n",
    "- self代表的是类的实例本身，方便数据的流转。需要记住两点：\n",
    "- 只要在类中用def创建方法时，就必须把第一个参数位置留给 self，并在调用方法时忽略它（不用给self传参）。\n",
    "- 当在类的方法内部想调用类属性或其他方法时，就要采用self.属性名或self.方法名的格式。"
   ]
  },
  {
   "cell_type": "code",
   "execution_count": 10,
   "id": "a3c3dccc",
   "metadata": {},
   "outputs": [
    {
     "name": "stdout",
     "output_type": "stream",
     "text": [
      "<class '__main__.Chinese'>\n",
      "black\n",
      "Tom\n",
      "吃饭，选择用筷子。\n",
      "Tom是中国人\n",
      "很高兴遇见你\n",
      "我来自中国\n"
     ]
    }
   ],
   "source": [
    "# self的作用相当于先给实例占了个位置，等到实例创建好就“功成身退，退位让贤”。\n",
    "\n",
    "class Chinese:\n",
    "    # 用赋值语句，创建类的属性\n",
    "    eye = 'black'\n",
    "    name = 'Tom'\n",
    "\n",
    "    # 创建实例方法时，不要漏了 self\n",
    "    def eat(self):                  \n",
    "        print('吃饭，选择用筷子。')\n",
    "    \n",
    "    def say(self):\n",
    "        print(self.name + '是中国人')  # 实例person会像参数一样传给self，替换掉self，self.name等价于person.name\n",
    "    \n",
    "    def greeting(self):\n",
    "        print('很高兴遇见你')\n",
    "\n",
    "    def another_say(self):\n",
    "        self.greeting()              # 调用其他方法\n",
    "        print('我来自中国')\n",
    "\n",
    "person = Chinese()    # 创建Chinese的实例person\n",
    "\n",
    "print(type(person))\n",
    "\n",
    "print(person.eye)\n",
    "print(person.name)\n",
    "person.eat()          # 调用实例方法\n",
    "person.say()\n",
    "person.another_say()"
   ]
  },
  {
   "cell_type": "markdown",
   "id": "2e58cb7a",
   "metadata": {},
   "source": [
    "## 初始化方法\n",
    "定义初始化方法的格式是`def __init__(self)`，是由init加左右两边的【双】下划线组成（ initialize “初始化”的缩写）。\n",
    "\n",
    "初始化方法的作用在于：**当每个实例对象创建时，该方法内的代码无须调用就会自动运行。**   \n",
    "利用这个特性，在编写习惯上，我们会在初始化方法内部完成类属性的创建，为类属性设置初始值，这样类中的其他方法就能直接、随时调用。"
   ]
  },
  {
   "cell_type": "code",
   "execution_count": 15,
   "id": "26af220a",
   "metadata": {},
   "outputs": [
    {
     "name": "stdout",
     "output_type": "stream",
     "text": [
      "很高兴遇见你，我是初始化方法\n",
      "我有1张嘴巴\n",
      "我有2只眼睛\n",
      "吴枫出生在广东\n",
      "吴枫居住在深圳\n"
     ]
    }
   ],
   "source": [
    "class Chinese:\n",
    "\n",
    "    def __init__(self, name, birth, region):         # 创建时，该方法内的代码无须调用就会自动运行\n",
    "        print('很高兴遇见你，我是初始化方法')\n",
    "        # 常数\n",
    "        self.mouth = 1          # self.不能丢\n",
    "        self.eye = 2\n",
    "        # 参数\n",
    "        self.name = name      # self.name = '吴枫' \n",
    "        self.birth = birth    # self.birth = '广东'\n",
    "        self.region = region  # self.region = '深圳'\n",
    "    \n",
    "    def body(self):\n",
    "        print('我有%s张嘴巴' % self.mouth)\n",
    "        print('我有%s只眼睛' % self.eye)\n",
    "\n",
    "    def born(self):\n",
    "        print(self.name + '出生在' + self.birth)\n",
    "\n",
    "    def live(self):\n",
    "        print(self.name + '居住在' + self.region) \n",
    "    \n",
    "    def body(self):\n",
    "        print('我有%s张嘴巴' % self.mouth)\n",
    "        print('我有%s只眼睛' % self.eye)\n",
    "\n",
    "person = Chinese('吴枫','广东','深圳')     # 传入初始化方法的参数\n",
    "\n",
    "person.body()\n",
    "person.born()\n",
    "person.live()"
   ]
  },
  {
   "cell_type": "markdown",
   "id": "8fad6d70",
   "metadata": {},
   "source": [
    "# 面向对象编程\n",
    "与面向对象编程相对应的是面向过程编程。\n",
    "\n",
    "面向过程编程：首先分析出解决问题所需要的步骤（即“第一步做什么，第二步做什么，第三步做什么”），然后用函数实现各个步骤，再依次调用。"
   ]
  },
  {
   "cell_type": "markdown",
   "id": "a5bf76a4",
   "metadata": {},
   "source": [
    "## 面向过程"
   ]
  },
  {
   "cell_type": "code",
   "execution_count": 16,
   "id": "b9aceaaa",
   "metadata": {},
   "outputs": [
    {
     "name": "stdout",
     "output_type": "stream",
     "text": [
      "欢迎使用工作量计算小程序！\n",
      "请选择计算类型：（1-工时计算，2-人力计算）1\n",
      "请输入项目大小：（1代表标准大小，请输入小数）1.2\n",
      "请输入人力数量：（请输入整数）4\n",
      "项目大小为1.2个标准项目，使用4个人力完成，则需要工时数量为：24.0个\n",
      "是否继续计算？继续请输入y，输入其他键将结束程序。\n",
      "感谢使用工作量计算小程序！\n"
     ]
    }
   ],
   "source": [
    "import math\n",
    "\n",
    "# 变量key代表循环运行程序的开关\n",
    "key = 1\n",
    "\n",
    "# 采集信息的函数\n",
    "def myinput():\n",
    "    choice = input('请选择计算类型：（1-工时计算，2-人力计算）')\n",
    "    if choice == '1':\n",
    "        size = float(input('请输入项目大小：（1代表标准大小，请输入小数）'))\n",
    "        number = int(input('请输入人力数量：（请输入整数）'))\n",
    "        time = None\n",
    "        return size,number,time\n",
    "        # 这里返回的数据是一个元组\n",
    "    if choice == '2':\n",
    "        size = float(input('请输入项目大小：（1代表标准大小，请输入小数）'))\n",
    "        number = None\n",
    "        time = float(input('请输入工时数量：（请输入小数）'))\n",
    "        return size,number,time\n",
    "        # 这里返回的是一个元组\n",
    "\n",
    "# 完成计算的函数\n",
    "def estimated(my_input):\n",
    "    # 把元组中的数据取出来\n",
    "    size = my_input[0]\n",
    "    number = my_input[1]\n",
    "    time = my_input[2]\n",
    "    # 人力计算\n",
    "    if (number == None) and (time != None):\n",
    "        number = math.ceil(size * 80 / time)\n",
    "        print('项目大小为%.1f个标准项目，如果需要在%.1f个工时完成，则需要人力数量为：%d人' %(size,time,number)) \n",
    "    # 工时计算\n",
    "    elif (number != None) and (time == None):\n",
    "        time = size * 80 / number\n",
    "        print('项目大小为%.1f个标准项目，使用%d个人力完成，则需要工时数量为：%.1f个' %(size,number,time))  \n",
    "\n",
    "# 询问是否继续的函数\n",
    "def again():\n",
    "    # 声明全局变量key，以便修改该变量\n",
    "    global key\n",
    "    a = input('是否继续计算？继续请输入y，输入其他键将结束程序。')\n",
    "    if a != 'y':\n",
    "        # 如果用户不输入'y'，则把key赋值为0\n",
    "        key = 0  \n",
    "\n",
    "# 主函数\n",
    "def main():\n",
    "    print('欢迎使用工作量计算小程序！')\n",
    "    while key == 1:\n",
    "        my_input = myinput()\n",
    "        estimated(my_input)\n",
    "        again()\n",
    "    print('感谢使用工作量计算小程序！')\n",
    "\n",
    "main()"
   ]
  },
  {
   "cell_type": "markdown",
   "id": "ed904e1b",
   "metadata": {},
   "source": [
    "## 面向对象\n",
    "面向对象编程，会将程序看作是一组对象的集合（还记得对象包括类对象和实例对象吧）。\n",
    "\n",
    "用这种思维设计代码时，考虑的不是程序具体的执行过程（即先做什么后做什么），而是考虑先创建某个类，在类中设定好属性和方法，即是什么，和能做什么。"
   ]
  },
  {
   "cell_type": "code",
   "execution_count": 17,
   "id": "da7eb73a",
   "metadata": {},
   "outputs": [
    {
     "name": "stdout",
     "output_type": "stream",
     "text": [
      "欢迎使用工作量计算小程序！\n",
      "请选择计算类型：（1-工时计算，2-人力计算）1\n",
      "请输入项目大小：（1代表标准大小，请输入小数）1.2\n",
      "请输入人力数量：（请输入整数）4\n",
      "项目大小为1.2个标准项目，使用4个人力完成，则需要工时数量为：24.0个\n",
      "是否继续计算？继续请输入y，输入其他键将结束程序。\n",
      "感谢使用工作量计算小程序！\n"
     ]
    }
   ],
   "source": [
    "class Project:\n",
    "    \n",
    "    def __init__(self):\n",
    "        self.key = 1\n",
    "\n",
    "    def input(self):\n",
    "        choice = input('请选择计算类型：（1-工时计算，2-人力计算）')\n",
    "        if choice == '1':\n",
    "            self.size = float(input('请输入项目大小：（1代表标准大小，请输入小数）'))\n",
    "            self.number = int(input('请输入人力数量：（请输入整数）'))\n",
    "            self.time = None\n",
    "        if choice == '2':\n",
    "            self.size = float(input('请输入项目大小：（1代表标准大小，请输入小数）'))\n",
    "            self.number = None\n",
    "            self.time = float(input('请输入工时数量：（请输入小数）'))\n",
    "\n",
    "    def estimated(self):\n",
    "        # 人力计算\n",
    "        if (self.number == None) and (self.time != None):\n",
    "            self.number = math.ceil(self.size * 80 / self.time)\n",
    "            print('项目大小为%.1f个标准项目，如果需要在%.1f个工时完成，则需要人力数量为：%d人' %(self.size,self.time,self.number)) \n",
    "        # 工时计算\n",
    "        elif (self.number != None) and (self.time == None):\n",
    "            self.time = self.size * 80 / self.number\n",
    "            print('项目大小为%.1f个标准项目，使用%d个人力完成，则需要工时数量为：%.1f个' %(self.size,self.number,self.time))  \n",
    "    \n",
    "    def again(self):\n",
    "        a = input('是否继续计算？继续请输入y，输入其他键将结束程序。')\n",
    "        if a != 'y':\n",
    "            # 如果用户不输入'y'，则把key赋值为0\n",
    "            self.key = 0  \n",
    "\n",
    "    # 主函数\n",
    "    def main(self):\n",
    "        print('欢迎使用工作量计算小程序！')\n",
    "        while self.key == 1:\n",
    "            self.input()\n",
    "            self.estimated()\n",
    "            self.again()\n",
    "        print('感谢使用工作量计算小程序！')\n",
    "\n",
    "project1 = Project()\n",
    "#创建实例\n",
    "project1.main()"
   ]
  },
  {
   "cell_type": "markdown",
   "id": "b81da17d",
   "metadata": {},
   "source": [
    "# 总结\n",
    "用类编写一个直观的好处就是参数的传递会比普通函数要省事很多，也不必考虑全局变量和局部变量，因为类中的方法可以直接调用属性。\n",
    "\n",
    "当项目难度越大，需要的参数越多，用类编写在程序的可拓展性、可读性、维护成本都会更胜一筹。\n",
    "\n",
    "这就是面向对象编程：以对象为中心，将计算机程序看作一组对象的集合。"
   ]
  },
  {
   "cell_type": "markdown",
   "id": "39158a6a",
   "metadata": {},
   "source": [
    "和之前说过的函数类似，面向对象编程实际上也是一种对代码的封装。只不过，类能封装更多的东西，既能包含操作数据的方法，又能包含数据本身。所以，代码的可复用性也更高。\n",
    "\n",
    "对于需要长期更新的代码而言，面向对象编程写成的代码结构会更清晰。所以，代码的可读性、可拓展性和可维护性这几个方面都会优于面向过程编程。\n",
    "\n",
    "面向对象编程，将代码具体的数据和处理方法都封装在类中，让我们不用完全了解过程也可以调用类中的各种方法。\n",
    "\n",
    "这个优势让我们可以在 Python 中轻松地调用各种标准库、第三方库和自定义模块（可以简单理解成别人写好的类），这是Python 之所以这么强大和热门的主要原因之一。"
   ]
  },
  {
   "cell_type": "markdown",
   "id": "88113486",
   "metadata": {},
   "source": [
    "编程世界的创建，是基于人对现实世界的理解。只要你用心留意，就能发现这两个世界之间各种关联，包括之前学过的知识。"
   ]
  },
  {
   "cell_type": "markdown",
   "id": "2777423e",
   "metadata": {},
   "source": [
    "# 类的继承和定制\n",
    "## 继承\n",
    "A类属于B类，自然也拥有了B类的所有属性和方法。这句话在编程里就是：A类继承了B类。   \n",
    "习惯表述是：A类是B类的子类，而B类是A类的父类（或超类）。\n",
    "\n",
    "类的继承，让子类拥有了父类拥有的所有属性和方法。如此，不用白手起家（从头写代码），直接一夜暴富（代码的复用）。\n",
    "\n",
    "不过，只有继承的话，子类只是父类的复制而已。那样，为什么不直接用父类，还要增加一个子类？\n",
    "\n",
    "要回答这个问题，就需要了解另一个重要的概念：**类的定制**。"
   ]
  },
  {
   "cell_type": "code",
   "execution_count": 21,
   "id": "1f7a2b59",
   "metadata": {},
   "outputs": [
    {
     "name": "stdout",
     "output_type": "stream",
     "text": [
      "black\n",
      "吃饭，选择用筷子。\n"
     ]
    }
   ],
   "source": [
    "class Chinese:\n",
    "    eye = 'black'\n",
    "\n",
    "    def eat(self):\n",
    "        print('吃饭，选择用筷子。')\n",
    "\n",
    "class Cantonese(Chinese):    # 继承写法：class 子类名（父类名）\n",
    "    pass # pass表示'跳过'，不执行其他操作\n",
    "\n",
    "yewen = Cantonese()    #实例yewen（叶问）是Cantonese（广东人）这个类创建的实例，却拥有Chinese才有的属性和方法。\n",
    "gonger = Chinese()\n",
    "\n",
    "print(yewen.eye)\n",
    "yewen.eat()"
   ]
  },
  {
   "cell_type": "markdown",
   "id": "3136daa1",
   "metadata": {},
   "source": [
    "### 判断是否属于某个类"
   ]
  },
  {
   "cell_type": "code",
   "execution_count": 22,
   "id": "7a8c59f6",
   "metadata": {},
   "outputs": [
    {
     "name": "stdout",
     "output_type": "stream",
     "text": [
      "True\n",
      "False\n",
      "True\n",
      "\n",
      "验证1：子类创建的实例同时也属于父类\n",
      "True\n",
      "True\n",
      "\n",
      "验证2：父类创建的实例不属于子类。\n",
      "False\n",
      "\n",
      "验证3：类创建的实例都属于根类。\n",
      "True\n",
      "True\n"
     ]
    }
   ],
   "source": [
    "print(isinstance(1,int))          # 判断1是否为整数类的实例\n",
    "print(isinstance(1,str))\n",
    "print(isinstance(1,(int,str)))    # 判断实例是否属于元组里几个类中的一个\n",
    "\n",
    "print('\\n验证1：子类创建的实例同时也属于父类')     # 类的继承中，不仅子类属于父类，子类所创建的实例实际上也同时属于父类。\n",
    "print(isinstance(gonger,Chinese))  \n",
    "print(isinstance(yewen,Chinese))  \n",
    "\n",
    "print('\\n验证2：父类创建的实例不属于子类。')\n",
    "print(isinstance(gonger,Cantonese))\n",
    "\n",
    "print('\\n验证3：类创建的实例都属于根类。')\n",
    "print(isinstance(gonger,object))  \n",
    "print(isinstance(yewen,object))"
   ]
  },
  {
   "cell_type": "markdown",
   "id": "cff038c4",
   "metadata": {},
   "source": [
    "## 类的继承之多层继承"
   ]
  },
  {
   "cell_type": "code",
   "execution_count": 23,
   "id": "1893f902",
   "metadata": {},
   "outputs": [
    {
     "name": "stdout",
     "output_type": "stream",
     "text": [
      "2\n",
      "black\n"
     ]
    }
   ],
   "source": [
    "class Earthman:\n",
    "    eye_number = 2\n",
    "\n",
    "# 中国人继承了地球人\n",
    "class Chinese(Earthman):\n",
    "    eye_color = 'black'\n",
    "\n",
    "# 广东人继承了中国人，同时也继承了地球人。\n",
    "class Cantonese(Chinese):\n",
    "    pass\n",
    "\n",
    "yewen = Cantonese()\n",
    "print(yewen.eye_number)      # 子类创建的实例可调用所有层级父类的属性和方法。\n",
    "print(yewen.eye_color)"
   ]
  },
  {
   "cell_type": "markdown",
   "id": "14468f29",
   "metadata": {},
   "source": [
    "## 类的继承之多重继承\n",
    "一个类，可以同时继承多个类，语法为class A(B,C,D):    \n",
    "和子类更相关的父类会放在更左侧。   \n",
    "**创建的实例在调用属性和方法时，会先在左侧的父类中找，找不到才会去右侧的父类找。（可理解为“就近原则”）**   \n",
    "**就近原则：越靠近子类（即越靠左）的父类，越亲近，越优先考虑。子类调用属性和方法时，会先在靠左的父类里找，找不到才往右找。**"
   ]
  },
  {
   "cell_type": "code",
   "execution_count": 25,
   "id": "98c201cb",
   "metadata": {},
   "outputs": [
    {
     "name": "stdout",
     "output_type": "stream",
     "text": [
      "thin\n",
      "Jiangsu\n",
      "我们吃得清淡。\n"
     ]
    }
   ],
   "source": [
    "class Su:\n",
    "    born_city = 'Jiangsu'\n",
    "    wearing = 'thick'  # 穿得较厚\n",
    "\n",
    "    def diet(self):\n",
    "        print('我们爱吃甜。')\n",
    "\n",
    "class Yue:\n",
    "    settle_city = 'Guangdong'\n",
    "    wearing = 'thin'  # 穿得较薄\n",
    "\n",
    "    def diet(self):\n",
    "        print('我们吃得清淡。')\n",
    "\n",
    "class Yuesu(Yue,Su):     # 一个类，可以同时继承多个类，语法为class A(B,C,D):\n",
    "    pass\n",
    "\n",
    "xiaoming = Yuesu()\n",
    "\n",
    "print(xiaoming.wearing)    # 有限调用Yue的属性\n",
    "print(xiaoming.born_city)  # 直接使用Su的属性\n",
    "xiaoming.diet()            # 有限调用Yue的方法"
   ]
  },
  {
   "cell_type": "markdown",
   "id": "1a65834a",
   "metadata": {},
   "source": [
    "## 多层+多重继承"
   ]
  },
  {
   "cell_type": "code",
   "execution_count": 26,
   "id": "2311a20d",
   "metadata": {},
   "outputs": [
    {
     "name": "stdout",
     "output_type": "stream",
     "text": [
      "C0\n",
      "1\n"
     ]
    }
   ],
   "source": [
    "class C0:\n",
    "    name = 'C0'\n",
    "\n",
    "class C2(C0):\n",
    "    num = 2\n",
    "\n",
    "class C1:\n",
    "    num = 1\n",
    "\n",
    "class C3:\n",
    "    name = 'C3'\n",
    "\n",
    "class C4(C1,C2,C3):\n",
    "    pass\n",
    "\n",
    "ins = C4()\n",
    "print(ins.name) # 打印出C0    # 多重继承中，若某父类还有父类的话，会先继续往上找到顶。\n",
    "print(ins.num)  # 打印出1     # 按就近原则，使用C1的属性"
   ]
  },
  {
   "cell_type": "markdown",
   "id": "ca01677e",
   "metadata": {},
   "source": [
    "## 定制\n",
    "子类也可以在继承的基础上进行个性化的定制，包括：（1）创建新属性、新方法；（2）修改继承到的属性或方法。\n",
    "\n",
    "简而言之：类的定制，不仅可以让子类拥有新的功能，还能让它有权修改继承到的代码——在写这句话时，我仿佛看到子类化成了一个人，抬头瞟了一眼在他上方的父类，淡淡地说了一句话：**以我为主，为我所用**。\n",
    "所以，当我们谈定制时，已经包含了继承。毕竟，类的定制的前提是继承，而定制的加入让类的继承不仅仅只是单纯的复制而已。这也是我们创建子类的意义。\n",
    "\n",
    "\n",
    "很多类在创建时也不带括号，如`class Chinese:`\n",
    "\n",
    "`class Chinese:`在运行时相当于`class Chinese(object):`。而object，是所有类的父类，我们将其称为**根类**（可理解为类的始祖）\n",
    "\n",
    "在复用代码的基础上，又能满足个性化的需求。"
   ]
  },
  {
   "cell_type": "code",
   "execution_count": 30,
   "id": "0fa47f91",
   "metadata": {},
   "outputs": [
    {
     "name": "stdout",
     "output_type": "stream",
     "text": [
      "black\n",
      "广东\n",
      "吃饭，选择用筷子。\n",
      "我们会讲广东话。\n",
      "我们居住的地方，陆地面积是960万平方公里左右。\n",
      "我们居住的地方，陆地面积是18万平方公里左右。\n",
      "你好！欢迎来到中国。\n",
      "雷猴！欢迎来到广东。\n"
     ]
    }
   ],
   "source": [
    "class Chinese:\n",
    "    \n",
    "    def __init__(self, greeting = '你好', place = '中国'):\n",
    "        self.greeting = greeting\n",
    "        self.place = place\n",
    "        self.eye = 'black'\n",
    "\n",
    "    def eat(self):\n",
    "        print('吃饭，选择用筷子。')\n",
    "    \n",
    "    def land_area(self, area):      # 内外部的参数，调用时传入\n",
    "        print('我们居住的地方，陆地面积是%d万平方公里左右。'% area)\n",
    "        \n",
    "    def greet(self):\n",
    "        print('%s！欢迎来到%s。' % (self.greeting, self.place))\n",
    "\n",
    "class Cantonese(Chinese):          # 类的继承\n",
    "    def __init__(self, greeting = '雷猴', place = '广东'):\n",
    "        Chinese.__init__(self, greeting, place)\n",
    "        self.native_place = '广东'  # 类的定制\n",
    "    \n",
    "    # 在子类下新建属性或方法，让子类可以用上父类所没有的属性或方法。这种操作，属于定制中的一种：新增代码。\n",
    "    def dialect(self):             # 类的定制\n",
    "        print('我们会讲广东话。')\n",
    "    \n",
    "    # 间接对方法进行重写\n",
    "    def land_area(self, area, rate = 0.0188):\n",
    "        Chinese.land_area(self, area * rate)    # 子类继承父类方法的操作是在def语句后接父类.方法（参数）\n",
    "\n",
    "gonger = Chinese()\n",
    "yewen = Cantonese()\n",
    "\n",
    "print(yewen.eye)            # 父类的属性能用\n",
    "print(yewen.native_place)   # 子类的定制属性也能用\n",
    "yewen.eat()                 # 父类的方法能用\n",
    "yewen.dialect()             # 子类的定制方法也能用\n",
    "\n",
    "gonger.land_area(960)\n",
    "yewen.land_area(960)\n",
    "\n",
    "gonger.greet()\n",
    "yewen.greet()"
   ]
  },
  {
   "cell_type": "markdown",
   "id": "ad28cbfc",
   "metadata": {},
   "source": [
    "# 类案例"
   ]
  },
  {
   "cell_type": "markdown",
   "id": "b2c3b3fe",
   "metadata": {},
   "source": [
    "## 一个Pants类"
   ]
  },
  {
   "cell_type": "code",
   "execution_count": 31,
   "id": "03805738",
   "metadata": {},
   "outputs": [],
   "source": [
    "class Pants:\n",
    "    \"\"\"The Pants class represents an article of clothing sold in a store\n",
    "    \"\"\"\n",
    "    \n",
    "    def __init__(self, color, waist_size, length, price):\n",
    "        \"\"\"Method for initializing a Pants object\n",
    "    \n",
    "        Args: \n",
    "            color (str)\n",
    "            waist_size (int)\n",
    "            length (int)\n",
    "            price (float)\n",
    "            \n",
    "        Attributes:\n",
    "            color (str): color of a pants object\n",
    "            waist_size (str): waist size of a pants object\n",
    "            length (str): length of a pants object\n",
    "            price (float): price of a pants object\n",
    "        \"\"\"\n",
    "            \n",
    "        self.color = color\n",
    "        self.waist_size = waist_size\n",
    "        self.length = length\n",
    "        self.price = price\n",
    "    \n",
    "    def change_price(self, new_price):\n",
    "        \"\"\"The change_price method changes the price attribute of a pants object\n",
    "    \n",
    "        Args: \n",
    "            new_price (float): the new price of the pants object\n",
    "            \n",
    "        Returns: None\n",
    "        \n",
    "        \"\"\"\n",
    "        self.price = new_price\n",
    "    \n",
    "    def discount(self, percentage):\n",
    "        \"\"\"The discount method outputs a discounted price of a pants object\n",
    "\n",
    "        Args:\n",
    "            percentage (float): a decimal representing the amount to discount\n",
    "\n",
    "        Returns:\n",
    "            float: the discounted price\n",
    "        \"\"\"\n",
    "        return self.price * (1 - percentage)\n",
    "\n",
    "\n",
    "class SalesPerson:\n",
    "    \"\"\"The SalesPerson class represents an employee in the store\n",
    "\n",
    "    \"\"\"\n",
    "\n",
    "    def __init__(self, first_name, last_name, employee_id, salary):\n",
    "        \"\"\"Method for initializing a SalesPerson object\n",
    "        \n",
    "        Args: \n",
    "            first_name (str)\n",
    "            last_name (str)\n",
    "            employee_id (int)\n",
    "            salary (float)\n",
    "\n",
    "        Attributes:\n",
    "            first_name (str): first name of the employee\n",
    "            last_name (str): last name of the employee\n",
    "            employee_id (int): identification number of the employee\n",
    "            salary (float): yearly salary of the employee\n",
    "            pants_sold (list): a list of pants objects sold by the employee\n",
    "            total_sales (float): sum of all sales made by the employee\n",
    "\n",
    "        \"\"\"\n",
    "        self.first_name = first_name\n",
    "        self.last_name = last_name\n",
    "        self.employee_id = employee_id\n",
    "        self.salary = salary\n",
    "        self.pants_sold = []\n",
    "        self.total_sales = 0\n",
    "\n",
    "    def sell_pants(self, pants_object):\n",
    "        \"\"\"The sell_pants method appends a pants object to the pants_sold attribute\n",
    "\n",
    "        Args: \n",
    "            pants_object (obj): a pants object that was sold\n",
    "\n",
    "        Returns: None\n",
    "\n",
    "        \"\"\"\n",
    "\n",
    "        self.pants_sold.append(pants_object)\n",
    "\n",
    "    def display_sales(self):\n",
    "        \"\"\"The display_sales method prints out all pants that have been sold\n",
    "\n",
    "        Args: None\n",
    "\n",
    "        Returns: None\n",
    "\n",
    "        \"\"\"\n",
    "\n",
    "        for pants in self.pants_sold:\n",
    "            print('color: {}, waist_size: {}, length: {}, price: {}'\\\n",
    "                  .format(pants.color, pants.waist_size, pants.length, pants.price))\n",
    "    \n",
    "    def calculate_sales(self):\n",
    "        \"\"\"The calculate_sales method sums the total price of all pants sold\n",
    "\n",
    "        Args: None\n",
    "\n",
    "        Returns:\n",
    "            float: sum of the price for all pants sold\n",
    "        \n",
    "        \"\"\"\n",
    "\n",
    "        total = 0\n",
    "        for pants in self.pants_sold:\n",
    "            total += pants.price\n",
    "            \n",
    "        self.total_sales = total\n",
    "        \n",
    "        return total\n",
    "    \n",
    "    def calculate_commission(self, percentage):\n",
    "        \"\"\"The calculate_commission method outputs the commission based on sales\n",
    "\n",
    "        Args:\n",
    "            percentage (float): the commission percentage as a decimal\n",
    "\n",
    "        Returns:\n",
    "            float: the commission due\n",
    "        \"\"\"\n",
    "\n",
    "        sales_total = self.calculate_sales()\n",
    "        return sales_total * percentage"
   ]
  },
  {
   "cell_type": "code",
   "execution_count": null,
   "id": "5b6eee8d",
   "metadata": {},
   "outputs": [],
   "source": []
  }
 ],
 "metadata": {
  "kernelspec": {
   "display_name": "Python 3 (ipykernel)",
   "language": "python",
   "name": "python3"
  },
  "language_info": {
   "codemirror_mode": {
    "name": "ipython",
    "version": 3
   },
   "file_extension": ".py",
   "mimetype": "text/x-python",
   "name": "python",
   "nbconvert_exporter": "python",
   "pygments_lexer": "ipython3",
   "version": "3.11.5"
  },
  "toc": {
   "base_numbering": 1,
   "nav_menu": {},
   "number_sections": true,
   "sideBar": true,
   "skip_h1_title": false,
   "title_cell": "Table of Contents",
   "title_sidebar": "Contents",
   "toc_cell": false,
   "toc_position": {},
   "toc_section_display": true,
   "toc_window_display": true
  }
 },
 "nbformat": 4,
 "nbformat_minor": 5
}
