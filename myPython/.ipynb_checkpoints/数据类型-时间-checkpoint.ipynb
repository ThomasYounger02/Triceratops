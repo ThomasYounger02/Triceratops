{
 "cells": [
  {
   "cell_type": "markdown",
   "id": "2b5cb3aa",
   "metadata": {},
   "source": [
    "时间使用总结\n",
    "- 时间戳\n",
    "- UTC时间"
   ]
  },
  {
   "cell_type": "markdown",
   "id": "f9a9a58e",
   "metadata": {},
   "source": [
    "# Pkgs"
   ]
  },
  {
   "cell_type": "code",
   "execution_count": 4,
   "id": "d2a4bde9",
   "metadata": {},
   "outputs": [],
   "source": [
    "import numpy as np\n",
    "import pandas as pd\n",
    "\n",
    "import time\n",
    "import datetime as dt"
   ]
  },
  {
   "cell_type": "code",
   "execution_count": 2,
   "id": "fe234732",
   "metadata": {},
   "outputs": [],
   "source": [
    "# 时间信息的输出\n",
    "def show_time_info(a_time):\n",
    "    print(a_time)\n",
    "    print('数据类型：', type(a_time))\n",
    "    print('-'*40)"
   ]
  },
  {
   "cell_type": "markdown",
   "id": "b2a50ceb",
   "metadata": {},
   "source": [
    "# 转换\n",
    "## 时间戳(float)<==>结构体时间(time.struct_time)"
   ]
  },
  {
   "cell_type": "code",
   "execution_count": 3,
   "id": "4b0a72e3",
   "metadata": {},
   "outputs": [
    {
     "name": "stdout",
     "output_type": "stream",
     "text": [
      "1706504628.2969348\n",
      "数据类型： <class 'float'>\n",
      "----------------------------------------\n",
      "time.struct_time(tm_year=2024, tm_mon=1, tm_mday=29, tm_hour=13, tm_min=3, tm_sec=48, tm_wday=0, tm_yday=29, tm_isdst=0)\n",
      "数据类型： <class 'time.struct_time'>\n",
      "----------------------------------------\n",
      "time.struct_time(tm_year=2024, tm_mon=1, tm_mday=29, tm_hour=5, tm_min=3, tm_sec=48, tm_wday=0, tm_yday=29, tm_isdst=0)\n",
      "数据类型： <class 'time.struct_time'>\n",
      "----------------------------------------\n",
      "1706504628.0\n",
      "数据类型： <class 'float'>\n",
      "----------------------------------------\n"
     ]
    }
   ],
   "source": [
    "# 时间戳：time.time()返回当前时间戳\n",
    "now_stamp = time.time()\n",
    "show_time_info(now_stamp)\n",
    "\n",
    "# time.localtime()将时间戳转换为struct_time\n",
    "# 输出struct_time:包含年月日是分秒等\n",
    "time_st = time.localtime(now_stamp)\n",
    "show_time_info(time_st)\n",
    "time_st2 = time.gmtime(now_stamp)\n",
    "show_time_info(time_st2)\n",
    "\n",
    "# time.mktime()将struct_time转换为时间戳\n",
    "time_stamp = time.mktime(time_st)\n",
    "show_time_info(time_stamp)"
   ]
  },
  {
   "cell_type": "markdown",
   "id": "46622359",
   "metadata": {},
   "source": [
    "## 结构体时间(time.struct_time)<==>字符串(string)"
   ]
  },
  {
   "cell_type": "code",
   "execution_count": 5,
   "id": "3ac2380e",
   "metadata": {},
   "outputs": [
    {
     "name": "stdout",
     "output_type": "stream",
     "text": [
      "time.struct_time(tm_year=2020, tm_mon=7, tm_mday=14, tm_hour=0, tm_min=0, tm_sec=0, tm_wday=1, tm_yday=196, tm_isdst=-1)\n",
      "数据类型： <class 'time.struct_time'>\n",
      "----------------------------------------\n",
      "2020-07-14 00:00:00\n",
      "数据类型： <class 'str'>\n",
      "----------------------------------------\n"
     ]
    }
   ],
   "source": [
    "# time.strptime()将字符串转换为struct_time\n",
    "# %Y-%m-%d %H-%M-%S\n",
    "time_st = time.strptime('2020-07-14', '%Y-%m-%d')\n",
    "show_time_info(time_st)\n",
    "\n",
    "# time.strftime()将struct_time转换为字符串\n",
    "time_str = time.strftime('%Y-%m-%d %H:%M:%S', time_st)\n",
    "show_time_info(time_str)"
   ]
  },
  {
   "cell_type": "markdown",
   "id": "cade8a54",
   "metadata": {},
   "source": [
    "## 时间戳(float)<==>字符串(str)"
   ]
  },
  {
   "cell_type": "code",
   "execution_count": 8,
   "id": "9b2d6d0d",
   "metadata": {},
   "outputs": [
    {
     "name": "stdout",
     "output_type": "stream",
     "text": [
      "1706504845.1499178\n",
      "数据类型： <class 'float'>\n",
      "----------------------------------------\n",
      "2024-01-29 13:07:25\n",
      "数据类型： <class 'str'>\n",
      "----------------------------------------\n",
      "1594656000.0\n",
      "数据类型： <class 'float'>\n",
      "----------------------------------------\n"
     ]
    }
   ],
   "source": [
    "# 时间戳\n",
    "now_stamp = time.time()\n",
    "show_time_info(now_stamp)\n",
    "\n",
    "# 时间戳==>字符串\n",
    "time_str = time.strftime('%Y-%m-%d %H:%M:%S', time.localtime(now_stamp))\n",
    "show_time_info(time_str)\n",
    "\n",
    "# 字符串==>时间戳\n",
    "time_stamp = time.mktime(time.strptime('2020-07-14', '%Y-%m-%d'))\n",
    "show_time_info(time_stamp)"
   ]
  },
  {
   "cell_type": "markdown",
   "id": "65bd1168",
   "metadata": {},
   "source": [
    "## 时间(datetime.datetime)<==>字符串(str)"
   ]
  },
  {
   "cell_type": "code",
   "execution_count": 9,
   "id": "c4d93c57",
   "metadata": {},
   "outputs": [
    {
     "name": "stdout",
     "output_type": "stream",
     "text": [
      "2024-01-29 13:08:51\n",
      "数据类型： <class 'str'>\n",
      "----------------------------------------\n",
      "2024-01-29 13:08:51\n",
      "数据类型： <class 'datetime.datetime'>\n",
      "----------------------------------------\n",
      "2024-01-29 05:08:51\n",
      "数据类型： <class 'datetime.datetime'>\n",
      "----------------------------------------\n",
      "1706476131.0\n",
      "数据类型： <class 'float'>\n",
      "----------------------------------------\n"
     ]
    }
   ],
   "source": [
    "# 时间格式(datetime.datetime)==>字符串(str)\n",
    "time_dt = dt.datetime.now()\n",
    "time_str = time_dt.strftime('%Y-%m-%d %H:%M:%S')\n",
    "show_time_info(time_str)\n",
    "\n",
    "# 字符串(str)==>时间格式(datetime.datetime)\n",
    "time_dt = dt.datetime.strptime(time_str, '%Y-%m-%d %H:%M:%S')\n",
    "show_time_info(time_dt)\n",
    "\n",
    "# 时间戳(float)==>时间格式(datetime.datetime)\n",
    "now_stamp = time.time()    # 获取float格式的当前时间 整数位为10位是以秒为单位，整数位为13位是以毫秒为单位\n",
    "time_st = time.gmtime(now_stamp)    # 转成中间格式的时间结构体(time.struct_time) \n",
    "time_str = time.strftime('%Y-%m-%d %H:%M:%S', time_st)    # 再由中间格式转为字符串(str)\n",
    "time_dt = dt.datetime.strptime(time_str, '%Y-%m-%d %H:%M:%S')    # 最后由字符串格式转为datetime.datetime格式\n",
    "show_time_info(time_dt)\n",
    "\n",
    "# 时间格式(datetime.datetime)==>时间戳(float)\n",
    "time_dt = dt.datetime.utcnow()\n",
    "time_str = time_dt.strftime(\"%Y-%m-%d %H:%M:%S\")    #str类型的时间\n",
    "time_st = time.strptime(time_str, '%Y-%m-%d %H:%M:%S')    #转为时间结构体\n",
    "time_stamp = time.mktime(time_st)    # 转为时间戳\n",
    "show_time_info(time_stamp)"
   ]
  },
  {
   "cell_type": "markdown",
   "id": "37f13434",
   "metadata": {},
   "source": [
    "# 时间计算"
   ]
  },
  {
   "cell_type": "code",
   "execution_count": 10,
   "id": "a1fdd157",
   "metadata": {},
   "outputs": [
    {
     "name": "stdout",
     "output_type": "stream",
     "text": [
      "2024-01-29 13:11:01.783199\n",
      "数据类型： <class 'datetime.datetime'>\n",
      "----------------------------------------\n",
      "2024-01-29 05:11:01.783234\n",
      "数据类型： <class 'datetime.datetime'>\n",
      "----------------------------------------\n"
     ]
    }
   ],
   "source": [
    "now_time = dt.datetime.now()\n",
    "utc_time = dt.datetime.utcnow()\n",
    "\n",
    "show_time_info(now_time)\n",
    "show_time_info(utc_time)"
   ]
  },
  {
   "cell_type": "markdown",
   "id": "82032195",
   "metadata": {},
   "source": [
    "## 加减时间单位"
   ]
  },
  {
   "cell_type": "code",
   "execution_count": 13,
   "id": "ce16f613",
   "metadata": {},
   "outputs": [
    {
     "name": "stdout",
     "output_type": "stream",
     "text": [
      "2024-01-29 13:12:20.707876\n",
      "数据类型： <class 'datetime.datetime'>\n",
      "----------------------------------------\n",
      "2024-01-29 23:12:20.707876\n",
      "数据类型： <class 'datetime.datetime'>\n",
      "----------------------------------------\n",
      "2024-01-28 13:12:20.707876\n",
      "数据类型： <class 'datetime.datetime'>\n",
      "----------------------------------------\n",
      "2024-02-01 01:12:20.707876\n",
      "数据类型： <class 'datetime.datetime'>\n",
      "----------------------------------------\n"
     ]
    }
   ],
   "source": [
    "now_dt = dt.datetime.now()\n",
    "\n",
    "show_time_info(now_dt)\n",
    "show_time_info(now_dt + dt.timedelta(hours=10))\n",
    "show_time_info(now_dt - dt.timedelta(days=1))\n",
    "show_time_info(now_dt + dt.timedelta(days=2, hours=12))"
   ]
  },
  {
   "cell_type": "markdown",
   "id": "f15d3af6",
   "metadata": {},
   "source": [
    "## 时间戳计算"
   ]
  },
  {
   "cell_type": "code",
   "execution_count": 14,
   "id": "0bf7a66a",
   "metadata": {},
   "outputs": [
    {
     "name": "stdout",
     "output_type": "stream",
     "text": [
      "1706505246.952966\n",
      "数据类型： <class 'float'>\n",
      "----------------------------------------\n",
      "2024-01-29 13:14:06.953002\n",
      "数据类型： <class 'datetime.datetime'>\n",
      "----------------------------------------\n",
      "1970-01-01 08:00:00.000036\n",
      "数据类型： <class 'datetime.datetime'>\n",
      "----------------------------------------\n"
     ]
    }
   ],
   "source": [
    "now_stamp = time.time()\n",
    "now_dt = dt.datetime.now()\n",
    "\n",
    "show_time_info(now_stamp)\n",
    "show_time_info(now_dt)\n",
    "show_time_info(now_dt - dt.timedelta(days=now_stamp/(24*60*60)))"
   ]
  },
  {
   "cell_type": "markdown",
   "id": "254d659e",
   "metadata": {},
   "source": [
    "# 场景\n",
    "## DF文本时间-列转换为时间格式"
   ]
  },
  {
   "cell_type": "code",
   "execution_count": null,
   "id": "5f166f5c",
   "metadata": {},
   "outputs": [],
   "source": []
  },
  {
   "cell_type": "markdown",
   "id": "a8531a97",
   "metadata": {},
   "source": [
    "## 时间的差距天数"
   ]
  },
  {
   "cell_type": "code",
   "execution_count": null,
   "id": "fd1732d7",
   "metadata": {},
   "outputs": [],
   "source": []
  },
  {
   "cell_type": "markdown",
   "id": "53090073",
   "metadata": {},
   "source": [
    "## 构建时间序列"
   ]
  },
  {
   "cell_type": "code",
   "execution_count": null,
   "id": "9b078596",
   "metadata": {},
   "outputs": [],
   "source": []
  },
  {
   "cell_type": "markdown",
   "id": "3b4697f7",
   "metadata": {},
   "source": [
    "## fake数据-包含各种类型的时间-测试用"
   ]
  },
  {
   "cell_type": "code",
   "execution_count": 7,
   "id": "95a5b8c6",
   "metadata": {},
   "outputs": [
    {
     "data": {
      "text/html": [
       "<div>\n",
       "<style scoped>\n",
       "    .dataframe tbody tr th:only-of-type {\n",
       "        vertical-align: middle;\n",
       "    }\n",
       "\n",
       "    .dataframe tbody tr th {\n",
       "        vertical-align: top;\n",
       "    }\n",
       "\n",
       "    .dataframe thead th {\n",
       "        text-align: right;\n",
       "    }\n",
       "</style>\n",
       "<table border=\"1\" class=\"dataframe\">\n",
       "  <thead>\n",
       "    <tr style=\"text-align: right;\">\n",
       "      <th></th>\n",
       "      <th>start_date</th>\n",
       "      <th>end_date</th>\n",
       "      <th>type1_date</th>\n",
       "      <th>type2_date</th>\n",
       "      <th>mix_date</th>\n",
       "    </tr>\n",
       "  </thead>\n",
       "  <tbody>\n",
       "    <tr>\n",
       "      <th>0</th>\n",
       "      <td>20230131</td>\n",
       "      <td>20230331</td>\n",
       "      <td>2023-01-31</td>\n",
       "      <td>2023-01-31 12:30:59</td>\n",
       "      <td>20230131</td>\n",
       "    </tr>\n",
       "    <tr>\n",
       "      <th>1</th>\n",
       "      <td>20231031</td>\n",
       "      <td>20231231</td>\n",
       "      <td>2023-12-31</td>\n",
       "      <td>2023-12-31 12:30:59</td>\n",
       "      <td>2023-12-31</td>\n",
       "    </tr>\n",
       "    <tr>\n",
       "      <th>2</th>\n",
       "      <td>20240101</td>\n",
       "      <td>20240110</td>\n",
       "      <td>2024-01-10</td>\n",
       "      <td>2024-01-10 12:30:59</td>\n",
       "      <td>2024-01-10 12:30:59</td>\n",
       "    </tr>\n",
       "  </tbody>\n",
       "</table>\n",
       "</div>"
      ],
      "text/plain": [
       "  start_date  end_date  type1_date           type2_date             mix_date\n",
       "0   20230131  20230331  2023-01-31  2023-01-31 12:30:59             20230131\n",
       "1   20231031  20231231  2023-12-31  2023-12-31 12:30:59           2023-12-31\n",
       "2   20240101  20240110  2024-01-10  2024-01-10 12:30:59  2024-01-10 12:30:59"
      ]
     },
     "execution_count": 7,
     "metadata": {},
     "output_type": "execute_result"
    }
   ],
   "source": [
    "fake_date_list = {\n",
    "    'start_date': ['20230131', '20231031', '20240101'],\n",
    "    'end_date': ['20230331', '20231231', '20240110'],\n",
    "    'type1_date': ['2023-01-31', '2023-12-31', '2024-01-10'],\n",
    "    'type2_date': ['2023-01-31 12:30:59', '2023-12-31 12:30:59', '2024-01-10 12:30:59'],\n",
    "    'mix_date': ['20230131', '2023-12-31', '2024-01-10 12:30:59']\n",
    "    }\n",
    "\n",
    "date_df = pd.DataFrame(fake_date_list)\n",
    "date_df.head()"
   ]
  },
  {
   "cell_type": "markdown",
   "id": "f5270de5",
   "metadata": {},
   "source": [
    "## 分区-常用时间分区"
   ]
  },
  {
   "cell_type": "code",
   "execution_count": 11,
   "id": "851e6b1f",
   "metadata": {},
   "outputs": [
    {
     "name": "stdout",
     "output_type": "stream",
     "text": [
      "now：转化后的时间字符串为： 20240202\n",
      "biz_date：转化后的时间字符串为： 2024-02-01\n"
     ]
    }
   ],
   "source": [
    "now = dt.datetime.now()\n",
    "# 时间分区\n",
    "biz_date = dt.datetime.now()-dt.timedelta(days=1)                # 昨天\n",
    "biz_date_7days_ago = dt.datetime.now()-dt.timedelta(days=8)      # 7天前\n",
    "biz_date_30days_ago = dt.datetime.now()-dt.timedelta(days=31)    # 30天前\n",
    "\n",
    "# 将日期转化为字符串\n",
    "str_time = now.strftime(\"%Y%m%d\")\n",
    "str_biz_date = biz_date.strftime(\"%Y-%m-%d\")           # 系统不同，时间分区格式不同，实际中区分\n",
    "\n",
    "print(\"now：转化后的时间字符串为：\", str_time)\n",
    "print(\"biz_date：转化后的时间字符串为：\", str_biz_date)"
   ]
  },
  {
   "cell_type": "code",
   "execution_count": null,
   "id": "4f4fe87b",
   "metadata": {},
   "outputs": [],
   "source": []
  }
 ],
 "metadata": {
  "kernelspec": {
   "display_name": "Python 3 (ipykernel)",
   "language": "python",
   "name": "python3"
  },
  "language_info": {
   "codemirror_mode": {
    "name": "ipython",
    "version": 3
   },
   "file_extension": ".py",
   "mimetype": "text/x-python",
   "name": "python",
   "nbconvert_exporter": "python",
   "pygments_lexer": "ipython3",
   "version": "3.11.5"
  },
  "toc": {
   "base_numbering": 1,
   "nav_menu": {},
   "number_sections": true,
   "sideBar": true,
   "skip_h1_title": false,
   "title_cell": "Table of Contents",
   "title_sidebar": "Contents",
   "toc_cell": false,
   "toc_position": {},
   "toc_section_display": true,
   "toc_window_display": true
  }
 },
 "nbformat": 4,
 "nbformat_minor": 5
}
