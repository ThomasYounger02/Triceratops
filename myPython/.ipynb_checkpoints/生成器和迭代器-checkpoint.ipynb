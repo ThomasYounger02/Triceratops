{
 "cells": [
  {
   "cell_type": "markdown",
   "id": "2253d8d3",
   "metadata": {},
   "source": [
    "借助生成器generator和迭代器iterator可以高效生成和访问对象。\n",
    "# 生成器\n",
    "- 列表、字典、集合，这些可迭代对象的容量有限。创建一个10万个元素的列表，要占用很大内存。\n",
    "- 大量元素被加载到内存之中，但真正使用的元素是很少的。\n",
    "- **不必创建完整的列表、字典、集合**：如果能按某种算法推算出各元素，在循环中，根据前面元素往后推导即可。\n",
    "- 生成器：一种一边计算，一边循环的机制。本质上是一个函数。"
   ]
  },
  {
   "cell_type": "markdown",
   "id": "f819703a",
   "metadata": {},
   "source": [
    "## 使用生成器表达式创建生成器"
   ]
  },
  {
   "cell_type": "code",
   "execution_count": 1,
   "id": "ef9448c3",
   "metadata": {},
   "outputs": [
    {
     "name": "stdout",
     "output_type": "stream",
     "text": [
      "[0, 4, 16, 36, 64]\n",
      "<class 'list'>\n",
      "----------------------------------------\n",
      "<generator object <genexpr> at 0x111b09ff0>\n",
      "[0, 4, 16, 36, 64]\n",
      "<class 'generator'>\n"
     ]
    }
   ],
   "source": [
    "n = 10\n",
    "a = [x**2 for x in range(n) if x%2==0]    # 列表推导式\n",
    "print(a)\n",
    "print(type(a))\n",
    "\n",
    "print('-'*40)\n",
    "n = 10\n",
    "b = (x**2 for x in range(n) if x%2==0)    # 生成器表达式generator expression,将列表推导式的[]更改为()\n",
    "print(b)                                  # print对生成器不起作用，解释器给出的是生成器的地址\n",
    "print(list(b))\n",
    "print(type(b))"
   ]
  },
  {
   "cell_type": "markdown",
   "id": "828695a9",
   "metadata": {},
   "source": [
    "### 使用next获取生成器中的元素"
   ]
  },
  {
   "cell_type": "code",
   "execution_count": 2,
   "id": "0e590688",
   "metadata": {},
   "outputs": [],
   "source": [
    "def display_a_iter(a_iter, stop=10):\n",
    "    cnt = 0\n",
    "    \n",
    "    while cnt<stop:\n",
    "        try:\n",
    "            # 用next获取生成器中的元素\n",
    "            result = next(a_iter)\n",
    "#             result = a_iter.__next__()      # 也可以使用对象内部的函数访问 b.__next__()下一个元素\n",
    "            print(f'第{cnt+1}次调用next(), 结果是{result}!')   \n",
    "            cnt = cnt+1\n",
    "        except StopIteration as e:\n",
    "            print('捕获 StopIteration')    # 如何捕获StopIteration并打印？\n",
    "            print(e)\n",
    "            break"
   ]
  },
  {
   "cell_type": "code",
   "execution_count": 3,
   "id": "75249a8f",
   "metadata": {},
   "outputs": [
    {
     "name": "stdout",
     "output_type": "stream",
     "text": [
      "第1次调用next(), 结果是0!\n",
      "第2次调用next(), 结果是4!\n",
      "第3次调用next(), 结果是16!\n",
      "第4次调用next(), 结果是36!\n",
      "第5次调用next(), 结果是64!\n",
      "捕获 StopIteration\n",
      "\n"
     ]
    }
   ],
   "source": [
    "n = 10\n",
    "b = (x**2 for x in range(n) if x%2==0)\n",
    "\n",
    "display_a_iter(b, 10)"
   ]
  },
  {
   "cell_type": "markdown",
   "id": "5f801657",
   "metadata": {},
   "source": [
    "## 使用yield创建生成器函数\n",
    "函数定义中包含yield--不再是普通的函数，而是一个生成器。   \n",
    "- 返回值并不是通过return返回的，而是通过yield。\n",
    "- 也可以增加一个return语句，但return返回的是StopIteration的异常说明。# to check\n",
    "\n",
    "`执行流程`\n",
    "- 普通函数遇到return语句 或者执行到最后一行函数语句就会结束整个函数运行。\n",
    "- 生成器在每次调用next()时执行，遇到yield就【半途而废】，再次执行时，从上次返回yield语句处接着往下执行。"
   ]
  },
  {
   "cell_type": "code",
   "execution_count": 4,
   "id": "6ca73dab",
   "metadata": {},
   "outputs": [
    {
     "data": {
      "text/plain": [
       "<generator object fibonacci at 0x111afcc80>"
      ]
     },
     "execution_count": 4,
     "metadata": {},
     "output_type": "execute_result"
    }
   ],
   "source": [
    "def fibonacci(n_terms):\n",
    "    n, a, b = 0, 0, 1       # 变量初始化，多变量赋值，简化代码\n",
    "    \n",
    "    while n < n_terms:\n",
    "        yield b             # 使用yeiled，即为一个生成器\n",
    "        a, b = b, a+b       # 变量更新\n",
    "        n = n+1\n",
    "        \n",
    "fib = fibonacci(10)\n",
    "fib                         # 不直接输出"
   ]
  },
  {
   "cell_type": "markdown",
   "id": "735d73fb",
   "metadata": {},
   "source": [
    "### 结合循环使用生成器"
   ]
  },
  {
   "cell_type": "code",
   "execution_count": 5,
   "id": "def74911",
   "metadata": {},
   "outputs": [
    {
     "name": "stdout",
     "output_type": "stream",
     "text": [
      "1 1 2 3 5 8 13 21 34 55 "
     ]
    }
   ],
   "source": [
    "for item in fib:\n",
    "    print(item, end=' ') # print默认输出终结符是换行符，这里替换成空格"
   ]
  },
  {
   "cell_type": "markdown",
   "id": "86248cd0",
   "metadata": {},
   "source": [
    "# 迭代器\n",
    "> 迭代器是一种数据结构，比起列表(list)来说，迭代器最大的优势就是延迟计算，按需使用，从而提高开发体验和运行效率.\n",
    "- 迭代器用于迭代操作（for\\while)；\n",
    "- 可以像列表一样获取其中的每一个元素\n",
    "\n",
    "`惰性估值Lazy evaluation`\n",
    "- 只有当迭代值某个值时，该元素才会被计算并获取。\n",
    "- 迭代器特别适合用于遍历大文件或者无限集合。\n",
    "\n",
    "\n",
    "## 可迭代对象\n",
    "- 列表、字典、元组、集合、字符串等，都是存储数据的容器container。\n",
    "- 逐个从容器中获取元素的过程，就叫迭代iteration。\n",
    "- 具备可迭代访问特性的对象，就叫做可迭代对象。"
   ]
  },
  {
   "cell_type": "code",
   "execution_count": 6,
   "id": "14cc7a63",
   "metadata": {},
   "outputs": [],
   "source": [
    "from collections.abc import Iterable"
   ]
  },
  {
   "cell_type": "code",
   "execution_count": 7,
   "id": "e8297e18",
   "metadata": {},
   "outputs": [
    {
     "name": "stdout",
     "output_type": "stream",
     "text": [
      "类型：<class 'list'>， 实例：[] ，是否为可迭代对象：True\n",
      "类型：<class 'dict'>， 实例：{} ，是否为可迭代对象：True\n",
      "类型：<class 'str'>， 实例：100 ，是否为可迭代对象：True\n",
      "类型：<class 'int'>， 实例：99 ，是否为可迭代对象：False\n"
     ]
    }
   ],
   "source": [
    "items = [[], {}, '100', 99]\n",
    "\n",
    "def display_iterable_info(items):\n",
    "    for item in items:\n",
    "        result = isinstance(item, Iterable)\n",
    "        print(f'类型：{type(item)}， 实例：{item} ，是否为可迭代对象：{result}')\n",
    "\n",
    "display_iterable_info(items)"
   ]
  },
  {
   "cell_type": "markdown",
   "id": "4e59fe67",
   "metadata": {},
   "source": [
    "## 创建迭代器iter()"
   ]
  },
  {
   "cell_type": "code",
   "execution_count": 8,
   "id": "59ed293b",
   "metadata": {},
   "outputs": [
    {
     "name": "stdout",
     "output_type": "stream",
     "text": [
      "<class 'list'>\n",
      "<class 'list_iterator'>\n",
      "<class 'list_iterator'>\n",
      "----------------------------------------\n",
      "第1次调用next(), 结果是1!\n",
      "第2次调用next(), 结果是2!\n",
      "第3次调用next(), 结果是3!\n",
      "第4次调用next(), 结果是4!\n",
      "第5次调用next(), 结果是5!\n",
      "捕获 StopIteration\n",
      "\n"
     ]
    }
   ],
   "source": [
    "x = [1, 2, 3, 4, 5]\n",
    "a_iter = iter(x)          # 全局函数iter定义了迭代器\n",
    "b_iter = iter(x)\n",
    "\n",
    "print(type(x))\n",
    "print(type(a_iter))\n",
    "print(type(b_iter))\n",
    "print('-'*40)\n",
    "\n",
    "display_a_iter(a_iter, 10)"
   ]
  },
  {
   "cell_type": "code",
   "execution_count": 9,
   "id": "460e30ff",
   "metadata": {},
   "outputs": [
    {
     "name": "stdout",
     "output_type": "stream",
     "text": [
      "类型：<class 'list_iterator'>， 实例：<list_iterator object at 0x111b25240> ，是否为可迭代对象：True\n",
      "类型：<class 'list_iterator'>， 实例：<list_iterator object at 0x111b250c0> ，是否为可迭代对象：True\n"
     ]
    }
   ],
   "source": [
    "display_iterable_info([a_iter, b_iter])"
   ]
  },
  {
   "cell_type": "code",
   "execution_count": 10,
   "id": "963aa732",
   "metadata": {},
   "outputs": [
    {
     "name": "stdout",
     "output_type": "stream",
     "text": [
      "1\n",
      "2\n",
      "3\n",
      "4\n",
      "5\n"
     ]
    }
   ],
   "source": [
    "x = [1, 2, 3, 4, 5]\n",
    "a_iter = iter(x)            # 前面已经使用过了，需要重新定义\n",
    "\n",
    "for i in a_iter:\n",
    "    print(i)"
   ]
  },
  {
   "cell_type": "code",
   "execution_count": 11,
   "id": "04707a07",
   "metadata": {},
   "outputs": [
    {
     "data": {
      "text/plain": [
       "[]"
      ]
     },
     "execution_count": 11,
     "metadata": {},
     "output_type": "execute_result"
    }
   ],
   "source": [
    "list(a_iter)"
   ]
  },
  {
   "cell_type": "markdown",
   "id": "72c3893e",
   "metadata": {},
   "source": [
    "## 创建迭代器对象\n",
    "实现两种方法：\n",
    "\n",
    "- __next__():返回迭代器对象内部的下一个元素值。\n",
    "- __iter__():返回一个迭代器对象。"
   ]
  },
  {
   "cell_type": "code",
   "execution_count": 12,
   "id": "e384c4d2",
   "metadata": {},
   "outputs": [],
   "source": [
    "from itertools import islice"
   ]
  },
  {
   "cell_type": "code",
   "execution_count": 13,
   "id": "6c8470c7",
   "metadata": {},
   "outputs": [
    {
     "name": "stdout",
     "output_type": "stream",
     "text": [
      "[1, 2, 4, 8, 16, 32, 64, 128, 256, 512]\n"
     ]
    }
   ],
   "source": [
    "class Fibonacci:\n",
    "    def __init__(self):\n",
    "        self.previous = 0\n",
    "        self.current = 1\n",
    "    \n",
    "    def __iter__(self):        # Fibonacci生成的实例，都是可迭代对象\n",
    "        return self\n",
    "    \n",
    "    def __next__(self):        # Fibonacci生成的实例，都是迭代器\n",
    "        value = self.current\n",
    "        self.previous = self.current                  # 1、在迭代器内部更新变量\n",
    "        self.current = self.current+self.previous\n",
    "        return value                                  # 2、为本次调用返回结果\n",
    "\n",
    "fib = Fibonacci()\n",
    "a = list(islice(fib, 0, 10))     # islice(可迭代对象， 开始位置， 结束位置)\n",
    "print(a)"
   ]
  },
  {
   "cell_type": "code",
   "execution_count": 14,
   "id": "7a4d22d5",
   "metadata": {},
   "outputs": [
    {
     "name": "stdout",
     "output_type": "stream",
     "text": [
      "[1024, 2048, 4096, 8192, 16384, 32768, 65536, 131072, 262144, 524288]\n"
     ]
    }
   ],
   "source": [
    "a = list(islice(fib, 0, 10))     # islice(可迭代对象， 开始位置， 结束位置)\n",
    "print(a)"
   ]
  },
  {
   "cell_type": "markdown",
   "id": "f2d4c792",
   "metadata": {},
   "source": [
    "# Notion\n",
    "- 不能用完了迭代器、生成器，在重复使用。指针位置已经发生变化。@TODO，待查"
   ]
  },
  {
   "cell_type": "code",
   "execution_count": null,
   "id": "7ea5fb07",
   "metadata": {},
   "outputs": [],
   "source": []
  },
  {
   "cell_type": "code",
   "execution_count": null,
   "id": "e609d53b",
   "metadata": {},
   "outputs": [],
   "source": []
  },
  {
   "cell_type": "markdown",
   "id": "d64eb482",
   "metadata": {},
   "source": [
    "# itertools"
   ]
  },
  {
   "cell_type": "code",
   "execution_count": 15,
   "id": "6b735c0f",
   "metadata": {},
   "outputs": [],
   "source": [
    "import itertools"
   ]
  },
  {
   "cell_type": "markdown",
   "id": "d539438c",
   "metadata": {},
   "source": [
    "## 累加数列"
   ]
  },
  {
   "cell_type": "code",
   "execution_count": 16,
   "id": "5fe4a0a0",
   "metadata": {},
   "outputs": [
    {
     "name": "stdout",
     "output_type": "stream",
     "text": [
      "[0, 1, 3, 6, 10, 15, 21, 28, 36, 45]\n"
     ]
    }
   ],
   "source": [
    "x = itertools.accumulate(range(10))    # 累加\n",
    "\n",
    "print(list(x))                         # Notion:用完即弃！"
   ]
  },
  {
   "cell_type": "markdown",
   "id": "e36b557c",
   "metadata": {},
   "source": [
    "## 拓展\n",
    "### 横向-拼接多个迭代器"
   ]
  },
  {
   "cell_type": "code",
   "execution_count": 17,
   "id": "bf6c818f",
   "metadata": {},
   "outputs": [
    {
     "name": "stdout",
     "output_type": "stream",
     "text": [
      "[0, 1, 2, 0, 1, 2, 3, 3, 2, 1]\n"
     ]
    }
   ],
   "source": [
    "x = itertools.chain(range(3), range(4), [3, 2, 1])   # 连接多个列表或者迭代器\n",
    "\n",
    "print(list(x))"
   ]
  },
  {
   "cell_type": "markdown",
   "id": "9d0acaa5",
   "metadata": {},
   "source": [
    "### 横向-重复元素"
   ]
  },
  {
   "cell_type": "code",
   "execution_count": 18,
   "id": "6d539632",
   "metadata": {},
   "outputs": [
    {
     "name": "stdout",
     "output_type": "stream",
     "text": [
      "[range(0, 3), range(0, 3), range(0, 3), range(0, 3), range(0, 3)]\n",
      "[0, 0, 0, 0, 0]\n"
     ]
    }
   ],
   "source": [
    "x = itertools.repeat(range(3), 5)           # 迭代器，重复构建  # 不同于循环\n",
    "y = itertools.repeat(0, 5)                  # 原素重复构建\n",
    "\n",
    "print(list(x))\n",
    "print(list(y))"
   ]
  },
  {
   "cell_type": "markdown",
   "id": "380fc66a",
   "metadata": {},
   "source": [
    "### 纵向-增加副本-抑制用后即弃"
   ]
  },
  {
   "cell_type": "code",
   "execution_count": 19,
   "id": "bf5e0689",
   "metadata": {},
   "outputs": [
    {
     "name": "stdout",
     "output_type": "stream",
     "text": [
      "[0, 1, 2, 3, 4, 5, 6, 7, 8, 9]\n",
      "[0, 1, 2, 3, 4, 5, 6, 7, 8, 9]\n"
     ]
    }
   ],
   "source": [
    "x = itertools.tee(range(10), 2)       # 拓展为两个相同的迭代器\n",
    "\n",
    "for i in x:\n",
    "    print(list(i))"
   ]
  },
  {
   "cell_type": "markdown",
   "id": "01e7549d",
   "metadata": {},
   "source": [
    "## 组合\n",
    "### 1个迭代器"
   ]
  },
  {
   "cell_type": "code",
   "execution_count": 20,
   "id": "3ea16337",
   "metadata": {},
   "outputs": [
    {
     "name": "stdout",
     "output_type": "stream",
     "text": [
      "[(0, 1, 2), (0, 1, 3), (0, 2, 3), (1, 2, 3)]\n",
      "[('A', 'A'), ('A', 'B'), ('A', 'C'), ('B', 'B'), ('B', 'C'), ('C', 'C')]\n"
     ]
    }
   ],
   "source": [
    "x = itertools.combinations(range(4), 3)                 # 组合，指定元素数目\n",
    "y = itertools.combinations_with_replacement('ABC', 2)   # 组合，指定元素数目，可以重复取样\n",
    "\n",
    "print(list(x))\n",
    "print(list(y))"
   ]
  },
  {
   "cell_type": "markdown",
   "id": "1ad22899",
   "metadata": {},
   "source": [
    "### 2个迭代器-按位置组合"
   ]
  },
  {
   "cell_type": "code",
   "execution_count": 21,
   "id": "dd94fc09",
   "metadata": {},
   "outputs": [
    {
     "name": "stdout",
     "output_type": "stream",
     "text": [
      "[(0, 0), (1, 1), (2, 2), (None, 3), (None, 4)]\n",
      "[(0, 0), (1, 1), (2, 2)]\n"
     ]
    }
   ],
   "source": [
    "x = itertools.zip_longest(range(3), range(5))      # 长度不一致迭代器\n",
    "y = zip(range(3), range(5))\n",
    "\n",
    "print(list(x))\n",
    "print(list(y))"
   ]
  },
  {
   "cell_type": "markdown",
   "id": "a11fa2cd",
   "metadata": {},
   "source": [
    "### 2个迭代器组合-笛卡尔积"
   ]
  },
  {
   "cell_type": "code",
   "execution_count": 24,
   "id": "f758a211",
   "metadata": {},
   "outputs": [
    {
     "name": "stdout",
     "output_type": "stream",
     "text": [
      "[('A', 0), ('A', 1), ('A', 2), ('B', 0), ('B', 1), ('B', 2), ('C', 0), ('C', 1), ('C', 2)]\n"
     ]
    }
   ],
   "source": [
    "x = itertools.product('ABC', range(3))      # 笛卡尔积，多个迭代器或者列表\n",
    "\n",
    "print(list(x))"
   ]
  },
  {
   "cell_type": "markdown",
   "id": "584279b1",
   "metadata": {},
   "source": [
    "### 自身的笛卡尔积"
   ]
  },
  {
   "cell_type": "code",
   "execution_count": 38,
   "id": "4cde5e96",
   "metadata": {},
   "outputs": [
    {
     "name": "stdout",
     "output_type": "stream",
     "text": [
      "[('A', 'A'), ('A', 'B'), ('A', 'C'), ('B', 'A'), ('B', 'B'), ('B', 'C'), ('C', 'A'), ('C', 'B'), ('C', 'C')]\n"
     ]
    }
   ],
   "source": [
    "x = itertools.product('ABC', repeat=2)     # 等价product(A, A)\n",
    "\n",
    "print(list(x))"
   ]
  },
  {
   "cell_type": "markdown",
   "id": "f98dd624",
   "metadata": {},
   "source": [
    "## 排列-permutations"
   ]
  },
  {
   "cell_type": "code",
   "execution_count": 34,
   "id": "c6e94b05",
   "metadata": {
    "scrolled": true
   },
   "outputs": [
    {
     "name": "stdout",
     "output_type": "stream",
     "text": [
      "[(0, 1, 2), (0, 1, 3), (0, 2, 1), (0, 2, 3), (0, 3, 1), (0, 3, 2), (1, 0, 2), (1, 0, 3), (1, 2, 0), (1, 2, 3), (1, 3, 0), (1, 3, 2), (2, 0, 1), (2, 0, 3), (2, 1, 0), (2, 1, 3), (2, 3, 0), (2, 3, 1), (3, 0, 1), (3, 0, 2), (3, 1, 0), (3, 1, 2), (3, 2, 0), (3, 2, 1)]\n",
      "[(0, 1, 2, 3), (0, 1, 3, 2), (0, 2, 1, 3), (0, 2, 3, 1), (0, 3, 1, 2), (0, 3, 2, 1), (1, 0, 2, 3), (1, 0, 3, 2), (1, 2, 0, 3), (1, 2, 3, 0), (1, 3, 0, 2), (1, 3, 2, 0), (2, 0, 1, 3), (2, 0, 3, 1), (2, 1, 0, 3), (2, 1, 3, 0), (2, 3, 0, 1), (2, 3, 1, 0), (3, 0, 1, 2), (3, 0, 2, 1), (3, 1, 0, 2), (3, 1, 2, 0), (3, 2, 0, 1), (3, 2, 1, 0)]\n"
     ]
    }
   ],
   "source": [
    "x = itertools.permutations(range(4), r=3)      # 排列，指定元素数量的排列空间\n",
    "y = itertools.permutations(range(4))           # 默认全排列\n",
    "\n",
    "print(list(x))\n",
    "print(list(y))"
   ]
  },
  {
   "cell_type": "markdown",
   "id": "4030f5b7",
   "metadata": {},
   "source": [
    "## 分组"
   ]
  },
  {
   "cell_type": "code",
   "execution_count": 23,
   "id": "bdf484d8",
   "metadata": {},
   "outputs": [
    {
     "name": "stdout",
     "output_type": "stream",
     "text": [
      "True [0, 1, 2, 3, 4]\n",
      "False [5, 6, 7, 8]\n",
      "True [9]\n"
     ]
    }
   ],
   "source": [
    "x = itertools.groupby(range(10), lambda e: e<5 or e>8)   # 按分组函数的值对元素进行分组\n",
    "\n",
    "for condition, numbers in x:                             # 分组结果，迭代器\n",
    "    print(condition, list(numbers))"
   ]
  },
  {
   "cell_type": "markdown",
   "id": "dd9c6bd5",
   "metadata": {},
   "source": [
    "## 根据函数转换"
   ]
  },
  {
   "cell_type": "code",
   "execution_count": 25,
   "id": "acf89591",
   "metadata": {},
   "outputs": [
    {
     "name": "stdout",
     "output_type": "stream",
     "text": [
      "[True, False, False, False, True, True, False, True, False]\n"
     ]
    }
   ],
   "source": [
    "x = itertools.starmap(str.islower, 'aBCDefGhI')\n",
    "\n",
    "print(list(x))"
   ]
  },
  {
   "cell_type": "markdown",
   "id": "ab2ef4c2",
   "metadata": {},
   "source": [
    "## 过滤\n",
    "### 增加过滤条件"
   ]
  },
  {
   "cell_type": "code",
   "execution_count": 26,
   "id": "32ba759c",
   "metadata": {},
   "outputs": [
    {
     "name": "stdout",
     "output_type": "stream",
     "text": [
      "[0, 2, 3]\n"
     ]
    }
   ],
   "source": [
    "cond = [True, False, True, True, False]\n",
    "x = itertools.compress(range(5), cond)                 # 过滤，按真值条件\n",
    "\n",
    "print(list(x))"
   ]
  },
  {
   "cell_type": "markdown",
   "id": "5786dc47",
   "metadata": {},
   "source": [
    "### 过滤函数-保留"
   ]
  },
  {
   "cell_type": "code",
   "execution_count": 27,
   "id": "b20245d8",
   "metadata": {},
   "outputs": [
    {
     "name": "stdout",
     "output_type": "stream",
     "text": [
      "[0, 1, 2, 3, 4]\n"
     ]
    }
   ],
   "source": [
    "x = itertools.takewhile(lambda e: e<5, range(10))   # 与dropwhile相反，保留元素直至真值函数值为假\n",
    "\n",
    "print(list(x))"
   ]
  },
  {
   "cell_type": "markdown",
   "id": "f994dc55",
   "metadata": {},
   "source": [
    "### 过滤函数-丢弃"
   ]
  },
  {
   "cell_type": "code",
   "execution_count": 28,
   "id": "a2ca1e4b",
   "metadata": {},
   "outputs": [
    {
     "name": "stdout",
     "output_type": "stream",
     "text": [
      "[5, 6, 7, 8, 9]\n"
     ]
    }
   ],
   "source": [
    "x = itertools.dropwhile(lambda e: e<5, range(10))    # Q:按照真值丢弃列表或者迭代器前面的元素\n",
    "\n",
    "print(list(x))"
   ]
  },
  {
   "cell_type": "code",
   "execution_count": 29,
   "id": "ca80b412",
   "metadata": {},
   "outputs": [
    {
     "name": "stdout",
     "output_type": "stream",
     "text": [
      "[5, 6, 7, 8, 9]\n"
     ]
    }
   ],
   "source": [
    "x = itertools.filterfalse(lambda e: e<5, range(10))\n",
    "\n",
    "print(list(x))"
   ]
  },
  {
   "cell_type": "markdown",
   "id": "4d5ebdc6",
   "metadata": {},
   "source": [
    "### 切片-islice"
   ]
  },
  {
   "cell_type": "code",
   "execution_count": 30,
   "id": "e98cca34",
   "metadata": {},
   "outputs": [
    {
     "name": "stdout",
     "output_type": "stream",
     "text": [
      "[0, 2, 4, 6, 8]\n"
     ]
    }
   ],
   "source": [
    "x = itertools.islice(range(10), 0, 9, 2)     # 短迭代器，直接切片，对迭代器进行切片\n",
    "\n",
    "print(list(x))"
   ]
  },
  {
   "cell_type": "code",
   "execution_count": 33,
   "id": "84aa61e6",
   "metadata": {},
   "outputs": [
    {
     "name": "stdout",
     "output_type": "stream",
     "text": [
      "[20, 19, 18, 17, 16, 15, 14, 13, 12, 11]\n"
     ]
    }
   ],
   "source": [
    "x = itertools.count(start=20, step=-1)                 # 原始迭代器很长\n",
    "# 从start开始，返回均匀间隔的值。通常用于：\n",
    "# map：生成连续点\n",
    "# zip：添加序号\n",
    "\n",
    "y = itertools.islice(x, 0, 10, 1)                      # 设置起始条件，步长进行切片过滤\n",
    "\n",
    "# print(list(x))    # 无限大，无法运行\n",
    "print(list(y))"
   ]
  },
  {
   "cell_type": "markdown",
   "id": "9d01a92f",
   "metadata": {},
   "source": [
    "### 在循环迭代器中切片"
   ]
  },
  {
   "cell_type": "code",
   "execution_count": 32,
   "id": "5a55c91b",
   "metadata": {},
   "outputs": [
    {
     "name": "stdout",
     "output_type": "stream",
     "text": [
      "['A', 'B', 'C', 'A', 'B', 'C', 'A', 'B', 'C', 'A', 'B', 'C', 'A', 'B', 'C', 'A', 'B', 'C', 'A', 'B']\n"
     ]
    }
   ],
   "source": [
    "x = itertools.cycle('ABC')          # 构建循环迭代器，不可单独使用\n",
    "y = itertools.islice(x, 0, 20, 1)\n",
    "\n",
    "print(list(y))"
   ]
  },
  {
   "cell_type": "markdown",
   "id": "10a614dd",
   "metadata": {},
   "source": [
    "# 典型场景"
   ]
  },
  {
   "cell_type": "markdown",
   "id": "cb703bf7",
   "metadata": {},
   "source": [
    "## 添加一组序号，起始序号可以自定义"
   ]
  },
  {
   "cell_type": "code",
   "execution_count": 37,
   "id": "4f97ddc8",
   "metadata": {},
   "outputs": [
    {
     "name": "stdout",
     "output_type": "stream",
     "text": [
      "[(10, 'T'), (11, 'h'), (12, 'i'), (13, 's'), (14, ' '), (15, 'i'), (16, 's'), (17, ' '), (18, 'a'), (19, ' '), (20, 'l'), (21, 'i'), (22, 'n'), (23, 'e'), (24, '!')]\n"
     ]
    }
   ],
   "source": [
    "a = zip(itertools.count(10), 'This is a line!')      # 编号从10开始\n",
    "\n",
    "print(list(a))"
   ]
  },
  {
   "cell_type": "code",
   "execution_count": null,
   "id": "d21f89be",
   "metadata": {},
   "outputs": [],
   "source": []
  }
 ],
 "metadata": {
  "kernelspec": {
   "display_name": "Python 3 (ipykernel)",
   "language": "python",
   "name": "python3"
  },
  "language_info": {
   "codemirror_mode": {
    "name": "ipython",
    "version": 3
   },
   "file_extension": ".py",
   "mimetype": "text/x-python",
   "name": "python",
   "nbconvert_exporter": "python",
   "pygments_lexer": "ipython3",
   "version": "3.11.5"
  },
  "toc": {
   "base_numbering": 1,
   "nav_menu": {},
   "number_sections": true,
   "sideBar": true,
   "skip_h1_title": false,
   "title_cell": "Table of Contents",
   "title_sidebar": "Contents",
   "toc_cell": false,
   "toc_position": {
    "height": "calc(100% - 180px)",
    "left": "10px",
    "top": "150px",
    "width": "336px"
   },
   "toc_section_display": true,
   "toc_window_display": true
  }
 },
 "nbformat": 4,
 "nbformat_minor": 5
}
