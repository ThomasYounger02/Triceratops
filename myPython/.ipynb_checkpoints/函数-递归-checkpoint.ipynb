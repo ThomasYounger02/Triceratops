{
 "cells": [
  {
   "cell_type": "markdown",
   "id": "77399d8a",
   "metadata": {},
   "source": [
    "# 递归Recurse\n",
    "> To iterate is human, to recurse divine   \n",
    "> 迭代是人，递归是神\n",
    "\n",
    "函数自己调用自己，递归：\n",
    "- 一种技巧\n",
    "- 一种思维方式\n",
    "- 递归可以将逻辑变得简单；递归每一步用的都是同一个算法；\n",
    "- 递归法则：1）从上往下；2）不断重复；\n",
    "- 递归只关心自己下一层的细节，不关心更下一层的细节。\n",
    "- 理论上所有递归函数都可以写成循环的方式，但是正向递推逻辑不如逆向递归的逻辑清晰；\n",
    "- 缺点：需要函数执行大量的压栈和弹栈，运行速度更慢；\n",
    "- 缺点：消耗内存更多；\n",
    "- 缺点：如果操作不慎，容易出现死循环。【一定要设置递归的终止条件】\n",
    "\n",
    "> 递归指函数/方法<font color=\"#dd0000\">**直接或者间接调用自身**</font><br />\n",
    "> 的一种操作。\n",
    "\n",
    "`Notion`:\n",
    "- 递归一定要有终止条件；\n",
    "- 出口通常用if语句来设置；满足某种条件时不再继续，调用某个值，结束递归"
   ]
  },
  {
   "cell_type": "markdown",
   "id": "cdfd37fb",
   "metadata": {},
   "source": [
    "# 递推对比递归"
   ]
  },
  {
   "cell_type": "code",
   "execution_count": 5,
   "id": "ad3d7238",
   "metadata": {},
   "outputs": [
    {
     "name": "stdout",
     "output_type": "stream",
     "text": [
      "递推方法：5!=120\n",
      "递归方法：5!=120\n"
     ]
    }
   ],
   "source": [
    "# 用递推方式\n",
    "def iterative_fact(n):\n",
    "    fact = 1\n",
    "    for i in range(1, n+1):\n",
    "        fact *= i\n",
    "    return fact\n",
    "\n",
    "# 用递归方式\n",
    "def recursive_fact(n):            # 定义一个递归函数\n",
    "    if n<= 1:\n",
    "        return n\n",
    "    return n*recursive_fact(n-1)  # 通过方法本身压栈和弹栈，将结果逐级返回\n",
    "\n",
    "# 对比\n",
    "num = 5\n",
    "result = iterative_fact(num)\n",
    "print(f'递推方法：{num}!={result}')\n",
    "\n",
    "result = recursive_fact(num)\n",
    "print(f'递归方法：{num}!={result}')"
   ]
  },
  {
   "cell_type": "code",
   "execution_count": null,
   "id": "bd30a2bf",
   "metadata": {},
   "outputs": [],
   "source": []
  }
 ],
 "metadata": {
  "kernelspec": {
   "display_name": "Python 3 (ipykernel)",
   "language": "python",
   "name": "python3"
  },
  "language_info": {
   "codemirror_mode": {
    "name": "ipython",
    "version": 3
   },
   "file_extension": ".py",
   "mimetype": "text/x-python",
   "name": "python",
   "nbconvert_exporter": "python",
   "pygments_lexer": "ipython3",
   "version": "3.11.5"
  },
  "toc": {
   "base_numbering": 1,
   "nav_menu": {},
   "number_sections": true,
   "sideBar": true,
   "skip_h1_title": false,
   "title_cell": "Table of Contents",
   "title_sidebar": "Contents",
   "toc_cell": false,
   "toc_position": {},
   "toc_section_display": true,
   "toc_window_display": true
  }
 },
 "nbformat": 4,
 "nbformat_minor": 5
}
