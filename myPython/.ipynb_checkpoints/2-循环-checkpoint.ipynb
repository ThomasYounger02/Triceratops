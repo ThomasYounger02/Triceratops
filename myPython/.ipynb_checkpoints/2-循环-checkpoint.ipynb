{
 "cells": [
  {
   "cell_type": "markdown",
   "id": "058a2146",
   "metadata": {},
   "source": [
    "一成不变的生活终归需要你自己去打破循环，但工作的事，就大可让计算机帮一帮我们了。与人类不同，计算机不怕苦也不怕累，无聊的事情可以重复上千遍，只要能追寻到你想要的答案。"
   ]
  },
  {
   "cell_type": "markdown",
   "id": "dab360cf",
   "metadata": {},
   "source": [
    "# for 循环"
   ]
  },
  {
   "cell_type": "code",
   "execution_count": 2,
   "id": "e48bf226",
   "metadata": {},
   "outputs": [
    {
     "name": "stdout",
     "output_type": "stream",
     "text": [
      "1\n",
      "2\n",
      "3\n",
      "4\n",
      "5\n"
     ]
    }
   ],
   "source": [
    "for i in [1,2,3,4,5]:      # 【遍历】， 【元素】（item）\n",
    "    print(i)               # 在for循环结束之后，我们还能使用这个房间。print(i)    #5"
   ]
  },
  {
   "cell_type": "code",
   "execution_count": 3,
   "id": "bd79e82a",
   "metadata": {},
   "outputs": [
    {
     "name": "stdout",
     "output_type": "stream",
     "text": [
      "5\n"
     ]
    }
   ],
   "source": [
    "print(i)"
   ]
  },
  {
   "cell_type": "markdown",
   "id": "bb04ed4c",
   "metadata": {},
   "source": [
    "# while循环"
   ]
  },
  {
   "cell_type": "code",
   "execution_count": 4,
   "id": "2882f4d4",
   "metadata": {},
   "outputs": [
    {
     "name": "stdout",
     "output_type": "stream",
     "text": [
      "1\n",
      "2\n",
      "3\n",
      "4\n",
      "5\n"
     ]
    }
   ],
   "source": [
    "a = 0\n",
    "while a < 5:    # “在一定的条件下”，“按照流程办事”。\n",
    "    a = a + 1\n",
    "    print(a)"
   ]
  },
  {
   "cell_type": "code",
   "execution_count": 5,
   "id": "22357246",
   "metadata": {},
   "outputs": [
    {
     "name": "stdout",
     "output_type": "stream",
     "text": [
      "请尝试输入密码：816\n",
      "欢迎回家！\n"
     ]
    }
   ],
   "source": [
    "password = ''  # 变量password用来保存输入的密码\n",
    "\n",
    "while password != 816:\n",
    "    password = int(input('请尝试输入密码：'))\n",
    "print('欢迎回家！')"
   ]
  },
  {
   "cell_type": "markdown",
   "id": "1e928cb9",
   "metadata": {},
   "source": [
    "for循环和whlie循环最大的区别在于【循环的工作量是否确定】，for循环就像空房间依次办理业务，直到把【所有工作做完】才下班。但while循环就像哨卡放行，【满足条件就一直工作】，直到不满足条件就关闭哨卡。    \n",
    "\n",
    "有一种情况for循环和while循环都可以解决问题，那就是【把一件事情做N遍】："
   ]
  },
  {
   "cell_type": "code",
   "execution_count": 6,
   "id": "140b14ae",
   "metadata": {},
   "outputs": [
    {
     "name": "stdout",
     "output_type": "stream",
     "text": [
      "明日复明日，明日何其多。\n",
      "明日复明日，明日何其多。\n",
      "明日复明日，明日何其多。\n",
      "明日何其多，明日何其多。\n",
      "明日何其多，明日何其多。\n",
      "明日何其多，明日何其多。\n"
     ]
    }
   ],
   "source": [
    "#用for循环把诗句打印3遍\n",
    "for i in range(1,4) :\n",
    "    print('明日复明日，明日何其多。')\n",
    "\n",
    "#用while循环把诗句打印3遍\n",
    "j = 1\n",
    "while j<4 :\n",
    "    print ('明日何其多，明日何其多。')\n",
    "    j =j+1"
   ]
  },
  {
   "cell_type": "code",
   "execution_count": null,
   "id": "c87f4061",
   "metadata": {},
   "outputs": [],
   "source": [
    "#pop()函数，用于移除列表中的一个元素（默认最后一个元素），并且返回该元素的值。\n",
    "#可以将其理解为提取和删除的融合：①提取：取到元素，对列表没有影响；②删除：删除列表的元素。\n",
    "#而移除，则是同时做到取到元素，并且删除列表中的元素。\n",
    "students = ['小明','小红','小刚']\n",
    "for i in range(3):\n",
    "    student1 = students.pop(0)  # 运用pop()函数，同时完成提取和删除。\n",
    "    students.append(student1)  # 将移除的student1安排到最后一个座位。\n",
    "    print(students)"
   ]
  },
  {
   "cell_type": "markdown",
   "id": "55f60160",
   "metadata": {},
   "source": [
    "# 用数据做判断：布尔值\n",
    "计算机的逻辑判断，只有两种结果，就是`True`（英文意思是“真”）和`False`（英文意思是“假”），没有灰色地带。这个计算真假的过程，叫做【布尔运算】。\n",
    "\n",
    "而`True`和`False`，也就叫做【布尔值】。"
   ]
  },
  {
   "cell_type": "code",
   "execution_count": 8,
   "id": "f85796f3",
   "metadata": {},
   "outputs": [
    {
     "name": "stdout",
     "output_type": "stream",
     "text": [
      "以下数据判断结果都是【真】：\n",
      "True\n",
      "True\n",
      "True\n",
      "以下数据判断结果都是【假】：\n",
      "False\n",
      "False\n",
      "False\n",
      "False\n"
     ]
    }
   ],
   "source": [
    "print('以下数据判断结果都是【真】：')\n",
    "print(bool(True))\n",
    "print(bool(1))\n",
    "print(bool('abc'))\n",
    "\n",
    "print('以下数据判断结果都是【假】：')\n",
    "print(bool(False))\n",
    "print(bool(0))\n",
    "print(bool(''))\n",
    "print(bool(None))"
   ]
  },
  {
   "cell_type": "code",
   "execution_count": null,
   "id": "6df8a500",
   "metadata": {},
   "outputs": [],
   "source": [
    "print(3<5)\n",
    "print(3>5)\n",
    "print('长安'=='长安')  \n",
    "print('长安'!='金陵')\n",
    "\n",
    "#布尔运算的3种方式\n",
    "#1:两个数值做比较\n",
    "print(3>5)\n",
    "#2:直接用数值做运算\n",
    "#假：False;0;'';[];{};None    #空字符串、空列表、空字典\n",
    "#真：True;5;1.0;'苏东坡';[1,2,3];{1:春分,2:夏至}\n",
    "#**：可以使用bool()函数来查看一个数据会被判断为真还是假。这个函数的用法与type()函数相似。\n",
    "print('以下数据判断结果都是【假】：')\n",
    "print(bool(False))\n",
    "print(bool(0))\n",
    "print(bool(''))\n",
    "print(bool(None))\n",
    "\n",
    "print('以下数据判断结果都是【真】：')\n",
    "print(bool(True))\n",
    "print(bool(1))\n",
    "print(bool('abc'))\n",
    "#3:布尔值之间的运算\n",
    "a = 1\n",
    "b = -1\n",
    "\n",
    "print('以下是and运算')\n",
    "if a==1 and b==1:    # 【b实际上是-1】\n",
    "    print('True')\n",
    "else:\n",
    "    print('False')\n",
    "\n",
    "print('以下是or运算')\n",
    "if a==1 or b==1:  # 【b实际上是-1】\n",
    "    print('True')\n",
    "else:\n",
    "    print('False')\n",
    "\n",
    "list = [1,2,3,4,5]\n",
    "a = 1\n",
    "\n",
    "# 做一次布尔运算，判断“a是否在列表list之中”\n",
    "print(bool(a in list))\n",
    "print(bool(a not in list))\n",
    "\n",
    "#【in】和【not in】就可以用来判断字典中是否存在某个【键】\n",
    "dict = {'法国':'巴黎','日本':'东京','中国':'北京'}\n",
    "a = '法国'\n",
    "\n",
    "print(bool(a in dict))\n",
    "\n",
    "#程序员方式\n",
    "i = 100\n",
    "while i:\n",
    "   print('把这句话打印100遍')\n",
    "   i = i-1"
   ]
  },
  {
   "cell_type": "markdown",
   "id": "88e305ae",
   "metadata": {},
   "source": [
    "## 布尔运算"
   ]
  },
  {
   "cell_type": "code",
   "execution_count": 9,
   "id": "f61661fd",
   "metadata": {},
   "outputs": [
    {
     "name": "stdout",
     "output_type": "stream",
     "text": [
      "以下是and运算\n",
      "False\n",
      "以下是or运算\n",
      "True\n"
     ]
    }
   ],
   "source": [
    "a = 1\n",
    "b = -1\n",
    "\n",
    "print('以下是and运算')\n",
    "if a==1 and b==1:    # 【b实际上是-1】\n",
    "    print('True')\n",
    "else:\n",
    "    print('False')\n",
    "\n",
    "print('以下是or运算')\n",
    "if a==1 or b==1:  # 【b实际上是-1】\n",
    "    print('True')\n",
    "else:\n",
    "    print('False')"
   ]
  },
  {
   "cell_type": "markdown",
   "id": "3324e4ef",
   "metadata": {},
   "source": [
    "- not表示翻转的意思。not True就等于False，not False就等于True。\n",
    "- in 和 not in"
   ]
  },
  {
   "cell_type": "code",
   "execution_count": 10,
   "id": "e4bae13e",
   "metadata": {},
   "outputs": [
    {
     "name": "stdout",
     "output_type": "stream",
     "text": [
      "True\n",
      "False\n"
     ]
    }
   ],
   "source": [
    "list = [1,2,3,4,5]\n",
    "a = 1\n",
    "\n",
    "# 做一次布尔运算，判断“a是否在列表list之中”\n",
    "print(bool(a in list))\n",
    "print(bool(a not in list))"
   ]
  },
  {
   "cell_type": "markdown",
   "id": "87f60164",
   "metadata": {},
   "source": [
    "# break\n",
    "```python\n",
    "\n",
    "for...in...:\n",
    "    ...\n",
    "    if ...:\n",
    "        break   # break语句搭配for循环\n",
    "\n",
    "while...(条件):\n",
    "    ...\n",
    "    if ...:\n",
    "        break    # break语句搭配while循环\n",
    "```\n",
    "\n",
    "- if...break的意思是如果满足了某一个条件，就提前结束循环。这个只能在循环内部使用。"
   ]
  },
  {
   "cell_type": "code",
   "execution_count": 12,
   "id": "609d0854",
   "metadata": {},
   "outputs": [
    {
     "name": "stdout",
     "output_type": "stream",
     "text": [
      "上供一对童男童女\n",
      "孙悟空来了吗\n",
      "上供一对童男童女\n",
      "孙悟空来了吗来了\n",
      "孙悟空制服了鲤鱼精，陈家庄再也不用上供童男童女了\n"
     ]
    }
   ],
   "source": [
    "while True:             # while True这个条件恒为真，就会开启无限循环。而while True常和break语句搭配使用。\n",
    "    print('上供一对童男童女')\n",
    "    t = input('孙悟空来了吗')\n",
    "    if t == '来了':     # break的意思是“打破”，是用来结束循环的，一般写作if...break\n",
    "        break          # 提前结束循环，跳出整个循环\n",
    "        \n",
    "print('孙悟空制服了鲤鱼精，陈家庄再也不用上供童男童女了')"
   ]
  },
  {
   "cell_type": "markdown",
   "id": "71df98f3",
   "metadata": {},
   "source": [
    "# continue\n",
    "\n",
    "continue的意思是“继续”。\n",
    "当某个条件被满足的时候，触发continue语句，将跳过之后的代码，直接回到循环的开始。\n",
    "\n",
    "- 结束本次循环，进入下一个循环。\n",
    "- continue的作用就是就是当某个条件为真时，又提前回到循环，而不会执行下面的代码。\n",
    "\n",
    "必须从头开始，使用continue提前开始循环。\n",
    "\n",
    "for...in...:\n",
    "    ...\n",
    "    if ...:\n",
    "        continue      # continue语句搭配for循环\n",
    "    ...\n",
    "\n",
    "\n",
    "while...(条件):\n",
    "    ...\n",
    "    if ...:\n",
    "        continue      # continue语句搭配while循环\n",
    "    ..."
   ]
  },
  {
   "cell_type": "code",
   "execution_count": 13,
   "id": "34feb67f",
   "metadata": {},
   "outputs": [
    {
     "name": "stdout",
     "output_type": "stream",
     "text": [
      "第一问：你一生之中，在什么地方最是快乐逍遥？33\n",
      "第一问：你一生之中，在什么地方最是快乐逍遥？黑暗的冰窖\n",
      "答对了，下面是第二问：\n",
      "你生平最爱之人，叫什么名字？梦姑\n",
      "答对了，下面是第三问：\n",
      "你最爱的这个人相貌如何？不知道\n",
      "都答对了，你是虚竹。\n"
     ]
    }
   ],
   "source": [
    "while True:\n",
    "    q1 = input('第一问：你一生之中，在什么地方最是快乐逍遥？')\n",
    "    if q1 != '黑暗的冰窖':\n",
    "        continue               # 当某个条件被满足的时候，触发continue语句，将跳过之后的代码，直接回到循环的开始。\n",
    "    print('答对了，下面是第二问：')\n",
    "    q2 = input('你生平最爱之人，叫什么名字？')\n",
    "    if q2 != '梦姑':\n",
    "        continue\n",
    "    print('答对了，下面是第三问：')\n",
    "    q3 = input('你最爱的这个人相貌如何？')\n",
    "    if q3 == '不知道':\n",
    "        break\n",
    "print('都答对了，你是虚竹。')"
   ]
  },
  {
   "cell_type": "markdown",
   "id": "3fde10d3",
   "metadata": {},
   "source": [
    "# Pass\n",
    "“跳过”，什么都不做。"
   ]
  },
  {
   "cell_type": "code",
   "execution_count": 14,
   "id": "21faa4b9",
   "metadata": {},
   "outputs": [
    {
     "name": "stdout",
     "output_type": "stream",
     "text": [
      "请输入一个整数:102\n"
     ]
    }
   ],
   "source": [
    "a = int(input('请输入一个整数:'))\n",
    "\n",
    "if a >= 100:\n",
    "    pass   # 如果没有pass来占据一个位置表示“什么都不做”，以上的代码执行起来会报错。\n",
    "else:\n",
    "    print('你输入了一个小于100的数字')"
   ]
  },
  {
   "cell_type": "markdown",
   "id": "844653ad",
   "metadata": {},
   "source": [
    "# else\n",
    "else不但可以和if配合使用，它还能跟for循环和while循环配合使用。   \n",
    "用在循环语句之后，如果正常结束循环，就执行else语句**（没有遇到break语句）**。   \n",
    "for...in...可以和else语句搭配使用。   \n",
    "意思是在for...in...循环结束之后，执行else语句里的命令。不过如果for...in...是因为break结束的就不会执行else语句里的命令。"
   ]
  },
  {
   "cell_type": "code",
   "execution_count": 16,
   "id": "4158235e",
   "metadata": {},
   "outputs": [
    {
     "name": "stdout",
     "output_type": "stream",
     "text": [
      "请输入0来结束循环，你有5次机会:1\n",
      "请输入0来结束循环，你有5次机会:2\n",
      "请输入0来结束循环，你有5次机会:3\n",
      "请输入0来结束循环，你有5次机会:4\n",
      "请输入0来结束循环，你有5次机会:5\n",
      "5次循环你都错过了，else语句生效了。\n"
     ]
    }
   ],
   "source": [
    "for i in range(5):\n",
    "    a = int(input('请输入0来结束循环，你有5次机会:'))\n",
    "    if a == 0:\n",
    "        print('你触发了break语句，循环结束，导致else语句不会生效。')    \n",
    "        break\n",
    "else:     # 当循环中没有碰到break语句，就会执行循环后面的else语句，否则就不会执行。\n",
    "    print('5次循环你都错过了，else语句生效了。')"
   ]
  },
  {
   "cell_type": "code",
   "execution_count": 19,
   "id": "67d1dc49",
   "metadata": {},
   "outputs": [
    {
     "name": "stdout",
     "output_type": "stream",
     "text": [
      "请输入0结束循环，你有5次机会:1\n",
      "请输入0结束循环，你有5次机会:0\n",
      "你触发了break语句，导致else语句不会生效。\n"
     ]
    }
   ],
   "source": [
    "i=5\n",
    "while i:    # 在while循环中，else的用法也是如此，格式一模一样\n",
    "    i = i-1\n",
    "    a = int(input('请输入0结束循环，你有5次机会:'))\n",
    "    if a == 0:\n",
    "        print('你触发了break语句，导致else语句不会生效。')    \n",
    "        break     \n",
    "else:\n",
    "    print('5次循环你都错过了，else语句生效了。')"
   ]
  },
  {
   "cell_type": "markdown",
   "id": "05e60653",
   "metadata": {},
   "source": [
    "# 一个猜数字游戏"
   ]
  },
  {
   "cell_type": "code",
   "execution_count": 20,
   "id": "22c70a8b",
   "metadata": {},
   "outputs": [
    {
     "name": "stdout",
     "output_type": "stream",
     "text": [
      "你来猜猜我的秘密数字是多少:3\n",
      "你猜的太小了，请重新猜猜~\n",
      "你来猜猜我的秘密数字是多少:50\n",
      "你猜的太大了，请重新猜猜~\n",
      "你来猜猜我的秘密数字是多少:25\n",
      "你猜的太大了，请重新猜猜~\n",
      "你来猜猜我的秘密数字是多少:14\n",
      "你猜的太小了，请重新猜猜~\n",
      "你来猜猜我的秘密数字是多少:24\n",
      "正确！你很棒哦。\n"
     ]
    }
   ],
   "source": [
    "secret = 24  #设定秘密数字\n",
    "while True:       \n",
    "    guess = input('你来猜猜我的秘密数字是多少:')   #输入猜测数字\n",
    "    if int(guess)==secret:  #数字对比\n",
    "        print('正确！你很棒哦。') \n",
    "        break\n",
    "    elif int(guess)>secret:\n",
    "        print('你猜的太大了，请重新猜猜~')\n",
    "    else:\n",
    "        print('你猜的太小了，请重新猜猜~')"
   ]
  },
  {
   "cell_type": "markdown",
   "id": "bb5c856d",
   "metadata": {},
   "source": [
    "# 囚徒困境"
   ]
  },
  {
   "cell_type": "code",
   "execution_count": null,
   "id": "255b6f84",
   "metadata": {},
   "outputs": [],
   "source": [
    "while True:\n",
    "    a = input('A，你认罪吗？请回答认罪或者不认')\n",
    "    b = input('B，你认罪吗？请回答认罪或者不认')\n",
    "    if a == '认罪' and b == '认罪':\n",
    "        print('两人都得判10年，唉')\n",
    "    elif a == '不认' and b == '认罪':\n",
    "        print('A判20年，B判1年，唉')\n",
    "    elif a == '认罪' and b == '不认':\n",
    "        print('A判1年，B判20年')\n",
    "    else:\n",
    "        print('都判3年，太棒了')\n",
    "        break  # 当满足开头提到的条件时，跳出循环。"
   ]
  }
 ],
 "metadata": {
  "kernelspec": {
   "display_name": "Python 3 (ipykernel)",
   "language": "python",
   "name": "python3"
  },
  "language_info": {
   "codemirror_mode": {
    "name": "ipython",
    "version": 3
   },
   "file_extension": ".py",
   "mimetype": "text/x-python",
   "name": "python",
   "nbconvert_exporter": "python",
   "pygments_lexer": "ipython3",
   "version": "3.11.5"
  },
  "toc": {
   "base_numbering": 1,
   "nav_menu": {},
   "number_sections": true,
   "sideBar": true,
   "skip_h1_title": false,
   "title_cell": "Table of Contents",
   "title_sidebar": "Contents",
   "toc_cell": false,
   "toc_position": {},
   "toc_section_display": true,
   "toc_window_display": true
  }
 },
 "nbformat": 4,
 "nbformat_minor": 5
}
