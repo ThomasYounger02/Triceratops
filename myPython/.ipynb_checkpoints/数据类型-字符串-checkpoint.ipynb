{
 "cells": [
  {
   "cell_type": "markdown",
   "id": "d8f35bf6",
   "metadata": {},
   "source": [
    "# 创建\n",
    "## 单引号、双引号、三重引号"
   ]
  },
  {
   "cell_type": "code",
   "execution_count": 1,
   "id": "bc1a42e0",
   "metadata": {},
   "outputs": [
    {
     "name": "stdout",
     "output_type": "stream",
     "text": [
      "one way of writing a string.\n",
      "another way\n",
      "\n",
      "This is a long string that\n",
      "spans multiple lines.\n",
      "\n"
     ]
    }
   ],
   "source": [
    "a = 'one way of writing a string.'\n",
    "b = \"another way\"\n",
    "c = \"\"\"\n",
    "This is a long string that\n",
    "spans multiple lines.\n",
    "\"\"\"\n",
    "\n",
    "print(a)\n",
    "print(b)\n",
    "print(c)"
   ]
  },
  {
   "cell_type": "markdown",
   "id": "760a10c6",
   "metadata": {},
   "source": [
    "# 修改\n",
    "python字符串是不可变对象，需要修改字符串，只能重新建立一个新的字符串。"
   ]
  },
  {
   "cell_type": "code",
   "execution_count": 2,
   "id": "e297e4ae",
   "metadata": {},
   "outputs": [
    {
     "name": "stdout",
     "output_type": "stream",
     "text": [
      "one way of writing a longer string.\n"
     ]
    }
   ],
   "source": [
    "a = 'one way of writing a string.'\n",
    "b = a.replace('string', 'longer string')\n",
    "\n",
    "print(b)"
   ]
  },
  {
   "cell_type": "code",
   "execution_count": null,
   "id": "69354968",
   "metadata": {},
   "outputs": [],
   "source": []
  }
 ],
 "metadata": {
  "kernelspec": {
   "display_name": "Python 3 (ipykernel)",
   "language": "python",
   "name": "python3"
  },
  "language_info": {
   "codemirror_mode": {
    "name": "ipython",
    "version": 3
   },
   "file_extension": ".py",
   "mimetype": "text/x-python",
   "name": "python",
   "nbconvert_exporter": "python",
   "pygments_lexer": "ipython3",
   "version": "3.11.5"
  },
  "toc": {
   "base_numbering": 1,
   "nav_menu": {},
   "number_sections": true,
   "sideBar": true,
   "skip_h1_title": false,
   "title_cell": "Table of Contents",
   "title_sidebar": "Contents",
   "toc_cell": false,
   "toc_position": {},
   "toc_section_display": true,
   "toc_window_display": true
  }
 },
 "nbformat": 4,
 "nbformat_minor": 5
}
