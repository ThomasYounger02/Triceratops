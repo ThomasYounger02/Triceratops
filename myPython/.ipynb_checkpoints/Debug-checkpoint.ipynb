{
 "cells": [
  {
   "cell_type": "markdown",
   "id": "9618b4b8",
   "metadata": {},
   "source": [
    "如何处理程序错误的小技巧"
   ]
  },
  {
   "cell_type": "markdown",
   "id": "1aa641ec",
   "metadata": {},
   "source": [
    "# 类型1：粗心\n",
    "通过理解报错信息，我们可以快速定位错误的根源。这种阅读、搜索报错信息的能力，在我们以后独立编写愈来愈复杂的程序时显得尤为重要。\n",
    "\n",
    ">**代码的严谨性往往就体现在细微之处**"
   ]
  },
  {
   "cell_type": "markdown",
   "id": "2e7130d8",
   "metadata": {},
   "source": [
    "## 常见bug:\n",
    "- 漏了**末尾的冒号**，如if、循环、定义语句；\n",
    "- **缩进**错误；\n",
    "- 误用**中文符号**；\n",
    "- 字符串拼接时，企图将**字符串和数字拼接**在一起；\n",
    "- **没有定义变量**；\n",
    "- **\"==\" 和 \"=\"** 混用；"
   ]
  },
  {
   "cell_type": "code",
   "execution_count": 1,
   "id": "18967ada",
   "metadata": {},
   "outputs": [
    {
     "ename": "SyntaxError",
     "evalue": "expected ':' (3631839788.py, line 2)",
     "output_type": "error",
     "traceback": [
      "\u001b[0;36m  Cell \u001b[0;32mIn[1], line 2\u001b[0;36m\u001b[0m\n\u001b[0;31m    if a == '123456'\u001b[0m\n\u001b[0m                    ^\u001b[0m\n\u001b[0;31mSyntaxError\u001b[0m\u001b[0;31m:\u001b[0m expected ':'\n"
     ]
    }
   ],
   "source": [
    "a = input('请输入密码：')\n",
    "if a == '123456'        #少了一个【英文冒号】\n",
    "    print('通过')\n",
    "\n",
    "#>> SyntaxError：指的是语法错误。"
   ]
  },
  {
   "cell_type": "markdown",
   "id": "2116bcf7",
   "metadata": {},
   "source": [
    "# 类型2: 知识不熟练\n",
    "\n",
    "不要强行写出自己不敢确定的代码，这种情况往往容易出错。   \n",
    "如果对某个基础知识点没有熟练的掌握，随着往后知识广度、深度以及项目难度的增加，很可能会增加大量的理解成本，所以多复习、多练习总是没有错滴。"
   ]
  },
  {
   "cell_type": "code",
   "execution_count": 2,
   "id": "0cd2a5ff",
   "metadata": {},
   "outputs": [
    {
     "name": "stdout",
     "output_type": "stream",
     "text": [
      "['A', 'B', 'C']\n",
      "None\n"
     ]
    }
   ],
   "source": [
    "#正确\n",
    "a = []\n",
    "a.append('A')\n",
    "a.append('B')\n",
    "a.append('C')\n",
    "print(a)\n",
    "\n",
    "#错误\n",
    "a = []\n",
    "a = a.append(['A','B','C'])\n",
    "print(a)"
   ]
  },
  {
   "cell_type": "markdown",
   "id": "442cf05b",
   "metadata": {},
   "source": [
    "# 类型3：思路不清\n",
    "思路不清指的是当我们解决比较复杂的问题时，由于我们对细节和实现手段思考得不够清楚，要么导致一步错，步步错；   \n",
    "要么虽然没有报错，但是程序没有达到我们想要的效果。\n",
    "\n",
    "## 技巧：\n",
    "- **使用print函数**：遇到关键步骤时print出来，看是否达到我们所期望的结果，以此来揪出错误的那一步。\n",
    "- **用#注释掉代码**： 使用#号把后面的代码注释掉，一步一步运行，可以帮助排除错误。"
   ]
  },
  {
   "cell_type": "code",
   "execution_count": 5,
   "id": "074c207f",
   "metadata": {},
   "outputs": [
    {
     "name": "stdout",
     "output_type": "stream",
     "text": [
      "------猜硬币游戏------\n",
      "猜一猜硬币是正面还是反面？\n",
      "“正面”请输入0,“反面”请输入1：1\n",
      "猜对了！你真棒\n"
     ]
    }
   ],
   "source": [
    "import random\n",
    "\n",
    "guess = ''\n",
    "\n",
    "while guess not in [0,1]:\n",
    "    print('------猜硬币游戏------')\n",
    "    print('猜一猜硬币是正面还是反面？')\n",
    "#     guess = input('“正面”请输入0,“反面”请输入1：')\n",
    "    guess = int(input('“正面”请输入0,“反面”请输入1：')) #注意要用int()将字符串类型转换为数字类型\n",
    "\n",
    "toss = random.randint(0,1)\n",
    "\n",
    "if toss == guess:\n",
    "    print('猜对了！你真棒')\n",
    "else:\n",
    "    print('没猜对，再给你一次机会。')\n",
    "    guess = int(input('再输一次（“正面”请输入0,“反面”请输入1）：'))\n",
    "    if toss == guess:\n",
    "        print('你终于猜对了！')\n",
    "    else:\n",
    "        print('大失败！')"
   ]
  },
  {
   "cell_type": "markdown",
   "id": "80df29dc",
   "metadata": {},
   "source": [
    "# 类型4: 被动掉坑\n",
    "\n",
    "有时候你的代码逻辑上并没有错，但可能因为用户的错误操作或者是一些“例外情况”而导致程序崩溃。"
   ]
  },
  {
   "cell_type": "code",
   "execution_count": 8,
   "id": "83add5d8",
   "metadata": {},
   "outputs": [
    {
     "name": "stdout",
     "output_type": "stream",
     "text": [
      "你今年几岁了？3.5\n"
     ]
    },
    {
     "ename": "ValueError",
     "evalue": "invalid literal for int() with base 10: '3.5'",
     "output_type": "error",
     "traceback": [
      "\u001b[0;31m---------------------------------------------------------------------------\u001b[0m",
      "\u001b[0;31mValueError\u001b[0m                                Traceback (most recent call last)",
      "Cell \u001b[0;32mIn[8], line 1\u001b[0m\n\u001b[0;32m----> 1\u001b[0m age \u001b[38;5;241m=\u001b[39m \u001b[38;5;28mint\u001b[39m(\u001b[38;5;28minput\u001b[39m(\u001b[38;5;124m'\u001b[39m\u001b[38;5;124m你今年几岁了？\u001b[39m\u001b[38;5;124m'\u001b[39m))\n\u001b[1;32m      2\u001b[0m \u001b[38;5;28;01mif\u001b[39;00m age \u001b[38;5;241m<\u001b[39m \u001b[38;5;241m18\u001b[39m:\n\u001b[1;32m      3\u001b[0m     \u001b[38;5;28mprint\u001b[39m(\u001b[38;5;124m'\u001b[39m\u001b[38;5;124m不可以喝酒噢\u001b[39m\u001b[38;5;124m'\u001b[39m)\n",
      "\u001b[0;31mValueError\u001b[0m: invalid literal for int() with base 10: '3.5'"
     ]
    }
   ],
   "source": [
    "age = int(input('你今年几岁了？'))\n",
    "if age < 18:\n",
    "    print('不可以喝酒噢')\n",
    "\n",
    "# 当我们输入的不是数字，程序报错。"
   ]
  },
  {
   "cell_type": "markdown",
   "id": "77311de7",
   "metadata": {},
   "source": [
    "为了不让一些无关痛痒的小错影响程序的后续执行，Python给我们提供了一种异常处理的机制，可以在异常出现时即时捕获，然后内部消化掉，让程序继续运行。"
   ]
  },
  {
   "cell_type": "markdown",
   "id": "b8001df2",
   "metadata": {},
   "source": [
    "## try...except...\n",
    "- 因为不知道用户什么时候才会输入正确，所以设置while循环来接受输入，只要用户输入不是数字就会一直循环，输入了数字就break跳出循环。\n",
    "- 使用try……except……语句，当用户输错的时候会给予提示。"
   ]
  },
  {
   "cell_type": "code",
   "execution_count": 10,
   "id": "247bc7bc",
   "metadata": {},
   "outputs": [
    {
     "name": "stdout",
     "output_type": "stream",
     "text": [
      "你今年几岁了？3.4\n",
      "你输入的不是数字！\n",
      "你今年几岁了？34\n"
     ]
    }
   ],
   "source": [
    "while True:\n",
    "    try:\n",
    "        age = int(input('你今年几岁了？'))\n",
    "        break\n",
    "    except ValueError:\n",
    "        print('你输入的不是数字！')\n",
    "\n",
    "if age < 18:\n",
    "    print('不可以喝酒噢')"
   ]
  },
  {
   "cell_type": "code",
   "execution_count": null,
   "id": "e9812233",
   "metadata": {},
   "outputs": [],
   "source": []
  }
 ],
 "metadata": {
  "kernelspec": {
   "display_name": "Python 3 (ipykernel)",
   "language": "python",
   "name": "python3"
  },
  "language_info": {
   "codemirror_mode": {
    "name": "ipython",
    "version": 3
   },
   "file_extension": ".py",
   "mimetype": "text/x-python",
   "name": "python",
   "nbconvert_exporter": "python",
   "pygments_lexer": "ipython3",
   "version": "3.11.5"
  },
  "toc": {
   "base_numbering": 1,
   "nav_menu": {},
   "number_sections": true,
   "sideBar": true,
   "skip_h1_title": false,
   "title_cell": "Table of Contents",
   "title_sidebar": "Contents",
   "toc_cell": false,
   "toc_position": {},
   "toc_section_display": true,
   "toc_window_display": false
  }
 },
 "nbformat": 4,
 "nbformat_minor": 5
}
