{
 "cells": [
  {
   "cell_type": "code",
   "execution_count": 1,
   "id": "d35642a5",
   "metadata": {},
   "outputs": [
    {
     "name": "stdout",
     "output_type": "stream",
     "text": [
      "True\n",
      "电脑正在开机中……\n"
     ]
    }
   ],
   "source": [
    "class Computer:\n",
    "\n",
    "    screen = True\n",
    "\n",
    "    def start(self):\n",
    "        print('电脑正在开机中……')\n",
    "\n",
    "my_computer = Computer()\n",
    "print(my_computer.screen)\n",
    "my_computer.start()\n",
    "\n",
    "\n",
    "#参数self的特殊之处：在定义时不能丢，在调用时要忽略。"
   ]
  },
  {
   "cell_type": "markdown",
   "id": "72da829f",
   "metadata": {},
   "source": [
    "三个步骤就是：创建一个类 —— 类的实例化 —— 用实例调用类的属性和方法。\n",
    "\n",
    "可以同时“新建”多个实例：\n",
    "\n",
    "类也被称为“实例工厂”，因其为所有实例提供了一套蓝图（即预先设定好有什么属性和方法）\n",
    "\n",
    "**self的作用**\n",
    "\n",
    "self会接收实例化过程中传入的数据，当实例对象创建后，实例便会代替 self，在代码中运行\n",
    "\n",
    "self 是所有实例的替身"
   ]
  },
  {
   "cell_type": "markdown",
   "id": "7b936f30",
   "metadata": {},
   "source": [
    "# 初始化方法"
   ]
  },
  {
   "cell_type": "code",
   "execution_count": 2,
   "id": "28dc23a4",
   "metadata": {},
   "outputs": [
    {
     "name": "stdout",
     "output_type": "stream",
     "text": [
      "吴枫出生在广东\n",
      "吴枫居住在深圳\n",
      "吴枫出生在广东\n",
      "吴枫居住在深圳\n"
     ]
    }
   ],
   "source": [
    "class Chinese:\n",
    "\n",
    "    def __init__(self, name, birth, region):\n",
    "        self.name = name   # self.name = '吴枫' \n",
    "        self.birth = birth  # self.birth = '广东'\n",
    "        self.region = region  # self.region = '深圳'\n",
    "\n",
    "    def born(self):\n",
    "        print(self.name + '出生在' + self.birth)\n",
    "\n",
    "    def live(self):\n",
    "        print(self.name + '居住在' + self.region)    \n",
    "\n",
    "person = Chinese('吴枫','广东','深圳') # 传入初始化方法的参数\n",
    "person.born()\n",
    "person.live()\n",
    "\n",
    "#不使用初始化方法\n",
    "class Chinese:\n",
    "\n",
    "    def born(self, name, birthplace):\n",
    "        print(name + '出生在' + birthplace)\n",
    "\n",
    "    def live(self, name, region):\n",
    "        print(name + '居住在' + region)\n",
    "\n",
    "person = Chinese()\n",
    "person.born('吴枫','广东')\n",
    "person.live('吴枫','深圳')"
   ]
  },
  {
   "cell_type": "code",
   "execution_count": 3,
   "id": "4c763c4d",
   "metadata": {},
   "outputs": [
    {
     "name": "stdout",
     "output_type": "stream",
     "text": [
      "欢迎使用工作量计算小程序！\n",
      "请选择计算类型：（1-工时计算，2-人力计算）1\n",
      "请输入项目大小：（1代表标准大小，请输入小数）2.2\n",
      "请输入人力数量：（请输入整数）3\n",
      "项目大小为2.2个标准项目，使用3个人力完成，则需要工时数量为：58.7个\n",
      "是否继续计算？继续请输入y，输入其他键将结束程序。\n",
      "感谢使用工作量计算小程序！\n"
     ]
    }
   ],
   "source": [
    "class Project:\n",
    "    \n",
    "    def __init__(self):\n",
    "        self.key = 1\n",
    "\n",
    "    def input(self):\n",
    "        choice = input('请选择计算类型：（1-工时计算，2-人力计算）')\n",
    "        if choice == '1':\n",
    "            self.size = float(input('请输入项目大小：（1代表标准大小，请输入小数）'))\n",
    "            self.number = int(input('请输入人力数量：（请输入整数）'))\n",
    "            self.time = None\n",
    "        if choice == '2':\n",
    "            self.size = float(input('请输入项目大小：（1代表标准大小，请输入小数）'))\n",
    "            self.number = None\n",
    "            self.time = float(input('请输入工时数量：（请输入小数）'))\n",
    "\n",
    "    def estimated(self):\n",
    "        # 人力计算\n",
    "        if (self.number == None) and (self.time != None):\n",
    "            self.number = math.ceil(self.size * 80 / self.time)\n",
    "            print('项目大小为%.1f个标准项目，如果需要在%.1f个工时完成，则需要人力数量为：%d人' %(self.size,self.time,self.number)) \n",
    "        # 工时计算\n",
    "        elif (self.number != None) and (self.time == None):\n",
    "            self.time = self.size * 80 / self.number\n",
    "            print('项目大小为%.1f个标准项目，使用%d个人力完成，则需要工时数量为：%.1f个' %(self.size,self.number,self.time))  \n",
    "    \n",
    "    def again(self):\n",
    "        a = input('是否继续计算？继续请输入y，输入其他键将结束程序。')\n",
    "        if a != 'y':\n",
    "            # 如果用户不输入'y'，则把key赋值为0\n",
    "            self.key = 0  \n",
    "\n",
    "    # 主函数\n",
    "    def main(self):\n",
    "        print('欢迎使用工作量计算小程序！')\n",
    "        while self.key == 1:\n",
    "            self.input()\n",
    "            self.estimated()\n",
    "            self.again()\n",
    "        print('感谢使用工作量计算小程序！')\n",
    "\n",
    "project1 = Project()\n",
    "#创建实例\n",
    "project1.main()"
   ]
  },
  {
   "cell_type": "code",
   "execution_count": 5,
   "id": "9f6e2e02",
   "metadata": {},
   "outputs": [
    {
     "name": "stdout",
     "output_type": "stream",
     "text": [
      "我现在刚诞生，还没有名字，帮我起一个吧。e\n",
      "对了，我要怎么称呼你呢？w\n",
      "你好w，我叫e。很开心，遇见你~\n",
      "告诉一个你的愿望吧：333\n",
      "w的愿望是：\n",
      "333\n",
      "333\n",
      "333\n"
     ]
    }
   ],
   "source": [
    "class Robot:\n",
    "    def __init__(self):\n",
    "        self.name = input('我现在刚诞生，还没有名字，帮我起一个吧。')\n",
    "        self.master = input('对了，我要怎么称呼你呢？')\n",
    "        print('你好%s，我叫%s。很开心，遇见你~'%(self.master,self.name))\n",
    "\n",
    "    def say_wish(self):\n",
    "        wish = input('告诉一个你的愿望吧：')\n",
    "        print(self.master+'的愿望是：')\n",
    "        # 这里也可以用字符串的格式化，不过，用循环语句的话，之后改复述次数会方便些。\n",
    "        for i in range(3):\n",
    "            print(wish)\n",
    "\n",
    "robot1 = Robot()\n",
    "robot1.say_wish()"
   ]
  },
  {
   "cell_type": "markdown",
   "id": "1132a044",
   "metadata": {},
   "source": [
    "# 一个图书管理系统"
   ]
  },
  {
   "cell_type": "code",
   "execution_count": 7,
   "id": "673ce730",
   "metadata": {},
   "outputs": [],
   "source": [
    "class Book:\n",
    " \n",
    "    def __init__(self, name, author, comment, state = 0):\n",
    "        self.name = name\n",
    "        self.author = author\n",
    "        self.comment = comment\n",
    "        self.state = state\n",
    " \n",
    "    def __str__(self):\n",
    "        status = '未借出'\n",
    "        if self.state == 1:\n",
    "            status = '已借出'\n",
    "        return '名称：《%s》 作者：%s 推荐语：%s\\n状态：%s ' % (self.name, self.author, self.comment, status)\n",
    "\n",
    "class BookManager:\n",
    "\n",
    "    books = []\n",
    "    def __init__(self):\n",
    "        book1 = Book('惶然录','费尔南多·佩索阿','一个迷失方向且濒于崩溃的灵魂的自我启示，一首对默默无闻、失败、智慧、困难和沉默的赞美诗。')\n",
    "        book2 = Book('以箭为翅','简媜','调和空灵文风与禅宗境界，刻画人间之缘起缘灭。像一条柔韧的绳子，情这个字，不知勒痛多少人的心肉。')\n",
    "        book3 = Book('心是孤独的猎手','卡森·麦卡勒斯','我们渴望倾诉，却从未倾听。女孩、黑人、哑巴、醉鬼、鳏夫的孤独形态各异，却从未退场。',1)\n",
    "        self.books.append(book1)\n",
    "        self.books.append(book2)\n",
    "        self.books.append(book3)\n",
    " \n",
    "    def menu(self):\n",
    "        print('欢迎使用流浪图书管理系统，每本沉默的好书都是一座流浪的岛屿，希望你有缘发现并着陆，为精神家园找到一片栖息地。\\n')\n",
    "        while True:\n",
    "            print('1.查询所有书籍\\n2.添加书籍\\n3.借阅书籍\\n4.归还书籍\\n5.退出系统\\n')\n",
    "            choice = int(input('请输入数字选择对应的功能：'))\n",
    "            if choice == 1:\n",
    "                self.show_all_book()\n",
    "            elif choice == 2:\n",
    "                self.add_book()\n",
    "            elif choice == 3:\n",
    "                self.lend_book()\n",
    "            elif choice == 4:\n",
    "                self.return_book()\n",
    "            elif choice == 5:\n",
    "                print('感谢使用！愿你我成为爱书之人，在茫茫书海中相遇。')\n",
    "                break\n",
    " \n",
    "    def show_all_book(self):\n",
    "        for book in self.books:\n",
    "            print(book)\n",
    "            print('')\n",
    "\n",
    "    def add_book(self):\n",
    "        new_name = input('请输入书籍名称：')\n",
    "        new_author =  input('请输入作者名称：')\n",
    "        new_comment = input('请输入书籍推荐语：')\n",
    "        new_book = Book(new_name, new_author, new_comment)\n",
    "        self.books.append(new_book)\n",
    "        print('书籍录入成功！\\n')\n",
    "\n",
    "    def check_book(self,name):\n",
    "        for book in self.books:\n",
    "            if book.name == name:\n",
    "                 return book \n",
    "        else:\n",
    "            return None\n",
    "\n",
    "    def lend_book(self):\n",
    "        name = input('请输入借阅书籍的名称：')\n",
    "        res = self.check_book(name)\n",
    "\n",
    "        if res != None:\n",
    "            if res.state == 1:\n",
    "                print('你来晚了一步，这本书已经被借走了噢')\n",
    "            else:\n",
    "                print('借阅成功，借了不看会变胖噢～')\n",
    "                res.state = 1\n",
    "        else:\n",
    "            print('这本书暂时没有收录在系统里呢')\n",
    "\n",
    "    def return_book(self):\n",
    "        name = input('请输入归还书籍的名称：')\n",
    "    \n",
    "manager = BookManager()"
   ]
  },
  {
   "cell_type": "code",
   "execution_count": null,
   "id": "da5ced43",
   "metadata": {},
   "outputs": [],
   "source": []
  }
 ],
 "metadata": {
  "kernelspec": {
   "display_name": "Python 3 (ipykernel)",
   "language": "python",
   "name": "python3"
  },
  "language_info": {
   "codemirror_mode": {
    "name": "ipython",
    "version": 3
   },
   "file_extension": ".py",
   "mimetype": "text/x-python",
   "name": "python",
   "nbconvert_exporter": "python",
   "pygments_lexer": "ipython3",
   "version": "3.11.5"
  },
  "toc": {
   "base_numbering": 1,
   "nav_menu": {},
   "number_sections": true,
   "sideBar": true,
   "skip_h1_title": false,
   "title_cell": "Table of Contents",
   "title_sidebar": "Contents",
   "toc_cell": false,
   "toc_position": {},
   "toc_section_display": true,
   "toc_window_display": false
  }
 },
 "nbformat": 4,
 "nbformat_minor": 5
}
