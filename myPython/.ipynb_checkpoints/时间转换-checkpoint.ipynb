{
 "cells": [
  {
   "cell_type": "markdown",
   "id": "2b5cb3aa",
   "metadata": {},
   "source": [
    "时间使用总结\n",
    "- 时间戳\n",
    "- UTC时间\n",
    "- "
   ]
  },
  {
   "cell_type": "markdown",
   "id": "f9a9a58e",
   "metadata": {},
   "source": [
    "# Pkgs"
   ]
  },
  {
   "cell_type": "code",
   "execution_count": 6,
   "id": "d2a4bde9",
   "metadata": {},
   "outputs": [],
   "source": [
    "import time\n",
    "import datetime as dt"
   ]
  },
  {
   "cell_type": "code",
   "execution_count": 2,
   "id": "fe234732",
   "metadata": {},
   "outputs": [],
   "source": [
    "# 时间信息的输出\n",
    "def show_time_info(a_time):\n",
    "    print(a_time)\n",
    "    print('数据类型：', type(a_time))\n",
    "    print('-'*40)"
   ]
  },
  {
   "cell_type": "markdown",
   "id": "b2a50ceb",
   "metadata": {},
   "source": [
    "# 转换\n",
    "## 时间戳(float)<==>结构体时间(time.struct_time)"
   ]
  },
  {
   "cell_type": "code",
   "execution_count": 3,
   "id": "4b0a72e3",
   "metadata": {},
   "outputs": [
    {
     "name": "stdout",
     "output_type": "stream",
     "text": [
      "1706504628.2969348\n",
      "数据类型： <class 'float'>\n",
      "----------------------------------------\n",
      "time.struct_time(tm_year=2024, tm_mon=1, tm_mday=29, tm_hour=13, tm_min=3, tm_sec=48, tm_wday=0, tm_yday=29, tm_isdst=0)\n",
      "数据类型： <class 'time.struct_time'>\n",
      "----------------------------------------\n",
      "time.struct_time(tm_year=2024, tm_mon=1, tm_mday=29, tm_hour=5, tm_min=3, tm_sec=48, tm_wday=0, tm_yday=29, tm_isdst=0)\n",
      "数据类型： <class 'time.struct_time'>\n",
      "----------------------------------------\n",
      "1706504628.0\n",
      "数据类型： <class 'float'>\n",
      "----------------------------------------\n"
     ]
    }
   ],
   "source": [
    "# 时间戳：time.time()返回当前时间戳\n",
    "now_stamp = time.time()\n",
    "show_time_info(now_stamp)\n",
    "\n",
    "# time.localtime()将时间戳转换为struct_time\n",
    "# 输出struct_time:包含年月日是分秒等\n",
    "time_st = time.localtime(now_stamp)\n",
    "show_time_info(time_st)\n",
    "time_st2 = time.gmtime(now_stamp)\n",
    "show_time_info(time_st2)\n",
    "\n",
    "# time.mktime()将struct_time转换为时间戳\n",
    "time_stamp = time.mktime(time_st)\n",
    "show_time_info(time_stamp)"
   ]
  },
  {
   "cell_type": "markdown",
   "id": "46622359",
   "metadata": {},
   "source": [
    "## 结构体时间(time.struct_time)<==>字符串(string)"
   ]
  },
  {
   "cell_type": "code",
   "execution_count": 5,
   "id": "3ac2380e",
   "metadata": {},
   "outputs": [
    {
     "name": "stdout",
     "output_type": "stream",
     "text": [
      "time.struct_time(tm_year=2020, tm_mon=7, tm_mday=14, tm_hour=0, tm_min=0, tm_sec=0, tm_wday=1, tm_yday=196, tm_isdst=-1)\n",
      "数据类型： <class 'time.struct_time'>\n",
      "----------------------------------------\n",
      "2020-07-14 00:00:00\n",
      "数据类型： <class 'str'>\n",
      "----------------------------------------\n"
     ]
    }
   ],
   "source": [
    "# time.strptime()将字符串转换为struct_time\n",
    "# %Y-%m-%d %H-%M-%S\n",
    "time_st = time.strptime('2020-07-14', '%Y-%m-%d')\n",
    "show_time_info(time_st)\n",
    "\n",
    "# time.strftime()将struct_time转换为字符串\n",
    "time_str = time.strftime('%Y-%m-%d %H:%M:%S', time_st)\n",
    "show_time_info(time_str)"
   ]
  },
  {
   "cell_type": "markdown",
   "id": "cade8a54",
   "metadata": {},
   "source": [
    "## 时间戳(float)<==>字符串(str)"
   ]
  },
  {
   "cell_type": "code",
   "execution_count": 8,
   "id": "9b2d6d0d",
   "metadata": {},
   "outputs": [
    {
     "name": "stdout",
     "output_type": "stream",
     "text": [
      "1706504845.1499178\n",
      "数据类型： <class 'float'>\n",
      "----------------------------------------\n",
      "2024-01-29 13:07:25\n",
      "数据类型： <class 'str'>\n",
      "----------------------------------------\n",
      "1594656000.0\n",
      "数据类型： <class 'float'>\n",
      "----------------------------------------\n"
     ]
    }
   ],
   "source": [
    "# 时间戳\n",
    "now_stamp = time.time()\n",
    "show_time_info(now_stamp)\n",
    "\n",
    "# 时间戳==>字符串\n",
    "time_str = time.strftime('%Y-%m-%d %H:%M:%S', time.localtime(now_stamp))\n",
    "show_time_info(time_str)\n",
    "\n",
    "# 字符串==>时间戳\n",
    "time_stamp = time.mktime(time.strptime('2020-07-14', '%Y-%m-%d'))\n",
    "show_time_info(time_stamp)"
   ]
  },
  {
   "cell_type": "markdown",
   "id": "65bd1168",
   "metadata": {},
   "source": [
    "## 时间(datetime.datetime)<==>字符串(str)"
   ]
  },
  {
   "cell_type": "code",
   "execution_count": 9,
   "id": "c4d93c57",
   "metadata": {},
   "outputs": [
    {
     "name": "stdout",
     "output_type": "stream",
     "text": [
      "2024-01-29 13:08:51\n",
      "数据类型： <class 'str'>\n",
      "----------------------------------------\n",
      "2024-01-29 13:08:51\n",
      "数据类型： <class 'datetime.datetime'>\n",
      "----------------------------------------\n",
      "2024-01-29 05:08:51\n",
      "数据类型： <class 'datetime.datetime'>\n",
      "----------------------------------------\n",
      "1706476131.0\n",
      "数据类型： <class 'float'>\n",
      "----------------------------------------\n"
     ]
    }
   ],
   "source": [
    "# 时间格式(datetime.datetime)==>字符串(str)\n",
    "time_dt = dt.datetime.now()\n",
    "time_str = time_dt.strftime('%Y-%m-%d %H:%M:%S')\n",
    "show_time_info(time_str)\n",
    "\n",
    "# 字符串(str)==>时间格式(datetime.datetime)\n",
    "time_dt = dt.datetime.strptime(time_str, '%Y-%m-%d %H:%M:%S')\n",
    "show_time_info(time_dt)\n",
    "\n",
    "# 时间戳(float)==>时间格式(datetime.datetime)\n",
    "now_stamp = time.time()    # 获取float格式的当前时间 整数位为10位是以秒为单位，整数位为13位是以毫秒为单位\n",
    "time_st = time.gmtime(now_stamp)    # 转成中间格式的时间结构体(time.struct_time) \n",
    "time_str = time.strftime('%Y-%m-%d %H:%M:%S', time_st)    # 再由中间格式转为字符串(str)\n",
    "time_dt = dt.datetime.strptime(time_str, '%Y-%m-%d %H:%M:%S')    # 最后由字符串格式转为datetime.datetime格式\n",
    "show_time_info(time_dt)\n",
    "\n",
    "# 时间格式(datetime.datetime)==>时间戳(float)\n",
    "time_dt = dt.datetime.utcnow()\n",
    "time_str = time_dt.strftime(\"%Y-%m-%d %H:%M:%S\")    #str类型的时间\n",
    "time_st = time.strptime(time_str, '%Y-%m-%d %H:%M:%S')    #转为时间结构体\n",
    "time_stamp = time.mktime(time_st)    # 转为时间戳\n",
    "show_time_info(time_stamp)"
   ]
  },
  {
   "cell_type": "markdown",
   "id": "37f13434",
   "metadata": {},
   "source": [
    "# 时间计算"
   ]
  },
  {
   "cell_type": "code",
   "execution_count": 10,
   "id": "a1fdd157",
   "metadata": {},
   "outputs": [
    {
     "name": "stdout",
     "output_type": "stream",
     "text": [
      "2024-01-29 13:11:01.783199\n",
      "数据类型： <class 'datetime.datetime'>\n",
      "----------------------------------------\n",
      "2024-01-29 05:11:01.783234\n",
      "数据类型： <class 'datetime.datetime'>\n",
      "----------------------------------------\n"
     ]
    }
   ],
   "source": [
    "now_time = dt.datetime.now()\n",
    "utc_time = dt.datetime.utcnow()\n",
    "\n",
    "show_time_info(now_time)\n",
    "show_time_info(utc_time)"
   ]
  },
  {
   "cell_type": "markdown",
   "id": "82032195",
   "metadata": {},
   "source": [
    "## 加减时间单位"
   ]
  },
  {
   "cell_type": "code",
   "execution_count": 13,
   "id": "ce16f613",
   "metadata": {},
   "outputs": [
    {
     "name": "stdout",
     "output_type": "stream",
     "text": [
      "2024-01-29 13:12:20.707876\n",
      "数据类型： <class 'datetime.datetime'>\n",
      "----------------------------------------\n",
      "2024-01-29 23:12:20.707876\n",
      "数据类型： <class 'datetime.datetime'>\n",
      "----------------------------------------\n",
      "2024-01-28 13:12:20.707876\n",
      "数据类型： <class 'datetime.datetime'>\n",
      "----------------------------------------\n",
      "2024-02-01 01:12:20.707876\n",
      "数据类型： <class 'datetime.datetime'>\n",
      "----------------------------------------\n"
     ]
    }
   ],
   "source": [
    "now_dt = dt.datetime.now()\n",
    "\n",
    "show_time_info(now_dt)\n",
    "show_time_info(now_dt + dt.timedelta(hours=10))\n",
    "show_time_info(now_dt - dt.timedelta(days=1))\n",
    "show_time_info(now_dt + dt.timedelta(days=2, hours=12))"
   ]
  },
  {
   "cell_type": "markdown",
   "id": "f15d3af6",
   "metadata": {},
   "source": [
    "## 时间戳计算"
   ]
  },
  {
   "cell_type": "code",
   "execution_count": 14,
   "id": "0bf7a66a",
   "metadata": {},
   "outputs": [
    {
     "name": "stdout",
     "output_type": "stream",
     "text": [
      "1706505246.952966\n",
      "数据类型： <class 'float'>\n",
      "----------------------------------------\n",
      "2024-01-29 13:14:06.953002\n",
      "数据类型： <class 'datetime.datetime'>\n",
      "----------------------------------------\n",
      "1970-01-01 08:00:00.000036\n",
      "数据类型： <class 'datetime.datetime'>\n",
      "----------------------------------------\n"
     ]
    }
   ],
   "source": [
    "now_stamp = time.time()\n",
    "now_dt = dt.datetime.now()\n",
    "\n",
    "show_time_info(now_stamp)\n",
    "show_time_info(now_dt)\n",
    "show_time_info(now_dt - dt.timedelta(days=now_stamp/(24*60*60)))"
   ]
  },
  {
   "cell_type": "markdown",
   "id": "254d659e",
   "metadata": {},
   "source": [
    "# 场景\n",
    "## DF列转换为时间格式"
   ]
  },
  {
   "cell_type": "code",
   "execution_count": null,
   "id": "5f166f5c",
   "metadata": {},
   "outputs": [],
   "source": []
  },
  {
   "cell_type": "markdown",
   "id": "a8531a97",
   "metadata": {},
   "source": [
    "## 时间的差距天数"
   ]
  },
  {
   "cell_type": "code",
   "execution_count": null,
   "id": "fd1732d7",
   "metadata": {},
   "outputs": [],
   "source": []
  },
  {
   "cell_type": "markdown",
   "id": "53090073",
   "metadata": {},
   "source": [
    "## 构建时间序列"
   ]
  },
  {
   "cell_type": "code",
   "execution_count": null,
   "id": "9b078596",
   "metadata": {},
   "outputs": [],
   "source": []
  },
  {
   "cell_type": "code",
   "execution_count": 10,
   "id": "44d50204",
   "metadata": {},
   "outputs": [
    {
     "name": "stdout",
     "output_type": "stream",
     "text": [
      "2024-01-29\n",
      "20240129\n"
     ]
    }
   ],
   "source": [
    "## 构建和一个时间分区\n",
    "pt = dt.datetime.now()-dt.timedelta(days=1)   \n",
    "pt_1 = pt.strftime(\"%Y-%m-%d\")\n",
    "pt_2 = pt.strftime(\"%Y%m%d\")\n",
    "\n",
    "print(pt_1)\n",
    "print(pt_2)"
   ]
  },
  {
   "cell_type": "code",
   "execution_count": null,
   "id": "4e127a6c",
   "metadata": {},
   "outputs": [],
   "source": []
  }
 ],
 "metadata": {
  "kernelspec": {
   "display_name": "Python 3 (ipykernel)",
   "language": "python",
   "name": "python3"
  },
  "language_info": {
   "codemirror_mode": {
    "name": "ipython",
    "version": 3
   },
   "file_extension": ".py",
   "mimetype": "text/x-python",
   "name": "python",
   "nbconvert_exporter": "python",
   "pygments_lexer": "ipython3",
   "version": "3.11.5"
  },
  "toc": {
   "base_numbering": 1,
   "nav_menu": {},
   "number_sections": true,
   "sideBar": true,
   "skip_h1_title": false,
   "title_cell": "Table of Contents",
   "title_sidebar": "Contents",
   "toc_cell": false,
   "toc_position": {},
   "toc_section_display": true,
   "toc_window_display": true
  }
 },
 "nbformat": 4,
 "nbformat_minor": 5
}
