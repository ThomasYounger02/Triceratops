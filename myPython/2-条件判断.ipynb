{
 "cells": [
  {
   "cell_type": "code",
   "execution_count": null,
   "id": "b178f748",
   "metadata": {},
   "outputs": [],
   "source": []
  },
  {
   "cell_type": "markdown",
   "id": "a215d54d",
   "metadata": {},
   "source": [
    "# if\n",
    "## 单向判断: if"
   ]
  },
  {
   "cell_type": "code",
   "execution_count": 1,
   "id": "9a97cc9d",
   "metadata": {},
   "outputs": [
    {
     "name": "stdout",
     "output_type": "stream",
     "text": [
      "你拥有了毁灭宇宙的力量\n"
     ]
    }
   ],
   "source": [
    "stone_number=6    \n",
    "\n",
    "if stone_number>=6:            # 条件不满足，无法执行if条件下的命令，从而自动跳过，执行下一行命令。\n",
    "    print('你拥有了毁灭宇宙的力量')"
   ]
  },
  {
   "cell_type": "markdown",
   "id": "f132f743",
   "metadata": {},
   "source": [
    "## 双向判断: if...else..."
   ]
  },
  {
   "cell_type": "code",
   "execution_count": 2,
   "id": "8e1a24bc",
   "metadata": {},
   "outputs": [
    {
     "name": "stdout",
     "output_type": "stream",
     "text": [
      "带着卡魔拉去沃弥尔星寻找灵魂宝石\n"
     ]
    }
   ],
   "source": [
    "stone_number=3    \n",
    "\n",
    "if stone_number>=6:\n",
    "    print('你拥有了毁灭宇宙的力量')\n",
    "else:       # if条件和else条件是平级的。如果不满足if条件，就执行else其他条件。\n",
    "    print('带着卡魔拉去沃弥尔星寻找灵魂宝石')"
   ]
  },
  {
   "cell_type": "markdown",
   "id": "e65fbe9c",
   "metadata": {},
   "source": [
    "`else`不一定要和`if`组团，只要是一个需要再处理的命令。\n",
    "\n",
    "`while`循环、`for`循环，这些都是需要再处理的命令，所以他们也可以作为`else`的平级命令。"
   ]
  },
  {
   "cell_type": "code",
   "execution_count": 3,
   "id": "1b6a87b9",
   "metadata": {},
   "outputs": [
    {
     "name": "stdout",
     "output_type": "stream",
     "text": [
      "未找到结果\n"
     ]
    }
   ],
   "source": [
    "# for和else组团\n",
    "for i in range(10):\n",
    "    if i == 11:\n",
    "        print('找到结果')\n",
    "        break\n",
    "else:\n",
    "    print('未找到结果')"
   ]
  },
  {
   "cell_type": "markdown",
   "id": "b872eeb1",
   "metadata": {},
   "source": [
    "## 多向判断：if...elif...else..."
   ]
  },
  {
   "cell_type": "code",
   "execution_count": 4,
   "id": "a16e83e0",
   "metadata": {},
   "outputs": [
    {
     "name": "stdout",
     "output_type": "stream",
     "text": [
      "红女巫需要亲手毁掉幻视额头上的心灵宝石\n"
     ]
    }
   ],
   "source": [
    "stone_number=5    \n",
    "\n",
    "if stone_number>=6:\n",
    "    print('你拥有了毁灭宇宙的力量')\n",
    "elif 3<stone_number<=5:   # elif的运行本质上和else一样，都需要一个和elif平级的前提，但是这个前提只能是if。\n",
    "    print('红女巫需要亲手毁掉幻视额头上的心灵宝石')\n",
    "else:                     # elif已经带有其他条件的意思，所以elif后也可以不接else。\n",
    "    print('需要惊奇队长逆转未来')"
   ]
  },
  {
   "cell_type": "markdown",
   "id": "b16e623d",
   "metadata": {},
   "source": [
    "# if嵌套"
   ]
  },
  {
   "cell_type": "code",
   "execution_count": 6,
   "id": "599cae73",
   "metadata": {},
   "outputs": [
    {
     "name": "stdout",
     "output_type": "stream",
     "text": [
      "不及格\n",
      "学渣\n",
      "程序结束\n"
     ]
    }
   ],
   "source": [
    "history_score=26\n",
    "\n",
    "if history_score>=60:\n",
    "    print('你已经及格')\n",
    "    if history_score>=80:      # 在基础条件底下增加额外的条件判断。\n",
    "        print('你很优秀')\n",
    "    else:\n",
    "        print('你只是一般般')\n",
    "else:\n",
    "    print('不及格')\n",
    "    if history_score<30:\n",
    "        print('学渣')\n",
    "    else:\n",
    "        print('还能抢救一下')\n",
    "\n",
    "print('程序结束')"
   ]
  },
  {
   "cell_type": "code",
   "execution_count": null,
   "id": "9355e4d7",
   "metadata": {},
   "outputs": [],
   "source": []
  }
 ],
 "metadata": {
  "kernelspec": {
   "display_name": "Python 3 (ipykernel)",
   "language": "python",
   "name": "python3"
  },
  "language_info": {
   "codemirror_mode": {
    "name": "ipython",
    "version": 3
   },
   "file_extension": ".py",
   "mimetype": "text/x-python",
   "name": "python",
   "nbconvert_exporter": "python",
   "pygments_lexer": "ipython3",
   "version": "3.11.5"
  },
  "toc": {
   "base_numbering": 1,
   "nav_menu": {},
   "number_sections": true,
   "sideBar": true,
   "skip_h1_title": false,
   "title_cell": "Table of Contents",
   "title_sidebar": "Contents",
   "toc_cell": false,
   "toc_position": {},
   "toc_section_display": true,
   "toc_window_display": true
  }
 },
 "nbformat": 4,
 "nbformat_minor": 5
}
