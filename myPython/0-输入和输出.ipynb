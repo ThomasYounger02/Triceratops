{
 "cells": [
  {
   "cell_type": "markdown",
   "id": "0e6c713c",
   "metadata": {},
   "source": [
    "# 输入"
   ]
  },
  {
   "cell_type": "code",
   "execution_count": 1,
   "id": "c912c8ae",
   "metadata": {},
   "outputs": [
    {
     "name": "stdout",
     "output_type": "stream",
     "text": [
      "请输入您的选择：2\n"
     ]
    }
   ],
   "source": [
    "#input()函数的输入值（搜集到的回答），永远会被强制性地转换为字符串类型。（Python3固定规则）\n",
    "#input()函数结果的强制转换\n",
    "choice = int(input('请输入您的选择：'))"
   ]
  },
  {
   "cell_type": "code",
   "execution_count": 2,
   "id": "4eff2fbb",
   "metadata": {},
   "outputs": [
    {
     "name": "stdout",
     "output_type": "stream",
     "text": [
      "2\n"
     ]
    }
   ],
   "source": [
    "print(choice)"
   ]
  },
  {
   "cell_type": "markdown",
   "id": "a73595c2",
   "metadata": {},
   "source": [
    "# 输出\n",
    "## print"
   ]
  },
  {
   "cell_type": "code",
   "execution_count": 3,
   "id": "20f0b750",
   "metadata": {},
   "outputs": [
    {
     "name": "stdout",
     "output_type": "stream",
     "text": [
      "0123456789"
     ]
    }
   ],
   "source": [
    "# print默认进行换行\n",
    "\n",
    "for i in range(10):\n",
    "    print(i, end='')     # 同一行输出"
   ]
  },
  {
   "cell_type": "markdown",
   "id": "2c8c6991",
   "metadata": {},
   "source": [
    "## 九九乘法表"
   ]
  },
  {
   "cell_type": "code",
   "execution_count": 1,
   "id": "242c4aad",
   "metadata": {},
   "outputs": [
    {
     "name": "stdout",
     "output_type": "stream",
     "text": [
      "1 X 1 = 1    \n",
      "1 X 2 = 2  2 X 2 = 4    \n",
      "1 X 3 = 3  2 X 3 = 6  3 X 3 = 9    \n",
      "1 X 4 = 4  2 X 4 = 8  3 X 4 = 12  4 X 4 = 16    \n",
      "1 X 5 = 5  2 X 5 = 10  3 X 5 = 15  4 X 5 = 20  5 X 5 = 25    \n",
      "1 X 6 = 6  2 X 6 = 12  3 X 6 = 18  4 X 6 = 24  5 X 6 = 30  6 X 6 = 36    \n",
      "1 X 7 = 7  2 X 7 = 14  3 X 7 = 21  4 X 7 = 28  5 X 7 = 35  6 X 7 = 42  7 X 7 = 49    \n",
      "1 X 8 = 8  2 X 8 = 16  3 X 8 = 24  4 X 8 = 32  5 X 8 = 40  6 X 8 = 48  7 X 8 = 56  8 X 8 = 64    \n",
      "1 X 9 = 9  2 X 9 = 18  3 X 9 = 27  4 X 9 = 36  5 X 9 = 45  6 X 9 = 54  7 X 9 = 63  8 X 9 = 72  9 X 9 = 81    \n"
     ]
    }
   ],
   "source": [
    "#打印99乘法表\n",
    "for i in range(1,10):\n",
    "    for j in range(1,i+1):\n",
    "        print( '%d X %d = %d' % (j,i,i*j),end = '  ' )\n",
    "    print('  ')"
   ]
  },
  {
   "cell_type": "code",
   "execution_count": 2,
   "id": "8711b016",
   "metadata": {},
   "outputs": [
    {
     "name": "stdout",
     "output_type": "stream",
     "text": [
      "欢迎使用圆的面积和周长计算程序。\n",
      "请输入圆的半径:3\n",
      "圆的面积是：28.259999999999998\n",
      "圆的周长是：18.84\n"
     ]
    }
   ],
   "source": [
    "# 定义变量\n",
    "pi = 3.14\n",
    "\n",
    "# 按流程图中的步骤写代码\n",
    "print('欢迎使用圆的面积和周长计算程序。')\n",
    "R = float(input('请输入圆的半径:'))\n",
    "S = pi*R*R\n",
    "L = 2*pi*R\n",
    "print('圆的面积是：' + str(S) + '\\n' + '圆的周长是：' + str(L))"
   ]
  },
  {
   "cell_type": "markdown",
   "id": "c19256b4",
   "metadata": {},
   "source": [
    "# 规整的字符串输出"
   ]
  },
  {
   "cell_type": "code",
   "execution_count": 3,
   "id": "8f801ccf",
   "metadata": {},
   "outputs": [],
   "source": [
    "#规整输出字符串：\n",
    "def data_2_string(data):\n",
    "    temp = np.array(data)\n",
    "    #标题栏\n",
    "    label = data.columns.tolist()\n",
    "    #数据行\n",
    "    data_list =[]\n",
    "    for i in range(data.shape[0]):\n",
    "        data_temp = temp[i].tolist()\n",
    "        data_list.append(data_temp)\n",
    "    #构建字符文字\n",
    "    text = '-'*80\n",
    "    str_f1 = '{:^10} | {:^10} | {:^10} | {:^10}  |  {:^10}  |  {:^10}'\n",
    "    text = text+'\\n'+'-'*80\n",
    "    for i in [label]:\n",
    "        text = text+'\\n'+str_f1.format(*i)\n",
    "    str_f2 = '{:^10} | {:^10} | {:^10} | {:^10}  |{:^10} |  {:^10}'\n",
    "    for i in data_list:\n",
    "        text = text+'\\n'+str_f2.format(*i)\n",
    "    text = text+'\\n'+'-'*80\n",
    "    return text"
   ]
  },
  {
   "cell_type": "code",
   "execution_count": null,
   "id": "047b291d",
   "metadata": {},
   "outputs": [],
   "source": [
    "from prettytable import PrettyTable\n",
    "\n",
    "\n",
    "def format_for_print2(df):\n",
    "    table = PrettyTable(list(df.columns))\n",
    "    for row in df.itertuples():\n",
    "        table.add_row(row[1:])\n",
    "    return table.get_string()\n",
    "print(format_for_print2(df_f_num_break))"
   ]
  },
  {
   "cell_type": "markdown",
   "id": "80b2b5f1",
   "metadata": {},
   "source": [
    "# 文档处理"
   ]
  },
  {
   "cell_type": "code",
   "execution_count": null,
   "id": "3c925aef",
   "metadata": {},
   "outputs": [],
   "source": [
    "file1 = open('scores.txt','r',encoding='utf-8') \n",
    "file_lines = file1.readlines() \n",
    "file1.close()\n",
    "\n",
    "final_scores = []\n",
    "\n",
    "for i in file_lines:\n",
    "    data =i.split()\n",
    "    sum = 0                         # 先把总成绩设为0\n",
    "    for score in data[1:]:          # 遍历列表中第1个数据和之后的数据\n",
    "        sum = sum + int(score)      # 然后依次加起来，但分数是字符串，所以要转换    \n",
    "    result = data[0]+str(sum)+'\\n'  # 结果就是学生姓名和总分\n",
    "    print(result)\n",
    "    final_scores.append(result)\n",
    "\n",
    "print(final_scores)\n",
    "\n",
    "sum1 = open('winner.txt','w',encoding='utf-8') \n",
    "sum1.writelines(final_scores)\n",
    "sum1.close()"
   ]
  },
  {
   "cell_type": "code",
   "execution_count": null,
   "id": "a2752bab",
   "metadata": {},
   "outputs": [],
   "source": [
    "# 下面注释掉的代码，皆为检验代码（验证每一步的思路和代码是否达到目标，可解除注释后运行）。\n",
    "\n",
    "file1 = open('winner.txt','r',encoding='utf-8') \n",
    "file_lines = file1.readlines() \n",
    "file1.close()\n",
    "\n",
    "dict_scores = {}\n",
    "list_scores = []\n",
    "final_scores = []\n",
    "\n",
    "# print(file_lines) \n",
    "# print(len('\\n'))\n",
    "\n",
    "# 打印结果为：['罗恩102\\n', '哈利383\\n', '赫敏570\\n', '马尔福275\\n']\n",
    "# 经过测试，发现'\\n'的长度是1。所以，名字是“第0位-倒数第5位”，分数是“倒数第4位-倒数第二位”。\n",
    "# 再根据“左取右不取”，可知：name-[:-4],score-[-4:-1]\n",
    "\n",
    "for i in file_lines:  # i是字符串。\n",
    "    print(i)\n",
    "    name = i[:-4]  # 取出名字（注：字符串和列表一样，是通过偏移量来获取内部数据。）\n",
    "    score = int(i[-4:-1])  # 取出成绩\n",
    "    print(name)\n",
    "    print(score)\n",
    "    dict_scores[score] = name  # 将名字和成绩对应存为字典的键值对(注意：这里的成绩是键)\n",
    "    list_scores.append(score)\n",
    "\n",
    "# print(list_scores)\n",
    "list_scores.sort(reverse=True)  # reverse，逆行，所以这时列表降序排列，分数从高到低。\n",
    "# print(list_scores)\n",
    "\n",
    "for i in list_scores:\n",
    "    result = dict_scores[i] + str(i) + '\\n'\n",
    "    # print(result)\n",
    "    final_scores.append(result)\n",
    "\n",
    "print(final_scores)  # 最终结果\n",
    "\n",
    "winner_new = open('winner_new.txt','w',encoding='utf-8') \n",
    "winner_new.writelines(final_scores)\n",
    "winner_new.close()"
   ]
  },
  {
   "cell_type": "markdown",
   "id": "7fdba7f5",
   "metadata": {},
   "source": [
    "# 编码\n",
    "\n",
    "## 二进制\n",
    "世界上有10种人，懂二进制和不懂二进制的。\n",
    "\n",
    "用来存放一位0或1，就是计算机里**最小的存储单位**，叫做【位】，也叫【比特】（bit）。我们规定8个比特构成一个【字节】（byte），这是计算机里**最常用的单位**。\n",
    "\n",
    "**1 B = 8 bit**   \n",
    "**1 KB = 1024 B**     # kilobyte   \n",
    "**1 MB = 1024 KB**    # megabyte   \n",
    "**1 GB = 1024 MB**    # gigabyte   \n",
    "\n",
    "百兆宽带，下载速度最多能达到十多兆，是因为运营商的带宽是以比特每秒为单位的，比如100M就是100Mbit/s。\n",
    "\n",
    "而我们常看到的下载速度KB却是以字节每秒为单位显示的，1byte = 8bit，所以运营商说的带宽得先除以8，你的百兆宽带下载速度，也就是十几兆了。"
   ]
  },
  {
   "cell_type": "markdown",
   "id": "3db22d05",
   "metadata": {},
   "source": [
    "## 编码表\n",
    "编码表：计算机世界的字典。\n",
    "\n",
    "除了0、1这些阿拉伯数字，像a、b、c这样的52个字母（包括大小写），还有一些常用的符号（例如*、#、@等）在计算机中存储时也要使用二进制数来表示，而具体用哪些二进制数字表示哪个符号，理论上每个人都可以有自己的一套规则（这就叫编码）。\n",
    "\n",
    "如果想要互相沟通而不造成混乱，就必须使用相同的编码规则。如果使用了不同的编码规则，那就会彼此读不懂，这就是“乱码”的由来。"
   ]
  },
  {
   "cell_type": "markdown",
   "id": "cb38a2ca",
   "metadata": {},
   "source": [
    "## ASCII编码\n",
    "\n",
    "一开始，是美国首先出台了ASCII编码（读音：/ˈæski/），统一规定了常用符号用哪些二进制数来表示。因为英文字母、数字再加上其他常用符号，也就100来个，因此使用7个比特位（最多表示128位）就够用了，所以一个字节中被剩下的那个比特位就被默认为0。\n",
    "\n",
    "再后来呢，这套编码表传入欧洲，才发现这128位不够用啊。比如说法语字母上面还有注音符，这个怎么区分？得！把最后一个比特位也编进来吧。因此欧洲普遍使用一个全字节（8个比特位）进行编码，最多可表示256位，至此，一个字节就用满了！\n",
    "\n",
    "但是前面的状态0-127位可以共用，但从状态128到255这一段的解释就完全乱套了，比如135在法语，希伯来语，俄语编码中完全是不同的符号。\n",
    "\n",
    "当计算机漂洋过海来到中国后，问题又来了，计算机完全不认识博大精深的中文，当然也没法显示中文；而且一个字节的256位都被占满了，但中国有10万多个汉字，256位连塞牙缝都不够啊。"
   ]
  },
  {
   "cell_type": "markdown",
   "id": "ac8e2b62",
   "metadata": {},
   "source": [
    "### GBK标准\n",
    "\n",
    "中国科学家自力更生，重写了一张编码表，也就是GB2312，它用2个字节，也就是16个比特位，来表示绝大部分（65535个）常用汉字。后来，为了能显示更多的中文，又出台了GBK标准。\n",
    "\n",
    "### Unicode（万国码）\n",
    "\n",
    "为了沟通的便利，Unicode（万国码）应运而生，这套编码表将世界上所有的符号都纳入其中。每个符号都有一个独一无二的编码，现在Unicode可以容纳100多万个符号，所有语言都可以互通，一个网页上也可以显示多国语言。\n",
    "\n",
    "但是！问题又来了，自从英文世界吃上了Unicode这口大锅饭，为迁就一些占用字节比较多的语言，英文也要跟着占两个字节。比如要存储A，原本00010001就可以了，现在偏得用两个字节：00000000 00010001才行，这样对计算机空间存储是种极大的浪费！\n",
    "\n",
    "### UTF-8\n",
    "\n",
    "基于这个痛点，科学家们又提出了天才的想法：UTF-8（8-bit Unicode Transformation Format）。它是一种针对Unicode的可变长度字符编码，它可以使用1~4个字节表示一个符号，根据不同的符号而变化字节长度，而当字符在ASCII码的范围时，就用一个字节表示，所以UTF-8还可以兼容ASCII编码。\n",
    "\n",
    "Unicode是内存编码的规范，而UTF-8是如何保存和传输Unicode的手段。\n",
    "\n",
    "在Python3当中，程序处理我们输入的字符串，是默认使用Unicode编码的，所以你什么语言都可以输入。\n",
    "\n",
    "第1，数据在硬盘上存储，或者是在网络上传输时，用的是UTF-8，因为节省空间。但你不必操心如何转换UTF-8和Unicode，当我们点击保存的时候，程序已经“默默地”帮我们做好了编码工作。\n",
    "\n",
    "第2，一些中文的文件和中文网站，还在使用GBK，和GB2312。"
   ]
  },
  {
   "cell_type": "markdown",
   "id": "ab68e0b2",
   "metadata": {},
   "source": [
    "## encode()和decode()\n",
    "将人类语言编码后得到的结果，有一个相同之处，就是最前面都有一个字母b，比如b'\\xce\\xe2\\xb7\\xe3'，这代表它是bytes（字节）类型的数据。"
   ]
  },
  {
   "cell_type": "code",
   "execution_count": 1,
   "id": "470d3ffa",
   "metadata": {},
   "outputs": [
    {
     "name": "stdout",
     "output_type": "stream",
     "text": [
      "b'\\xe5\\x90\\xb4\\xe6\\x9e\\xab'\n",
      "b'\\xce\\xe2\\xb7\\xe3'\n",
      "吴枫\n",
      "吴枫\n"
     ]
    }
   ],
   "source": [
    "print('吴枫'.encode('utf-8'))\n",
    "print('吴枫'.encode('gbk'))\n",
    "print(b'\\xe5\\x90\\xb4\\xe6\\x9e\\xab'.decode('utf-8'))\n",
    "print(b'\\xce\\xe2\\xb7\\xe3'.decode('gbk'))"
   ]
  },
  {
   "cell_type": "code",
   "execution_count": 2,
   "id": "58ef4a22",
   "metadata": {},
   "outputs": [
    {
     "name": "stdout",
     "output_type": "stream",
     "text": [
      "<class 'str'>\n",
      "<class 'bytes'>\n"
     ]
    }
   ],
   "source": [
    "print(type('吴枫'))\n",
    "print(type(b'\\xce\\xe2\\xb7\\xe3'))"
   ]
  },
  {
   "cell_type": "markdown",
   "id": "6f0f67bf",
   "metadata": {},
   "source": [
    "所谓的编码，其实本质就是把str（字符串）类型的数据，利用不同的编码表，转换成bytes（字节）类型的数据。\n",
    "\n",
    "编码结果中除了标志性的字母b，你还会在编码结果中看到许多\\x。\\x是分隔符，用来分隔一个字节和另一个字节。\n",
    "\n",
    "你经常会看到网址里面有好多的%，它们也是分隔符，替换了Python中的\\x。比如像下面这个：\n",
    "> https://www.baidu.com/s?wd=%E5%90%B4%E6%9E%AB    \n",
    "> https://www.baidu.com/s?wd=吴枫   \n",
    "> \\xe5\\x90\\xb4\\xe6\\x9e\\xab  # Python编码“吴枫”的结果   \n",
    "> %E5%90%B4%E6%9E%AB # 网址里的“吴枫”   "
   ]
  },
  {
   "cell_type": "markdown",
   "id": "e9c9585f",
   "metadata": {},
   "source": [
    "用decode()解码的时候则要注意，UTF-8编码的字节就一定要用UTF-8的规则解码，其他编码同理，否则就会出现乱码或者报错的情况，现在请你将下列字节解码成UTF-8的形式，打印出来。"
   ]
  },
  {
   "cell_type": "code",
   "execution_count": 3,
   "id": "d46b7b1b",
   "metadata": {},
   "outputs": [
    {
     "name": "stdout",
     "output_type": "stream",
     "text": [
      "我爱你\n",
      "<class 'bytes'>\n"
     ]
    }
   ],
   "source": [
    "a = b'\\xe6\\x88\\x91\\xe7\\x88\\xb1\\xe4\\xbd\\xa0'\n",
    "b=a.decode('utf-8')\n",
    "print(b)\n",
    "print(type(a))"
   ]
  },
  {
   "cell_type": "code",
   "execution_count": 4,
   "id": "b2be9e92",
   "metadata": {},
   "outputs": [
    {
     "name": "stdout",
     "output_type": "stream",
     "text": [
      "b'K'\n"
     ]
    }
   ],
   "source": [
    "# ASCII编码，它不支持中文，所以我们来转换一个大写英文字母K。\n",
    "print('K'.encode('ASCII'))"
   ]
  },
  {
   "cell_type": "markdown",
   "id": "596e736c",
   "metadata": {},
   "source": [
    "大写字母K被编码后还是K，但这两个K对计算机来说意义是不同的。前者是字符串，采用系统默认的Unicode编码，占两个字节。后者则是bytes类型的数据，只占一个字节。这也验证我们前面所说的编码就是将str类型转换成bytes类型。"
   ]
  },
  {
   "cell_type": "markdown",
   "id": "9309acb6",
   "metadata": {},
   "source": [
    "# 文件读写\n",
    "\n",
    "文件读写，是Python代码调用电脑文件的主要功能，能被用于读取和写入文本记录、音频片段、Excel文档、保存邮件以及任何保存在电脑上的东西。\n",
    "\n",
    "## 读取文件\n",
    "\n",
    "读文件也是三步:打开文件——读取文件——关闭文件。\n",
    "\n",
    "第1步-开】使用open()函数打开文件。"
   ]
  },
  {
   "cell_type": "code",
   "execution_count": null,
   "id": "d2728dd4",
   "metadata": {},
   "outputs": [],
   "source": [
    "file1 = open('/Users/Ted/Desktop/test/abc.txt','r',encoding='utf-8')"
   ]
  },
  {
   "cell_type": "markdown",
   "id": "3f3e0237",
   "metadata": {},
   "source": [
    "这里是字符串 'r'，表示 read，表示我们以读的模式打开了这个文件。\n",
    "\n",
    "计算机非常注意数据的保密性，在打开时就要决定以什么模式打开文件。\n",
    "\n",
    "第三个参数encoding='utf-8'，表示的是返回的数据采用何种编码，一般采用utf-8或者gbk。\n",
    "\n",
    "文件的地址有两种:**相对路径和绝对路径**，拖到终端获取的地址是绝对路径。这两种地址，Mac和Windows电脑不一样。\n",
    "\n",
    "绝对路径就是最完整的路径，相对路径指的就是【相对于当前文件夹】的路径，也就是你编写的这个py文件所放的文件夹路径！\n",
    "\n",
    "\n",
    "> 将txt文件拖入终端窗口，获得文件的绝对路径。\n",
    "\n"
   ]
  },
  {
   "cell_type": "code",
   "execution_count": null,
   "id": "b137dc87",
   "metadata": {},
   "outputs": [],
   "source": [
    "open('/Users/Ted/Desktop/test/abc.txt'')   #绝对路径\n",
    "open('abc.txt')    #相对路径\n",
    "#相对路径也可以写成open('./abc.txt')"
   ]
  },
  {
   "cell_type": "code",
   "execution_count": null,
   "id": "fab5034e",
   "metadata": {},
   "outputs": [],
   "source": [
    "# 假如现在这个txt文件，是放在test文件夹下面一个叫做word的文件夹里，绝对路径和相对路径就变成：\n",
    "\n",
    "open('/Users/Ted/Desktop/test/word/abc.txt')\n",
    "open('word/abc.txt')\n",
    "\n",
    "\n",
    "# Windows系统里，常用\\来表示绝对路径，/来表示相对路径，所以当你把文件拖入终端的时候，绝对路径就变成：C:\\Users\\Ted\\Desktop\\test\\abc.txt\n",
    "\n",
    "# \\在Python中是转义字符，所以时常会有冲突。为了避坑，Windows的绝对路径通常要稍作处理，写成以下两种格式；\n",
    "open('C:\\\\Users\\\\Ted\\\\Desktop\\\\test\\\\abc.txt')\n",
    "#将'\\'替换成'\\\\'\n",
    "\n",
    "open(r'C:\\Users\\Ted\\Desktop\\test\\abc.txt')\n",
    "#在路径前加上字母r"
   ]
  },
  {
   "cell_type": "markdown",
   "id": "0356ba47",
   "metadata": {},
   "source": [
    "## 读"
   ]
  },
  {
   "cell_type": "code",
   "execution_count": null,
   "id": "0c4e8134",
   "metadata": {},
   "outputs": [],
   "source": [
    "file1 = open('/Users/Ted/Desktop/test/abc.txt', 'r',encoding='utf-8') \n",
    "filecontent = file1.read()"
   ]
  },
  {
   "cell_type": "markdown",
   "id": "11086e8b",
   "metadata": {},
   "source": [
    "## 关"
   ]
  },
  {
   "cell_type": "code",
   "execution_count": null,
   "id": "86ca2e3c",
   "metadata": {},
   "outputs": [],
   "source": [
    "file1 = open('/Users/Ted/Desktop/test/abc.txt','r',encoding='utf-8') \n",
    "filecontent = file1.read()            \n",
    "print(filecontent)\n",
    "file1.close()"
   ]
  },
  {
   "cell_type": "markdown",
   "id": "180e84fb",
   "metadata": {},
   "source": [
    "# 写入文件\n",
    "\n",
    "三步：打开文件——写入文件——关闭文件。\n",
    "\n",
    "【第1步-开】以写入的模式打开文件。"
   ]
  },
  {
   "cell_type": "code",
   "execution_count": null,
   "id": "52545719",
   "metadata": {},
   "outputs": [],
   "source": [
    "file1 = open('/Users/Ted/Desktop/test/abc.txt','w',encoding='utf-8')\n",
    "\n",
    "# 第2步-写】往文件中写入内容，使用write()函数。\n",
    "\n",
    "file1 = open('/Users/Ted/Desktop/test/abc.txt', 'w',encoding='utf-8') \n",
    "file1.write('张无忌\\n')     \n",
    "file1.write('宋青书\\n')\n",
    "\n",
    "# \\n表示另起一行。\n",
    "\n",
    "# 'w'写入模式会给你暴力清空掉文件，然后再给你写入。如果你只想增加东西，而不想完全覆盖掉原文件的话，就要使用'a'模式，表示append，是追加的意思。\n",
    "\n",
    "# 【第3步-关】还是要记得关闭文件，使用close()函数，看代码："
   ]
  },
  {
   "cell_type": "code",
   "execution_count": null,
   "id": "25fc6dc6",
   "metadata": {},
   "outputs": [],
   "source": [
    "file1 = open('/Users/Ted/Desktop/test/abc.txt','a',encoding='utf-8') \n",
    "file1.write('张无忌\\n')     \n",
    "file1.write('宋青书\\n')     \n",
    "file1.close()"
   ]
  },
  {
   "cell_type": "markdown",
   "id": "a3ddbd7e",
   "metadata": {},
   "source": [
    "1.write()函数写入文本文件的也是字符串类型。2.在'w'和'a'模式下，如果你打开的文件不存在，那么open()函数会自动帮你创建一个。\n",
    "里面有'wb'的模式，它的意思是以二进制的方式打开一个文件用于写入。因为图片和音频是以二进制的形式保存的，所以使用wb模式就好了，这在今天的课后作业我们会用到。\n"
   ]
  },
  {
   "cell_type": "markdown",
   "id": "637c2d34",
   "metadata": {},
   "source": [
    "# with\n",
    "\n",
    "为了避免打开文件后忘记关闭，占用资源或当不能确定关闭文件的恰当时机的时候，我们可以用到关键字with：\n",
    "\n"
   ]
  },
  {
   "cell_type": "code",
   "execution_count": null,
   "id": "66a02002",
   "metadata": {},
   "outputs": [],
   "source": [
    "# 普通写法\n",
    "file1 = open('abc.txt','a') \n",
    "file1.write('张无忌') \n",
    "file1.close()\n",
    "\n",
    "# 使用with关键字的写法\n",
    "with open('abc.txt','a') as file1:\n",
    "#with open('文件地址','读写模式') as 变量名:\n",
    "    #格式：冒号不能丢\n",
    "    file1.write('张无忌') \n",
    "    #格式：对文件的操作要缩进\n",
    "    #格式：无需用close()关闭"
   ]
  },
  {
   "cell_type": "markdown",
   "id": "8e5ac491",
   "metadata": {},
   "source": [
    "### readlines()\n",
    "\n",
    "也就是“按行读取”。"
   ]
  },
  {
   "cell_type": "code",
   "execution_count": null,
   "id": "7c72acf6",
   "metadata": {},
   "outputs": [],
   "source": [
    "file1 = open('/Users/Ted/Desktop/scores.txt','r',encoding='utf-8') \n",
    "file_lines = file1.readlines()      \n",
    "file1.close()\n",
    "print(file_lines)\n",
    "# readlines() 会从txt文件取得一个列表，列表中的每个字符串就是scores.txt中的每一行。而且每个字符串后面还有换行的\\n符号。"
   ]
  },
  {
   "cell_type": "markdown",
   "id": "60d41857",
   "metadata": {},
   "source": [
    "## split()\n",
    "split()又把每一行的内容分成了一个个的字符串，于是变成了一个个列表。"
   ]
  },
  {
   "cell_type": "code",
   "execution_count": null,
   "id": "954d372e",
   "metadata": {},
   "outputs": [],
   "source": [
    "file1 = open('/Users/Ted/Desktop/scores.txt','r',encoding='utf-8') \n",
    "file_lines = file1.readlines()\n",
    "file1.close()\n",
    "\n",
    "for i in file_lines:   #用for...in...把每一行的数据遍历  \n",
    "    data =i.split()    #把字符串切分成更细的一个个的字符串\n",
    "    print(data)        #打印出来看看"
   ]
  },
  {
   "cell_type": "markdown",
   "id": "47e0d801",
   "metadata": {},
   "source": [
    "## join()\n",
    "\n",
    "是把字符串合并的。\n",
    "oin()的用法是str.join(sequence)，str代表在这些字符串之中，你要用什么字符串连接，在这里两个例子，一个是空字符串，一个是横杠，sequence代表数据序列，在这里是列表a。"
   ]
  },
  {
   "cell_type": "code",
   "execution_count": null,
   "id": "731819ce",
   "metadata": {},
   "outputs": [],
   "source": [
    "a=['c','a','t']\n",
    "b=''\n",
    "print(b.join(a))\n",
    "c='-'\n",
    "print(c.join(a))\n",
    "\n",
    "#>> cat\n",
    "#>> c-a-t"
   ]
  },
  {
   "cell_type": "code",
   "execution_count": null,
   "id": "544ef3a0",
   "metadata": {},
   "outputs": [],
   "source": [
    "file = open('/Users/Ted/Desktop/scores.txt','r',encoding='utf-8') \n",
    "file_lines = file.readlines()\n",
    "file.close()\n",
    "\n",
    "final_scores = [] \n",
    "\n",
    "for i in file_lines:\n",
    "    data =i.split()    \n",
    "    sum = 0                    \n",
    "    for score in data[1:]:     \n",
    "        sum = sum + int(score)     \n",
    "    result = data[0]+str(sum)+'\\n'    \n",
    "    final_scores.append(result)\n",
    "\n",
    "winner = open('/Users/Ted/Desktop/winner.txt','w',encoding='utf-8') \n",
    "winner.writelines(final_scores)\n",
    "winner.close()\n",
    "\n",
    "# 以writelines()的方式写进去，为什么不能用write()？因为final_scores是一个列表，而write()的参数必须是一个字符串，而writelines()可以是序列，所以我们使用writelines()。"
   ]
  }
 ],
 "metadata": {
  "kernelspec": {
   "display_name": "Python 3 (ipykernel)",
   "language": "python",
   "name": "python3"
  },
  "language_info": {
   "codemirror_mode": {
    "name": "ipython",
    "version": 3
   },
   "file_extension": ".py",
   "mimetype": "text/x-python",
   "name": "python",
   "nbconvert_exporter": "python",
   "pygments_lexer": "ipython3",
   "version": "3.11.5"
  },
  "toc": {
   "base_numbering": 1,
   "nav_menu": {},
   "number_sections": true,
   "sideBar": true,
   "skip_h1_title": false,
   "title_cell": "Table of Contents",
   "title_sidebar": "Contents",
   "toc_cell": false,
   "toc_position": {},
   "toc_section_display": true,
   "toc_window_display": true
  }
 },
 "nbformat": 4,
 "nbformat_minor": 5
}
