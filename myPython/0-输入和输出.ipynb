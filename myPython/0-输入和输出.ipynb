{
 "cells": [
  {
   "cell_type": "markdown",
   "id": "0e6c713c",
   "metadata": {},
   "source": [
    "# 输入"
   ]
  },
  {
   "cell_type": "code",
   "execution_count": 1,
   "id": "c912c8ae",
   "metadata": {},
   "outputs": [
    {
     "name": "stdout",
     "output_type": "stream",
     "text": [
      "请输入您的选择：2\n"
     ]
    }
   ],
   "source": [
    "#input()函数的输入值（搜集到的回答），永远会被强制性地转换为字符串类型。（Python3固定规则）\n",
    "#input()函数结果的强制转换\n",
    "choice = int(input('请输入您的选择：'))"
   ]
  },
  {
   "cell_type": "code",
   "execution_count": 2,
   "id": "4eff2fbb",
   "metadata": {},
   "outputs": [
    {
     "name": "stdout",
     "output_type": "stream",
     "text": [
      "2\n"
     ]
    }
   ],
   "source": [
    "print(choice)"
   ]
  },
  {
   "cell_type": "markdown",
   "id": "a73595c2",
   "metadata": {},
   "source": [
    "# 输出\n",
    "## print"
   ]
  },
  {
   "cell_type": "code",
   "execution_count": 3,
   "id": "20f0b750",
   "metadata": {},
   "outputs": [
    {
     "name": "stdout",
     "output_type": "stream",
     "text": [
      "0123456789"
     ]
    }
   ],
   "source": [
    "# print默认进行换行\n",
    "\n",
    "for i in range(10):\n",
    "    print(i, end='')     # 同一行输出"
   ]
  },
  {
   "cell_type": "markdown",
   "id": "2c8c6991",
   "metadata": {},
   "source": [
    "## 九九乘法表"
   ]
  },
  {
   "cell_type": "code",
   "execution_count": 1,
   "id": "242c4aad",
   "metadata": {},
   "outputs": [
    {
     "name": "stdout",
     "output_type": "stream",
     "text": [
      "1 X 1 = 1    \n",
      "1 X 2 = 2  2 X 2 = 4    \n",
      "1 X 3 = 3  2 X 3 = 6  3 X 3 = 9    \n",
      "1 X 4 = 4  2 X 4 = 8  3 X 4 = 12  4 X 4 = 16    \n",
      "1 X 5 = 5  2 X 5 = 10  3 X 5 = 15  4 X 5 = 20  5 X 5 = 25    \n",
      "1 X 6 = 6  2 X 6 = 12  3 X 6 = 18  4 X 6 = 24  5 X 6 = 30  6 X 6 = 36    \n",
      "1 X 7 = 7  2 X 7 = 14  3 X 7 = 21  4 X 7 = 28  5 X 7 = 35  6 X 7 = 42  7 X 7 = 49    \n",
      "1 X 8 = 8  2 X 8 = 16  3 X 8 = 24  4 X 8 = 32  5 X 8 = 40  6 X 8 = 48  7 X 8 = 56  8 X 8 = 64    \n",
      "1 X 9 = 9  2 X 9 = 18  3 X 9 = 27  4 X 9 = 36  5 X 9 = 45  6 X 9 = 54  7 X 9 = 63  8 X 9 = 72  9 X 9 = 81    \n"
     ]
    }
   ],
   "source": [
    "#打印99乘法表\n",
    "for i in range(1,10):\n",
    "    for j in range(1,i+1):\n",
    "        print( '%d X %d = %d' % (j,i,i*j),end = '  ' )\n",
    "    print('  ')"
   ]
  },
  {
   "cell_type": "code",
   "execution_count": 2,
   "id": "8711b016",
   "metadata": {},
   "outputs": [
    {
     "name": "stdout",
     "output_type": "stream",
     "text": [
      "欢迎使用圆的面积和周长计算程序。\n",
      "请输入圆的半径:3\n",
      "圆的面积是：28.259999999999998\n",
      "圆的周长是：18.84\n"
     ]
    }
   ],
   "source": [
    "# 定义变量\n",
    "pi = 3.14\n",
    "\n",
    "# 按流程图中的步骤写代码\n",
    "print('欢迎使用圆的面积和周长计算程序。')\n",
    "R = float(input('请输入圆的半径:'))\n",
    "S = pi*R*R\n",
    "L = 2*pi*R\n",
    "print('圆的面积是：' + str(S) + '\\n' + '圆的周长是：' + str(L))"
   ]
  },
  {
   "cell_type": "markdown",
   "id": "c19256b4",
   "metadata": {},
   "source": [
    "# 规整的字符串输出"
   ]
  },
  {
   "cell_type": "code",
   "execution_count": 3,
   "id": "8f801ccf",
   "metadata": {},
   "outputs": [],
   "source": [
    "#规整输出字符串：\n",
    "def data_2_string(data):\n",
    "    temp = np.array(data)\n",
    "    #标题栏\n",
    "    label = data.columns.tolist()\n",
    "    #数据行\n",
    "    data_list =[]\n",
    "    for i in range(data.shape[0]):\n",
    "        data_temp = temp[i].tolist()\n",
    "        data_list.append(data_temp)\n",
    "    #构建字符文字\n",
    "    text = '-'*80\n",
    "    str_f1 = '{:^10} | {:^10} | {:^10} | {:^10}  |  {:^10}  |  {:^10}'\n",
    "    text = text+'\\n'+'-'*80\n",
    "    for i in [label]:\n",
    "        text = text+'\\n'+str_f1.format(*i)\n",
    "    str_f2 = '{:^10} | {:^10} | {:^10} | {:^10}  |{:^10} |  {:^10}'\n",
    "    for i in data_list:\n",
    "        text = text+'\\n'+str_f2.format(*i)\n",
    "    text = text+'\\n'+'-'*80\n",
    "    return text"
   ]
  },
  {
   "cell_type": "code",
   "execution_count": null,
   "id": "047b291d",
   "metadata": {},
   "outputs": [],
   "source": [
    "from prettytable import PrettyTable\n",
    "\n",
    "\n",
    "def format_for_print2(df):\n",
    "    table = PrettyTable(list(df.columns))\n",
    "    for row in df.itertuples():\n",
    "        table.add_row(row[1:])\n",
    "    return table.get_string()\n",
    "print(format_for_print2(df_f_num_break))"
   ]
  },
  {
   "cell_type": "markdown",
   "id": "80b2b5f1",
   "metadata": {},
   "source": [
    "# 文档处理"
   ]
  },
  {
   "cell_type": "code",
   "execution_count": null,
   "id": "3c925aef",
   "metadata": {},
   "outputs": [],
   "source": [
    "file1 = open('scores.txt','r',encoding='utf-8') \n",
    "file_lines = file1.readlines() \n",
    "file1.close()\n",
    "\n",
    "final_scores = []\n",
    "\n",
    "for i in file_lines:\n",
    "    data =i.split()\n",
    "    sum = 0                         # 先把总成绩设为0\n",
    "    for score in data[1:]:          # 遍历列表中第1个数据和之后的数据\n",
    "        sum = sum + int(score)      # 然后依次加起来，但分数是字符串，所以要转换    \n",
    "    result = data[0]+str(sum)+'\\n'  # 结果就是学生姓名和总分\n",
    "    print(result)\n",
    "    final_scores.append(result)\n",
    "\n",
    "print(final_scores)\n",
    "\n",
    "sum1 = open('winner.txt','w',encoding='utf-8') \n",
    "sum1.writelines(final_scores)\n",
    "sum1.close()"
   ]
  },
  {
   "cell_type": "code",
   "execution_count": null,
   "id": "a2752bab",
   "metadata": {},
   "outputs": [],
   "source": [
    "# 下面注释掉的代码，皆为检验代码（验证每一步的思路和代码是否达到目标，可解除注释后运行）。\n",
    "\n",
    "file1 = open('winner.txt','r',encoding='utf-8') \n",
    "file_lines = file1.readlines() \n",
    "file1.close()\n",
    "\n",
    "dict_scores = {}\n",
    "list_scores = []\n",
    "final_scores = []\n",
    "\n",
    "# print(file_lines) \n",
    "# print(len('\\n'))\n",
    "\n",
    "# 打印结果为：['罗恩102\\n', '哈利383\\n', '赫敏570\\n', '马尔福275\\n']\n",
    "# 经过测试，发现'\\n'的长度是1。所以，名字是“第0位-倒数第5位”，分数是“倒数第4位-倒数第二位”。\n",
    "# 再根据“左取右不取”，可知：name-[:-4],score-[-4:-1]\n",
    "\n",
    "for i in file_lines:  # i是字符串。\n",
    "    print(i)\n",
    "    name = i[:-4]  # 取出名字（注：字符串和列表一样，是通过偏移量来获取内部数据。）\n",
    "    score = int(i[-4:-1])  # 取出成绩\n",
    "    print(name)\n",
    "    print(score)\n",
    "    dict_scores[score] = name  # 将名字和成绩对应存为字典的键值对(注意：这里的成绩是键)\n",
    "    list_scores.append(score)\n",
    "\n",
    "# print(list_scores)\n",
    "list_scores.sort(reverse=True)  # reverse，逆行，所以这时列表降序排列，分数从高到低。\n",
    "# print(list_scores)\n",
    "\n",
    "for i in list_scores:\n",
    "    result = dict_scores[i] + str(i) + '\\n'\n",
    "    # print(result)\n",
    "    final_scores.append(result)\n",
    "\n",
    "print(final_scores)  # 最终结果\n",
    "\n",
    "winner_new = open('winner_new.txt','w',encoding='utf-8') \n",
    "winner_new.writelines(final_scores)\n",
    "winner_new.close()"
   ]
  }
 ],
 "metadata": {
  "kernelspec": {
   "display_name": "Python 3 (ipykernel)",
   "language": "python",
   "name": "python3"
  },
  "language_info": {
   "codemirror_mode": {
    "name": "ipython",
    "version": 3
   },
   "file_extension": ".py",
   "mimetype": "text/x-python",
   "name": "python",
   "nbconvert_exporter": "python",
   "pygments_lexer": "ipython3",
   "version": "3.11.5"
  },
  "toc": {
   "base_numbering": 1,
   "nav_menu": {},
   "number_sections": true,
   "sideBar": true,
   "skip_h1_title": false,
   "title_cell": "Table of Contents",
   "title_sidebar": "Contents",
   "toc_cell": false,
   "toc_position": {},
   "toc_section_display": true,
   "toc_window_display": false
  }
 },
 "nbformat": 4,
 "nbformat_minor": 5
}
