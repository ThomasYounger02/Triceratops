{
 "cells": [
  {
   "cell_type": "code",
   "execution_count": 2,
   "id": "05f2453a",
   "metadata": {},
   "outputs": [],
   "source": [
    "import pandas as pd\n",
    "import numpy as np"
   ]
  },
  {
   "cell_type": "code",
   "execution_count": 14,
   "id": "81535507",
   "metadata": {},
   "outputs": [],
   "source": [
    "def display_all(items):\n",
    "    i = 0\n",
    "    for item in items:\n",
    "        print('-'*60)\n",
    "        print(f'第{i+1}个：')\n",
    "        print(item)\n",
    "        print('数据类型：', type(item))\n",
    "        i = i+1"
   ]
  },
  {
   "cell_type": "markdown",
   "id": "639a83b7",
   "metadata": {},
   "source": [
    "# Series\n",
    "类似一维数组，由一组数据以及一组与之相关的数据标签(索引)构成。"
   ]
  },
  {
   "cell_type": "markdown",
   "id": "537a694b",
   "metadata": {},
   "source": [
    "# 创建"
   ]
  },
  {
   "cell_type": "code",
   "execution_count": 15,
   "id": "c6b75510",
   "metadata": {},
   "outputs": [
    {
     "name": "stdout",
     "output_type": "stream",
     "text": [
      "------------------------------------------------------------\n",
      "第1个：\n",
      "0    4\n",
      "1    7\n",
      "2   -5\n",
      "3    3\n",
      "dtype: int64\n",
      "数据类型： <class 'pandas.core.series.Series'>\n",
      "------------------------------------------------------------\n",
      "第2个：\n",
      "d    4\n",
      "b    7\n",
      "a   -5\n",
      "e    3\n",
      "dtype: int64\n",
      "数据类型： <class 'pandas.core.series.Series'>\n"
     ]
    }
   ],
   "source": [
    "a_list = [4, 7, -5, 3]\n",
    "obj1 = pd.Series(a_list)\n",
    "obj2 = pd.Series(a_list, index=['d', 'b', 'a', 'e'])\n",
    "\n",
    "item_list = [obj1, obj2]\n",
    "display_all(item_list)"
   ]
  },
  {
   "cell_type": "markdown",
   "id": "d419a2aa",
   "metadata": {},
   "source": [
    "## 通过字典构建"
   ]
  },
  {
   "cell_type": "code",
   "execution_count": 16,
   "id": "3670a613",
   "metadata": {},
   "outputs": [
    {
     "name": "stdout",
     "output_type": "stream",
     "text": [
      "------------------------------------------------------------\n",
      "第1个：\n",
      "Ohio      35000\n",
      "Texas     71000\n",
      "Oregon    16000\n",
      "Utah       5000\n",
      "dtype: int64\n",
      "数据类型： <class 'pandas.core.series.Series'>\n",
      "------------------------------------------------------------\n",
      "第2个：\n",
      "California        NaN\n",
      "Ohio          35000.0\n",
      "Oregon        16000.0\n",
      "Texas         71000.0\n",
      "dtype: float64\n",
      "数据类型： <class 'pandas.core.series.Series'>\n"
     ]
    }
   ],
   "source": [
    "sdata = {\n",
    "    'Ohio': 35000,\n",
    "    'Texas': 71000,\n",
    "    'Oregon': 16000,\n",
    "    'Utah': 5000\n",
    "    }\n",
    "obj3 = pd.Series(sdata)     # 只传入一个字典，Series的索引就是原字典的键\n",
    "\n",
    "states = ['California', 'Ohio', 'Oregon', 'Texas']  # 指定index\n",
    "obj4 = pd.Series(sdata, index=states)  # 调整了index对应数据的顺序，没有键的index，数值为空\n",
    "\n",
    "item_list = [obj3, obj4]\n",
    "display_all(item_list)"
   ]
  },
  {
   "cell_type": "markdown",
   "id": "a15adb06",
   "metadata": {},
   "source": [
    "# 属性"
   ]
  },
  {
   "cell_type": "code",
   "execution_count": 19,
   "id": "dfb4d052",
   "metadata": {},
   "outputs": [
    {
     "name": "stdout",
     "output_type": "stream",
     "text": [
      "------------------------------------------------------------\n",
      "第1个：\n",
      "[ 4  7 -5  3]\n",
      "数据类型： <class 'numpy.ndarray'>\n",
      "------------------------------------------------------------\n",
      "第2个：\n",
      "Index(['d', 'b', 'a', 'e'], dtype='object')\n",
      "数据类型： <class 'pandas.core.indexes.base.Index'>\n",
      "------------------------------------------------------------\n",
      "第3个：\n",
      "Index(['Ohio', 'Texas', 'Oregon', 'Utah'], dtype='object')\n",
      "数据类型： <class 'pandas.core.indexes.base.Index'>\n",
      "------------------------------------------------------------\n",
      "第4个：\n",
      "population\n",
      "数据类型： <class 'str'>\n",
      "------------------------------------------------------------\n",
      "第5个：\n",
      "state\n",
      "数据类型： <class 'str'>\n"
     ]
    }
   ],
   "source": [
    "a = obj1.values   # 值\n",
    "b = obj2.index    # index\n",
    "c = obj3.index\n",
    "\n",
    "# 为name属性赋值\n",
    "obj4.name = 'population'\n",
    "obj4.index.name = 'state'\n",
    "\n",
    "d = obj4.name\n",
    "e = obj4.index.name\n",
    "\n",
    "item_list = [a, b, c, d, e]\n",
    "display_all(item_list)"
   ]
  },
  {
   "cell_type": "code",
   "execution_count": 20,
   "id": "bea7876b",
   "metadata": {},
   "outputs": [
    {
     "data": {
      "text/plain": [
       "state\n",
       "California        NaN\n",
       "Ohio          35000.0\n",
       "Oregon        16000.0\n",
       "Texas         71000.0\n",
       "Name: population, dtype: float64"
      ]
     },
     "execution_count": 20,
     "metadata": {},
     "output_type": "execute_result"
    }
   ],
   "source": [
    "obj4"
   ]
  },
  {
   "cell_type": "markdown",
   "id": "259ddc43",
   "metadata": {},
   "source": [
    "# 索引"
   ]
  },
  {
   "cell_type": "code",
   "execution_count": 35,
   "id": "c76b4047",
   "metadata": {},
   "outputs": [
    {
     "name": "stdout",
     "output_type": "stream",
     "text": [
      "------------------------------------------------------------\n",
      "第1个：\n",
      "d    4\n",
      "b    7\n",
      "a   -5\n",
      "e    3\n",
      "dtype: int64\n",
      "数据类型： <class 'pandas.core.series.Series'>\n",
      "------------------------------------------------------------\n",
      "第2个：\n",
      "-5\n",
      "数据类型： <class 'numpy.int64'>\n",
      "------------------------------------------------------------\n",
      "第3个：\n",
      "a   -5\n",
      "b    7\n",
      "e    3\n",
      "dtype: int64\n",
      "数据类型： <class 'pandas.core.series.Series'>\n",
      "------------------------------------------------------------\n",
      "第4个：\n",
      "b    7\n",
      "a   -5\n",
      "e    3\n",
      "dtype: int64\n",
      "数据类型： <class 'pandas.core.series.Series'>\n"
     ]
    }
   ],
   "source": [
    "a = obj2['a']               # 通过索引选取单个值\n",
    "b = obj2[['a', 'b', 'e']]   # 通过索引选取一组值\n",
    "c = obj2[obj2.index[1:]]    # 通过index范围过滤\n",
    "\n",
    "item_list = [obj2, a, b, c]\n",
    "display_all(item_list)"
   ]
  },
  {
   "cell_type": "markdown",
   "id": "50f6281a",
   "metadata": {},
   "source": [
    "## 通过bool值筛选"
   ]
  },
  {
   "cell_type": "code",
   "execution_count": 26,
   "id": "1b82e1e8",
   "metadata": {},
   "outputs": [
    {
     "name": "stdout",
     "output_type": "stream",
     "text": [
      "------------------------------------------------------------\n",
      "第1个：\n",
      "d    4\n",
      "b    7\n",
      "a   -5\n",
      "e    3\n",
      "dtype: int64\n",
      "数据类型： <class 'pandas.core.series.Series'>\n",
      "------------------------------------------------------------\n",
      "第2个：\n",
      "d    4\n",
      "b    7\n",
      "e    3\n",
      "dtype: int64\n",
      "数据类型： <class 'pandas.core.series.Series'>\n",
      "------------------------------------------------------------\n",
      "第3个：\n",
      "d     8\n",
      "b    14\n",
      "a   -10\n",
      "e     6\n",
      "dtype: int64\n",
      "数据类型： <class 'pandas.core.series.Series'>\n"
     ]
    }
   ],
   "source": [
    "a = obj2[obj2>2]       # numpy数组运算（布尔过滤，标量，函数）都会保留索引和值的链接\n",
    "b = obj2*2\n",
    "\n",
    "item_list = [obj2, a, b]\n",
    "display_all(item_list)"
   ]
  },
  {
   "cell_type": "markdown",
   "id": "eb23c48d",
   "metadata": {},
   "source": [
    "# 缺失情况"
   ]
  },
  {
   "cell_type": "code",
   "execution_count": 27,
   "id": "c3388240",
   "metadata": {},
   "outputs": [
    {
     "name": "stdout",
     "output_type": "stream",
     "text": [
      "------------------------------------------------------------\n",
      "第1个：\n",
      "state\n",
      "California        NaN\n",
      "Ohio          35000.0\n",
      "Oregon        16000.0\n",
      "Texas         71000.0\n",
      "Name: population, dtype: float64\n",
      "数据类型： <class 'pandas.core.series.Series'>\n",
      "------------------------------------------------------------\n",
      "第2个：\n",
      "state\n",
      "California     True\n",
      "Ohio          False\n",
      "Oregon        False\n",
      "Texas         False\n",
      "Name: population, dtype: bool\n",
      "数据类型： <class 'pandas.core.series.Series'>\n",
      "------------------------------------------------------------\n",
      "第3个：\n",
      "state\n",
      "California     True\n",
      "Ohio          False\n",
      "Oregon        False\n",
      "Texas         False\n",
      "Name: population, dtype: bool\n",
      "数据类型： <class 'pandas.core.series.Series'>\n",
      "------------------------------------------------------------\n",
      "第4个：\n",
      "state\n",
      "California    False\n",
      "Ohio           True\n",
      "Oregon         True\n",
      "Texas          True\n",
      "Name: population, dtype: bool\n",
      "数据类型： <class 'pandas.core.series.Series'>\n"
     ]
    }
   ],
   "source": [
    "a = pd.isnull(obj4)       # isnull函数\n",
    "b = obj4.isnull()         # 实例方法\n",
    "c = pd.notnull(obj4)      # notnull函数\n",
    "\n",
    "item_list = [obj4, a, b, c]\n",
    "display_all(item_list)"
   ]
  },
  {
   "cell_type": "markdown",
   "id": "51bc0bdc",
   "metadata": {},
   "source": [
    "# 运算"
   ]
  },
  {
   "cell_type": "markdown",
   "id": "732066d9",
   "metadata": {},
   "source": [
    "## 数据对齐"
   ]
  },
  {
   "cell_type": "code",
   "execution_count": 30,
   "id": "d754a251",
   "metadata": {},
   "outputs": [
    {
     "name": "stdout",
     "output_type": "stream",
     "text": [
      "------------------------------------------------------------\n",
      "第1个：\n",
      "Ohio      35000\n",
      "Texas     71000\n",
      "Oregon    16000\n",
      "Utah       5000\n",
      "dtype: int64\n",
      "数据类型： <class 'pandas.core.series.Series'>\n",
      "------------------------------------------------------------\n",
      "第2个：\n",
      "state\n",
      "California        NaN\n",
      "Ohio          35000.0\n",
      "Oregon        16000.0\n",
      "Texas         71000.0\n",
      "Name: population, dtype: float64\n",
      "数据类型： <class 'pandas.core.series.Series'>\n",
      "------------------------------------------------------------\n",
      "第3个：\n",
      "California         NaN\n",
      "Ohio           70000.0\n",
      "Oregon         32000.0\n",
      "Texas         142000.0\n",
      "Utah               NaN\n",
      "dtype: float64\n",
      "数据类型： <class 'pandas.core.series.Series'>\n"
     ]
    }
   ],
   "source": [
    "new_obj = obj3+obj4\n",
    "\n",
    "item_list=[obj3, obj4, new_obj\n",
    "display_all(item_list)"
   ]
  },
  {
   "cell_type": "code",
   "execution_count": null,
   "id": "e42fe5d8",
   "metadata": {},
   "outputs": [],
   "source": []
  }
 ],
 "metadata": {
  "kernelspec": {
   "display_name": "Python 3 (ipykernel)",
   "language": "python",
   "name": "python3"
  },
  "language_info": {
   "codemirror_mode": {
    "name": "ipython",
    "version": 3
   },
   "file_extension": ".py",
   "mimetype": "text/x-python",
   "name": "python",
   "nbconvert_exporter": "python",
   "pygments_lexer": "ipython3",
   "version": "3.11.5"
  },
  "toc": {
   "base_numbering": 1,
   "nav_menu": {},
   "number_sections": true,
   "sideBar": true,
   "skip_h1_title": false,
   "title_cell": "Table of Contents",
   "title_sidebar": "Contents",
   "toc_cell": false,
   "toc_position": {},
   "toc_section_display": true,
   "toc_window_display": true
  }
 },
 "nbformat": 4,
 "nbformat_minor": 5
}
