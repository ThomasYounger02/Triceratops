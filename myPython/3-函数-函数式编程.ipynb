{
 "cells": [
  {
   "cell_type": "markdown",
   "id": "e5e017fd",
   "metadata": {},
   "source": [
    "# 函数式编程Functional Programming\n",
    "\n",
    "- 函数：面向过程编程范式的基本单元；\n",
    "- 函数本身可以作为参数传入另一个函数，也允许返回一个函数。【一切皆对象】\n"
   ]
  },
  {
   "cell_type": "code",
   "execution_count": 1,
   "id": "720b259f",
   "metadata": {},
   "outputs": [],
   "source": [
    "import numpy as np\n",
    "import pandas as pd"
   ]
  },
  {
   "cell_type": "markdown",
   "id": "915480e0",
   "metadata": {},
   "source": [
    "# 特别注意\n",
    "## lambda表达式-不想给简单函数取一个名字\n",
    "- 省略函数定义过程；\n",
    "- 简化代码；\n",
    "- 不用考虑函数名，不用担心函数名冲突；\n",
    "- 无须通过return返回计算结果，表达式的结果就默认为返回值；"
   ]
  },
  {
   "cell_type": "code",
   "execution_count": 2,
   "id": "8d64ff1e",
   "metadata": {},
   "outputs": [
    {
     "data": {
      "text/plain": [
       "<function __main__.<lambda>(x, y)>"
      ]
     },
     "execution_count": 2,
     "metadata": {},
     "output_type": "execute_result"
    }
   ],
   "source": [
    "lambda x, y: x+y          # 返回对象是一个函数"
   ]
  },
  {
   "cell_type": "code",
   "execution_count": 3,
   "id": "1c920d7e",
   "metadata": {},
   "outputs": [
    {
     "data": {
      "text/plain": [
       "14"
      ]
     },
     "execution_count": 3,
     "metadata": {},
     "output_type": "execute_result"
    }
   ],
   "source": [
    "f = lambda x, y: x+y     # 可以将lambd表达式赋值给一个变量，匿名函数lambda变得有“名”了。\n",
    "\n",
    "f(5, 9)"
   ]
  },
  {
   "cell_type": "markdown",
   "id": "b297304e",
   "metadata": {},
   "source": [
    "## filter( )-制定筛选规则-过滤满足条件的序列\n",
    "- 一个过滤器，作用于可迭代数据。根据第一个参数评估函数，筛选出符合条件的元素；\n",
    "- 返回一个迭代器；"
   ]
  },
  {
   "cell_type": "code",
   "execution_count": 4,
   "id": "13840e41",
   "metadata": {},
   "outputs": [
    {
     "name": "stdout",
     "output_type": "stream",
     "text": [
      "----------------------------------------\n",
      "i  \n",
      "i  \n",
      "a  \n",
      "o  \n",
      "----------------------------------------\n",
      "['i', 'i', 'a', 'o']\n"
     ]
    }
   ],
   "source": [
    "# 自定义一个过滤函数\n",
    "def is_vowel(letter):\n",
    "    vowels = list('aeiou')\n",
    "    if letter in vowels:\n",
    "        return True\n",
    "    else:\n",
    "        return False\n",
    "    \n",
    "# 结合使用\n",
    "sequence = list('This is a short txt!')\n",
    "\n",
    "filtered = filter(is_vowel, sequence)   # 返回迭代器对象，用1次后即弃，给出函数名称即可，不需要括号，后续map等同此逻辑。\n",
    "\n",
    "print('-'*40)\n",
    "# print(list(filtered))\n",
    "for e in filtered:                      # filtered不能直接调用，要转换为列表/遍历\n",
    "    print(e, ' ')\n",
    "    \n",
    "print('-'*40)\n",
    "# 用lambda改写\n",
    "new_filtered = filter(lambda x: True if x in list('aeiou') else False, sequence)\n",
    "print(list(new_filtered))"
   ]
  },
  {
   "cell_type": "markdown",
   "id": "7590bf6a",
   "metadata": {},
   "source": [
    "## map( )-制定规则-转换为另一个序列"
   ]
  },
  {
   "cell_type": "code",
   "execution_count": 5,
   "id": "d86867be",
   "metadata": {},
   "outputs": [
    {
     "name": "stdout",
     "output_type": "stream",
     "text": [
      "[5, 6, 6, 6]\n",
      "----------------------------------------\n",
      "['I love apple', 'I hate banana', 'I love cherry', 'I hate carmel']\n",
      "----------------------------------------\n",
      "[5, 7, 9]\n",
      "----------------------------------------\n"
     ]
    }
   ],
   "source": [
    "pre_list = ['I love ', 'I hate ', 'I love ', 'I hate ']\n",
    "word_list = ['apple', 'banana', 'cherry', 'carmel']\n",
    "\n",
    "def special_add(a, b):\n",
    "    return a+b\n",
    "\n",
    "\n",
    "# 一元\n",
    "word_len = map(lambda x: len(x), word_list)        # 为什么不用列表推导式？map函数的执行效率更高\n",
    "print(list(word_len))\n",
    "print('-'*40)\n",
    "\n",
    "# 二元\n",
    "word_cat = map(special_add, pre_list, word_list)   # 函数对象需要几个参数，后续需要跟进几个序列\n",
    "print(list(word_cat))\n",
    "print('-'*40)\n",
    "\n",
    "# 行参被实例转化为整数。型参类型由调用的实参决定\n",
    "num_a = [1, 2, 3]\n",
    "num_b = [4, 5, 6]\n",
    "num_result = map(special_add, num_a, num_b)\n",
    "print(list(num_result))\n",
    "print('-'*40)"
   ]
  },
  {
   "cell_type": "markdown",
   "id": "35653a7d",
   "metadata": {},
   "source": [
    "## reduce( )-规约-依次累计计算\n",
    "- 前两个元素进行计算，得到的结果和第三个元素计算，依次类推；"
   ]
  },
  {
   "cell_type": "code",
   "execution_count": 6,
   "id": "a45b2693",
   "metadata": {},
   "outputs": [],
   "source": [
    "from functools import reduce"
   ]
  },
  {
   "cell_type": "code",
   "execution_count": 7,
   "id": "86c6e04d",
   "metadata": {},
   "outputs": [
    {
     "name": "stdout",
     "output_type": "stream",
     "text": [
      "15\n",
      "5\n"
     ]
    }
   ],
   "source": [
    "num_a = np.arange(1, 6)\n",
    "\n",
    "sum_result = reduce(lambda x, y: x+y, num_a)      # 实现依次累计\n",
    "max_result = reduce(lambda x, y: x if x>y else y, num_a)\n",
    "\n",
    "print(sum_result)\n",
    "print(max_result)"
   ]
  },
  {
   "cell_type": "markdown",
   "id": "3798de36",
   "metadata": {},
   "source": [
    "## sorted( )-排序-通过函数指定排序标准"
   ]
  },
  {
   "cell_type": "code",
   "execution_count": 8,
   "id": "c7504288",
   "metadata": {},
   "outputs": [
    {
     "name": "stdout",
     "output_type": "stream",
     "text": [
      "[70, 60, 90, 10, -30, -100, -200]\n",
      "[90, 70, 60, 10, -30, -100, -200]\n",
      "[-200, -100, 90, 70, 60, -30, 10]\n",
      "[-200, -100, 90, 70, 60, -30, 10]\n"
     ]
    }
   ],
   "source": [
    "# 简单功能实现\n",
    "a = [70, 60, 90, 10, -30, -100, -200]\n",
    "b = sorted(a, reverse=True)\n",
    "\n",
    "print(a)\n",
    "print(b)\n",
    "\n",
    "\n",
    "# 复杂排序条件\n",
    "c = sorted(a, key=abs, reverse=True)    # 按绝对值大小排序\n",
    "print(c)\n",
    "\n",
    "# 利用本身的sort()函数\n",
    "a.sort(key=abs, reverse=True)           # 不需要inplace=True条件\n",
    "print(a)"
   ]
  },
  {
   "cell_type": "code",
   "execution_count": null,
   "id": "5511f14a",
   "metadata": {},
   "outputs": [],
   "source": []
  }
 ],
 "metadata": {
  "kernelspec": {
   "display_name": "Python 3 (ipykernel)",
   "language": "python",
   "name": "python3"
  },
  "language_info": {
   "codemirror_mode": {
    "name": "ipython",
    "version": 3
   },
   "file_extension": ".py",
   "mimetype": "text/x-python",
   "name": "python",
   "nbconvert_exporter": "python",
   "pygments_lexer": "ipython3",
   "version": "3.11.5"
  },
  "toc": {
   "base_numbering": 1,
   "nav_menu": {},
   "number_sections": true,
   "sideBar": true,
   "skip_h1_title": false,
   "title_cell": "Table of Contents",
   "title_sidebar": "Contents",
   "toc_cell": false,
   "toc_position": {},
   "toc_section_display": true,
   "toc_window_display": true
  }
 },
 "nbformat": 4,
 "nbformat_minor": 5
}
