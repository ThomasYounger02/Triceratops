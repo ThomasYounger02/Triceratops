{
 "cells": [
  {
   "cell_type": "markdown",
   "id": "2e283ee7",
   "metadata": {},
   "source": [
    "# 常用元字符\n",
    "|代码|说明|\n",
    "|:---|:---|\n",
    "|`.`|匹配除换行符以外的任意字符|\n",
    "|`\\`|转义符，使后一个字符改变原来的意思|\n",
    "|`[]`|字符集，可以逐个列出字符`[abc]`，或给出范围`[a-z]`|\n",
    "|`\\w`|匹配字母、数字、下划线、汉字|\n",
    "|`\\s`|匹配任意的空白符，包括空格，制表符，换行符，中文全角，空格等|\n",
    "|`\\d`|匹配数字|\n",
    "|`\\b`|匹配单词的开头或结束|\n",
    "|`^`|匹配字符串的开始|\n",
    "|`$`|匹配字符串的结束|\n",
    "\n",
    "# 常用限定符\n",
    "|代码|说明|\n",
    "|:---|:---|\n",
    "|`*`|重复零次或更多次|\n",
    "|`+`|重复一次或更多次|\n",
    "|`?`|重复零次或一次|\n",
    "|`{n}`|重复n次|\n",
    "|`{n,}`|重复n次或更多次|\n",
    "|`{n,m}`|重复n到m次|\n",
    "\n",
    "# 分支条件\n",
    "- 满足其中任意一种规则就当成匹配成功，需要使用分枝条件;\n",
    "- 使用管道`|`把不同的规则分开，这时候会从左到右地测试每个条件，如果满足了其中一个分枝，后面的规则就被忽略掉。\n",
    "\n",
    "# 分组\n",
    "使用`()`来指定子表达式，可以指定这个子表达式的重复次数或者进行其它操作。\n",
    "\n",
    "# 反义\n",
    "|代码|说明|\n",
    "|:---|:---|\n",
    "|`\\W`|匹配任意不是字母、数字、下划线、汉字的字符|\n",
    "|`\\S`|匹配任意不是空白符的字符|\n",
    "|`\\D`|匹配任意非数字的字符|\n",
    "|`\\B`|匹配不是单词开头或者结束的位置|\n",
    "|`^x`|匹配除了x以外的任意字符|\n",
    "|`^aeiou`|匹配除了aeiou这几个字母以外的任意字符|\n",
    "\n",
    "# 贪心和非贪心\n",
    "|代码|说明|\n",
    "|:---|:---|\n",
    "|`*?`|重复任意次，但尽可能少重复|\n",
    "|`+?`|重复1次或者更多次，但尽可能少重复|\n",
    "|`??`|重复0次或1次，但尽可能少重复|\n",
    "|`{n,m}?`|重复n到m次，但尽可能少重复|\n",
    "|`{n,}?`|重复n次以上，但尽可能少重复|\n",
    "\n",
    "\n",
    "https://zhuanlan.zhihu.com/p/26019553\n",
    "https://www.jb51.net/article/177521.htm"
   ]
  },
  {
   "cell_type": "code",
   "execution_count": 1,
   "id": "37004670",
   "metadata": {},
   "outputs": [],
   "source": [
    "import re"
   ]
  },
  {
   "cell_type": "code",
   "execution_count": 7,
   "id": "8d95e157",
   "metadata": {},
   "outputs": [],
   "source": [
    "a = 'My phone number is 021-12345678'"
   ]
  },
  {
   "cell_type": "code",
   "execution_count": 8,
   "id": "72f4291a",
   "metadata": {},
   "outputs": [
    {
     "data": {
      "text/plain": [
       "'number'"
      ]
     },
     "execution_count": 8,
     "metadata": {},
     "output_type": "execute_result"
    }
   ],
   "source": [
    "pattern = r'\\b\\w{6}\\b'         # 匹配6个字符的单词\n",
    "\n",
    "regex = re.compile(pattern)    # 创建一个regex对象，使用r'',表示原始字符串不需要转义\n",
    "text = regex.search(a)         # 返回一个match对象，包含被查找字符串中的第一次被匹配的文本\n",
    "text.group()                   # 调用group()返回结果"
   ]
  },
  {
   "cell_type": "code",
   "execution_count": 9,
   "id": "406fed31",
   "metadata": {},
   "outputs": [
    {
     "data": {
      "text/plain": [
       "'021-12345678'"
      ]
     },
     "execution_count": 9,
     "metadata": {},
     "output_type": "execute_result"
    }
   ],
   "source": [
    "pattern = r'0\\d{2}-\\d{8}|0\\d{3}-\\d{7}'    #注意分支条件的使用\n",
    "\n",
    "regex = re.compile(pattern)    \n",
    "text = regex.search(a)\n",
    "text.group()"
   ]
  },
  {
   "cell_type": "code",
   "execution_count": null,
   "id": "38afd672",
   "metadata": {},
   "outputs": [],
   "source": []
  }
 ],
 "metadata": {
  "kernelspec": {
   "display_name": "Python 3 (ipykernel)",
   "language": "python",
   "name": "python3"
  },
  "language_info": {
   "codemirror_mode": {
    "name": "ipython",
    "version": 3
   },
   "file_extension": ".py",
   "mimetype": "text/x-python",
   "name": "python",
   "nbconvert_exporter": "python",
   "pygments_lexer": "ipython3",
   "version": "3.11.5"
  },
  "toc": {
   "base_numbering": 1,
   "nav_menu": {},
   "number_sections": true,
   "sideBar": true,
   "skip_h1_title": false,
   "title_cell": "Table of Contents",
   "title_sidebar": "Contents",
   "toc_cell": false,
   "toc_position": {},
   "toc_section_display": true,
   "toc_window_display": false
  }
 },
 "nbformat": 4,
 "nbformat_minor": 5
}
