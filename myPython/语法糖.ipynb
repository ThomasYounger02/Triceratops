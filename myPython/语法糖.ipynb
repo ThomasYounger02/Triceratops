{
 "cells": [
  {
   "cell_type": "markdown",
   "id": "9cad1e34",
   "metadata": {},
   "source": [
    "# 语法糖\n",
    "> 语法糖是有编程语言提供的一种可以让代码在**不影响语句执行**的情况下，让代码看起来更简洁和美观的一种语法。   \n",
    "\n",
    "编程语言中的特殊写法，让编程过程更方便，更易理解。"
   ]
  },
  {
   "cell_type": "code",
   "execution_count": 1,
   "id": "6e1032b8",
   "metadata": {},
   "outputs": [],
   "source": [
    "import pandas as pd"
   ]
  },
  {
   "cell_type": "markdown",
   "id": "1924cb22",
   "metadata": {},
   "source": [
    "# 常用语法糖\n",
    "## 下划线分割数字"
   ]
  },
  {
   "cell_type": "code",
   "execution_count": 2,
   "id": "0d9fd68e",
   "metadata": {},
   "outputs": [
    {
     "name": "stdout",
     "output_type": "stream",
     "text": [
      "1000000000\n",
      "1000000000\n",
      "1000000000\n"
     ]
    }
   ],
   "source": [
    "# 用下划线分割大数\n",
    "a = 1000000000\n",
    "b = 10*10000*10000\n",
    "c = 1_000_000_000\n",
    "\n",
    "print(a)\n",
    "print(b)\n",
    "print(c)"
   ]
  },
  {
   "cell_type": "markdown",
   "id": "46e65cb7",
   "metadata": {},
   "source": [
    "## 交换变量的值"
   ]
  },
  {
   "cell_type": "code",
   "execution_count": 3,
   "id": "5912a6f4",
   "metadata": {},
   "outputs": [
    {
     "name": "stdout",
     "output_type": "stream",
     "text": [
      "2\n",
      "1\n"
     ]
    }
   ],
   "source": [
    "# 直接交换变量的值\n",
    "a = 1; b = 2\n",
    "a, b = b, a\n",
    "\n",
    "print(a)\n",
    "print(b)"
   ]
  },
  {
   "cell_type": "markdown",
   "id": "25218909",
   "metadata": {},
   "source": [
    "## 判断变量\n",
    "### 判断变量范围"
   ]
  },
  {
   "cell_type": "code",
   "execution_count": 4,
   "id": "17cb559e",
   "metadata": {},
   "outputs": [
    {
     "name": "stdout",
     "output_type": "stream",
     "text": [
      "OK\n"
     ]
    }
   ],
   "source": [
    "# 判断变量是否在范围内\n",
    "a = 95\n",
    "if 90<=a<=100:           # 同时进行两侧比较\n",
    "    print('OK')"
   ]
  },
  {
   "cell_type": "markdown",
   "id": "26ed65b2",
   "metadata": {},
   "source": [
    "### 伪三元运算"
   ]
  },
  {
   "cell_type": "code",
   "execution_count": 5,
   "id": "3aaaf933",
   "metadata": {},
   "outputs": [
    {
     "name": "stdout",
     "output_type": "stream",
     "text": [
      "Good\n",
      "8\n"
     ]
    }
   ],
   "source": [
    "# 条件表达式\n",
    "score = 70\n",
    "result = 'Good' if score >60 else 'Bad'\n",
    "\n",
    "print(result)\n",
    "\n",
    "a = 5\n",
    "b = 8\n",
    "c = a if a>b else b\n",
    "print(c)"
   ]
  },
  {
   "cell_type": "markdown",
   "id": "26905bf4",
   "metadata": {},
   "source": [
    "### any或者all"
   ]
  },
  {
   "cell_type": "code",
   "execution_count": 6,
   "id": "dab217f9",
   "metadata": {},
   "outputs": [
    {
     "name": "stdout",
     "output_type": "stream",
     "text": [
      "[True, False, True, False, True]\n",
      "[True, True, True, True, True]\n",
      "True\n",
      "True\n"
     ]
    }
   ],
   "source": [
    "arr = [1, 2, 3, 4, 5]\n",
    "\n",
    "a = [x%2==1 for x in arr]\n",
    "b = [x>=1 for x in arr]\n",
    "print(a)\n",
    "print(b)\n",
    "\n",
    "any_a = any(a)       # np有类似函数\n",
    "all_b = all(b)\n",
    "print(any_a)\n",
    "print(all_b)"
   ]
  },
  {
   "cell_type": "markdown",
   "id": "8c49da9f",
   "metadata": {},
   "source": [
    "## 字符串\n",
    "### 字符串乘法与加法"
   ]
  },
  {
   "cell_type": "code",
   "execution_count": 7,
   "id": "bc2714ea",
   "metadata": {},
   "outputs": [
    {
     "name": "stdout",
     "output_type": "stream",
     "text": [
      "############################################################\n",
      "This is a line!\n"
     ]
    }
   ],
   "source": [
    "# 格式化字符串\n",
    "print('#'*60)                 # 字符串乘法\n",
    "print('This is'+' a line!')   # 字符串加法"
   ]
  },
  {
   "cell_type": "markdown",
   "id": "75a43207",
   "metadata": {},
   "source": [
    "### F- String"
   ]
  },
  {
   "cell_type": "code",
   "execution_count": 8,
   "id": "361f0e3c",
   "metadata": {},
   "outputs": [
    {
     "name": "stdout",
     "output_type": "stream",
     "text": [
      "Today is 2024-01-29 10:46:49.933539!\n",
      "Today is  January 29, 2024!\n",
      "Today is  01-29-2024!\n",
      "Today is  2024-01-29!\n"
     ]
    }
   ],
   "source": [
    "from datetime import datetime\n",
    "\n",
    "today = datetime.today()\n",
    "\n",
    "print(f\"Today is {today}!\")\n",
    "print(f\"Today is {today: %B %d, %Y}!\")\n",
    "print(f\"Today is {today: %m-%d-%Y}!\")\n",
    "print(f\"Today is {today: %Y-%m-%d}!\")"
   ]
  },
  {
   "cell_type": "markdown",
   "id": "ffbcf3e8",
   "metadata": {},
   "source": [
    "## 列表\n",
    "### 列表拼接"
   ]
  },
  {
   "cell_type": "code",
   "execution_count": 9,
   "id": "fa0627d0",
   "metadata": {},
   "outputs": [
    {
     "name": "stdout",
     "output_type": "stream",
     "text": [
      "[1, 2, 3, 4, 5, 6, 7, 8, 9]\n",
      "[1, 2, 3, 1, 2, 3]\n"
     ]
    }
   ],
   "source": [
    "# 列表拼接\n",
    "a = [1, 2, 3]\n",
    "b = [4, 5, 6, 7, 8, 9]\n",
    "c = 2\n",
    "\n",
    "new_1 = a+b      # 列表加法\n",
    "new_2 = a*c      # 列表*常数，自身重复拓展c次\n",
    "\n",
    "print(new_1)\n",
    "print(new_2)"
   ]
  },
  {
   "cell_type": "markdown",
   "id": "53950d48",
   "metadata": {},
   "source": [
    "### 列表切片"
   ]
  },
  {
   "cell_type": "code",
   "execution_count": 10,
   "id": "3e1e51e4",
   "metadata": {},
   "outputs": [
    {
     "name": "stdout",
     "output_type": "stream",
     "text": [
      "[4, 5, 6, 7]\n",
      "[1, 2, 3]\n",
      "[7, 8, 9]\n"
     ]
    }
   ],
   "source": [
    "# 列表切片\n",
    "a = [1, 2, 3, 4, 5, 6, 7, 8, 9]\n",
    "\n",
    "print(a[3:-2])\n",
    "print(a[:3])\n",
    "print(a[-3:])"
   ]
  },
  {
   "cell_type": "markdown",
   "id": "5cef1076",
   "metadata": {},
   "source": [
    "### 列表推导式"
   ]
  },
  {
   "cell_type": "code",
   "execution_count": 1,
   "id": "f60a2d90",
   "metadata": {},
   "outputs": [
    {
     "name": "stdout",
     "output_type": "stream",
     "text": [
      "[1, 2, 3, 4, 4]\n",
      "[2, 4, 6, 8, 8]\n",
      "[0, 2, 4, 6, 8]\n",
      "{16, 1, 4, 9}\n",
      "{1: 1, 2: 4, 3: 9, 4: 16}\n"
     ]
    }
   ],
   "source": [
    "a = [1, 2, 3, 4, 4]\n",
    "b = [i*2 for i in a]\n",
    "c = [i for i in range(10) if i%2==0]\n",
    "\n",
    "print(a)\n",
    "print(b)\n",
    "print(c)\n",
    "\n",
    "# 也可以用于集合\n",
    "set_c = {x**2 for x in a}\n",
    "print(set_c)\n",
    "\n",
    "# 用于字典\n",
    "dict_c = {x: x**2 for x in a}\n",
    "print(dict_c)"
   ]
  },
  {
   "cell_type": "markdown",
   "id": "0565fe7f",
   "metadata": {},
   "source": [
    "### 用zip组合多个list"
   ]
  },
  {
   "cell_type": "code",
   "execution_count": 7,
   "id": "63d393e7",
   "metadata": {},
   "outputs": [
    {
     "name": "stdout",
     "output_type": "stream",
     "text": [
      "[(1, 'Elon Mask', 'Very very rich'), (2, 'Tim Cook', 'Very rich'), (3, 'Bill Gates', 'Rich'), (4, 'Me', 'Poor')]\n"
     ]
    }
   ],
   "source": [
    "ids = [1, 2, 3, 4]\n",
    "names = ['Elon Mask', 'Tim Cook', 'Bill Gates', 'Me']\n",
    "wealth = ['Very very rich', 'Very rich', 'Rich', 'Poor']\n",
    "\n",
    "record = list(zip(ids, names, wealth))\n",
    "\n",
    "print(record)"
   ]
  },
  {
   "cell_type": "code",
   "execution_count": 8,
   "id": "b3e38005",
   "metadata": {},
   "outputs": [
    {
     "name": "stdout",
     "output_type": "stream",
     "text": [
      "1 Elon Mask Very very rich\n",
      "2 Tim Cook Very rich\n",
      "3 Bill Gates Rich\n",
      "4 Me Poor\n"
     ]
    }
   ],
   "source": [
    "# 在循环调用中方便拆包\n",
    "for id, name, wealth in zip(ids, names, wealth):\n",
    "    print(id, name, wealth)"
   ]
  },
  {
   "cell_type": "markdown",
   "id": "97a83a5f",
   "metadata": {},
   "source": [
    "## 字典\n",
    "### 用｜进行字典合并"
   ]
  },
  {
   "cell_type": "code",
   "execution_count": 13,
   "id": "b327d026",
   "metadata": {},
   "outputs": [
    {
     "name": "stdout",
     "output_type": "stream",
     "text": [
      "{'A': 1, 'B': 2, 'C': 3, 'D': 4, 'E': 5, 'F': 6}\n"
     ]
    }
   ],
   "source": [
    "d1 = {'A':1}\n",
    "d2 = {'B':2, 'C':3}\n",
    "d3 = {'D':4, 'E':5, 'F': 6}\n",
    "\n",
    "d4 = d1 | d2 | d3\n",
    "print(d4)"
   ]
  },
  {
   "cell_type": "markdown",
   "id": "53707ea6",
   "metadata": {},
   "source": [
    "## 匿名函数lambda"
   ]
  },
  {
   "cell_type": "code",
   "execution_count": 14,
   "id": "d82e4976",
   "metadata": {},
   "outputs": [
    {
     "name": "stdout",
     "output_type": "stream",
     "text": [
      "['sql', 'PHP', 'C++', 'java', 'Perl', 'python', 'Golang', 'kotlin']\n"
     ]
    }
   ],
   "source": [
    "lan_list = ['java', 'python', 'sql', 'PHP', 'C++', 'Golang', 'Perl', 'kotlin']\n",
    "lan_list.sort(key=lambda x: len(x))\n",
    "\n",
    "print(lan_list)"
   ]
  },
  {
   "cell_type": "markdown",
   "id": "d0f7805f",
   "metadata": {},
   "source": [
    "## Map函数"
   ]
  },
  {
   "cell_type": "code",
   "execution_count": 29,
   "id": "2e3b5afc",
   "metadata": {},
   "outputs": [
    {
     "name": "stdout",
     "output_type": "stream",
     "text": [
      "['lan-java', 'lan-python', 'lan-sql', 'lan-PHP', 'lan-C++', 'lan-Golang', 'lan-Perl', 'lan-kotlin']\n"
     ]
    }
   ],
   "source": [
    "lan_list = ['java', 'python', 'sql', 'PHP', 'C++', 'Golang', 'Perl', 'kotlin']\n",
    "b = map(lambda x: 'lan-'+x, lan_list)       # 将函数map到一个可迭代\n",
    "对象上\n",
    "b = list(b)\n",
    "\n",
    "print(b)"
   ]
  },
  {
   "cell_type": "markdown",
   "id": "f2d5ed74",
   "metadata": {},
   "source": [
    "## Filter过滤函数"
   ]
  },
  {
   "cell_type": "code",
   "execution_count": 27,
   "id": "bc1fed31",
   "metadata": {},
   "outputs": [
    {
     "name": "stdout",
     "output_type": "stream",
     "text": [
      "[0, 1, 2, 3, 4, 5, 6, 7, 8, 9]\n",
      "[0, 2, 4, 6, 8]\n"
     ]
    }
   ],
   "source": [
    "a = [i for i in range(10)]\n",
    "b = list(filter(lambda x: x%2==0, a))    # 将函数map到一个可叠戴对象上，保留True部分\n",
    "\n",
    "print(a)\n",
    "print(b)"
   ]
  },
  {
   "cell_type": "markdown",
   "id": "397598a5",
   "metadata": {},
   "source": [
    "## 解包与打包"
   ]
  },
  {
   "cell_type": "code",
   "execution_count": 17,
   "id": "f736e9a9",
   "metadata": {},
   "outputs": [
    {
     "name": "stdout",
     "output_type": "stream",
     "text": [
      "1 2 3\n"
     ]
    }
   ],
   "source": [
    "a = (1, 2, 3)\n",
    "\n",
    "# 直接解包\n",
    "x, y, z = a\n",
    "print(x, y, z)"
   ]
  },
  {
   "cell_type": "code",
   "execution_count": 18,
   "id": "b3f5dc8c",
   "metadata": {},
   "outputs": [
    {
     "name": "stdout",
     "output_type": "stream",
     "text": [
      "(1, 2, 3)\n",
      "<class 'tuple'>\n"
     ]
    }
   ],
   "source": [
    "# 直接打包\n",
    "b = x, y, z\n",
    "\n",
    "print(b)\n",
    "print(type(b))"
   ]
  },
  {
   "cell_type": "markdown",
   "id": "c1e5479b",
   "metadata": {},
   "source": [
    "## with语句\n",
    "### Context Manager"
   ]
  },
  {
   "cell_type": "code",
   "execution_count": 19,
   "id": "587ba903",
   "metadata": {},
   "outputs": [],
   "source": [
    "# with语句的使用可以省略关闭的步骤f.close()\n",
    "with open('ads.csv', 'r') as f:\n",
    "    data = f.read()"
   ]
  },
  {
   "cell_type": "markdown",
   "id": "51a90604",
   "metadata": {},
   "source": [
    "## 使用enumerate迭代，同时返回下标和值"
   ]
  },
  {
   "cell_type": "code",
   "execution_count": 20,
   "id": "1a594450",
   "metadata": {},
   "outputs": [
    {
     "name": "stdout",
     "output_type": "stream",
     "text": [
      "0 java\n",
      "1 python\n",
      "2 sql\n",
      "3 PHP\n",
      "4 C++\n",
      "5 Golang\n",
      "6 Perl\n",
      "7 kotlin\n"
     ]
    }
   ],
   "source": [
    "lan_list = ['java', 'python', 'sql', 'PHP', 'C++', 'Golang', 'Perl', 'kotlin']\n",
    "\n",
    "for index, lan in enumerate(lan_list):\n",
    "    print(index, lan)"
   ]
  },
  {
   "cell_type": "markdown",
   "id": "746bab8e",
   "metadata": {},
   "source": [
    "## 海象表达式:="
   ]
  },
  {
   "cell_type": "code",
   "execution_count": 21,
   "id": "c1470907",
   "metadata": {},
   "outputs": [
    {
     "name": "stdout",
     "output_type": "stream",
     "text": [
      "1\n",
      "99\n"
     ]
    }
   ],
   "source": [
    "a = (b:= 1)        # python中赋值语句没有返回值，使用：=可以将赋值语句作为一个值参与运算\n",
    "print(a)\n",
    "\n",
    "if (c:=99)>0:\n",
    "    print(c)"
   ]
  },
  {
   "cell_type": "markdown",
   "id": "9f9fd0f0",
   "metadata": {},
   "source": [
    "# 半糖"
   ]
  },
  {
   "cell_type": "markdown",
   "id": "ca381bed",
   "metadata": {},
   "source": [
    "## 通过两个list构建字典"
   ]
  },
  {
   "cell_type": "code",
   "execution_count": 10,
   "id": "54b27b55",
   "metadata": {},
   "outputs": [
    {
     "name": "stdout",
     "output_type": "stream",
     "text": [
      "{'key1': 1, 'key2': 2}\n",
      "1\n"
     ]
    }
   ],
   "source": [
    "a = ['key1', 'key2']\n",
    "b = [1, 2]\n",
    "c = dict(zip(a, b))\n",
    "\n",
    "print(c)\n",
    "print(c['key1'])"
   ]
  },
  {
   "cell_type": "markdown",
   "id": "6dfa32c1",
   "metadata": {},
   "source": [
    "## any和all"
   ]
  },
  {
   "cell_type": "code",
   "execution_count": 38,
   "id": "e5f2c3f4",
   "metadata": {},
   "outputs": [],
   "source": [
    "def show_info(obj, type=None):\n",
    "    if type=='any':\n",
    "        prefix = 'any('\n",
    "        result = any(obj)\n",
    "    elif type == 'all':\n",
    "        prefix = 'all('\n",
    "        result = all(obj)\n",
    "    else:\n",
    "        prefix = 'print as('\n",
    "        result = obj\n",
    "    \n",
    "    print(prefix, obj, '): ', result)\n",
    "    print('-'*40)"
   ]
  },
  {
   "cell_type": "code",
   "execution_count": 39,
   "id": "903b4907",
   "metadata": {},
   "outputs": [
    {
     "name": "stdout",
     "output_type": "stream",
     "text": [
      "any( Hello ):  True\n",
      "----------------------------------------\n",
      "any(  ):  False\n",
      "----------------------------------------\n",
      "any( [1, 2, 3] ):  True\n",
      "----------------------------------------\n",
      "any( [False, False, 0] ):  False\n",
      "----------------------------------------\n",
      "any( ['', '', True] ):  True\n",
      "----------------------------------------\n",
      "any( [True, 1] ):  True\n",
      "----------------------------------------\n",
      "any( ([], [], 0) ):  False\n",
      "----------------------------------------\n",
      "any( (1, True, [1]) ):  True\n",
      "----------------------------------------\n",
      "\n",
      "\n",
      "all( Hello ):  True\n",
      "----------------------------------------\n",
      "all(  ):  True\n",
      "----------------------------------------\n",
      "all( [1, 2, 3] ):  True\n",
      "----------------------------------------\n",
      "all( [False, False, 0] ):  False\n",
      "----------------------------------------\n",
      "all( ['', '', True] ):  False\n",
      "----------------------------------------\n",
      "all( [True, 1] ):  True\n",
      "----------------------------------------\n",
      "all( ([], [], 0) ):  False\n",
      "----------------------------------------\n",
      "all( (1, True, [1]) ):  True\n",
      "----------------------------------------\n"
     ]
    }
   ],
   "source": [
    "s1 = 'Hello'\n",
    "s2 = ''                     # 特殊情况：any-False;all-True\n",
    "\n",
    "lst1 = [1,2,3]\n",
    "lst2 = [False, False, 0]    # 0-False \n",
    "lst3 = ['', \"\", True]       # '',\"\"是False\n",
    "lst4 = [True, 1]\n",
    "\n",
    "tup1 = ([], [], 0)          # 空列表- False\n",
    "tup2 = (1, True, [1])\n",
    "\n",
    "check_box = [s1, s2, lst1, lst2, lst3, lst4, tup1, tup2]\n",
    "# any效果\n",
    "for i in check_box:\n",
    "    show_info(i, 'any')\n",
    "\n",
    "print('\\n')\n",
    "# all效果\n",
    "for i in check_box:\n",
    "    show_info(i, 'all')"
   ]
  },
  {
   "cell_type": "code",
   "execution_count": 18,
   "id": "ce178abc",
   "metadata": {},
   "outputs": [
    {
     "name": "stdout",
     "output_type": "stream",
     "text": [
      "<class 'str'>\n"
     ]
    }
   ],
   "source": [
    "print(type(s1))"
   ]
  },
  {
   "cell_type": "code",
   "execution_count": 23,
   "id": "18e0571c",
   "metadata": {},
   "outputs": [
    {
     "name": "stdout",
     "output_type": "stream",
     "text": [
      "Hello\n",
      "<class 'str'>\n",
      "\n",
      "<class 'str'>\n",
      "[1, 2, 3]\n",
      "<class 'list'>\n",
      "[False, False, 0]\n",
      "<class 'list'>\n",
      "['', '', True]\n",
      "<class 'list'>\n",
      "[True, 1]\n",
      "<class 'list'>\n",
      "([], [], 0)\n",
      "<class 'tuple'>\n",
      "(1, True, [1])\n",
      "<class 'tuple'>\n"
     ]
    }
   ],
   "source": [
    "check_box = [s1, s2, lst1, lst2, lst3, lst4, tup1, tup2]\n",
    "for i in check_box:\n",
    "    print(i)\n",
    "    print(type(i))"
   ]
  },
  {
   "cell_type": "code",
   "execution_count": 37,
   "id": "f247c588",
   "metadata": {},
   "outputs": [
    {
     "data": {
      "text/plain": [
       "True"
      ]
     },
     "execution_count": 37,
     "metadata": {},
     "output_type": "execute_result"
    }
   ],
   "source": [
    "all('')"
   ]
  },
  {
   "cell_type": "code",
   "execution_count": null,
   "id": "3448c330",
   "metadata": {},
   "outputs": [],
   "source": []
  }
 ],
 "metadata": {
  "kernelspec": {
   "display_name": "Python 3 (ipykernel)",
   "language": "python",
   "name": "python3"
  },
  "language_info": {
   "codemirror_mode": {
    "name": "ipython",
    "version": 3
   },
   "file_extension": ".py",
   "mimetype": "text/x-python",
   "name": "python",
   "nbconvert_exporter": "python",
   "pygments_lexer": "ipython3",
   "version": "3.11.5"
  },
  "toc": {
   "base_numbering": 1,
   "nav_menu": {},
   "number_sections": true,
   "sideBar": true,
   "skip_h1_title": false,
   "title_cell": "Table of Contents",
   "title_sidebar": "Contents",
   "toc_cell": false,
   "toc_position": {},
   "toc_section_display": true,
   "toc_window_display": true
  }
 },
 "nbformat": 4,
 "nbformat_minor": 5
}
