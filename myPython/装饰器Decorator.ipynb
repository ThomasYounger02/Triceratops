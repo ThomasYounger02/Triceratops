{
 "cells": [
  {
   "cell_type": "markdown",
   "id": "c7752829",
   "metadata": {},
   "source": [
    "# 装饰器"
   ]
  },
  {
   "cell_type": "markdown",
   "id": "385f5ed5",
   "metadata": {},
   "source": [
    "`DRY 原则`Don’t Repeat Yourself   \n",
    "装饰器允许修改函数或类的行为。装饰器允许包装另一个函数，以扩展包装函数的行为，而无需修改基础函数定义。这也被称为元编程，因为程序本身在程序运行时会尝试修改自身的另一部分。"
   ]
  },
  {
   "cell_type": "markdown",
   "id": "ed906ba3",
   "metadata": {},
   "source": [
    "# 一些常用装饰器"
   ]
  },
  {
   "cell_type": "code",
   "execution_count": 9,
   "id": "0486cf5f",
   "metadata": {},
   "outputs": [
    {
     "name": "stdout",
     "output_type": "stream",
     "text": [
      "Total time: 0.4065s\n",
      "1229\n"
     ]
    }
   ],
   "source": [
    "import time\n",
    "\n",
    "def display_time(func):\n",
    "    '''装饰器，将函数逻辑和计时功能分开。'''\n",
    "    def wrapper(*args):           # *args传入参数\n",
    "        t1 = time.time()\n",
    "        result = func(*args)      # 函数有返回结果\n",
    "        t2 = time.time()\n",
    "        print(\"Total time: {:.4}s\".format(t2-t1))\n",
    "        return result\n",
    "    return wrapper\n",
    "\n",
    "def is_prime(num):\n",
    "    '''判断一个数是否为素数。'''\n",
    "    if num<2:\n",
    "        return False\n",
    "    elif num == 2:\n",
    "        return True\n",
    "    else:\n",
    "        for i in range(2, num):\n",
    "            if num % i == 0:\n",
    "                return False\n",
    "        return True\n",
    "\n",
    "#装饰器紧跟函数定义\n",
    "@display_time\n",
    "def count_prime_nums(num):\n",
    "    '''计数，计算小于等于num的素数个数。'''\n",
    "    count = 0\n",
    "    for i in range(2, num):\n",
    "        if is_prime(i):\n",
    "            count = count+1\n",
    "    return count\n",
    "\n",
    "################################################################################\n",
    "count = count_prime_nums(10000)\n",
    "print(count)"
   ]
  },
  {
   "cell_type": "code",
   "execution_count": null,
   "id": "8fc792d6",
   "metadata": {},
   "outputs": [],
   "source": []
  }
 ],
 "metadata": {
  "kernelspec": {
   "display_name": "Python 3 (ipykernel)",
   "language": "python",
   "name": "python3"
  },
  "language_info": {
   "codemirror_mode": {
    "name": "ipython",
    "version": 3
   },
   "file_extension": ".py",
   "mimetype": "text/x-python",
   "name": "python",
   "nbconvert_exporter": "python",
   "pygments_lexer": "ipython3",
   "version": "3.11.5"
  },
  "toc": {
   "base_numbering": 1,
   "nav_menu": {},
   "number_sections": true,
   "sideBar": true,
   "skip_h1_title": false,
   "title_cell": "Table of Contents",
   "title_sidebar": "Contents",
   "toc_cell": false,
   "toc_position": {},
   "toc_section_display": true,
   "toc_window_display": true
  }
 },
 "nbformat": 4,
 "nbformat_minor": 5
}
