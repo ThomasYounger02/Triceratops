{
 "cells": [
  {
   "cell_type": "markdown",
   "id": "fd0bb0ad",
   "metadata": {},
   "source": [
    "## 什么是描述性统计量和推断性统计量？\n",
    "\n",
    "描述性统计量和推断性统计量是统计科学的两个主要分支。\n",
    "\n",
    "### 描述性统计量\n",
    "\n",
    "描述性统计量提供数据的简要汇总。可以用数值或图形方式汇总数据。例如，快餐店的经理跟踪一周内午餐期间客户的等待时间，并对数据进行汇总。\n",
    "\n",
    "经理计算下面的数值描述性统计量：\n",
    "\n",
    "!https://s3-us-west-2.amazonaws.com/secure.notion-static.com/93413503-763c-4cdb-83a8-2f4de9c3709b/.png\n",
    "\n",
    "经理将检验下面的图形以对等待时间进行可视化处理：\n",
    "\n",
    "![等待时间的直方图](https://s3-us-west-2.amazonaws.com/secure.notion-static.com/85b95ee0-4571-4bd3-8929-ff40e4a45471/z.png)\n",
    "\n",
    "等待时间的直方图\n",
    "\n",
    "![等待时间的箱线图](https://s3-us-west-2.amazonaws.com/secure.notion-static.com/cc0ba2ed-84f2-49ef-a1f4-782e684bf1b6/box.png)\n",
    "\n",
    "等待时间的箱线图\n",
    "\n",
    "### 推断性统计量\n",
    "\n",
    "推断性统计使用从总体中随机抽取的数据样本，描述总体并对其进行推断。当不方便或不可能检查整个总体的每个成员时，推断性统计非常有用。\n",
    "\n",
    "例如，测量铣床中制造的每个钉子的直径可能不现实，但是您可以测量钉子的代表性随机样本的直径并使用此信息概括生产的所有钉子的直径。"
   ]
  },
  {
   "cell_type": "code",
   "execution_count": null,
   "id": "441dedbe",
   "metadata": {},
   "outputs": [],
   "source": []
  }
 ],
 "metadata": {
  "kernelspec": {
   "display_name": "Python 3 (ipykernel)",
   "language": "python",
   "name": "python3"
  },
  "language_info": {
   "codemirror_mode": {
    "name": "ipython",
    "version": 3
   },
   "file_extension": ".py",
   "mimetype": "text/x-python",
   "name": "python",
   "nbconvert_exporter": "python",
   "pygments_lexer": "ipython3",
   "version": "3.11.5"
  }
 },
 "nbformat": 4,
 "nbformat_minor": 5
}
