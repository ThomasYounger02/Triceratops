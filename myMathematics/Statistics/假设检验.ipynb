{
 "cells": [
  {
   "cell_type": "markdown",
   "id": "ef90b301",
   "metadata": {},
   "source": [
    "# 什么是假设检验？\n",
    "假设检验是一种规则，它根据数据样本所提供的证据，指定是肯定还是否定有关总体的声明。\n",
    "\n",
    "假设检验检查有关总体的两个相反假设：原假设和备择假设。原假设是要检验的声明。通常，原假设声明“**无效应**”或“**无差异**”。备择假设是希望根据样本数据所提供的证据得出真结论的声明。\n",
    "\n",
    "检验基于样本数据，确定是否要否定原假设。可使用 p 值来做出判断。如果 p 值小于显著性水平（用 α 或 alpha 表示），则可以否定原假设。\n",
    "\n",
    "常见的误解是统计假设检验旨在选择两个假设中更有可能的假设。但是，在设计假设检验时，我们将原假设设置为我们想要否决的内容。由于我们在分析之前将显著性水平固定在较小的值（通常，值为 0.05 即可），因此，当我们否定原假设时，我们有统计证据表明备择假设为真。相反，如果我们无法否定原假设，则说明我们没有统计证据表明原假设为真。这是由于我们未将错误接受原假设的概率固定在较小的值。\n",
    "\n",
    "可以使用假设检验回答的问题示例包括：\n",
    "\n",
    "- 女大学生的平均身高是否不同于 66 英寸？\n",
    "- 她们身高的标准差是否等于或小于 5 英寸？\n",
    "- 男大学生的平均身高与女大学生的平均身高是否有差异？\n",
    "- 男大学生所占的比率是否显著高于女大学生所占的比率？"
   ]
  },
  {
   "cell_type": "code",
   "execution_count": null,
   "id": "3a028808",
   "metadata": {},
   "outputs": [],
   "source": []
  }
 ],
 "metadata": {
  "kernelspec": {
   "display_name": "Python 3 (ipykernel)",
   "language": "python",
   "name": "python3"
  },
  "language_info": {
   "codemirror_mode": {
    "name": "ipython",
    "version": 3
   },
   "file_extension": ".py",
   "mimetype": "text/x-python",
   "name": "python",
   "nbconvert_exporter": "python",
   "pygments_lexer": "ipython3",
   "version": "3.11.5"
  },
  "toc": {
   "base_numbering": 1,
   "nav_menu": {},
   "number_sections": true,
   "sideBar": true,
   "skip_h1_title": false,
   "title_cell": "Table of Contents",
   "title_sidebar": "Contents",
   "toc_cell": false,
   "toc_position": {},
   "toc_section_display": true,
   "toc_window_display": false
  }
 },
 "nbformat": 4,
 "nbformat_minor": 5
}
