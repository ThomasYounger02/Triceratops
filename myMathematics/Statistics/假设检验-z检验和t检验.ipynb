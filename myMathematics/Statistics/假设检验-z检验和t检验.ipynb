{
 "cells": [
  {
   "cell_type": "markdown",
   "id": "250e050b",
   "metadata": {},
   "source": [
    "# Intro"
   ]
  },
  {
   "cell_type": "code",
   "execution_count": null,
   "id": "c785bb5c",
   "metadata": {},
   "outputs": [],
   "source": []
  },
  {
   "cell_type": "code",
   "execution_count": null,
   "id": "65fc4e65",
   "metadata": {},
   "outputs": [],
   "source": []
  },
  {
   "cell_type": "code",
   "execution_count": 1,
   "id": "a7e36690",
   "metadata": {},
   "outputs": [],
   "source": [
    "#导入包\n",
    "import numpy as np\n",
    "import pandas as pd\n",
    "from scipy import stats"
   ]
  },
  {
   "cell_type": "markdown",
   "id": "3bf614a1",
   "metadata": {},
   "source": [
    "# z检验"
   ]
  },
  {
   "cell_type": "markdown",
   "id": "669ef4eb",
   "metadata": {},
   "source": [
    "# t检验\n",
    "## 单样本t检验"
   ]
  },
  {
   "cell_type": "code",
   "execution_count": null,
   "id": "4b1b5452",
   "metadata": {},
   "outputs": [],
   "source": [
    "#计算t值和p值\n",
    "stats.ttest_1samp(susDf['SUS 得分'],67)"
   ]
  },
  {
   "cell_type": "code",
   "execution_count": null,
   "id": "554f4138",
   "metadata": {},
   "outputs": [],
   "source": []
  },
  {
   "cell_type": "markdown",
   "id": "ec7910ab",
   "metadata": {},
   "source": [
    "## 配对t检验"
   ]
  },
  {
   "cell_type": "code",
   "execution_count": null,
   "id": "9960108b",
   "metadata": {},
   "outputs": [],
   "source": [
    "stats.ttest_rel(paired_susDf['A'],paired_susDf['B'])"
   ]
  },
  {
   "cell_type": "code",
   "execution_count": null,
   "id": "757b8873",
   "metadata": {},
   "outputs": [],
   "source": []
  },
  {
   "cell_type": "markdown",
   "id": "7b55c9a7",
   "metadata": {},
   "source": [
    "## 独立样本t检验"
   ]
  },
  {
   "cell_type": "code",
   "execution_count": null,
   "id": "1eba4faa",
   "metadata": {},
   "outputs": [],
   "source": [
    "stats.ttest_ind(independent_susDf['A'].dropna(),independent_susDf['B'].dropna(), equal_var = False)"
   ]
  },
  {
   "cell_type": "code",
   "execution_count": null,
   "id": "36a80678",
   "metadata": {},
   "outputs": [],
   "source": []
  }
 ],
 "metadata": {
  "kernelspec": {
   "display_name": "Python 3 (ipykernel)",
   "language": "python",
   "name": "python3"
  },
  "language_info": {
   "codemirror_mode": {
    "name": "ipython",
    "version": 3
   },
   "file_extension": ".py",
   "mimetype": "text/x-python",
   "name": "python",
   "nbconvert_exporter": "python",
   "pygments_lexer": "ipython3",
   "version": "3.11.5"
  },
  "toc": {
   "base_numbering": 1,
   "nav_menu": {},
   "number_sections": true,
   "sideBar": true,
   "skip_h1_title": false,
   "title_cell": "Table of Contents",
   "title_sidebar": "Contents",
   "toc_cell": false,
   "toc_position": {},
   "toc_section_display": true,
   "toc_window_display": false
  }
 },
 "nbformat": 4,
 "nbformat_minor": 5
}
