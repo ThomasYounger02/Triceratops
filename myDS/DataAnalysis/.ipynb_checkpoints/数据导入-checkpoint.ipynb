{
 "cells": [
  {
   "cell_type": "code",
   "execution_count": 1,
   "id": "180a15e7",
   "metadata": {},
   "outputs": [],
   "source": [
    "import pandas as pd\n",
    "import os"
   ]
  },
  {
   "cell_type": "markdown",
   "id": "4316d7ee",
   "metadata": {},
   "source": [
    "# 工作目录信息"
   ]
  },
  {
   "cell_type": "code",
   "execution_count": 2,
   "id": "03ff8265",
   "metadata": {},
   "outputs": [
    {
     "data": {
      "text/plain": [
       "'/Users/yijiu/Young/GitHub/Triceratops-org/myPython'"
      ]
     },
     "execution_count": 2,
     "metadata": {},
     "output_type": "execute_result"
    }
   ],
   "source": [
    "# 当前工作目录\n",
    "os.getcwd()"
   ]
  },
  {
   "cell_type": "code",
   "execution_count": 3,
   "id": "b1c19a10",
   "metadata": {},
   "outputs": [
    {
     "name": "stdout",
     "output_type": "stream",
     "text": [
      "/Users/yijiu/Young/GitHub/Triceratops-org/myPython\n",
      "/Users/yijiu/Young/GitHub/Triceratops-org\n"
     ]
    }
   ],
   "source": [
    "path1 = os.path.abspath('.')   # 当前脚本所在路径 \n",
    "path2 = os.path.abspath('..')  # 上一级路径\n",
    "\n",
    "print(path1)\n",
    "print(path2)"
   ]
  },
  {
   "cell_type": "markdown",
   "id": "a84504c9",
   "metadata": {},
   "source": [
    "# 数据准备\n",
    "## 文件夹创建\n",
    "用于存放演示数据"
   ]
  },
  {
   "cell_type": "code",
   "execution_count": 4,
   "id": "de643e0c",
   "metadata": {},
   "outputs": [
    {
     "name": "stdout",
     "output_type": "stream",
     "text": [
      "文件夹data已经存在!\n",
      "文件夹result已经存在!\n"
     ]
    }
   ],
   "source": [
    "cwd = os.getcwd()\n",
    "data_filefolder_name = 'data'         # data: 存放原始数据\n",
    "result_filefolder_name = 'result'     # result: 存放结果数据\n",
    "\n",
    "\n",
    "def mk_file_folders(file_folder_names):\n",
    "    for file_folder_name in file_folder_names:\n",
    "        if os.path.exists(os.path.join(cwd, file_folder_name))==False:\n",
    "            os.mkdir(os.path.join(cwd, file_folder_name))\n",
    "            print(f'文件夹{file_folder_name}创建完成!')\n",
    "        else:\n",
    "            print(f'文件夹{file_folder_name}已经存在!')\n",
    "        \n",
    "    \n",
    "mk_file_folders([data_filefolder_name, result_filefolder_name])   "
   ]
  },
  {
   "cell_type": "markdown",
   "id": "d47067f0",
   "metadata": {},
   "source": [
    "## 各类型数据demo"
   ]
  },
  {
   "cell_type": "code",
   "execution_count": 5,
   "id": "90b9f610",
   "metadata": {},
   "outputs": [],
   "source": [
    "import seaborn as sns\n",
    "\n",
    "df = sns.load_dataset('penguins')\n",
    "\n",
    "file_name = './data/penguins'\n",
    "\n",
    "df.to_csv(file_name+'.csv', index=False)\n",
    "df.to_excel(file_name+'.xlsx', index=False)\n",
    "df.to_json(file_name+'.json', orient='columns')"
   ]
  },
  {
   "cell_type": "markdown",
   "id": "c2d62ec2",
   "metadata": {},
   "source": [
    "# 数据读取\n",
    "## 文件地址形式"
   ]
  },
  {
   "cell_type": "code",
   "execution_count": 6,
   "id": "f551acc8",
   "metadata": {},
   "outputs": [
    {
     "data": {
      "text/html": [
       "<div>\n",
       "<style scoped>\n",
       "    .dataframe tbody tr th:only-of-type {\n",
       "        vertical-align: middle;\n",
       "    }\n",
       "\n",
       "    .dataframe tbody tr th {\n",
       "        vertical-align: top;\n",
       "    }\n",
       "\n",
       "    .dataframe thead th {\n",
       "        text-align: right;\n",
       "    }\n",
       "</style>\n",
       "<table border=\"1\" class=\"dataframe\">\n",
       "  <thead>\n",
       "    <tr style=\"text-align: right;\">\n",
       "      <th></th>\n",
       "      <th>species</th>\n",
       "      <th>island</th>\n",
       "      <th>bill_length_mm</th>\n",
       "      <th>bill_depth_mm</th>\n",
       "      <th>flipper_length_mm</th>\n",
       "      <th>body_mass_g</th>\n",
       "      <th>sex</th>\n",
       "    </tr>\n",
       "  </thead>\n",
       "  <tbody>\n",
       "    <tr>\n",
       "      <th>0</th>\n",
       "      <td>Adelie</td>\n",
       "      <td>Torgersen</td>\n",
       "      <td>39.1</td>\n",
       "      <td>18.7</td>\n",
       "      <td>181.0</td>\n",
       "      <td>3750.0</td>\n",
       "      <td>Male</td>\n",
       "    </tr>\n",
       "    <tr>\n",
       "      <th>1</th>\n",
       "      <td>Adelie</td>\n",
       "      <td>Torgersen</td>\n",
       "      <td>39.5</td>\n",
       "      <td>17.4</td>\n",
       "      <td>186.0</td>\n",
       "      <td>3800.0</td>\n",
       "      <td>Female</td>\n",
       "    </tr>\n",
       "    <tr>\n",
       "      <th>2</th>\n",
       "      <td>Adelie</td>\n",
       "      <td>Torgersen</td>\n",
       "      <td>40.3</td>\n",
       "      <td>18.0</td>\n",
       "      <td>195.0</td>\n",
       "      <td>3250.0</td>\n",
       "      <td>Female</td>\n",
       "    </tr>\n",
       "    <tr>\n",
       "      <th>3</th>\n",
       "      <td>Adelie</td>\n",
       "      <td>Torgersen</td>\n",
       "      <td>NaN</td>\n",
       "      <td>NaN</td>\n",
       "      <td>NaN</td>\n",
       "      <td>NaN</td>\n",
       "      <td>NaN</td>\n",
       "    </tr>\n",
       "    <tr>\n",
       "      <th>4</th>\n",
       "      <td>Adelie</td>\n",
       "      <td>Torgersen</td>\n",
       "      <td>36.7</td>\n",
       "      <td>19.3</td>\n",
       "      <td>193.0</td>\n",
       "      <td>3450.0</td>\n",
       "      <td>Female</td>\n",
       "    </tr>\n",
       "  </tbody>\n",
       "</table>\n",
       "</div>"
      ],
      "text/plain": [
       "  species     island  bill_length_mm  bill_depth_mm  flipper_length_mm  \\\n",
       "0  Adelie  Torgersen            39.1           18.7              181.0   \n",
       "1  Adelie  Torgersen            39.5           17.4              186.0   \n",
       "2  Adelie  Torgersen            40.3           18.0              195.0   \n",
       "3  Adelie  Torgersen             NaN            NaN                NaN   \n",
       "4  Adelie  Torgersen            36.7           19.3              193.0   \n",
       "\n",
       "   body_mass_g     sex  \n",
       "0       3750.0    Male  \n",
       "1       3800.0  Female  \n",
       "2       3250.0  Female  \n",
       "3          NaN     NaN  \n",
       "4       3450.0  Female  "
      ]
     },
     "execution_count": 6,
     "metadata": {},
     "output_type": "execute_result"
    }
   ],
   "source": [
    "# 文件地址表现方法\n",
    "file_path0 = 'data/penguins.csv'\n",
    "\n",
    "file_path1 = './data/penguins.csv'\n",
    "# file_path2 = '/Users/...data/penguins.csv'    \n",
    "# file_path2 = 'C:/Users/.../data/penguins.csv'           # windows\n",
    "\n",
    "# file_path3 = r'C:\\Users\\...data\\penguins.csv'          # windows  \n",
    "# file_path4 = 'C:\\\\Users\\\\...data\\\\penguins.csv'        # windows\n",
    "\n",
    "\n",
    "data = pd.read_csv(file_path0)\n",
    "data.head()"
   ]
  },
  {
   "cell_type": "markdown",
   "id": "089fc982",
   "metadata": {},
   "source": [
    "## 不同数据类型读取为DF\n",
    "### csv"
   ]
  },
  {
   "cell_type": "code",
   "execution_count": 7,
   "id": "087d1224",
   "metadata": {},
   "outputs": [
    {
     "data": {
      "text/html": [
       "<div>\n",
       "<style scoped>\n",
       "    .dataframe tbody tr th:only-of-type {\n",
       "        vertical-align: middle;\n",
       "    }\n",
       "\n",
       "    .dataframe tbody tr th {\n",
       "        vertical-align: top;\n",
       "    }\n",
       "\n",
       "    .dataframe thead th {\n",
       "        text-align: right;\n",
       "    }\n",
       "</style>\n",
       "<table border=\"1\" class=\"dataframe\">\n",
       "  <thead>\n",
       "    <tr style=\"text-align: right;\">\n",
       "      <th></th>\n",
       "      <th>species</th>\n",
       "      <th>island</th>\n",
       "      <th>bill_length_mm</th>\n",
       "      <th>bill_depth_mm</th>\n",
       "      <th>flipper_length_mm</th>\n",
       "      <th>body_mass_g</th>\n",
       "      <th>sex</th>\n",
       "    </tr>\n",
       "  </thead>\n",
       "  <tbody>\n",
       "    <tr>\n",
       "      <th>0</th>\n",
       "      <td>Adelie</td>\n",
       "      <td>Torgersen</td>\n",
       "      <td>39.1</td>\n",
       "      <td>18.7</td>\n",
       "      <td>181.0</td>\n",
       "      <td>3750.0</td>\n",
       "      <td>Male</td>\n",
       "    </tr>\n",
       "    <tr>\n",
       "      <th>1</th>\n",
       "      <td>Adelie</td>\n",
       "      <td>Torgersen</td>\n",
       "      <td>39.5</td>\n",
       "      <td>17.4</td>\n",
       "      <td>186.0</td>\n",
       "      <td>3800.0</td>\n",
       "      <td>Female</td>\n",
       "    </tr>\n",
       "    <tr>\n",
       "      <th>2</th>\n",
       "      <td>Adelie</td>\n",
       "      <td>Torgersen</td>\n",
       "      <td>40.3</td>\n",
       "      <td>18.0</td>\n",
       "      <td>195.0</td>\n",
       "      <td>3250.0</td>\n",
       "      <td>Female</td>\n",
       "    </tr>\n",
       "    <tr>\n",
       "      <th>3</th>\n",
       "      <td>Adelie</td>\n",
       "      <td>Torgersen</td>\n",
       "      <td>NaN</td>\n",
       "      <td>NaN</td>\n",
       "      <td>NaN</td>\n",
       "      <td>NaN</td>\n",
       "      <td>NaN</td>\n",
       "    </tr>\n",
       "    <tr>\n",
       "      <th>4</th>\n",
       "      <td>Adelie</td>\n",
       "      <td>Torgersen</td>\n",
       "      <td>36.7</td>\n",
       "      <td>19.3</td>\n",
       "      <td>193.0</td>\n",
       "      <td>3450.0</td>\n",
       "      <td>Female</td>\n",
       "    </tr>\n",
       "  </tbody>\n",
       "</table>\n",
       "</div>"
      ],
      "text/plain": [
       "  species     island  bill_length_mm  bill_depth_mm  flipper_length_mm  \\\n",
       "0  Adelie  Torgersen            39.1           18.7              181.0   \n",
       "1  Adelie  Torgersen            39.5           17.4              186.0   \n",
       "2  Adelie  Torgersen            40.3           18.0              195.0   \n",
       "3  Adelie  Torgersen             NaN            NaN                NaN   \n",
       "4  Adelie  Torgersen            36.7           19.3              193.0   \n",
       "\n",
       "   body_mass_g     sex  \n",
       "0       3750.0    Male  \n",
       "1       3800.0  Female  \n",
       "2       3250.0  Female  \n",
       "3          NaN     NaN  \n",
       "4       3450.0  Female  "
      ]
     },
     "execution_count": 7,
     "metadata": {},
     "output_type": "execute_result"
    }
   ],
   "source": [
    "file_path_csv = './data/penguins.csv'\n",
    "data = pd.read_csv(file_path_csv)\n",
    "\n",
    "data.head()"
   ]
  },
  {
   "cell_type": "markdown",
   "id": "099a30e9",
   "metadata": {},
   "source": [
    "### excel"
   ]
  },
  {
   "cell_type": "code",
   "execution_count": 8,
   "id": "6beb82e1",
   "metadata": {},
   "outputs": [
    {
     "data": {
      "text/html": [
       "<div>\n",
       "<style scoped>\n",
       "    .dataframe tbody tr th:only-of-type {\n",
       "        vertical-align: middle;\n",
       "    }\n",
       "\n",
       "    .dataframe tbody tr th {\n",
       "        vertical-align: top;\n",
       "    }\n",
       "\n",
       "    .dataframe thead th {\n",
       "        text-align: right;\n",
       "    }\n",
       "</style>\n",
       "<table border=\"1\" class=\"dataframe\">\n",
       "  <thead>\n",
       "    <tr style=\"text-align: right;\">\n",
       "      <th></th>\n",
       "      <th>species</th>\n",
       "      <th>island</th>\n",
       "      <th>bill_length_mm</th>\n",
       "      <th>bill_depth_mm</th>\n",
       "      <th>flipper_length_mm</th>\n",
       "      <th>body_mass_g</th>\n",
       "      <th>sex</th>\n",
       "    </tr>\n",
       "  </thead>\n",
       "  <tbody>\n",
       "    <tr>\n",
       "      <th>0</th>\n",
       "      <td>Adelie</td>\n",
       "      <td>Torgersen</td>\n",
       "      <td>39.1</td>\n",
       "      <td>18.7</td>\n",
       "      <td>181.0</td>\n",
       "      <td>3750.0</td>\n",
       "      <td>Male</td>\n",
       "    </tr>\n",
       "    <tr>\n",
       "      <th>1</th>\n",
       "      <td>Adelie</td>\n",
       "      <td>Torgersen</td>\n",
       "      <td>39.5</td>\n",
       "      <td>17.4</td>\n",
       "      <td>186.0</td>\n",
       "      <td>3800.0</td>\n",
       "      <td>Female</td>\n",
       "    </tr>\n",
       "    <tr>\n",
       "      <th>2</th>\n",
       "      <td>Adelie</td>\n",
       "      <td>Torgersen</td>\n",
       "      <td>40.3</td>\n",
       "      <td>18.0</td>\n",
       "      <td>195.0</td>\n",
       "      <td>3250.0</td>\n",
       "      <td>Female</td>\n",
       "    </tr>\n",
       "    <tr>\n",
       "      <th>3</th>\n",
       "      <td>Adelie</td>\n",
       "      <td>Torgersen</td>\n",
       "      <td>NaN</td>\n",
       "      <td>NaN</td>\n",
       "      <td>NaN</td>\n",
       "      <td>NaN</td>\n",
       "      <td>NaN</td>\n",
       "    </tr>\n",
       "    <tr>\n",
       "      <th>4</th>\n",
       "      <td>Adelie</td>\n",
       "      <td>Torgersen</td>\n",
       "      <td>36.7</td>\n",
       "      <td>19.3</td>\n",
       "      <td>193.0</td>\n",
       "      <td>3450.0</td>\n",
       "      <td>Female</td>\n",
       "    </tr>\n",
       "  </tbody>\n",
       "</table>\n",
       "</div>"
      ],
      "text/plain": [
       "  species     island  bill_length_mm  bill_depth_mm  flipper_length_mm  \\\n",
       "0  Adelie  Torgersen            39.1           18.7              181.0   \n",
       "1  Adelie  Torgersen            39.5           17.4              186.0   \n",
       "2  Adelie  Torgersen            40.3           18.0              195.0   \n",
       "3  Adelie  Torgersen             NaN            NaN                NaN   \n",
       "4  Adelie  Torgersen            36.7           19.3              193.0   \n",
       "\n",
       "   body_mass_g     sex  \n",
       "0       3750.0    Male  \n",
       "1       3800.0  Female  \n",
       "2       3250.0  Female  \n",
       "3          NaN     NaN  \n",
       "4       3450.0  Female  "
      ]
     },
     "execution_count": 8,
     "metadata": {},
     "output_type": "execute_result"
    }
   ],
   "source": [
    "file_path_excel = './data/penguins.xlsx'\n",
    "data = pd.read_excel(file_path_excel)\n",
    "\n",
    "data.head()"
   ]
  },
  {
   "cell_type": "markdown",
   "id": "ff83f39f",
   "metadata": {},
   "source": [
    "### json"
   ]
  },
  {
   "cell_type": "code",
   "execution_count": 9,
   "id": "a471baa2",
   "metadata": {},
   "outputs": [
    {
     "data": {
      "text/html": [
       "<div>\n",
       "<style scoped>\n",
       "    .dataframe tbody tr th:only-of-type {\n",
       "        vertical-align: middle;\n",
       "    }\n",
       "\n",
       "    .dataframe tbody tr th {\n",
       "        vertical-align: top;\n",
       "    }\n",
       "\n",
       "    .dataframe thead th {\n",
       "        text-align: right;\n",
       "    }\n",
       "</style>\n",
       "<table border=\"1\" class=\"dataframe\">\n",
       "  <thead>\n",
       "    <tr style=\"text-align: right;\">\n",
       "      <th></th>\n",
       "      <th>species</th>\n",
       "      <th>island</th>\n",
       "      <th>bill_length_mm</th>\n",
       "      <th>bill_depth_mm</th>\n",
       "      <th>flipper_length_mm</th>\n",
       "      <th>body_mass_g</th>\n",
       "      <th>sex</th>\n",
       "    </tr>\n",
       "  </thead>\n",
       "  <tbody>\n",
       "    <tr>\n",
       "      <th>0</th>\n",
       "      <td>Adelie</td>\n",
       "      <td>Torgersen</td>\n",
       "      <td>39.1</td>\n",
       "      <td>18.7</td>\n",
       "      <td>181.0</td>\n",
       "      <td>3750.0</td>\n",
       "      <td>Male</td>\n",
       "    </tr>\n",
       "    <tr>\n",
       "      <th>1</th>\n",
       "      <td>Adelie</td>\n",
       "      <td>Torgersen</td>\n",
       "      <td>39.5</td>\n",
       "      <td>17.4</td>\n",
       "      <td>186.0</td>\n",
       "      <td>3800.0</td>\n",
       "      <td>Female</td>\n",
       "    </tr>\n",
       "    <tr>\n",
       "      <th>2</th>\n",
       "      <td>Adelie</td>\n",
       "      <td>Torgersen</td>\n",
       "      <td>40.3</td>\n",
       "      <td>18.0</td>\n",
       "      <td>195.0</td>\n",
       "      <td>3250.0</td>\n",
       "      <td>Female</td>\n",
       "    </tr>\n",
       "    <tr>\n",
       "      <th>3</th>\n",
       "      <td>Adelie</td>\n",
       "      <td>Torgersen</td>\n",
       "      <td>NaN</td>\n",
       "      <td>NaN</td>\n",
       "      <td>NaN</td>\n",
       "      <td>NaN</td>\n",
       "      <td>None</td>\n",
       "    </tr>\n",
       "    <tr>\n",
       "      <th>4</th>\n",
       "      <td>Adelie</td>\n",
       "      <td>Torgersen</td>\n",
       "      <td>36.7</td>\n",
       "      <td>19.3</td>\n",
       "      <td>193.0</td>\n",
       "      <td>3450.0</td>\n",
       "      <td>Female</td>\n",
       "    </tr>\n",
       "  </tbody>\n",
       "</table>\n",
       "</div>"
      ],
      "text/plain": [
       "  species     island  bill_length_mm  bill_depth_mm  flipper_length_mm  \\\n",
       "0  Adelie  Torgersen            39.1           18.7              181.0   \n",
       "1  Adelie  Torgersen            39.5           17.4              186.0   \n",
       "2  Adelie  Torgersen            40.3           18.0              195.0   \n",
       "3  Adelie  Torgersen             NaN            NaN                NaN   \n",
       "4  Adelie  Torgersen            36.7           19.3              193.0   \n",
       "\n",
       "   body_mass_g     sex  \n",
       "0       3750.0    Male  \n",
       "1       3800.0  Female  \n",
       "2       3250.0  Female  \n",
       "3          NaN    None  \n",
       "4       3450.0  Female  "
      ]
     },
     "execution_count": 9,
     "metadata": {},
     "output_type": "execute_result"
    }
   ],
   "source": [
    "file_path_json = './data/penguins.json'\n",
    "data = pd.read_json(file_path_json, orient='columns')\n",
    "\n",
    "data.head()"
   ]
  },
  {
   "cell_type": "markdown",
   "id": "4ea6b286",
   "metadata": {},
   "source": [
    "# 数据保存"
   ]
  },
  {
   "cell_type": "code",
   "execution_count": 10,
   "id": "4d50dfe1",
   "metadata": {},
   "outputs": [],
   "source": [
    "# csv\n",
    "data.to_csv('./result/penguins.csv', index=False)\n",
    "\n",
    "# Excel\n",
    "data.to_excel('./result/penguins.xlsx', index=False)\n",
    "\n",
    "# Json\n",
    "data.to_json('./result/penguins.json', orient='columns')"
   ]
  },
  {
   "cell_type": "markdown",
   "id": "b0a431c1",
   "metadata": {},
   "source": [
    "# 其他场景\n",
    "## 合并文件夹下多个csv文件"
   ]
  },
  {
   "cell_type": "code",
   "execution_count": 11,
   "id": "600a6df3",
   "metadata": {},
   "outputs": [],
   "source": [
    "def combine_files(path, key_word):\n",
    "    '''合并文件夹下，文件名字包含关键字的文件，csv格式\n",
    "    '''\n",
    "    files_list = os.listdir(path)\n",
    "    files_list = [file_name for file_name in files_list if 'csv' in file_name]      # 过滤出csv文件\n",
    "    files_list = [file_name for file_name in files_list if key_word in file_name]   # 过滤出关键词文件\n",
    "    \n",
    "    result = pd.DataFrame()\n",
    "    combined_file_cnt = 0\n",
    "    \n",
    "    for file_name in files_list:\n",
    "        try:\n",
    "            data = pd.read_csv(path + file_name)    # 根据实际情况调整\n",
    "            result = pd.concat([data, result], axis=0)\n",
    "            print(f'文件已合并：{file_name}')\n",
    "            combined_file_cnt = combined_file_cnt + 1\n",
    "        except OSError as e:\n",
    "            print(f'Error: {e.strerror}')\n",
    "    print(f'合并了{combined_file_cnt}个文件!')\n",
    "    return result"
   ]
  },
  {
   "cell_type": "code",
   "execution_count": 12,
   "id": "ad420539",
   "metadata": {},
   "outputs": [
    {
     "data": {
      "text/plain": [
       "['penguins.csv']"
      ]
     },
     "execution_count": 12,
     "metadata": {},
     "output_type": "execute_result"
    }
   ],
   "source": [
    "path = './data/'\n",
    "fl = os.listdir(path)\n",
    "csv_fl = [file_name for file_name in fl if 'csv' in file_name]\n",
    "\n",
    "csv_fl"
   ]
  },
  {
   "cell_type": "code",
   "execution_count": 13,
   "id": "3051536a",
   "metadata": {},
   "outputs": [
    {
     "name": "stdout",
     "output_type": "stream",
     "text": [
      "文件已合并：penguins.csv\n",
      "合并了1个文件!\n"
     ]
    },
    {
     "data": {
      "text/html": [
       "<div>\n",
       "<style scoped>\n",
       "    .dataframe tbody tr th:only-of-type {\n",
       "        vertical-align: middle;\n",
       "    }\n",
       "\n",
       "    .dataframe tbody tr th {\n",
       "        vertical-align: top;\n",
       "    }\n",
       "\n",
       "    .dataframe thead th {\n",
       "        text-align: right;\n",
       "    }\n",
       "</style>\n",
       "<table border=\"1\" class=\"dataframe\">\n",
       "  <thead>\n",
       "    <tr style=\"text-align: right;\">\n",
       "      <th></th>\n",
       "      <th>species</th>\n",
       "      <th>island</th>\n",
       "      <th>bill_length_mm</th>\n",
       "      <th>bill_depth_mm</th>\n",
       "      <th>flipper_length_mm</th>\n",
       "      <th>body_mass_g</th>\n",
       "      <th>sex</th>\n",
       "    </tr>\n",
       "  </thead>\n",
       "  <tbody>\n",
       "    <tr>\n",
       "      <th>0</th>\n",
       "      <td>Adelie</td>\n",
       "      <td>Torgersen</td>\n",
       "      <td>39.1</td>\n",
       "      <td>18.7</td>\n",
       "      <td>181.0</td>\n",
       "      <td>3750.0</td>\n",
       "      <td>Male</td>\n",
       "    </tr>\n",
       "    <tr>\n",
       "      <th>1</th>\n",
       "      <td>Adelie</td>\n",
       "      <td>Torgersen</td>\n",
       "      <td>39.5</td>\n",
       "      <td>17.4</td>\n",
       "      <td>186.0</td>\n",
       "      <td>3800.0</td>\n",
       "      <td>Female</td>\n",
       "    </tr>\n",
       "    <tr>\n",
       "      <th>2</th>\n",
       "      <td>Adelie</td>\n",
       "      <td>Torgersen</td>\n",
       "      <td>40.3</td>\n",
       "      <td>18.0</td>\n",
       "      <td>195.0</td>\n",
       "      <td>3250.0</td>\n",
       "      <td>Female</td>\n",
       "    </tr>\n",
       "    <tr>\n",
       "      <th>3</th>\n",
       "      <td>Adelie</td>\n",
       "      <td>Torgersen</td>\n",
       "      <td>NaN</td>\n",
       "      <td>NaN</td>\n",
       "      <td>NaN</td>\n",
       "      <td>NaN</td>\n",
       "      <td>NaN</td>\n",
       "    </tr>\n",
       "    <tr>\n",
       "      <th>4</th>\n",
       "      <td>Adelie</td>\n",
       "      <td>Torgersen</td>\n",
       "      <td>36.7</td>\n",
       "      <td>19.3</td>\n",
       "      <td>193.0</td>\n",
       "      <td>3450.0</td>\n",
       "      <td>Female</td>\n",
       "    </tr>\n",
       "  </tbody>\n",
       "</table>\n",
       "</div>"
      ],
      "text/plain": [
       "  species     island  bill_length_mm  bill_depth_mm  flipper_length_mm  \\\n",
       "0  Adelie  Torgersen            39.1           18.7              181.0   \n",
       "1  Adelie  Torgersen            39.5           17.4              186.0   \n",
       "2  Adelie  Torgersen            40.3           18.0              195.0   \n",
       "3  Adelie  Torgersen             NaN            NaN                NaN   \n",
       "4  Adelie  Torgersen            36.7           19.3              193.0   \n",
       "\n",
       "   body_mass_g     sex  \n",
       "0       3750.0    Male  \n",
       "1       3800.0  Female  \n",
       "2       3250.0  Female  \n",
       "3          NaN     NaN  \n",
       "4       3450.0  Female  "
      ]
     },
     "execution_count": 13,
     "metadata": {},
     "output_type": "execute_result"
    }
   ],
   "source": [
    "path = './data/'\n",
    "file_name_key_txt = 'penguins'\n",
    "\n",
    "# 文件名包含'penguins'的csv文件合并。\n",
    "df = combine_files(path, 'penguins')\n",
    "df.head()"
   ]
  },
  {
   "cell_type": "markdown",
   "id": "51e10cb2",
   "metadata": {},
   "source": [
    "## txt文件\n",
    "### 读"
   ]
  },
  {
   "cell_type": "code",
   "execution_count": null,
   "id": "b9cb6d22",
   "metadata": {},
   "outputs": [],
   "source": [
    "# # 设置要打开的txt文件的路径\n",
    "# target_file = './data/a_txt_org_file.txt'\n",
    "# # 打开目标txt文件\n",
    "# file = open(target_file, 'r', encoding='utf-8')\n",
    "# # 使用 文件对象.read() 方法读取文件内容\n",
    "# content = file.read()\n",
    "# # 打印文件内容\n",
    "# print(content)\n",
    "# # 关闭文件对象"
   ]
  },
  {
   "cell_type": "markdown",
   "id": "13c16340",
   "metadata": {},
   "source": [
    "### 写"
   ]
  },
  {
   "cell_type": "code",
   "execution_count": null,
   "id": "4b45aa56",
   "metadata": {},
   "outputs": [],
   "source": [
    "# # 目标文件是工作文件夹内的06_01_2020会议记录.txt文件\n",
    "# target_file = './result_data/a_target_txt_file.txt'\n",
    "# # 需要添加的内容列表\n",
    "# content_list = [\"会议记录：陈知枫\", \"会议复盘：徐小刚\", \"会议室清洁：廖雨\"]\n",
    "# # 使用 open() 函数打开 06_01_2020会议记录.txt 文本文件，并使用追加模式'a'，记得将编码设置为'utf-8'\n",
    "# file = open(target_file, 'a', encoding='utf-8')\n",
    "# # 使用for循环遍历内容列表\n",
    "# for content in content_list:\n",
    "#     # 使用方法，文件对象.write()\n",
    "#     file.write(ccontent + '\\n')\n",
    "# # 关闭文件对象\n",
    "# file.close()"
   ]
  },
  {
   "cell_type": "markdown",
   "id": "92481e2b",
   "metadata": {},
   "source": [
    "# 文件删除\n",
    "删除演示文件"
   ]
  },
  {
   "cell_type": "code",
   "execution_count": 14,
   "id": "d41fbb26",
   "metadata": {},
   "outputs": [
    {
     "data": {
      "text/plain": [
       "['penguins.xlsx', 'penguins.json', 'penguins.csv']"
      ]
     },
     "execution_count": 14,
     "metadata": {},
     "output_type": "execute_result"
    }
   ],
   "source": [
    "# 删除前文件目录\n",
    "os.listdir('./data/')"
   ]
  },
  {
   "cell_type": "code",
   "execution_count": 15,
   "id": "f8858216",
   "metadata": {},
   "outputs": [],
   "source": [
    "def delete_files(path, key_word):\n",
    "    files_list = os.listdir(path)\n",
    "    files_list = [file_name for file_name in files_list if key_word in file_name]   # 过滤出文件\n",
    "    files_deleted_cnt = 0\n",
    "    \n",
    "    for file_name in files_list:\n",
    "        file_path = os.path.join(path, file_name)\n",
    "        try:\n",
    "            os.remove(file_path)\n",
    "            files_deleted_cnt = files_deleted_cnt + 1\n",
    "            print(f'文件已删除：{file_path}')\n",
    "        except OSError as e:\n",
    "            print(f'Error: {e.strerror}')\n",
    "    print('-'*40)\n",
    "    print(f'文件夹{path}:')\n",
    "    print(f'合计删除{files_deleted_cnt}个文件！')   \n",
    "    print('-'*60)"
   ]
  },
  {
   "cell_type": "code",
   "execution_count": 16,
   "id": "110f42cd",
   "metadata": {},
   "outputs": [
    {
     "name": "stdout",
     "output_type": "stream",
     "text": [
      "文件已删除：./data/penguins.xlsx\n",
      "文件已删除：./data/penguins.json\n",
      "文件已删除：./data/penguins.csv\n",
      "----------------------------------------\n",
      "文件夹./data/:\n",
      "合计删除3个文件！\n",
      "------------------------------------------------------------\n",
      "文件已删除：./result/penguins.xlsx\n",
      "文件已删除：./result/penguins.json\n",
      "文件已删除：./result/penguins.csv\n",
      "----------------------------------------\n",
      "文件夹./result/:\n",
      "合计删除3个文件！\n",
      "------------------------------------------------------------\n"
     ]
    }
   ],
   "source": [
    "path = './data/'\n",
    "key_word = 'penguins'\n",
    "\n",
    "# 演示数据\n",
    "delete_files(path, key_word)\n",
    "\n",
    "path = './result/'\n",
    "key_word = 'penguins'\n",
    "\n",
    "# 演示数据\n",
    "delete_files(path, key_word)"
   ]
  },
  {
   "cell_type": "code",
   "execution_count": 17,
   "id": "d53735be",
   "metadata": {},
   "outputs": [
    {
     "data": {
      "text/plain": [
       "[]"
      ]
     },
     "execution_count": 17,
     "metadata": {},
     "output_type": "execute_result"
    }
   ],
   "source": [
    "# 删除后文件目录\n",
    "os.listdir('./data/')"
   ]
  },
  {
   "cell_type": "code",
   "execution_count": null,
   "id": "9cf413a7",
   "metadata": {},
   "outputs": [],
   "source": []
  }
 ],
 "metadata": {
  "kernelspec": {
   "display_name": "Python 3 (ipykernel)",
   "language": "python",
   "name": "python3"
  },
  "language_info": {
   "codemirror_mode": {
    "name": "ipython",
    "version": 3
   },
   "file_extension": ".py",
   "mimetype": "text/x-python",
   "name": "python",
   "nbconvert_exporter": "python",
   "pygments_lexer": "ipython3",
   "version": "3.11.5"
  },
  "toc": {
   "base_numbering": 1,
   "nav_menu": {},
   "number_sections": true,
   "sideBar": true,
   "skip_h1_title": false,
   "title_cell": "Table of Contents",
   "title_sidebar": "Contents",
   "toc_cell": false,
   "toc_position": {
    "height": "calc(100% - 180px)",
    "left": "10px",
    "top": "150px",
    "width": "336px"
   },
   "toc_section_display": true,
   "toc_window_display": true
  }
 },
 "nbformat": 4,
 "nbformat_minor": 5
}
