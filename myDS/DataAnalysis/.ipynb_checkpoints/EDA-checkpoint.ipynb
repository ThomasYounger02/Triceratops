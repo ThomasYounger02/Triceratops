{
 "cells": [
  {
   "cell_type": "markdown",
   "id": "5169dd4e",
   "metadata": {},
   "source": [
    "# pandas_profiling"
   ]
  },
  {
   "cell_type": "code",
   "execution_count": null,
   "id": "92e6562d",
   "metadata": {},
   "outputs": [],
   "source": [
    "import pandas_profiling  \n",
    "\n",
    "data.profile_report(title='Titanic Dataset')"
   ]
  },
  {
   "cell_type": "code",
   "execution_count": null,
   "id": "f43f3c3c",
   "metadata": {},
   "outputs": [],
   "source": [
    "# 将生成报告转换为html\n",
    "profile = data.profile_report(title='Titanic Dataset')\n",
    "profile.to_file(output_file='result/titanic_report.html')"
   ]
  },
  {
   "cell_type": "markdown",
   "id": "63e52203",
   "metadata": {},
   "source": [
    "# NG"
   ]
  },
  {
   "cell_type": "code",
   "execution_count": null,
   "id": "45230a74",
   "metadata": {},
   "outputs": [],
   "source": [
    "#查看数据\n",
    "def data_overview(data):\n",
    "    print (\"Rows             :\" ,data.shape[0])\n",
    "    print (\"Columns          :\" ,data.shape[1])\n",
    "    print (\"\\nFeatures       :\\n\" ,data.columns.tolist())\n",
    "    print (\"\\nMissing values :\", data.isnull().sum().values.sum())\n",
    "    print (\"\\nUnique values  :\\n\",data.nunique())"
   ]
  }
 ],
 "metadata": {
  "kernelspec": {
   "display_name": "Python 3 (ipykernel)",
   "language": "python",
   "name": "python3"
  },
  "language_info": {
   "codemirror_mode": {
    "name": "ipython",
    "version": 3
   },
   "file_extension": ".py",
   "mimetype": "text/x-python",
   "name": "python",
   "nbconvert_exporter": "python",
   "pygments_lexer": "ipython3",
   "version": "3.11.5"
  },
  "toc": {
   "base_numbering": 1,
   "nav_menu": {},
   "number_sections": true,
   "sideBar": true,
   "skip_h1_title": false,
   "title_cell": "Table of Contents",
   "title_sidebar": "Contents",
   "toc_cell": false,
   "toc_position": {},
   "toc_section_display": true,
   "toc_window_display": false
  }
 },
 "nbformat": 4,
 "nbformat_minor": 5
}
