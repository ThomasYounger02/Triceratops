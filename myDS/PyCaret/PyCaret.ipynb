{
 "cells": [
  {
   "cell_type": "markdown",
   "id": "cc37b29e",
   "metadata": {},
   "source": [
    "[pycaret](https://pycaret.org/guide/)"
   ]
  },
  {
   "cell_type": "code",
   "execution_count": 4,
   "id": "a8e991f9",
   "metadata": {},
   "outputs": [
    {
     "ename": "ModuleNotFoundError",
     "evalue": "No module named 'pycaret'",
     "output_type": "error",
     "traceback": [
      "\u001b[0;31m---------------------------------------------------------------------------\u001b[0m",
      "\u001b[0;31mModuleNotFoundError\u001b[0m                       Traceback (most recent call last)",
      "Cell \u001b[0;32mIn[4], line 1\u001b[0m\n\u001b[0;32m----> 1\u001b[0m \u001b[38;5;28;01mfrom\u001b[39;00m \u001b[38;5;21;01mpycaret\u001b[39;00m\u001b[38;5;21;01m.\u001b[39;00m\u001b[38;5;21;01mclassification\u001b[39;00m \u001b[38;5;28;01mimport\u001b[39;00m \u001b[38;5;241m*\u001b[39m\n\u001b[1;32m      3\u001b[0m \u001b[38;5;28;01mfrom\u001b[39;00m \u001b[38;5;21;01mpycaret\u001b[39;00m\u001b[38;5;21;01m.\u001b[39;00m\u001b[38;5;21;01mdatasets\u001b[39;00m \u001b[38;5;28;01mimport\u001b[39;00m get_data\n",
      "\u001b[0;31mModuleNotFoundError\u001b[0m: No module named 'pycaret'"
     ]
    }
   ],
   "source": [
    "from pycaret.classification import *\n",
    "\n",
    "from pycaret.datasets import get_data"
   ]
  },
  {
   "cell_type": "markdown",
   "id": "e66b23ad",
   "metadata": {},
   "source": [
    "# Data"
   ]
  },
  {
   "cell_type": "code",
   "execution_count": null,
   "id": "0b0c5f3e",
   "metadata": {},
   "outputs": [],
   "source": [
    "diabetes = get_data('diabetes')\n",
    "diabetes.head()"
   ]
  },
  {
   "cell_type": "markdown",
   "id": "c06bf6a6",
   "metadata": {},
   "source": [
    "# Init\n",
    "setup函数就建立了基础环境，其中参数约束了数据集和目标变量。    \n",
    "setup参数除了上面这两个以外，还有N多个参数可以控制。   \n",
    "所有预处理的步骤都会应用至 setup() 中，PyCaret 拥有 20 余项功能可运用于 ML 相关的数据准备，比如样本的划分、数据预处理，缺失值处理、独热编码、归一化、特征工程、特征选择等等。"
   ]
  },
  {
   "cell_type": "code",
   "execution_count": null,
   "id": "3725be21",
   "metadata": {},
   "outputs": [],
   "source": [
    "clf1 = setup(data=diabetes, target='Class variable')\n",
    "clf1 = setup(data=diabetes, target='Class variable', normalize=True)    #归一化"
   ]
  },
  {
   "cell_type": "markdown",
   "id": "a6fa5a5d",
   "metadata": {},
   "source": [
    "# Model\n",
    "## Model Compare"
   ]
  },
  {
   "cell_type": "code",
   "execution_count": null,
   "id": "ef7cac97",
   "metadata": {},
   "outputs": [],
   "source": [
    "# 比较所有模型\n",
    "compare_models()"
   ]
  },
  {
   "cell_type": "markdown",
   "id": "36896fcd",
   "metadata": {},
   "source": [
    "## using lr"
   ]
  },
  {
   "cell_type": "code",
   "execution_count": null,
   "id": "8a39974b",
   "metadata": {},
   "outputs": [],
   "source": [
    "# 创建逻辑回归模型\n",
    "lr = create_model('lr')"
   ]
  },
  {
   "cell_type": "markdown",
   "id": "704478a2",
   "metadata": {},
   "source": [
    "## 模型调优"
   ]
  },
  {
   "cell_type": "code",
   "execution_count": null,
   "id": "c3633d8a",
   "metadata": {},
   "outputs": [],
   "source": [
    "# 调节LR模型\n",
    "tuned_lr = tune_model('lr')"
   ]
  },
  {
   "cell_type": "markdown",
   "id": "0ee4c4cf",
   "metadata": {},
   "source": [
    "## 模型集成\n",
    "### 集成模型"
   ]
  },
  {
   "cell_type": "code",
   "execution_count": null,
   "id": "0a4b765b",
   "metadata": {},
   "outputs": [],
   "source": [
    "# 创建一个决策树模型\n",
    "dt = create_model('dt')\n",
    "dt_bagged = ensemble_model(dt)"
   ]
  },
  {
   "cell_type": "markdown",
   "id": "2b674250",
   "metadata": {},
   "source": [
    "### blend模型"
   ]
  },
  {
   "cell_type": "code",
   "execution_count": null,
   "id": "4b03a9e8",
   "metadata": {},
   "outputs": [],
   "source": [
    "# blend_models混合特殊的模型\n",
    "blender = blend_models(estimator_list=[dt, catboost, lightgbm])"
   ]
  },
  {
   "cell_type": "markdown",
   "id": "b5da1d2f",
   "metadata": {},
   "source": [
    "### stack模型"
   ]
  },
  {
   "cell_type": "code",
   "execution_count": null,
   "id": "075afa4a",
   "metadata": {},
   "outputs": [],
   "source": [
    "# 创建单个模型， 用于stacking\n",
    "ridge = create_model('ridge')\n",
    "lda = create_model('lda')\n",
    "gbc = create_model('gbc')\n",
    "xgboost = create_model('xgboost')\n",
    "\n",
    "# stacking模型\n",
    "stacker = stack_models(estimator_list=[ridge, lda, gbc], meta_model=xgboost)"
   ]
  },
  {
   "cell_type": "markdown",
   "id": "b4f1fec7",
   "metadata": {},
   "source": [
    "### 模型分析\n",
    "模型分析主要可以做两个事情：一、模型绘制；二、模型解释。"
   ]
  },
  {
   "cell_type": "code",
   "execution_count": null,
   "id": "dbf58e23",
   "metadata": {},
   "outputs": [],
   "source": [
    "# 创建逻辑回归模型\n",
    "adaboost = create_model('adaboost')\n",
    "plot_model(adaboost, plot='auc')    # AUC plot\n",
    "plot_model(adaboost, plot='boundary')    # Decision Boundary\n",
    "plot_model(adaboost, plot='pr')    # Precision Recall Curve\n",
    "plot_model(adaboost, plot='vc')    # Validation Curve"
   ]
  },
  {
   "cell_type": "markdown",
   "id": "d9b4d351",
   "metadata": {},
   "source": [
    "### 模型解释"
   ]
  },
  {
   "cell_type": "code",
   "execution_count": null,
   "id": "42d5734c",
   "metadata": {},
   "outputs": [],
   "source": [
    "# 创建一个模型\n",
    "xgboost = create_model('xgboost')\n",
    "interpret_model(xgboost)    # Summary plot\n",
    "interpret_model(xgboost, plot='correlation')   # correlation plot"
   ]
  },
  {
   "cell_type": "code",
   "execution_count": null,
   "id": "bf922488",
   "metadata": {},
   "outputs": [],
   "source": [
    "interpret_model(xgboost, plot='reason', observation=0)"
   ]
  },
  {
   "cell_type": "markdown",
   "id": "2754ca0f",
   "metadata": {},
   "source": [
    "# 模型部署\n",
    "模型调优后要将模型在测试集上进行测试，使用predict_model函数。"
   ]
  },
  {
   "cell_type": "markdown",
   "id": "331e4788",
   "metadata": {},
   "source": [
    "## 模型预测"
   ]
  },
  {
   "cell_type": "code",
   "execution_count": null,
   "id": "8bd8c192",
   "metadata": {},
   "outputs": [],
   "source": [
    "# 创建模型\n",
    "rf = create_model('rf')   \n",
    "rf_holdout_pred = predict_model(rf)"
   ]
  },
  {
   "cell_type": "markdown",
   "id": "aece5536",
   "metadata": {},
   "source": [
    "## 模型完成"
   ]
  },
  {
   "cell_type": "code",
   "execution_count": null,
   "id": "87e1b919",
   "metadata": {},
   "outputs": [],
   "source": [
    "# finalize a model\n",
    "final_rf = finalize_model(rf)"
   ]
  },
  {
   "cell_type": "markdown",
   "id": "cedc8d53",
   "metadata": {},
   "source": [
    "## 模型部署\n",
    "该功能将pipeline和经过训练的模型保存为最终用户应用程序可以作为二进制pickle文件使用。或者，可以使用PyCaret将模型部署在云上。在云上部署模型就像编写deploy_model一样简单。\n",
    "\n",
    "比如对于AWS用户来说，在将模型部署到AWS S3（'aws'）之前，必须使用命令行界面配置环境变量。要配置AWS环境变量，请在python命令行中输入aws configure。需要以下信息，可以使用亚马逊控制台帐户的身份和访问管理（IAM）门户生成。\n",
    "\n",
    "AWS访问密钥ID\n",
    "AWS访问密钥\n",
    "默认区域名称（可以在您的AWS控制台的“全局设置”下看到）\n",
    "默认输出格式（必须留空）"
   ]
  },
  {
   "cell_type": "code",
   "execution_count": null,
   "id": "c77f6872",
   "metadata": {},
   "outputs": [],
   "source": [
    "# 创建模型\n",
    "lr = create_model('lr')\n",
    "\n",
    "# 最终确定模型\n",
    "final_lr = finalize_model(lr)\n",
    "\n",
    "# 部署模型\n",
    "deploy_model(final_lr, model_name='lr_aws', platform='aws', authentication={'bucket':'pycaret-test'})"
   ]
  },
  {
   "cell_type": "markdown",
   "id": "bcd89223",
   "metadata": {},
   "source": [
    "## 模型保存"
   ]
  },
  {
   "cell_type": "code",
   "execution_count": null,
   "id": "4b815f6c",
   "metadata": {},
   "outputs": [],
   "source": [
    "# 创建模型\n",
    "adaboost = create_model('ada') \n",
    "# 二进制保存模型\n",
    "save_model(adaboost, model_name = 'ada_for_deployment')"
   ]
  },
  {
   "cell_type": "code",
   "execution_count": null,
   "id": "4e757cc1",
   "metadata": {},
   "outputs": [],
   "source": []
  },
  {
   "cell_type": "markdown",
   "id": "ae582ba2",
   "metadata": {},
   "source": [
    "# Classification\n",
    "## Data"
   ]
  },
  {
   "cell_type": "code",
   "execution_count": null,
   "id": "04a0052e",
   "metadata": {},
   "outputs": [],
   "source": [
    "from pycaret.datasets import get_data\n",
    "\n",
    "dataset = get_data('credit')\n",
    "dataset.head()"
   ]
  },
  {
   "cell_type": "markdown",
   "id": "cc12d933",
   "metadata": {},
   "source": [
    "## Data Wrangling"
   ]
  },
  {
   "cell_type": "code",
   "execution_count": null,
   "id": "6cdb772c",
   "metadata": {},
   "outputs": [],
   "source": [
    "# checke the shape of data\n",
    "dataset.shape"
   ]
  },
  {
   "cell_type": "code",
   "execution_count": null,
   "id": "81468bd8",
   "metadata": {},
   "outputs": [],
   "source": [
    "data = dataset.sample(frac=0.95, random_state=786).reset_index(drop=True)\n",
    "data_unseen = dataset.drop(data.index).reset_index(drop=True)\n",
    "\n",
    "print('Data for Modeling:' + str(data.shape))\n",
    "print('Unseen Data for Prediction:' + str(data_unseen.shape))"
   ]
  },
  {
   "cell_type": "markdown",
   "id": "a6431128",
   "metadata": {},
   "source": [
    "## Setting up Environment in PyCaret"
   ]
  },
  {
   "cell_type": "code",
   "execution_count": null,
   "id": "c44ae6d1",
   "metadata": {},
   "outputs": [],
   "source": [
    "from pycaret.classification import *"
   ]
  },
  {
   "cell_type": "code",
   "execution_count": null,
   "id": "ecef8865",
   "metadata": {},
   "outputs": [],
   "source": [
    "exp_clf01 = setup(data=data, target='default', session_id=123)"
   ]
  },
  {
   "cell_type": "markdown",
   "id": "5c30c1db",
   "metadata": {},
   "source": [
    "## Comparing All Models"
   ]
  },
  {
   "cell_type": "code",
   "execution_count": null,
   "id": "37437c21",
   "metadata": {},
   "outputs": [],
   "source": [
    "compare_models()"
   ]
  },
  {
   "cell_type": "markdown",
   "id": "63c797f8",
   "metadata": {},
   "source": [
    "## Create a Model\n",
    "### Decision Tree Classifier"
   ]
  },
  {
   "cell_type": "code",
   "execution_count": null,
   "id": "3d50c17d",
   "metadata": {},
   "outputs": [],
   "source": [
    "dt = create_model('dt')"
   ]
  },
  {
   "cell_type": "code",
   "execution_count": null,
   "id": "f05ec2dc",
   "metadata": {},
   "outputs": [],
   "source": [
    "# trained model object is stored in the variable 'dt'.\n",
    "print(dt)"
   ]
  },
  {
   "cell_type": "markdown",
   "id": "2f23cb44",
   "metadata": {},
   "source": [
    "### K Neighbor Classifier"
   ]
  },
  {
   "cell_type": "code",
   "execution_count": null,
   "id": "324bcf41",
   "metadata": {},
   "outputs": [],
   "source": [
    "knn = create_model('knn')"
   ]
  },
  {
   "cell_type": "markdown",
   "id": "eddf2af7",
   "metadata": {},
   "source": [
    "## Tune a Model\n",
    "### Decision Tree Classifier"
   ]
  },
  {
   "cell_type": "code",
   "execution_count": null,
   "id": "1ecb0d36",
   "metadata": {},
   "outputs": [],
   "source": [
    "tuned_dt = tune_model('dt')"
   ]
  },
  {
   "cell_type": "code",
   "execution_count": null,
   "id": "7cb1f0f1",
   "metadata": {},
   "outputs": [],
   "source": [
    "#tuned model object is stored in the variable 'tuned_dt'. \n",
    "print(tuned_dt)"
   ]
  },
  {
   "cell_type": "code",
   "execution_count": null,
   "id": "c2e3276f",
   "metadata": {},
   "outputs": [],
   "source": [
    "print(dt)"
   ]
  },
  {
   "cell_type": "markdown",
   "id": "55b2bd4e",
   "metadata": {},
   "source": [
    "### K Neighbors Classifier"
   ]
  },
  {
   "cell_type": "code",
   "execution_count": null,
   "id": "9a4b1b33",
   "metadata": {},
   "outputs": [],
   "source": [
    "tuned_knn = tune_model('knn')"
   ]
  },
  {
   "cell_type": "markdown",
   "id": "1c41d05b",
   "metadata": {},
   "source": [
    "### Random Forest Classifier"
   ]
  },
  {
   "cell_type": "code",
   "execution_count": null,
   "id": "7d298ae1",
   "metadata": {},
   "outputs": [],
   "source": [
    "tuned_rf = tune_model('rf')"
   ]
  },
  {
   "cell_type": "markdown",
   "id": "7a9ed635",
   "metadata": {},
   "source": [
    "## Plot a Model\n",
    "\n",
    "### AUC Plot"
   ]
  },
  {
   "cell_type": "code",
   "execution_count": null,
   "id": "6b81d9e2",
   "metadata": {},
   "outputs": [],
   "source": [
    "plot_model(tuned_rf, plot='auc')"
   ]
  },
  {
   "cell_type": "markdown",
   "id": "08504aa3",
   "metadata": {},
   "source": [
    "### Precision-Recall Curve"
   ]
  },
  {
   "cell_type": "code",
   "execution_count": null,
   "id": "8e8c0e8e",
   "metadata": {},
   "outputs": [],
   "source": [
    "plot_model(tuned_rf, plot='pr')"
   ]
  },
  {
   "cell_type": "markdown",
   "id": "9b230660",
   "metadata": {},
   "source": [
    "### Feature Importance Plot"
   ]
  },
  {
   "cell_type": "code",
   "execution_count": null,
   "id": "4c0cb200",
   "metadata": {},
   "outputs": [],
   "source": [
    "plot_model(tuned_rf, plot='feature')"
   ]
  },
  {
   "cell_type": "markdown",
   "id": "119f7949",
   "metadata": {},
   "source": [
    "### Confusion Matrix"
   ]
  },
  {
   "cell_type": "code",
   "execution_count": null,
   "id": "5ae7f6a7",
   "metadata": {},
   "outputs": [],
   "source": [
    "plot_model(tuned_rf, plot='confusion_matrix')"
   ]
  },
  {
   "cell_type": "code",
   "execution_count": null,
   "id": "dab633de",
   "metadata": {},
   "outputs": [],
   "source": []
  },
  {
   "cell_type": "code",
   "execution_count": null,
   "id": "60c983ee",
   "metadata": {},
   "outputs": [],
   "source": [
    "evaluate_model(tuned_rf)"
   ]
  },
  {
   "cell_type": "markdown",
   "id": "3e95f3c7",
   "metadata": {},
   "source": [
    "## Predict on test/hold-out Sample"
   ]
  },
  {
   "cell_type": "code",
   "execution_count": null,
   "id": "7c9a6fd6",
   "metadata": {},
   "outputs": [],
   "source": [
    "predict_model(tuned_rf)"
   ]
  },
  {
   "cell_type": "markdown",
   "id": "18fd0d3a",
   "metadata": {},
   "source": [
    "## Finalize Model for Deployment"
   ]
  },
  {
   "cell_type": "code",
   "execution_count": null,
   "id": "2f87d8e3",
   "metadata": {},
   "outputs": [],
   "source": [
    "final_rf = finalize_model(tuned_rf)\n",
    "\n",
    "#Final Random Forest model parameters for deployment\n",
    "print(final_rf)"
   ]
  },
  {
   "cell_type": "code",
   "execution_count": null,
   "id": "c9ce8c7e",
   "metadata": {},
   "outputs": [],
   "source": [
    "predict_model(final_rf)"
   ]
  },
  {
   "cell_type": "markdown",
   "id": "11dccf22",
   "metadata": {},
   "source": [
    "## Predict on unseen data"
   ]
  },
  {
   "cell_type": "code",
   "execution_count": null,
   "id": "f3fd503b",
   "metadata": {},
   "outputs": [],
   "source": [
    "unseen_predictions = predict_model(final_rf, data=data_unseen)\n",
    "unseen_predictions.head()"
   ]
  },
  {
   "cell_type": "markdown",
   "id": "341cb103",
   "metadata": {},
   "source": [
    "## Saving the model"
   ]
  },
  {
   "cell_type": "code",
   "execution_count": null,
   "id": "d9a35205",
   "metadata": {},
   "outputs": [],
   "source": [
    "save_model(final_rf, 'Final RF Model 07Jul2020')"
   ]
  },
  {
   "cell_type": "markdown",
   "id": "a7b02667",
   "metadata": {},
   "source": [
    "## Loading the saved model"
   ]
  },
  {
   "cell_type": "code",
   "execution_count": null,
   "id": "a53a1e7e",
   "metadata": {},
   "outputs": [],
   "source": [
    "saved_final_rf = load_model('Final RF Model 07Jul2020')"
   ]
  },
  {
   "cell_type": "code",
   "execution_count": null,
   "id": "9253b7cc",
   "metadata": {},
   "outputs": [],
   "source": [
    "new_prediction = predict_model(saved_final_rf, data=data_unseen)"
   ]
  },
  {
   "cell_type": "code",
   "execution_count": null,
   "id": "7598d884",
   "metadata": {},
   "outputs": [],
   "source": [
    "new_prediction.head()"
   ]
  },
  {
   "cell_type": "code",
   "execution_count": null,
   "id": "3d95c994",
   "metadata": {},
   "outputs": [],
   "source": []
  },
  {
   "cell_type": "code",
   "execution_count": null,
   "id": "c5ab70f9",
   "metadata": {},
   "outputs": [],
   "source": []
  }
 ],
 "metadata": {
  "kernelspec": {
   "display_name": "Python 3 (ipykernel)",
   "language": "python",
   "name": "python3"
  },
  "language_info": {
   "codemirror_mode": {
    "name": "ipython",
    "version": 3
   },
   "file_extension": ".py",
   "mimetype": "text/x-python",
   "name": "python",
   "nbconvert_exporter": "python",
   "pygments_lexer": "ipython3",
   "version": "3.11.5"
  },
  "toc": {
   "base_numbering": 1,
   "nav_menu": {},
   "number_sections": true,
   "sideBar": true,
   "skip_h1_title": false,
   "title_cell": "Table of Contents",
   "title_sidebar": "Contents",
   "toc_cell": false,
   "toc_position": {},
   "toc_section_display": true,
   "toc_window_display": true
  }
 },
 "nbformat": 4,
 "nbformat_minor": 5
}
